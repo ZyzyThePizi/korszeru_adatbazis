{
    "metadata": {
        "kernelspec": {
            "name": "SQL",
            "display_name": "SQL",
            "language": "sql"
        },
        "language_info": {
            "name": "sql",
            "version": ""
        },
        "extensions": {
            "azuredatastudio": {
                "version": 1,
                "views": []
            }
        }
    },
    "nbformat_minor": 2,
    "nbformat": 4,
    "cells": [
        {
            "cell_type": "markdown",
            "source": [
                "<span style=\"color: #09885a;\">1. </span> Készítsünk listát arról, hogy melyik ügyfél (<span style=\"color: rgb(0, 0, 255);\">LOGIN</span>) hányszor rendelt  \n",
                "összesen. A lista tartalmazza a végösszeget <span style=\"color: rgb(0, 0, 255);\">is</span>. A listát rendezzük  \n",
                "a rendelések száma szerint növekvő sorrendbe!"
            ],
            "metadata": {
                "azdata_cell_guid": "25ef83ae-5fe7-48db-9faf-792af8dce555"
            },
            "attachments": {}
        },
        {
            "cell_type": "code",
            "source": [
                "select [LOGIN],\n",
                "        COUNT(*)\r\n",
                "from Rendeles\n",
                "GROUP BY Rollup([LOGIN])\n",
                "ORDER BY COUNT(*)"
            ],
            "metadata": {
                "azdata_cell_guid": "0204549b-7a8b-46a5-9862-70e57a3de34f"
            },
            "outputs": [
{
    "output_type": "display_data",
    "data": {
        "text/html": "(192 rows affected)"
    },
    "metadata": {}
}, {
    "output_type": "display_data",
    "data": {
        "text/html": "Total execution time: 00:00:00.413"
    },
    "metadata": {}
}, {
    "output_type": "execute_result",
    "metadata": {},
    "execution_count": 9,
    "data": {
        "application/vnd.dataresource+json": {
            "schema": {
                "fields": [
                    {
                        "name": "LOGIN"
                    },
                    {
                        "name": "(No column name)"
                    }
                ]
            },
            "data": [
                {
                    "0": "EVAV",
                    "1": "7"
                },
                {
                    "0": "roza2",
                    "1": "8"
                },
                {
                    "0": "andras3",
                    "1": "9"
                },
                {
                    "0": "denes",
                    "1": "9"
                },
                {
                    "0": "JANOSG",
                    "1": "10"
                },
                {
                    "0": "maria1",
                    "1": "10"
                },
                {
                    "0": "kornel4",
                    "1": "11"
                },
                {
                    "0": "norbert2",
                    "1": "11"
                },
                {
                    "0": "istvan",
                    "1": "11"
                },
                {
                    "0": "AGNESH",
                    "1": "11"
                },
                {
                    "0": "sandor4",
                    "1": "11"
                },
                {
                    "0": "andras4",
                    "1": "12"
                },
                {
                    "0": "anita",
                    "1": "12"
                },
                {
                    "0": "kata",
                    "1": "12"
                },
                {
                    "0": "MATYASS",
                    "1": "12"
                },
                {
                    "0": "MIHALYJ",
                    "1": "13"
                },
                {
                    "0": "miklos2",
                    "1": "13"
                },
                {
                    "0": "norbert4",
                    "1": "13"
                },
                {
                    "0": "kati",
                    "1": "13"
                },
                {
                    "0": "kriszti",
                    "1": "13"
                },
                {
                    "0": "jozsef2",
                    "1": "13"
                },
                {
                    "0": "janos3",
                    "1": "13"
                },
                {
                    "0": "ANNAMARIAR",
                    "1": "13"
                },
                {
                    "0": "edit",
                    "1": "13"
                },
                {
                    "0": "dani",
                    "1": "13"
                },
                {
                    "0": "daniel",
                    "1": "13"
                },
                {
                    "0": "tamara2",
                    "1": "13"
                },
                {
                    "0": "robert2",
                    "1": "13"
                },
                {
                    "0": "ROBERTI",
                    "1": "13"
                },
                {
                    "0": "valentin",
                    "1": "13"
                },
                {
                    "0": "ZOLTANP",
                    "1": "13"
                },
                {
                    "0": "VIKTORIAU",
                    "1": "14"
                },
                {
                    "0": "sandor3",
                    "1": "14"
                },
                {
                    "0": "ATTILAO",
                    "1": "14"
                },
                {
                    "0": "ARPADH",
                    "1": "14"
                },
                {
                    "0": "julia4",
                    "1": "14"
                },
                {
                    "0": "gabriella1",
                    "1": "14"
                },
                {
                    "0": "gusztav",
                    "1": "14"
                },
                {
                    "0": "marton",
                    "1": "14"
                },
                {
                    "0": "PETERB",
                    "1": "15"
                },
                {
                    "0": "MIKLOSB",
                    "1": "15"
                },
                {
                    "0": "GYONGYIK",
                    "1": "15"
                },
                {
                    "0": "GABORS",
                    "1": "15"
                },
                {
                    "0": "imre",
                    "1": "15"
                },
                {
                    "0": "imre1",
                    "1": "15"
                },
                {
                    "0": "aniko4",
                    "1": "15"
                },
                {
                    "0": "AGNESK",
                    "1": "15"
                },
                {
                    "0": "adam3",
                    "1": "15"
                },
                {
                    "0": "balazs3",
                    "1": "15"
                },
                {
                    "0": "bernadett2",
                    "1": "15"
                },
                {
                    "0": "csongor3",
                    "1": "15"
                },
                {
                    "0": "SEBASTIANF",
                    "1": "15"
                },
                {
                    "0": "zoltan",
                    "1": "15"
                },
                {
                    "0": "zsuzsanna",
                    "1": "15"
                },
                {
                    "0": "zsuzsa",
                    "1": "16"
                },
                {
                    "0": "zsuzsa3",
                    "1": "16"
                },
                {
                    "0": "timea2",
                    "1": "16"
                },
                {
                    "0": "tunde",
                    "1": "16"
                },
                {
                    "0": "sebestyen",
                    "1": "16"
                },
                {
                    "0": "RENATAS",
                    "1": "16"
                },
                {
                    "0": "debora",
                    "1": "16"
                },
                {
                    "0": "BERNADETTO",
                    "1": "16"
                },
                {
                    "0": "balint",
                    "1": "16"
                },
                {
                    "0": "annamaria1",
                    "1": "16"
                },
                {
                    "0": "ARPADM",
                    "1": "16"
                },
                {
                    "0": "gabriella10",
                    "1": "16"
                },
                {
                    "0": "GYORGYO",
                    "1": "16"
                },
                {
                    "0": "henrik3",
                    "1": "16"
                },
                {
                    "0": "lajos",
                    "1": "16"
                },
                {
                    "0": "norbert5",
                    "1": "16"
                },
                {
                    "0": "nikolett3",
                    "1": "17"
                },
                {
                    "0": "rajmond4",
                    "1": "17"
                },
                {
                    "0": "lala",
                    "1": "17"
                },
                {
                    "0": "klaudia2",
                    "1": "17"
                },
                {
                    "0": "JANOSP",
                    "1": "17"
                },
                {
                    "0": "krisztian4",
                    "1": "17"
                },
                {
                    "0": "arpad2",
                    "1": "17"
                },
                {
                    "0": "balint2",
                    "1": "17"
                },
                {
                    "0": "balazs2",
                    "1": "17"
                },
                {
                    "0": "BENCEB",
                    "1": "17"
                },
                {
                    "0": "david1",
                    "1": "17"
                },
                {
                    "0": "sandor",
                    "1": "17"
                },
                {
                    "0": "veronika4",
                    "1": "18"
                },
                {
                    "0": "ZSOLTJ",
                    "1": "18"
                },
                {
                    "0": "BELAF",
                    "1": "18"
                },
                {
                    "0": "bence",
                    "1": "18"
                },
                {
                    "0": "attila1",
                    "1": "18"
                },
                {
                    "0": "andrea4",
                    "1": "18"
                },
                {
                    "0": "anett3",
                    "1": "18"
                },
                {
                    "0": "andi",
                    "1": "18"
                },
                {
                    "0": "fruzsina4",
                    "1": "18"
                },
                {
                    "0": "ilona3",
                    "1": "18"
                },
                {
                    "0": "peter2",
                    "1": "18"
                },
                {
                    "0": "istvan1",
                    "1": "19"
                },
                {
                    "0": "gabor1",
                    "1": "19"
                },
                {
                    "0": "katalin",
                    "1": "19"
                },
                {
                    "0": "alexandra",
                    "1": "19"
                },
                {
                    "0": "zsofi1",
                    "1": "19"
                },
                {
                    "0": "zsolt1",
                    "1": "20"
                },
                {
                    "0": "VIKTORK",
                    "1": "20"
                },
                {
                    "0": "tihamer",
                    "1": "20"
                },
                {
                    "0": "sara",
                    "1": "20"
                },
                {
                    "0": "bernadett1",
                    "1": "20"
                },
                {
                    "0": "gabor4",
                    "1": "20"
                },
                {
                    "0": "reka4",
                    "1": "20"
                },
                {
                    "0": "kristof4",
                    "1": "21"
                },
                {
                    "0": "ISTVANV",
                    "1": "21"
                },
                {
                    "0": "georgij",
                    "1": "21"
                },
                {
                    "0": "JOZSEFG",
                    "1": "21"
                },
                {
                    "0": "david4",
                    "1": "21"
                },
                {
                    "0": "ANDREAT",
                    "1": "21"
                },
                {
                    "0": "andras2",
                    "1": "22"
                },
                {
                    "0": "ESZTERE",
                    "1": "22"
                },
                {
                    "0": "katka",
                    "1": "22"
                },
                {
                    "0": "krisztina1",
                    "1": "22"
                },
                {
                    "0": "KRISZTINAG",
                    "1": "22"
                },
                {
                    "0": "polla",
                    "1": "22"
                },
                {
                    "0": "vivien3",
                    "1": "22"
                },
                {
                    "0": "katalin4",
                    "1": "23"
                },
                {
                    "0": "ANDRASN",
                    "1": "24"
                },
                {
                    "0": "andrea",
                    "1": "24"
                },
                {
                    "0": "peter3",
                    "1": "25"
                },
                {
                    "0": "NIKOLETTAT",
                    "1": "25"
                },
                {
                    "0": "MATEK",
                    "1": "25"
                },
                {
                    "0": "laszlo2",
                    "1": "25"
                },
                {
                    "0": "tibor2",
                    "1": "25"
                },
                {
                    "0": "ROBERTP",
                    "1": "26"
                },
                {
                    "0": "julianna4",
                    "1": "27"
                },
                {
                    "0": "adam4",
                    "1": "29"
                },
                {
                    "0": "timea",
                    "1": "55"
                },
                {
                    "0": "bertalan",
                    "1": "353"
                },
                {
                    "0": "ZOLTANT",
                    "1": "357"
                },
                {
                    "0": "tibor",
                    "1": "374"
                },
                {
                    "0": "jozsef",
                    "1": "382"
                },
                {
                    "0": "KRISZTIANM",
                    "1": "384"
                },
                {
                    "0": "SZILARDS",
                    "1": "386"
                },
                {
                    "0": "balu",
                    "1": "387"
                },
                {
                    "0": "andras21",
                    "1": "390"
                },
                {
                    "0": "adam1",
                    "1": "392"
                },
                {
                    "0": "brigitta",
                    "1": "393"
                },
                {
                    "0": "laszlo1",
                    "1": "394"
                },
                {
                    "0": "LASZLON",
                    "1": "400"
                },
                {
                    "0": "attila4",
                    "1": "401"
                },
                {
                    "0": "aniko",
                    "1": "403"
                },
                {
                    "0": "ANIKOS",
                    "1": "404"
                },
                {
                    "0": "eva",
                    "1": "404"
                },
                {
                    "0": "emese",
                    "1": "406"
                },
                {
                    "0": "MONIKAM",
                    "1": "407"
                },
                {
                    "0": "aladar",
                    "1": "408"
                },
                {
                    "0": "SZABOLCSM",
                    "1": "408"
                },
                {
                    "0": "aron2",
                    "1": "409"
                },
                {
                    "0": "MARKH",
                    "1": "412"
                },
                {
                    "0": "peter1",
                    "1": "412"
                },
                {
                    "0": "andrea3",
                    "1": "413"
                },
                {
                    "0": "brigitta3",
                    "1": "413"
                },
                {
                    "0": "nikoletta4",
                    "1": "414"
                },
                {
                    "0": "roland",
                    "1": "414"
                },
                {
                    "0": "eszter2",
                    "1": "415"
                },
                {
                    "0": "agnes",
                    "1": "418"
                },
                {
                    "0": "andras41",
                    "1": "419"
                },
                {
                    "0": "daniel1",
                    "1": "419"
                },
                {
                    "0": "balazs1",
                    "1": "419"
                },
                {
                    "0": "BEATRIXS",
                    "1": "420"
                },
                {
                    "0": "NANDORF",
                    "1": "420"
                },
                {
                    "0": "ZSUZSAV",
                    "1": "420"
                },
                {
                    "0": "tamas",
                    "1": "421"
                },
                {
                    "0": "RENATAK",
                    "1": "422"
                },
                {
                    "0": "IBOLYAA",
                    "1": "422"
                },
                {
                    "0": "eszter4",
                    "1": "424"
                },
                {
                    "0": "zoltan4",
                    "1": "424"
                },
                {
                    "0": "akos",
                    "1": "429"
                },
                {
                    "0": "agnes3",
                    "1": "430"
                },
                {
                    "0": "ARONK",
                    "1": "430"
                },
                {
                    "0": "dora3",
                    "1": "432"
                },
                {
                    "0": "roland1",
                    "1": "432"
                },
                {
                    "0": "TAMASF",
                    "1": "433"
                },
                {
                    "0": "matyas2",
                    "1": "433"
                },
                {
                    "0": "julia",
                    "1": "435"
                },
                {
                    "0": "BEATRIXK",
                    "1": "435"
                },
                {
                    "0": "ANDRASE",
                    "1": "436"
                },
                {
                    "0": "ferenc1",
                    "1": "437"
                },
                {
                    "0": "pal",
                    "1": "438"
                },
                {
                    "0": "szilvia1",
                    "1": "445"
                },
                {
                    "0": "LASZLOA",
                    "1": "446"
                },
                {
                    "0": "JUDITH",
                    "1": "450"
                },
                {
                    "0": "david",
                    "1": "451"
                },
                {
                    "0": "krisztina",
                    "1": "456"
                },
                {
                    "0": "eva2",
                    "1": "462"
                },
                {
                    "0": "balint1",
                    "1": "462"
                },
                {
                    "0": "szabolcs",
                    "1": "471"
                },
                {
                    "0": "peter4",
                    "1": "852"
                },
                {
                    "0": "NULL",
                    "1": "28085"
                }
            ]
        },
        "text/html": [
            "<table>",
            "<tr><th>LOGIN</th><th>(No column name)</th></tr>",
            "<tr><td>EVAV</td><td>7</td></tr>",
            "<tr><td>roza2</td><td>8</td></tr>",
            "<tr><td>andras3</td><td>9</td></tr>",
            "<tr><td>denes</td><td>9</td></tr>",
            "<tr><td>JANOSG</td><td>10</td></tr>",
            "<tr><td>maria1</td><td>10</td></tr>",
            "<tr><td>kornel4</td><td>11</td></tr>",
            "<tr><td>norbert2</td><td>11</td></tr>",
            "<tr><td>istvan</td><td>11</td></tr>",
            "<tr><td>AGNESH</td><td>11</td></tr>",
            "<tr><td>sandor4</td><td>11</td></tr>",
            "<tr><td>andras4</td><td>12</td></tr>",
            "<tr><td>anita</td><td>12</td></tr>",
            "<tr><td>kata</td><td>12</td></tr>",
            "<tr><td>MATYASS</td><td>12</td></tr>",
            "<tr><td>MIHALYJ</td><td>13</td></tr>",
            "<tr><td>miklos2</td><td>13</td></tr>",
            "<tr><td>norbert4</td><td>13</td></tr>",
            "<tr><td>kati</td><td>13</td></tr>",
            "<tr><td>kriszti</td><td>13</td></tr>",
            "<tr><td>jozsef2</td><td>13</td></tr>",
            "<tr><td>janos3</td><td>13</td></tr>",
            "<tr><td>ANNAMARIAR</td><td>13</td></tr>",
            "<tr><td>edit</td><td>13</td></tr>",
            "<tr><td>dani</td><td>13</td></tr>",
            "<tr><td>daniel</td><td>13</td></tr>",
            "<tr><td>tamara2</td><td>13</td></tr>",
            "<tr><td>robert2</td><td>13</td></tr>",
            "<tr><td>ROBERTI</td><td>13</td></tr>",
            "<tr><td>valentin</td><td>13</td></tr>",
            "<tr><td>ZOLTANP</td><td>13</td></tr>",
            "<tr><td>VIKTORIAU</td><td>14</td></tr>",
            "<tr><td>sandor3</td><td>14</td></tr>",
            "<tr><td>ATTILAO</td><td>14</td></tr>",
            "<tr><td>ARPADH</td><td>14</td></tr>",
            "<tr><td>julia4</td><td>14</td></tr>",
            "<tr><td>gabriella1</td><td>14</td></tr>",
            "<tr><td>gusztav</td><td>14</td></tr>",
            "<tr><td>marton</td><td>14</td></tr>",
            "<tr><td>PETERB</td><td>15</td></tr>",
            "<tr><td>MIKLOSB</td><td>15</td></tr>",
            "<tr><td>GYONGYIK</td><td>15</td></tr>",
            "<tr><td>GABORS</td><td>15</td></tr>",
            "<tr><td>imre</td><td>15</td></tr>",
            "<tr><td>imre1</td><td>15</td></tr>",
            "<tr><td>aniko4</td><td>15</td></tr>",
            "<tr><td>AGNESK</td><td>15</td></tr>",
            "<tr><td>adam3</td><td>15</td></tr>",
            "<tr><td>balazs3</td><td>15</td></tr>",
            "<tr><td>bernadett2</td><td>15</td></tr>",
            "<tr><td>csongor3</td><td>15</td></tr>",
            "<tr><td>SEBASTIANF</td><td>15</td></tr>",
            "<tr><td>zoltan</td><td>15</td></tr>",
            "<tr><td>zsuzsanna</td><td>15</td></tr>",
            "<tr><td>zsuzsa</td><td>16</td></tr>",
            "<tr><td>zsuzsa3</td><td>16</td></tr>",
            "<tr><td>timea2</td><td>16</td></tr>",
            "<tr><td>tunde</td><td>16</td></tr>",
            "<tr><td>sebestyen</td><td>16</td></tr>",
            "<tr><td>RENATAS</td><td>16</td></tr>",
            "<tr><td>debora</td><td>16</td></tr>",
            "<tr><td>BERNADETTO</td><td>16</td></tr>",
            "<tr><td>balint</td><td>16</td></tr>",
            "<tr><td>annamaria1</td><td>16</td></tr>",
            "<tr><td>ARPADM</td><td>16</td></tr>",
            "<tr><td>gabriella10</td><td>16</td></tr>",
            "<tr><td>GYORGYO</td><td>16</td></tr>",
            "<tr><td>henrik3</td><td>16</td></tr>",
            "<tr><td>lajos</td><td>16</td></tr>",
            "<tr><td>norbert5</td><td>16</td></tr>",
            "<tr><td>nikolett3</td><td>17</td></tr>",
            "<tr><td>rajmond4</td><td>17</td></tr>",
            "<tr><td>lala</td><td>17</td></tr>",
            "<tr><td>klaudia2</td><td>17</td></tr>",
            "<tr><td>JANOSP</td><td>17</td></tr>",
            "<tr><td>krisztian4</td><td>17</td></tr>",
            "<tr><td>arpad2</td><td>17</td></tr>",
            "<tr><td>balint2</td><td>17</td></tr>",
            "<tr><td>balazs2</td><td>17</td></tr>",
            "<tr><td>BENCEB</td><td>17</td></tr>",
            "<tr><td>david1</td><td>17</td></tr>",
            "<tr><td>sandor</td><td>17</td></tr>",
            "<tr><td>veronika4</td><td>18</td></tr>",
            "<tr><td>ZSOLTJ</td><td>18</td></tr>",
            "<tr><td>BELAF</td><td>18</td></tr>",
            "<tr><td>bence</td><td>18</td></tr>",
            "<tr><td>attila1</td><td>18</td></tr>",
            "<tr><td>andrea4</td><td>18</td></tr>",
            "<tr><td>anett3</td><td>18</td></tr>",
            "<tr><td>andi</td><td>18</td></tr>",
            "<tr><td>fruzsina4</td><td>18</td></tr>",
            "<tr><td>ilona3</td><td>18</td></tr>",
            "<tr><td>peter2</td><td>18</td></tr>",
            "<tr><td>istvan1</td><td>19</td></tr>",
            "<tr><td>gabor1</td><td>19</td></tr>",
            "<tr><td>katalin</td><td>19</td></tr>",
            "<tr><td>alexandra</td><td>19</td></tr>",
            "<tr><td>zsofi1</td><td>19</td></tr>",
            "<tr><td>zsolt1</td><td>20</td></tr>",
            "<tr><td>VIKTORK</td><td>20</td></tr>",
            "<tr><td>tihamer</td><td>20</td></tr>",
            "<tr><td>sara</td><td>20</td></tr>",
            "<tr><td>bernadett1</td><td>20</td></tr>",
            "<tr><td>gabor4</td><td>20</td></tr>",
            "<tr><td>reka4</td><td>20</td></tr>",
            "<tr><td>kristof4</td><td>21</td></tr>",
            "<tr><td>ISTVANV</td><td>21</td></tr>",
            "<tr><td>georgij</td><td>21</td></tr>",
            "<tr><td>JOZSEFG</td><td>21</td></tr>",
            "<tr><td>david4</td><td>21</td></tr>",
            "<tr><td>ANDREAT</td><td>21</td></tr>",
            "<tr><td>andras2</td><td>22</td></tr>",
            "<tr><td>ESZTERE</td><td>22</td></tr>",
            "<tr><td>katka</td><td>22</td></tr>",
            "<tr><td>krisztina1</td><td>22</td></tr>",
            "<tr><td>KRISZTINAG</td><td>22</td></tr>",
            "<tr><td>polla</td><td>22</td></tr>",
            "<tr><td>vivien3</td><td>22</td></tr>",
            "<tr><td>katalin4</td><td>23</td></tr>",
            "<tr><td>ANDRASN</td><td>24</td></tr>",
            "<tr><td>andrea</td><td>24</td></tr>",
            "<tr><td>peter3</td><td>25</td></tr>",
            "<tr><td>NIKOLETTAT</td><td>25</td></tr>",
            "<tr><td>MATEK</td><td>25</td></tr>",
            "<tr><td>laszlo2</td><td>25</td></tr>",
            "<tr><td>tibor2</td><td>25</td></tr>",
            "<tr><td>ROBERTP</td><td>26</td></tr>",
            "<tr><td>julianna4</td><td>27</td></tr>",
            "<tr><td>adam4</td><td>29</td></tr>",
            "<tr><td>timea</td><td>55</td></tr>",
            "<tr><td>bertalan</td><td>353</td></tr>",
            "<tr><td>ZOLTANT</td><td>357</td></tr>",
            "<tr><td>tibor</td><td>374</td></tr>",
            "<tr><td>jozsef</td><td>382</td></tr>",
            "<tr><td>KRISZTIANM</td><td>384</td></tr>",
            "<tr><td>SZILARDS</td><td>386</td></tr>",
            "<tr><td>balu</td><td>387</td></tr>",
            "<tr><td>andras21</td><td>390</td></tr>",
            "<tr><td>adam1</td><td>392</td></tr>",
            "<tr><td>brigitta</td><td>393</td></tr>",
            "<tr><td>laszlo1</td><td>394</td></tr>",
            "<tr><td>LASZLON</td><td>400</td></tr>",
            "<tr><td>attila4</td><td>401</td></tr>",
            "<tr><td>aniko</td><td>403</td></tr>",
            "<tr><td>ANIKOS</td><td>404</td></tr>",
            "<tr><td>eva</td><td>404</td></tr>",
            "<tr><td>emese</td><td>406</td></tr>",
            "<tr><td>MONIKAM</td><td>407</td></tr>",
            "<tr><td>aladar</td><td>408</td></tr>",
            "<tr><td>SZABOLCSM</td><td>408</td></tr>",
            "<tr><td>aron2</td><td>409</td></tr>",
            "<tr><td>MARKH</td><td>412</td></tr>",
            "<tr><td>peter1</td><td>412</td></tr>",
            "<tr><td>andrea3</td><td>413</td></tr>",
            "<tr><td>brigitta3</td><td>413</td></tr>",
            "<tr><td>nikoletta4</td><td>414</td></tr>",
            "<tr><td>roland</td><td>414</td></tr>",
            "<tr><td>eszter2</td><td>415</td></tr>",
            "<tr><td>agnes</td><td>418</td></tr>",
            "<tr><td>andras41</td><td>419</td></tr>",
            "<tr><td>daniel1</td><td>419</td></tr>",
            "<tr><td>balazs1</td><td>419</td></tr>",
            "<tr><td>BEATRIXS</td><td>420</td></tr>",
            "<tr><td>NANDORF</td><td>420</td></tr>",
            "<tr><td>ZSUZSAV</td><td>420</td></tr>",
            "<tr><td>tamas</td><td>421</td></tr>",
            "<tr><td>RENATAK</td><td>422</td></tr>",
            "<tr><td>IBOLYAA</td><td>422</td></tr>",
            "<tr><td>eszter4</td><td>424</td></tr>",
            "<tr><td>zoltan4</td><td>424</td></tr>",
            "<tr><td>akos</td><td>429</td></tr>",
            "<tr><td>agnes3</td><td>430</td></tr>",
            "<tr><td>ARONK</td><td>430</td></tr>",
            "<tr><td>dora3</td><td>432</td></tr>",
            "<tr><td>roland1</td><td>432</td></tr>",
            "<tr><td>TAMASF</td><td>433</td></tr>",
            "<tr><td>matyas2</td><td>433</td></tr>",
            "<tr><td>julia</td><td>435</td></tr>",
            "<tr><td>BEATRIXK</td><td>435</td></tr>",
            "<tr><td>ANDRASE</td><td>436</td></tr>",
            "<tr><td>ferenc1</td><td>437</td></tr>",
            "<tr><td>pal</td><td>438</td></tr>",
            "<tr><td>szilvia1</td><td>445</td></tr>",
            "<tr><td>LASZLOA</td><td>446</td></tr>",
            "<tr><td>JUDITH</td><td>450</td></tr>",
            "<tr><td>david</td><td>451</td></tr>",
            "<tr><td>krisztina</td><td>456</td></tr>",
            "<tr><td>eva2</td><td>462</td></tr>",
            "<tr><td>balint1</td><td>462</td></tr>",
            "<tr><td>szabolcs</td><td>471</td></tr>",
            "<tr><td>peter4</td><td>852</td></tr>",
            "<tr><td>NULL</td><td>28085</td></tr>",
            "</table>"
        ]
    }
}
],
            "execution_count": 9
        },
        {
            "cell_type": "markdown",
            "source": [
                "2\\. Átlagosan hány termék van készleten kategóriánként (KAT\\_ID),  \n",
                "raktáranként (RAKTAR\\_KOD), illetve mennyiségi egységenként?  \n",
                "(szempontonként külön-külön) Az átlagot kerekítsük egészre!  \n",
                "A feladatot egy lekérdezéssel oldja meg!"
            ],
            "metadata": {
                "azdata_cell_guid": "453ffb66-ac5a-48c8-968c-465e7e64ca1b"
            },
            "attachments": {}
        },
        {
            "cell_type": "code",
            "source": [
                ""
            ],
            "metadata": {
                "azdata_cell_guid": "649f0fe8-fd7d-4e62-bc90-91076e6a80db"
            },
            "outputs": [],
            "execution_count": null
        },
        {
            "cell_type": "markdown",
            "source": [
                "3\\. Készítsünk listát a megrendelt termékek legkisebb és  \n",
                "legnagyobb egységáráról szállítási dátum, azon belül szállítási  \n",
                "mód szerinti bontásban ! A lista csak a 2015 májusi szállításokat  \n",
                "tartalmazza! Jelenítsük meg a részösszegeket és a végösszeget is!"
            ],
            "metadata": {
                "azdata_cell_guid": "3a3c4e41-b621-4e08-b879-78f1f8564bfa"
            },
            "attachments": {}
        },
        {
            "cell_type": "code",
            "source": [
                ""
            ],
            "metadata": {
                "azdata_cell_guid": "bb359042-df26-49da-a385-ca96b966b8c3"
            },
            "outputs": [],
            "execution_count": null
        },
        {
            "cell_type": "markdown",
            "source": [
                "4 .Készítsünk csoportot a termékek listaára alapján a következők szerint:  \n",
                "Az \"olcsó\" termékek legyenek azok, amelyek listaára 3000 alatt van.  \n",
                "A \"drága\" termékek legyenek az 5000 felettiek, a többi legyen \"közepes\".  \n",
                "Listázzuk az egyes csoportokat, és a csoportokba tartozó termékek  \n",
                "darabszámát! A lista jelenítse meg a végösszeget is!"
            ],
            "metadata": {
                "azdata_cell_guid": "16c0ca87-c668-4216-9a70-fba531289769"
            },
            "attachments": {}
        },
        {
            "cell_type": "code",
            "source": [
                ""
            ],
            "metadata": {
                "azdata_cell_guid": "d2e08d04-329e-4555-9a7b-1fec9d5a75fb"
            },
            "outputs": [],
            "execution_count": null
        },
        {
            "cell_type": "markdown",
            "source": [
                "5\\. Listázzuk a rendelési tételek számát raktáranként éves bontásban!  \n",
                "A listában a raktár neve, az év és a darabszám jelenjen meg!  \n",
                "A lista jelenítse meg a részösszegeket és a végösszeget is!  \n",
                "A végösszeget megfelelően jelöljük!  \n",
                "Az oszlopokat nevezzük el értelemszerűen!"
            ],
            "metadata": {
                "azdata_cell_guid": "6d0f8d0b-d9b2-4167-a6f5-c046499fe3f6"
            },
            "attachments": {}
        },
        {
            "cell_type": "code",
            "source": [
                ""
            ],
            "metadata": {
                "azdata_cell_guid": "9a15b997-51d0-4814-a8fd-c55543458de0"
            },
            "outputs": [],
            "execution_count": null
        },
        {
            "cell_type": "markdown",
            "source": [
                "6\\. Készítsünk listát az ügyfelek adatairól név szerinti sorrendben.  \n",
                "Minden sorban jelenjen meg a sorrend szerint előző, illetve következő ügyfél neve is.  \n",
                "Ha nincs előző vagy következő ügyfél, akkor a 'Nincs' jelenjen meg!"
            ],
            "metadata": {
                "azdata_cell_guid": "39f58487-beb9-4d7d-94d2-0762cf76a319"
            },
            "attachments": {}
        },
        {
            "cell_type": "code",
            "source": [
                "SELECT *,\n",
                "        LAG(NEV, 1, 'Nincs') OVER(order by NEV),\n",
                "        Lead(NEV, 1, 'Nincs') OVER(order by NEV)\n",
                "from Ugyfel\n",
                "ORDER BY NEV"
            ],
            "metadata": {
                "azdata_cell_guid": "f863100a-50d1-437f-96c1-3b4eee9b4959"
            },
            "outputs": [
{
    "output_type": "display_data",
    "data": {
        "text/html": "(200 rows affected)"
    },
    "metadata": {}
}, {
    "output_type": "display_data",
    "data": {
        "text/html": "Total execution time: 00:00:04.994"
    },
    "metadata": {}
}, {
    "output_type": "execute_result",
    "metadata": {},
    "execution_count": 10,
    "data": {
        "application/vnd.dataresource+json": {
            "schema": {
                "fields": [
                    {
                        "name": "LOGIN"
                    },
                    {
                        "name": "EMAIL"
                    },
                    {
                        "name": "NEV"
                    },
                    {
                        "name": "SZULEV"
                    },
                    {
                        "name": "NEM"
                    },
                    {
                        "name": "CIM"
                    },
                    {
                        "name": "(No column name)"
                    },
                    {
                        "name": "(No column name)"
                    }
                ]
            },
            "data": [
                {
                    "0": "david",
                    "1": "david@gmail.com",
                    "2": "Ambrus Dávid",
                    "3": "1974",
                    "4": "F",
                    "5": "1149 Budapest, Fő út 18.",
                    "6": "Nincs",
                    "7": "Andor Ibolya"
                },
                {
                    "0": "IBOLYAA",
                    "1": "ibolya.andor@mail.hu",
                    "2": "Andor Ibolya",
                    "3": "1983",
                    "4": "N",
                    "5": "9023 Győr, Posta köz 2.",
                    "6": "Ambrus Dávid",
                    "7": "Antal László"
                },
                {
                    "0": "LASZLOA",
                    "1": "lászló.antal@mail.hu",
                    "2": "Antal László",
                    "3": "1969",
                    "4": "F",
                    "5": "2484 Agárd, Bécsi utca 82.",
                    "6": "Andor Ibolya",
                    "7": "Antal Tamás"
                },
                {
                    "0": "tamas",
                    "1": "tamás.antal@mail.hu",
                    "2": "Antal Tamás",
                    "3": "1984",
                    "4": "F",
                    "5": "4440 Tiszavasvári, Posta köz 2.",
                    "6": "Antal László",
                    "7": "Back András"
                },
                {
                    "0": "andras4",
                    "1": "andras4@gmail.com",
                    "2": "Back András",
                    "3": "1984",
                    "4": "F",
                    "5": "3783 Edelény, Fő út 169.",
                    "6": "Antal Tamás",
                    "7": "Bagi Beáta"
                },
                {
                    "0": "beata4",
                    "1": "beáta.bagi@mail.hu",
                    "2": "Bagi Beáta",
                    "3": "1994",
                    "4": "N",
                    "5": "8477 Tüskevár, Felszabadulás utca 32.",
                    "6": "Back András",
                    "7": "Bagóczki Alexandra"
                },
                {
                    "0": "alexandra",
                    "1": "alexandra.bagóczki@mail.hu",
                    "2": "Bagóczki Alexandra",
                    "3": "1992",
                    "4": "N",
                    "5": "2381 Táborfalva, Petőfi utca 1/2.",
                    "6": "Bagi Beáta",
                    "7": "Bajusz Bence"
                },
                {
                    "0": "BENCEB",
                    "1": "bence.bajusz@mail.hu",
                    "2": "Bajusz Bence",
                    "3": "1973",
                    "4": "F",
                    "5": "8391 Sármellék, Fő utca 56.",
                    "6": "Bagóczki Alexandra",
                    "7": "Bakó Klaudia"
                },
                {
                    "0": "klaudia2",
                    "1": "klaudia.bakó@mail.hu",
                    "2": "Bakó Klaudia",
                    "3": "1982",
                    "4": "N",
                    "5": "8254 Kővágóörs, Kossuth Lajos utca 6.",
                    "6": "Bajusz Bence",
                    "7": "Bakódy Balázs"
                },
                {
                    "0": "balazs3",
                    "1": "balazs3@gmail.com",
                    "2": "Bakódy Balázs",
                    "3": "1986",
                    "4": "F",
                    "5": "2131 Göd, Arany János utca 1.",
                    "6": "Bakó Klaudia",
                    "7": "Balla Miklós"
                },
                {
                    "0": "MIKLOSB",
                    "1": "miklós.balla@mail.hu",
                    "2": "Balla Miklós",
                    "3": "1979",
                    "4": "F",
                    "5": "4060 Balmazújváros, Szent István utca 2.",
                    "6": "Bakódy Balázs",
                    "7": "Balogh Eszter"
                },
                {
                    "0": "eszter2",
                    "1": "eszter.balogh@mail.hu",
                    "2": "Balogh Eszter",
                    "3": "1998",
                    "4": "N",
                    "5": "6760 Kistelek, Kossuth utca 11.",
                    "6": "Balla Miklós",
                    "7": "Barabás Pál"
                },
                {
                    "0": "pal",
                    "1": "pál.barabás@mail.hu",
                    "2": "Barabás Pál",
                    "3": "1968",
                    "4": "F",
                    "5": "1183 Budapest, Szolnoki út 8.",
                    "6": "Balogh Eszter",
                    "7": "Baráth Mária"
                },
                {
                    "0": "maria1",
                    "1": "mária.baráth@mail.hu",
                    "2": "Baráth Mária",
                    "3": "1995",
                    "4": "N",
                    "5": "1047 Budapest, Posta köz 2.",
                    "6": "Barabás Pál",
                    "7": "Bárci Gusztáv"
                },
                {
                    "0": "gusztav",
                    "1": "gusztav@gmail.com",
                    "2": "Bárci Gusztáv",
                    "3": "1967",
                    "4": "F",
                    "5": "3643 Dédestapolcsány, Endrődi Sándor utca 47.",
                    "6": "Baráth Mária",
                    "7": "Barkóci Ádám"
                },
                {
                    "0": "adam3",
                    "1": "adam3@gmail.com",
                    "2": "Barkóci Ádám",
                    "3": "1970",
                    "4": "F",
                    "5": "3910 Tokaj, Dózsa György utca 37.",
                    "6": "Bárci Gusztáv",
                    "7": "Barna Debóra"
                },
                {
                    "0": "debora",
                    "1": "debóra.barna@mail.hu",
                    "2": "Barna Debóra",
                    "3": "1976",
                    "4": "N",
                    "5": "1155 Budapest, Fő út 169.",
                    "6": "Barkóci Ádám",
                    "7": "Barna Zoltán"
                },
                {
                    "0": "zoltan4",
                    "1": "zoltan4@gmail.com",
                    "2": "Barna Zoltán",
                    "3": "1986",
                    "4": "F",
                    "5": "8313 Balatongyörök, Jászai tér 21.",
                    "6": "Barna Debóra",
                    "7": "Baróti Attila"
                },
                {
                    "0": "attila4",
                    "1": "attila.baróti@mail.hu",
                    "2": "Baróti Attila",
                    "3": "1975",
                    "4": "F",
                    "5": "7149 Báta, Arany János utca 3.",
                    "6": "Barna Zoltán",
                    "7": "Barta Zsuzsanna"
                },
                {
                    "0": "zsuzsanna",
                    "1": "zsuzsanna.barta@mail.hu",
                    "2": "Barta Zsuzsanna",
                    "3": "1994",
                    "4": "N",
                    "5": "4172 Biharnagybajom, Dózsa György utca 37.",
                    "6": "Baróti Attila",
                    "7": "Berendi Péter"
                },
                {
                    "0": "PETERB",
                    "1": "péter.berendi@mail.hu",
                    "2": "Berendi Péter",
                    "3": "1969",
                    "4": "F",
                    "5": "3980 Sátoraljaújhely, Vasút utca 4/10.",
                    "6": "Barta Zsuzsanna",
                    "7": "Béres Norbert"
                },
                {
                    "0": "norbert5",
                    "1": "norbert5@gmail.com",
                    "2": "Béres Norbert",
                    "3": "1975",
                    "4": "F",
                    "5": "8640 Fonyód, Bajcsy-Zsilinszky utca 4.",
                    "6": "Berendi Péter",
                    "7": "Berta Dávid"
                },
                {
                    "0": "david4",
                    "1": "david4@gmail.com",
                    "2": "Berta Dávid",
                    "3": "1990",
                    "4": "F",
                    "5": "3500 Miskolc, Balatoni út 12.",
                    "6": "Béres Norbert",
                    "7": "Bieniek Ádám"
                },
                {
                    "0": "adam4",
                    "1": "ádám.bieniek@mail.hu",
                    "2": "Bieniek Ádám",
                    "3": "1976",
                    "4": "F",
                    "5": "8630 Balatonboglár, Juhászföldi út 1.",
                    "6": "Berta Dávid",
                    "7": "Bíró Ákos"
                },
                {
                    "0": "akos",
                    "1": "ákos.bíró@mail.hu",
                    "2": "Bíró Ákos",
                    "3": "1982",
                    "4": "F",
                    "5": "9023 Győr, Kossuth Lajos utca 47/b.",
                    "6": "Bieniek Ádám",
                    "7": "Biró Alexander"
                },
                {
                    "0": "alexis",
                    "1": "alexbiro@gmail.com",
                    "2": "Biró Alexander",
                    "3": "2000",
                    "4": "F",
                    "5": "6914 Pitvaros, Deák F. u. 38.",
                    "6": "Bíró Ákos",
                    "7": "Bíró Péter"
                },
                {
                    "0": "peter4",
                    "1": "péter.bíró@mail.hu",
                    "2": "Bíró Péter",
                    "3": "1985",
                    "4": "F",
                    "5": "5137 Jászkisér, Rákóczi utca 67.",
                    "6": "Biró Alexander",
                    "7": "Bittmann Edit"
                },
                {
                    "0": "edit",
                    "1": "edit.bittmann@mail.hu",
                    "2": "Bittmann Edit",
                    "3": "1984",
                    "4": "N",
                    "5": "6077 Orgovány, Fő utca 60.",
                    "6": "Bíró Péter",
                    "7": "Bodor Szabolcs"
                },
                {
                    "0": "szabolcs",
                    "1": "szabolcs.bodor@mail.hu",
                    "2": "Bodor Szabolcs",
                    "3": "1990",
                    "4": "F",
                    "5": "6786 Ruzsa, Ady Endre út 27.",
                    "6": "Bittmann Edit",
                    "7": "Bori Krisztina"
                },
                {
                    "0": "krisztina1",
                    "1": "krisztina.bori@mail.hu",
                    "2": "Bori Krisztina",
                    "3": "1969",
                    "4": "N",
                    "5": "2115 Vácszentlászló, Fő utca 47.",
                    "6": "Bodor Szabolcs",
                    "7": "Böröcz Anikó"
                },
                {
                    "0": "aniko4",
                    "1": "aniko4@gmail.com",
                    "2": "Böröcz Anikó",
                    "3": "1978",
                    "4": "N",
                    "5": "2484 Agárd, Petőfi Sándor tér 1.",
                    "6": "Bori Krisztina",
                    "7": "Boros Vivien"
                },
                {
                    "0": "vivien3",
                    "1": "vivien3@gmail.com",
                    "2": "Boros Vivien",
                    "3": "1991",
                    "4": "N",
                    "5": "2117 Isaszeg, Fő út 122.",
                    "6": "Böröcz Anikó",
                    "7": "Bosnyák Ilona"
                },
                {
                    "0": "ilona3",
                    "1": "ilona3@gmail.com",
                    "2": "Bosnyák Ilona",
                    "3": "1990",
                    "4": "N",
                    "5": "2483 Gárdony, Posta köz 2.",
                    "6": "Boros Vivien",
                    "7": "Botka Mátyás"
                },
                {
                    "0": "matyas2",
                    "1": "matyas2@gmail.com",
                    "2": "Botka Mátyás",
                    "3": "1972",
                    "4": "F",
                    "5": "2700 Cegléd, Kossuth Lajos utca 6.",
                    "6": "Bosnyák Ilona",
                    "7": "Bozsik Balázs"
                },
                {
                    "0": "balazs1",
                    "1": "balázs.bozsik@mail.hu",
                    "2": "Bozsik Balázs",
                    "3": "1992",
                    "4": "F",
                    "5": "2300 Ráckeve, Bécsi utca 82.",
                    "6": "Botka Mátyás",
                    "7": "Bozsó Péter"
                },
                {
                    "0": "peter2",
                    "1": "peter2@gmail.com",
                    "2": "Bozsó Péter",
                    "3": "1976",
                    "4": "F",
                    "5": "4800 Vásárosnamény, Zombori út 2/A",
                    "6": "Bozsik Balázs",
                    "7": "Bucskó Róza"
                },
                {
                    "0": "roza2",
                    "1": "roza2@gmail.com",
                    "2": "Bucskó Róza",
                    "3": "1988",
                    "4": "N",
                    "5": "5661 Újkígyós, Arany János utca 3.",
                    "6": "Bozsó Péter",
                    "7": "Búza Imre"
                },
                {
                    "0": "imre",
                    "1": "imre.búza@mail.hu",
                    "2": "Búza Imre",
                    "3": "1988",
                    "4": "F",
                    "5": "9181 Kimle, Petőfi Sándor tér 1.",
                    "6": "Bucskó Róza",
                    "7": "Csiger Bertalan"
                },
                {
                    "0": "bertalan",
                    "1": "bertalan@gmail.com",
                    "2": "Csiger Bertalan",
                    "3": "1977",
                    "4": "F",
                    "5": "1192 Budapest, Fő út 169.",
                    "6": "Búza Imre",
                    "7": "Csóti Attila"
                },
                {
                    "0": "attila",
                    "1": "attila@gmail.com",
                    "2": "Csóti Attila",
                    "3": "1979",
                    "4": "F",
                    "5": "3000 Hatvan, Bajcsy-Zsilinszky utca 4.",
                    "6": "Csiger Bertalan",
                    "7": "Czérna Krisztián"
                },
                {
                    "0": "krisztian4",
                    "1": "krisztián.czérna@mail.hu",
                    "2": "Czérna Krisztián",
                    "3": "1970",
                    "4": "F",
                    "5": "1107 Budapest, Dózsa György utca 37.",
                    "6": "Csóti Attila",
                    "7": "Dániel Tibor"
                },
                {
                    "0": "tibor2",
                    "1": "tibor2@gmail.com",
                    "2": "Dániel Tibor",
                    "3": "1985",
                    "4": "F",
                    "5": "6646 Tömörkény, Árpád utca 23.",
                    "6": "Czérna Krisztián",
                    "7": "Dunai Aladár"
                },
                {
                    "0": "aladar",
                    "1": "aladár.dunai@mail.hu",
                    "2": "Dunai Aladár",
                    "3": "1980",
                    "4": "F",
                    "5": "5931 Nagyszénás, Árpád utca 23.",
                    "6": "Dániel Tibor",
                    "7": "Dusha Tímea"
                },
                {
                    "0": "timea2",
                    "1": "tímea.dusha@mail.hu",
                    "2": "Dusha Tímea",
                    "3": "1975",
                    "4": "N",
                    "5": "5920 Csorvás, Kossuth utca 8.",
                    "6": "Dunai Aladár",
                    "7": "Endresz Bálint"
                },
                {
                    "0": "balu",
                    "1": "bálint.endresz@mail.hu",
                    "2": "Endresz Bálint",
                    "3": "1976",
                    "4": "F",
                    "5": "3973 Cigánd, Fő út 169.",
                    "6": "Dusha Tímea",
                    "7": "Enyedi Éva"
                },
                {
                    "0": "eva",
                    "1": "eva@gmail.com",
                    "2": "Enyedi Éva",
                    "3": "1967",
                    "4": "N",
                    "5": "4231 Bököny, Petőfi utca 8.",
                    "6": "Endresz Bálint",
                    "7": "Erdei András"
                },
                {
                    "0": "ANDRASE",
                    "1": "ANDRASE@gmail.com",
                    "2": "Erdei András",
                    "3": "1997",
                    "4": "F",
                    "5": "5071 Besenyszög, Szolnoki út 8.",
                    "6": "Enyedi Éva",
                    "7": "Érsek Eszter"
                },
                {
                    "0": "ESZTERE",
                    "1": "eszter.érsek@mail.hu",
                    "2": "Érsek Eszter",
                    "3": "1978",
                    "4": "N",
                    "5": "6785 Pusztamérges, Kossuth Lajos utca 6.",
                    "6": "Erdei András",
                    "7": "Farkas Béla"
                },
                {
                    "0": "BELAF",
                    "1": "BELAF@gmail.com",
                    "2": "Farkas Béla",
                    "3": "1995",
                    "4": "F",
                    "5": "5530 Vésztő, Petőfi Sándor utca 3.",
                    "6": "Érsek Eszter",
                    "7": "Farkas László"
                },
                {
                    "0": "laszlo1",
                    "1": "lászló.farkas@mail.hu",
                    "2": "Farkas László",
                    "3": "1967",
                    "4": "F",
                    "5": "5200 Törökszentmiklós, Rendeki utca 21.",
                    "6": "Farkas Béla",
                    "7": "Farkas Sándor"
                },
                {
                    "0": "sandor3",
                    "1": "sándor.farkas@mail.hu",
                    "2": "Farkas Sándor",
                    "3": "1989",
                    "4": "F",
                    "5": "8640 Fonyód, Tanácsköztársaság tér 1.",
                    "6": "Farkas László",
                    "7": "Farkas Sára"
                },
                {
                    "0": "sara",
                    "1": "sára.farkas@mail.hu",
                    "2": "Farkas Sára",
                    "3": "1973",
                    "4": "N",
                    "5": "5940 Tótkomlós, Felszabadulás utca 32.",
                    "6": "Farkas Sándor",
                    "7": "Fényes Tamás"
                },
                {
                    "0": "TAMASF",
                    "1": "TAMASF@gmail.com",
                    "2": "Fényes Tamás",
                    "3": "1997",
                    "4": "F",
                    "5": "9023 Győr, Arany János utca 1.",
                    "6": "Farkas Sára",
                    "7": "Ferencz Roland"
                },
                {
                    "0": "roland1",
                    "1": "roland.ferencz@mail.hu",
                    "2": "Ferencz Roland",
                    "3": "1985",
                    "4": "F",
                    "5": "2424 Előszállás, Fő út 169.",
                    "6": "Fényes Tamás",
                    "7": "Feró Valentin"
                },
                {
                    "0": "valentin",
                    "1": "valentin.feró@mail.hu",
                    "2": "Feró Valentin",
                    "3": "1986",
                    "4": "F",
                    "5": "3895 Gönc, Búvár utca 4.",
                    "6": "Ferencz Roland",
                    "7": "Fő Nándor"
                },
                {
                    "0": "NANDORF",
                    "1": "nándor.fő@mail.hu",
                    "2": "Fő Nándor",
                    "3": "1968",
                    "4": "F",
                    "5": "5920 Csorvás, Bécsi utca 82.",
                    "6": "Feró Valentin",
                    "7": "Fodor Zoltán"
                },
                {
                    "0": "zoltan",
                    "1": "zoltán.fodor@mail.hu",
                    "2": "Fodor Zoltán",
                    "3": "1979",
                    "4": "F",
                    "5": "3441 Mezőkeresztes, Fő utca 23.",
                    "6": "Fő Nándor",
                    "7": "Foltényi Sebastián"
                },
                {
                    "0": "SEBASTIANF",
                    "1": "SEBASTIANF@gmail.com",
                    "2": "Foltényi Sebastián",
                    "3": "1992",
                    "4": "F",
                    "5": "7960 Sellye, Grassalkovich út 10.",
                    "6": "Fodor Zoltán",
                    "7": "Frank Fruzsina"
                },
                {
                    "0": "fruzsina4",
                    "1": "fruzsina4@gmail.com",
                    "2": "Frank Fruzsina",
                    "3": "1996",
                    "4": "N",
                    "5": "9700 Szombathely, Szabadság utca 95.",
                    "6": "Foltényi Sebastián",
                    "7": "Fülöp Eszter"
                },
                {
                    "0": "eszter4",
                    "1": "eszter.fülöp@mail.hu",
                    "2": "Fülöp Eszter",
                    "3": "1993",
                    "4": "N",
                    "5": "3643 Dédestapolcsány, Kossuth Lajos utca 47/b.",
                    "6": "Frank Fruzsina",
                    "7": "Gergely József"
                },
                {
                    "0": "jozsef",
                    "1": "jozsef@gmail.com",
                    "2": "Gergely József",
                    "3": "1985",
                    "4": "F",
                    "5": "6050 Lajosmizse, Fő út 18.",
                    "6": "Fülöp Eszter",
                    "7": "Giliga János"
                },
                {
                    "0": "JANOSG",
                    "1": "JANOSG@gmail.com",
                    "2": "Giliga János",
                    "3": "1975",
                    "4": "F",
                    "5": "3300 Eger, Deák Ferenc út 5.",
                    "6": "Gergely József",
                    "7": "Gombos Tibor"
                },
                {
                    "0": "tibor",
                    "1": "tibor.gombos@mail.hu",
                    "2": "Gombos Tibor",
                    "3": "1993",
                    "4": "F",
                    "5": "7100 Szekszárd, Kossuth utca 77.",
                    "6": "Giliga János",
                    "7": "Gondos Katalin"
                },
                {
                    "0": "kata",
                    "1": "katalin.gondos@mail.hu",
                    "2": "Gondos Katalin",
                    "3": "1968",
                    "4": "N",
                    "5": "8237 Tihany, Kossuth Lajos utca 6.",
                    "6": "Gombos Tibor",
                    "7": "Gondos Miklós"
                },
                {
                    "0": "miklos2",
                    "1": "miklos2@gmail.com",
                    "2": "Gondos Miklós",
                    "3": "1995",
                    "4": "F",
                    "5": "2100 Gödöllő, Árpád utca 23.",
                    "6": "Gondos Katalin",
                    "7": "Gulyás Attila"
                },
                {
                    "0": "attila1",
                    "1": "attila.gulyás@mail.hu",
                    "2": "Gulyás Attila",
                    "3": "1982",
                    "4": "F",
                    "5": "3881 Abaújszántó, Szolnoki út 8.",
                    "6": "Gondos Miklós",
                    "7": "Gyárfás Krisztina"
                },
                {
                    "0": "KRISZTINAG",
                    "1": "KRISZTINAG@gmail.com",
                    "2": "Gyárfás Krisztina",
                    "3": "1987",
                    "4": "N",
                    "5": "6762 Sándorfalva, Arany János utca 1.",
                    "6": "Gulyás Attila",
                    "7": "Győrffy Bence"
                },
                {
                    "0": "bence",
                    "1": "bence@gmail.com",
                    "2": "Győrffy Bence",
                    "3": "1987",
                    "4": "F",
                    "5": "6900 Makó, Árpád utca 23.",
                    "6": "Gyárfás Krisztina",
                    "7": "Gyuris József"
                },
                {
                    "0": "JOZSEFG",
                    "1": "józsef.gyuris@mail.hu",
                    "2": "Gyuris József",
                    "3": "1975",
                    "4": "F",
                    "5": "2660 Balassagyarmat, Petőfi utca 1/2.",
                    "6": "Győrffy Bence",
                    "7": "Hamvay-Kovács Anita"
                },
                {
                    "0": "anita",
                    "1": "anita.hamvay-kovács@mail.hu",
                    "2": "Hamvay-Kovács Anita",
                    "3": "1971",
                    "4": "N",
                    "5": "7220 Sarkad, Táncsics utca 19.",
                    "6": "Gyuris József",
                    "7": "Harangozó János"
                },
                {
                    "0": "janos3",
                    "1": "janos3@gmail.com",
                    "2": "Harangozó János",
                    "3": "1967",
                    "4": "F",
                    "5": "8700 Marcali, Petőfi Sándor tér 1.",
                    "6": "Hamvay-Kovács Anita",
                    "7": "Hartyánszky Ágnes"
                },
                {
                    "0": "agnes3",
                    "1": "agnes3@gmail.com",
                    "2": "Hartyánszky Ágnes",
                    "3": "1967",
                    "4": "N",
                    "5": "6430 Bácsalmás, Posta köz 2.",
                    "6": "Harangozó János",
                    "7": "Hegedűs Norbert"
                },
                {
                    "0": "norbert2",
                    "1": "norbert.hegedűs@mail.hu",
                    "2": "Hegedűs Norbert",
                    "3": "1991",
                    "4": "F",
                    "5": "2081 Piliscsaba, Rendeki utca 21.",
                    "6": "Hartyánszky Ágnes",
                    "7": "Hídasi Judit"
                },
                {
                    "0": "JUDITH",
                    "1": "JUDITH@gmail.com",
                    "2": "Hídasi Judit",
                    "3": "1997",
                    "4": "N",
                    "5": "2100 Gödöllő, Fő út 169.",
                    "6": "Hegedűs Norbert",
                    "7": "Horváth Ágnes"
                },
                {
                    "0": "AGNESH",
                    "1": "AGNESH@gmail.com",
                    "2": "Horváth Ágnes",
                    "3": "1981",
                    "4": "N",
                    "5": "8200 Veszprém, Rákóczi utca 21.",
                    "6": "Hídasi Judit",
                    "7": "Horváth Árpád"
                },
                {
                    "0": "ARPADH",
                    "1": "árpád.horváth@mail.hu",
                    "2": "Horváth Árpád",
                    "3": "1990",
                    "4": "F",
                    "5": "7349 Szászvár, Dózsa György u. 1.",
                    "6": "Horváth Ágnes",
                    "7": "Horváth Bálint"
                },
                {
                    "0": "balint",
                    "1": "balint@gmail.com",
                    "2": "Horváth Bálint",
                    "3": "1996",
                    "4": "F",
                    "5": "6646 Tömörkény, Endrődi Sándor utca 47.",
                    "6": "Horváth Árpád",
                    "7": "Horváth Katalin"
                },
                {
                    "0": "katalin",
                    "1": "katalin.horváth@mail.hu",
                    "2": "Horváth Katalin",
                    "3": "1968",
                    "4": "N",
                    "5": "2424 Előszállás, Rákóczi út 200.",
                    "6": "Horváth Bálint",
                    "7": "Horváth Krisztina"
                },
                {
                    "0": "kriszti",
                    "1": "kriszti@gmail.com",
                    "2": "Horváth Krisztina",
                    "3": "1978",
                    "4": "N",
                    "5": "6060 Tiszakécske, Árpád utca 4.",
                    "6": "Horváth Katalin",
                    "7": "Horváth Márk"
                },
                {
                    "0": "MARKH",
                    "1": "márk.horváth@mail.hu",
                    "2": "Horváth Márk",
                    "3": "1997",
                    "4": "F",
                    "5": "4400 Nyíregyháza, Badacsonyi utca 12.",
                    "6": "Horváth Krisztina",
                    "7": "Horváth Nikolett"
                },
                {
                    "0": "nikolett3",
                    "1": "nikolett3@gmail.com",
                    "2": "Horváth Nikolett",
                    "3": "1981",
                    "4": "N",
                    "5": "1072 Budapest, Arany János utca 1.",
                    "6": "Horváth Márk",
                    "7": "Iván Róbert"
                },
                {
                    "0": "ROBERTI",
                    "1": "róbert.iván@mail.hu",
                    "2": "Iván Róbert",
                    "3": "1967",
                    "4": "F",
                    "5": "2377 Örkény, Petőfi Sándor utca 3.",
                    "6": "Horváth Nikolett",
                    "7": "Jakab Áron"
                },
                {
                    "0": "aron2",
                    "1": "aron2@gmail.com",
                    "2": "Jakab Áron",
                    "3": "1971",
                    "4": "F",
                    "5": "7133 Fadd, Bajcsy-Zsilinszky utca 4.",
                    "6": "Iván Róbert",
                    "7": "Józsa Zsolt"
                },
                {
                    "0": "ZSOLTJ",
                    "1": "ZSOLTJ@gmail.com",
                    "2": "Józsa Zsolt",
                    "3": "1983",
                    "4": "F",
                    "5": "8315 Gyenesdiás, Bajcsy-Zsilinszky utca 4.",
                    "6": "Jakab Áron",
                    "7": "Juhász Mihály"
                },
                {
                    "0": "MIHALYJ",
                    "1": "mihály.juhász@mail.hu",
                    "2": "Juhász Mihály",
                    "3": "1979",
                    "4": "F",
                    "5": "6786 Ruzsa, Rákóczi utca 1.",
                    "6": "Józsa Zsolt",
                    "7": "Kalacsi Márton"
                },
                {
                    "0": "marton",
                    "1": "marton@gmail.com",
                    "2": "Kalacsi Márton",
                    "3": "1989",
                    "4": "F",
                    "5": "5137 Jászkisér, Fő út 169.",
                    "6": "Juhász Mihály",
                    "7": "Karasz Sándor"
                },
                {
                    "0": "sandor",
                    "1": "sandor@gmail.com",
                    "2": "Karasz Sándor",
                    "3": "1970",
                    "4": "F",
                    "5": "8283 Káptalantóti, Kossuth Lajos utca 1/a.",
                    "6": "Kalacsi Márton",
                    "7": "Kardos Renáta"
                },
                {
                    "0": "RENATAK",
                    "1": "renáta.kardos@mail.hu",
                    "2": "Kardos Renáta",
                    "3": "1988",
                    "4": "N",
                    "5": "7086 Ozora, Bécsi utca 82.",
                    "6": "Karasz Sándor",
                    "7": "Kazy Tihamér"
                },
                {
                    "0": "tihamer",
                    "1": "tihamér.kazy@mail.hu",
                    "2": "Kazy Tihamér",
                    "3": "1991",
                    "4": "F",
                    "5": "2370 Dabas, Fő utca 60.",
                    "6": "Kardos Renáta",
                    "7": "Kelemen Áron"
                },
                {
                    "0": "ARONK",
                    "1": "áron.kelemen@mail.hu",
                    "2": "Kelemen Áron",
                    "3": "1989",
                    "4": "F",
                    "5": "8200 Veszprém, Petőfi utca 8.",
                    "6": "Kazy Tihamér",
                    "7": "Kerényi Beatrix"
                },
                {
                    "0": "BEATRIXK",
                    "1": "beatrix.kerényi@mail.hu",
                    "2": "Kerényi Beatrix",
                    "3": "1972",
                    "4": "N",
                    "5": "7396 Magyarszék, Kossuth Lajos utca 47/b.",
                    "6": "Kelemen Áron",
                    "7": "Keresztúri Viktor"
                },
                {
                    "0": "VIKTORK",
                    "1": "viktor.keresztúri@mail.hu",
                    "2": "Keresztúri Viktor",
                    "3": "1989",
                    "4": "F",
                    "5": "2532 Tokodaltáró, Nagy Lajos tér 4.",
                    "6": "Kerényi Beatrix",
                    "7": "Kertész Katalin"
                },
                {
                    "0": "katalin4",
                    "1": "katalin4@gmail.com",
                    "2": "Kertész Katalin",
                    "3": "1986",
                    "4": "N",
                    "5": "2800 Tatabánya, Búvár utca 4.",
                    "6": "Keresztúri Viktor",
                    "7": "Keszler Dániel"
                },
                {
                    "0": "daniel1",
                    "1": "dániel.keszler@mail.hu",
                    "2": "Keszler Dániel",
                    "3": "1969",
                    "4": "F",
                    "5": "3580 Tiszaújváros, Kossuth Lajos utca 6.",
                    "6": "Kertész Katalin",
                    "7": "Kispál Márk"
                },
                {
                    "0": "mark",
                    "1": "márk.kispál@mail.hu",
                    "2": "Kispál Márk",
                    "3": "1996",
                    "4": "F",
                    "5": "1086 Budapest, Juhászföldi út 1.",
                    "6": "Keszler Dániel",
                    "7": "Kiss Ádám"
                },
                {
                    "0": "adam1",
                    "1": "ádám.kiss@mail.hu",
                    "2": "Kiss Ádám",
                    "3": "1991",
                    "4": "F",
                    "5": "5630 Békés, Szolnoki út 8.",
                    "6": "Kispál Márk",
                    "7": "Kiss Andrea"
                },
                {
                    "0": "andrea",
                    "1": "andrea.kiss@mail.hu",
                    "2": "Kiss Andrea",
                    "3": "1993",
                    "4": "N",
                    "5": "1113 Budapest, Petőfi Sándor utca 87.",
                    "6": "Kiss Ádám",
                    "7": "Kiss Anita"
                },
                {
                    "0": "kanita12",
                    "1": "anita.kiss12@gmail.com",
                    "2": "Kiss Anita",
                    "3": "1975",
                    "4": "N",
                    "5": "2230 Gyömrő Fő tér 3.",
                    "6": "Kiss Andrea",
                    "7": "Kiss Lajos"
                },
                {
                    "0": "lajos",
                    "1": "lajos.kiss@mail.hu",
                    "2": "Kiss Lajos",
                    "3": "1978",
                    "4": "F",
                    "5": "1077 Budapest, Dob utca 1",
                    "6": "Kiss Anita",
                    "7": "Kő Nikoletta"
                },
                {
                    "0": "nikoletta4",
                    "1": "nikoletta4@gmail.com",
                    "2": "Kő Nikoletta",
                    "3": "1972",
                    "4": "N",
                    "5": "5537 Zsadány, Fő út 18.",
                    "6": "Kiss Lajos",
                    "7": "Komjáti András"
                },
                {
                    "0": "andras41",
                    "1": "andras41@gmail.com",
                    "2": "Komjáti András",
                    "3": "1997",
                    "4": "F",
                    "5": "5065 Nagykörű, Kossuth út 24.",
                    "6": "Kő Nikoletta",
                    "7": "Kornseé Gyöngyi"
                },
                {
                    "0": "GYONGYIK",
                    "1": "gyöngyi.kornseé@mail.hu",
                    "2": "Kornseé Gyöngyi",
                    "3": "1974",
                    "4": "N",
                    "5": "8800 Nagykanizsa, Fő út 60.",
                    "6": "Komjáti András",
                    "7": "Kovács Ágnes"
                },
                {
                    "0": "AGNESK",
                    "1": "AGNESK@gmail.com",
                    "2": "Kovács Ágnes",
                    "3": "1988",
                    "4": "N",
                    "5": "1084 Budapest, Endrődi Sándor utca 47.",
                    "6": "Kornseé Gyöngyi",
                    "7": "Kovács Bernadett"
                },
                {
                    "0": "bernadett2",
                    "1": "bernadett.kovács@mail.hu",
                    "2": "Kovács Bernadett",
                    "3": "1996",
                    "4": "N",
                    "5": "4200 Hajdúszoboszló, Fő út 122.",
                    "6": "Kovács Ágnes",
                    "7": "Kovács Katalin"
                },
                {
                    "0": "katka",
                    "1": "katalin.kovács@mail.hu",
                    "2": "Kovács Katalin",
                    "3": "1975",
                    "4": "N",
                    "5": "8254 Kővágóörs, Petőfi utca 22.",
                    "6": "Kovács Bernadett",
                    "7": "Köves Gábor"
                },
                {
                    "0": "gabor1",
                    "1": "gabor1@gmail.com",
                    "2": "Köves Gábor",
                    "3": "1973",
                    "4": "F",
                    "5": "6762 Sándorfalva, Árpád utca 23.",
                    "6": "Kovács Katalin",
                    "7": "Koza Máté"
                },
                {
                    "0": "MATEK",
                    "1": "máté.koza@mail.hu",
                    "2": "Koza Máté",
                    "3": "1997",
                    "4": "F",
                    "5": "1011 Budapest, Központi telep 3.",
                    "6": "Köves Gábor",
                    "7": "Kozma Péter"
                },
                {
                    "0": "peter1",
                    "1": "peter1@gmail.com",
                    "2": "Kozma Péter",
                    "3": "1976",
                    "4": "F",
                    "5": "6913 Csanádpalota, Központi telep 3.",
                    "6": "Koza Máté",
                    "7": "Kuruc Emese"
                },
                {
                    "0": "emese",
                    "1": "emese.kuruc@mail.hu",
                    "2": "Kuruc Emese",
                    "3": "1989",
                    "4": "N",
                    "5": "6700 Szeged, Rákóczi utca 67.",
                    "6": "Kozma Péter",
                    "7": "Lengyel Ágnes"
                },
                {
                    "0": "agnes",
                    "1": "agnes@gmail.com",
                    "2": "Lengyel Ágnes",
                    "3": "1979",
                    "4": "N",
                    "5": "5200 Törökszentmiklós, Deák Ferenc út 5.",
                    "6": "Kuruc Emese",
                    "7": "Lukács Kornél"
                },
                {
                    "0": "kornel4",
                    "1": "kornél.lukács@mail.hu",
                    "2": "Lukács Kornél",
                    "3": "1975",
                    "4": "F",
                    "5": "2053 Herceghalom, Bécsi utca 82.",
                    "6": "Lengyel Ágnes",
                    "7": "Maródi Andrea"
                },
                {
                    "0": "andi",
                    "1": "andrea.maródi@mail.hu",
                    "2": "Maródi Andrea",
                    "3": "1968",
                    "4": "N",
                    "5": "5465 Cserkeszőlő, Árpád utca 4.",
                    "6": "Lukács Kornél",
                    "7": "Miklós Szabolcs"
                },
                {
                    "0": "SZABOLCSM",
                    "1": "szabolcs.miklós@mail.hu",
                    "2": "Miklós Szabolcs",
                    "3": "1980",
                    "4": "F",
                    "5": "1102 Budapest, Fő út 169.",
                    "6": "Maródi Andrea",
                    "7": "Miklós Tamara"
                },
                {
                    "0": "tamara2",
                    "1": "tamara.miklós@mail.hu",
                    "2": "Miklós Tamara",
                    "3": "1980",
                    "4": "N",
                    "5": "3910 Tokaj, Kossuth út 39.",
                    "6": "Miklós Szabolcs",
                    "7": "Mile Norbert"
                },
                {
                    "0": "norbert4",
                    "1": "norbert4@gmail.com",
                    "2": "Mile Norbert",
                    "3": "1983",
                    "4": "F",
                    "5": "3973 Cigánd, Bajcsy-Zsilinszky utca 4.",
                    "6": "Miklós Tamara",
                    "7": "Mogyródi Krisztián"
                },
                {
                    "0": "KRISZTIANM",
                    "1": "KRISZTIANM@gmail.com",
                    "2": "Mogyródi Krisztián",
                    "3": "1968",
                    "4": "F",
                    "5": "9155 Lébény, Jászai tér 21.",
                    "6": "Mile Norbert",
                    "7": "Mohos Mónika"
                },
                {
                    "0": "MONIKAM",
                    "1": "mónika.mohos@mail.hu",
                    "2": "Mohos Mónika",
                    "3": "1974",
                    "4": "N",
                    "5": "2241 Sülysáp, Baracsi László utca 14.",
                    "6": "Mogyródi Krisztián",
                    "7": "Molnár András"
                },
                {
                    "0": "andras21",
                    "1": "andrás.molnár@mail.hu",
                    "2": "Molnár András",
                    "3": "1977",
                    "4": "F",
                    "5": "7900 Szigetvár, Rákóczi utca 67.",
                    "6": "Mohos Mónika",
                    "7": "Molnár Bálint"
                },
                {
                    "0": "balint1",
                    "1": "balint1@gmail.com",
                    "2": "Molnár Bálint",
                    "3": "1989",
                    "4": "F",
                    "5": "9181 Kimle, Fő út 169.",
                    "6": "Molnár András",
                    "7": "Molnár Eszter"
                },
                {
                    "0": "eszter",
                    "1": "eszter.molnár@mail.hu",
                    "2": "Molnár Eszter",
                    "3": "1987",
                    "4": "N",
                    "5": "6800 Hódmezővásárhely, Fő út 77.",
                    "6": "Molnár Bálint",
                    "7": "Molnár Zsófi"
                },
                {
                    "0": "zsofi1",
                    "1": "zsofi1@gmail.com",
                    "2": "Molnár Zsófi",
                    "3": "1983",
                    "4": "N",
                    "5": "2730 Albertirsa, Árpád utca 23.",
                    "6": "Molnár Eszter",
                    "7": "Mór Ottó"
                },
                {
                    "0": "desdemona",
                    "1": "mor.otto@mail.hu",
                    "2": "Mór Ottó",
                    "3": "1968",
                    "4": "F",
                    "5": "9200 Mosonmagyaróvár Fő u. 12.",
                    "6": "Molnár Zsófi",
                    "7": "Móra László"
                },
                {
                    "0": "laszlo2",
                    "1": "lászló.móra@mail.hu",
                    "2": "Móra László",
                    "3": "1975",
                    "4": "F",
                    "5": "9970 Szentgotthárd, Petőfi utca 1/2.",
                    "6": "Mór Ottó",
                    "7": "Móricz Árpád"
                },
                {
                    "0": "ARPADM",
                    "1": "árpád.móricz@mail.hu",
                    "2": "Móricz Árpád",
                    "3": "1986",
                    "4": "F",
                    "5": "3910 Tokaj, Rákóczi utca 67.",
                    "6": "Móra László",
                    "7": "Nádudvari Henrik"
                },
                {
                    "0": "henrik3",
                    "1": "henrik.nádudvari@mail.hu",
                    "2": "Nádudvari Henrik",
                    "3": "1986",
                    "4": "F",
                    "5": "1077 Budapest, Tanácsköztársaság tér 1.",
                    "6": "Móricz Árpád",
                    "7": "Nagy András"
                },
                {
                    "0": "ANDRASN",
                    "1": "andrás.nagy@mail.hu",
                    "2": "Nagy András",
                    "3": "1980",
                    "4": "F",
                    "5": "6500 Baja, Fő út 169.",
                    "6": "Nádudvari Henrik",
                    "7": "Nagy Gabriella"
                },
                {
                    "0": "gabriella1",
                    "1": "gabriella1@gmail.com",
                    "2": "Nagy Gabriella",
                    "3": "1982",
                    "4": "N",
                    "5": "1077 Budapest, Dob utca 1",
                    "6": "Nagy András",
                    "7": "Nagy Júlia"
                },
                {
                    "0": "julia4",
                    "1": "julia4@gmail.com",
                    "2": "Nagy Júlia",
                    "3": "1985",
                    "4": "N",
                    "5": "7000 Sárbogárd, Jászai tér 21.",
                    "6": "Nagy Gabriella",
                    "7": "Nagy László"
                },
                {
                    "0": "LASZLON",
                    "1": "lászló.nagy@mail.hu",
                    "2": "Nagy László",
                    "3": "1969",
                    "4": "F",
                    "5": "1173 Budapest, Jászai tér 21.",
                    "6": "Nagy Júlia",
                    "7": "Nagy Péter"
                },
                {
                    "0": "melissza",
                    "1": "nagy_peter@indamail.hu",
                    "2": "Nagy Péter",
                    "3": "1998",
                    "4": "F",
                    "5": "6800 Hódmezővásárhely, Oldalkosát u. 1.",
                    "6": "Nagy László",
                    "7": "Nagy Sándor"
                },
                {
                    "0": "sandor4",
                    "1": "sandor4@gmail.com",
                    "2": "Nagy Sándor",
                    "3": "1997",
                    "4": "F",
                    "5": "4600 Kisvárda, Fő utca 47.",
                    "6": "Nagy Péter",
                    "7": "Nagymihály Csongor"
                },
                {
                    "0": "csongor3",
                    "1": "csongor.nagymihály@mail.hu",
                    "2": "Nagymihály Csongor",
                    "3": "1984",
                    "4": "F",
                    "5": "9181 Kimle, Deák Ferenc út 5.",
                    "6": "Nagy Sándor",
                    "7": "Nagymihály Lajos"
                },
                {
                    "0": "lala",
                    "1": "lajos.nagymihály@mail.hu",
                    "2": "Nagymihály Lajos",
                    "3": "1997",
                    "4": "F",
                    "5": "8638 Balatonlelle, Rákóczi út 200.",
                    "6": "Nagymihály Csongor",
                    "7": "Neizer Andrea"
                },
                {
                    "0": "andrea4",
                    "1": "andrea4@gmail.com",
                    "2": "Neizer Andrea",
                    "3": "1981",
                    "4": "N",
                    "5": "1124 Budapest, Kiss u. 8.",
                    "6": "Nagymihály Lajos",
                    "7": "Nyíri Georgij"
                },
                {
                    "0": "georgij",
                    "1": "georgij.nyíri@mail.hu",
                    "2": "Nyíri Georgij",
                    "3": "1983",
                    "4": "F",
                    "5": "8391 Sármellék, Grassalkovich út 10.",
                    "6": "Neizer Andrea",
                    "7": "Opra Attila"
                },
                {
                    "0": "ATTILAO",
                    "1": "ATTILAO@gmail.com",
                    "2": "Opra Attila",
                    "3": "1995",
                    "4": "F",
                    "5": "8283 Káptalantóti, Rákóczi út 200.",
                    "6": "Nyíri Georgij",
                    "7": "Orbán Bernadett"
                },
                {
                    "0": "BERNADETTO",
                    "1": "bernadett.orbán@mail.hu",
                    "2": "Orbán Bernadett",
                    "3": "1987",
                    "4": "N",
                    "5": "5085 Rákóczifalva, Arany János utca 1.",
                    "6": "Opra Attila",
                    "7": "Orosz Ferenc"
                },
                {
                    "0": "ferenc1",
                    "1": "ferenc.orosz@mail.hu",
                    "2": "Orosz Ferenc",
                    "3": "1983",
                    "4": "F",
                    "5": "5061 Tiszasüly, Arany János utca 3.",
                    "6": "Orbán Bernadett",
                    "7": "Oroszi György"
                },
                {
                    "0": "GYORGYO",
                    "1": "GYORGYO@gmail.com",
                    "2": "Oroszi György",
                    "3": "1980",
                    "4": "F",
                    "5": "7220 Sarkad, Dózsa György u. 1.",
                    "6": "Orosz Ferenc",
                    "7": "Ötvös Árpád"
                },
                {
                    "0": "arpad2",
                    "1": "árpád.ötvös@mail.hu",
                    "2": "Ötvös Árpád",
                    "3": "1990",
                    "4": "F",
                    "5": "2600 Vác, Padragi út 158.",
                    "6": "Oroszi György",
                    "7": "Palágyi Polla"
                },
                {
                    "0": "polla",
                    "1": "polla@gmail.com",
                    "2": "Palágyi Polla",
                    "3": "1994",
                    "4": "N",
                    "5": "2484 Agárd, Fő út 18.",
                    "6": "Ötvös Árpád",
                    "7": "Pálinkás János"
                },
                {
                    "0": "JANOSP",
                    "1": "JANOSP@gmail.com",
                    "2": "Pálinkás János",
                    "3": "1984",
                    "4": "F",
                    "5": "5920 Csorvás, Padragi út 158.",
                    "6": "Palágyi Polla",
                    "7": "Papós Tímea"
                },
                {
                    "0": "timea",
                    "1": "timea@gmail.com",
                    "2": "Papós Tímea",
                    "3": "1996",
                    "4": "N",
                    "5": "1035 Budapest,  Kossuth út 77.",
                    "6": "Pálinkás János",
                    "7": "Papp Imre"
                },
                {
                    "0": "imre1",
                    "1": "imre.papp@mail.hu",
                    "2": "Papp Imre",
                    "3": "1976",
                    "4": "F",
                    "5": "1077 Budapest, Szolnoki út 8.",
                    "6": "Papós Tímea",
                    "7": "Pásztor Róbert"
                },
                {
                    "0": "ROBERTP",
                    "1": "ROBERTP@gmail.com",
                    "2": "Pásztor Róbert",
                    "3": "1972",
                    "4": "F",
                    "5": "5137 Jászkisér, Ady Endre út 27.",
                    "6": "Papp Imre",
                    "7": "Pataki Brigitta"
                },
                {
                    "0": "brigitta3",
                    "1": "brigitta.pataki@mail.hu",
                    "2": "Pataki Brigitta",
                    "3": "1991",
                    "4": "N",
                    "5": "2730 Albertirsa, Rendeki utca 21.",
                    "6": "Pásztor Róbert",
                    "7": "Patay Róbert"
                },
                {
                    "0": "robert2",
                    "1": "robert2@gmail.com",
                    "2": "Patay Róbert",
                    "3": "1977",
                    "4": "F",
                    "5": "2370 Dabas, Rákóczi utca 21.",
                    "6": "Pataki Brigitta",
                    "7": "Perlinger Éva"
                },
                {
                    "0": "eva2",
                    "1": "eva2@gmail.com",
                    "2": "Perlinger Éva",
                    "3": "1971",
                    "4": "N",
                    "5": "9653 Répcelak, Bécsi utca 82.",
                    "6": "Patay Róbert",
                    "7": "Pintér Zoltán"
                },
                {
                    "0": "ZOLTANP",
                    "1": "zoltán.pintér@mail.hu",
                    "2": "Pintér Zoltán",
                    "3": "1977",
                    "4": "F",
                    "5": "6050 Lajosmizse, Fő út 18.",
                    "6": "Perlinger Éva",
                    "7": "Pivarcsi Anett"
                },
                {
                    "0": "anett3",
                    "1": "anett.pivarcsi@mail.hu",
                    "2": "Pivarcsi Anett",
                    "3": "1967",
                    "4": "N",
                    "5": "1149 Budapest, Fő út 60.",
                    "6": "Pintér Zoltán",
                    "7": "Poprádi Kristóf"
                },
                {
                    "0": "kristof4",
                    "1": "kristof4@gmail.com",
                    "2": "Poprádi Kristóf",
                    "3": "1984",
                    "4": "F",
                    "5": "8220 Balatonalmádi, Mészáros utca 7.",
                    "6": "Pivarcsi Anett",
                    "7": "Pulai Zsolt"
                },
                {
                    "0": "zsolt1",
                    "1": "zsolt.pulai@mail.hu",
                    "2": "Pulai Zsolt",
                    "3": "1988",
                    "4": "F",
                    "5": "8391 Sármellék, Fő utca 60.",
                    "6": "Poprádi Kristóf",
                    "7": "Pusztai Zsuzsanna"
                },
                {
                    "0": "zsuzsa",
                    "1": "zsuzsanna@gmail.com",
                    "2": "Pusztai Zsuzsanna",
                    "3": "1980",
                    "4": "N",
                    "5": "6783 Ásotthalom, Badacsonyi utca 12.",
                    "6": "Pulai Zsolt",
                    "7": "Rab Sebestyén"
                },
                {
                    "0": "sebestyen",
                    "1": "sebestyen@gmail.com",
                    "2": "Rab Sebestyén",
                    "3": "1992",
                    "4": "F",
                    "5": "7130 Tolna, Központi telep 3.",
                    "6": "Pusztai Zsuzsanna",
                    "7": "Rácz Dániel"
                },
                {
                    "0": "daniel",
                    "1": "dániel.rácz@mail.hu",
                    "2": "Rácz Dániel",
                    "3": "1978",
                    "4": "F",
                    "5": "9181 Kimle, Szabadság tér 9.",
                    "6": "Rab Sebestyén",
                    "7": "Rácz Rajmond"
                },
                {
                    "0": "rajmond4",
                    "1": "rajmond.rácz@mail.hu",
                    "2": "Rácz Rajmond",
                    "3": "1993",
                    "4": "F",
                    "5": "9155 Lébény, Petőfi utca 1/2.",
                    "6": "Rácz Dániel",
                    "7": "Regős Annamária"
                },
                {
                    "0": "ANNAMARIAR",
                    "1": "ANNAMARIAR@gmail.com",
                    "2": "Regős Annamária",
                    "3": "1977",
                    "4": "N",
                    "5": "8283 Káptalantóti, Petőfi Sándor tér 1.",
                    "6": "Rácz Rajmond",
                    "7": "Sarodi Dóra"
                },
                {
                    "0": "dora3",
                    "1": "dóra.sarodi@mail.hu",
                    "2": "Sarodi Dóra",
                    "3": "1995",
                    "4": "N",
                    "5": "2855 Bokod, Fő út 18.",
                    "6": "Regős Annamária",
                    "7": "Simon Anikó"
                },
                {
                    "0": "ANIKOS",
                    "1": "ANIKOS@gmail.com",
                    "2": "Simon Anikó",
                    "3": "1988",
                    "4": "N",
                    "5": "5137 Jászkisér, Bécsi utca 82.",
                    "6": "Sarodi Dóra",
                    "7": "Simon Bernadett"
                },
                {
                    "0": "bernadett1",
                    "1": "bernadett1@gmail.com",
                    "2": "Simon Bernadett",
                    "3": "1984",
                    "4": "N",
                    "5": "2300 Ráckeve, Fő utca 108.",
                    "6": "Simon Anikó",
                    "7": "Sobják Dávid"
                },
                {
                    "0": "david1",
                    "1": "david1@gmail.com",
                    "2": "Sobják Dávid",
                    "3": "1970",
                    "4": "F",
                    "5": "5083 Kengyel, Arany János utca 3.",
                    "6": "Simon Bernadett",
                    "7": "Soós István"
                },
                {
                    "0": "istvan",
                    "1": "istvan@gmail.com",
                    "2": "Soós István",
                    "3": "1986",
                    "4": "F",
                    "5": "2370 Dabas, Kossuth utca 27.",
                    "6": "Sobják Dávid",
                    "7": "Szabó Julianna"
                },
                {
                    "0": "julianna4",
                    "1": "julianna4@gmail.com",
                    "2": "Szabó Julianna",
                    "3": "1990",
                    "4": "N",
                    "5": "6700 Szeged, Kossuth Lajos utca 6.",
                    "6": "Soós István",
                    "7": "Szalai Péter"
                },
                {
                    "0": "peter3",
                    "1": "peter3@gmail.com",
                    "2": "Szalai Péter",
                    "3": "1983",
                    "4": "F",
                    "5": "1155 Budapest, Arany János utca 3.",
                    "6": "Szabó Julianna",
                    "7": "Szalai Szilárd"
                },
                {
                    "0": "SZILARDS",
                    "1": "szilárd.szalai@mail.hu",
                    "2": "Szalai Szilárd",
                    "3": "1967",
                    "4": "F",
                    "5": "1077 Budapest, Fő út 18.",
                    "6": "Szalai Péter",
                    "7": "Szedlár Krisztina"
                },
                {
                    "0": "krisztina",
                    "1": "krisztina@gmail.com",
                    "2": "Szedlár Krisztina",
                    "3": "1979",
                    "4": "N",
                    "5": "6646 Tömörkény, Arany János utca 1.",
                    "6": "Szalai Szilárd",
                    "7": "Székely Brigitta"
                },
                {
                    "0": "brigitta",
                    "1": "brigitta.székely@mail.hu",
                    "2": "Székely Brigitta",
                    "3": "1978",
                    "4": "N",
                    "5": "2462 Martonvásár, Fő utca 47.",
                    "6": "Szedlár Krisztina",
                    "7": "Szekendi Beatrix"
                },
                {
                    "0": "BEATRIXS",
                    "1": "beatrix.szekendi@mail.hu",
                    "2": "Szekendi Beatrix",
                    "3": "1981",
                    "4": "N",
                    "5": "4060 Balmazújváros, Jászai tér 21.",
                    "6": "Székely Brigitta",
                    "7": "Szikszai Réka"
                },
                {
                    "0": "reka4",
                    "1": "réka.szikszai@mail.hu",
                    "2": "Szikszai Réka",
                    "3": "1969",
                    "4": "N",
                    "5": "8254 Kővágóörs, Templom utca 73.",
                    "6": "Szekendi Beatrix",
                    "7": "Szilágyi Mátyás"
                },
                {
                    "0": "MATYASS",
                    "1": "mátyás.szilágyi@mail.hu",
                    "2": "Szilágyi Mátyás",
                    "3": "1975",
                    "4": "F",
                    "5": "9023 Győr, Kossuth Lajos utca 6.",
                    "6": "Szikszai Réka",
                    "7": "Szirmai Renáta"
                },
                {
                    "0": "RENATAS",
                    "1": "RENATAS@gmail.com",
                    "2": "Szirmai Renáta",
                    "3": "1991",
                    "4": "N",
                    "5": "2053 Herceghalom, Kossuth utca 27.",
                    "6": "Szilágyi Mátyás",
                    "7": "Szöllősi Gábor"
                },
                {
                    "0": "GABORS",
                    "1": "GABORS@gmail.com",
                    "2": "Szöllősi Gábor",
                    "3": "1990",
                    "4": "F",
                    "5": "3630 Putnok, Kossuth utca 27.",
                    "6": "Szirmai Renáta",
                    "7": "Szomor Andrea"
                },
                {
                    "0": "andrea3",
                    "1": "andrea3@gmail.com",
                    "2": "Szomor Andrea",
                    "3": "1996",
                    "4": "N",
                    "5": "7960 Sellye, Bécsi utca 82.",
                    "6": "Szöllősi Gábor",
                    "7": "Szűcs Annamária"
                },
                {
                    "0": "annamaria1",
                    "1": "annamária.szűcs@mail.hu",
                    "2": "Szűcs Annamária",
                    "3": "1990",
                    "4": "N",
                    "5": "1191 Budapest, Rendeki utca 21.",
                    "6": "Szomor Andrea",
                    "7": "Szűcs Balázs"
                },
                {
                    "0": "balazs2",
                    "1": "balázs.szűcs@mail.hu",
                    "2": "Szűcs Balázs",
                    "3": "1984",
                    "4": "F",
                    "5": "3170 Szécsény, Szabadság utca 95.",
                    "6": "Szűcs Annamária",
                    "7": "Szűcs Norbert"
                },
                {
                    "0": "norbert",
                    "1": "norbert@gmail.com",
                    "2": "Szűcs Norbert",
                    "3": "1969",
                    "4": "F",
                    "5": "5071 Besenyszög, Győri utca 12.",
                    "6": "Szűcs Balázs",
                    "7": "Tankó Veronika"
                },
                {
                    "0": "veronika4",
                    "1": "veronika4@gmail.com",
                    "2": "Tankó Veronika",
                    "3": "1983",
                    "4": "N",
                    "5": "6412 Balotaszállás, Rendeki utca 21.",
                    "6": "Szűcs Norbert",
                    "7": "Tari Szilvia"
                },
                {
                    "0": "szilvia1",
                    "1": "szilvia.tari@mail.hu",
                    "2": "Tari Szilvia",
                    "3": "1971",
                    "4": "N",
                    "5": "6080 Szabadszállás, Bécsi utca 82.",
                    "6": "Tankó Veronika",
                    "7": "Tatár Nikoletta"
                },
                {
                    "0": "NIKOLETTAT",
                    "1": "nikoletta.tatár@mail.hu",
                    "2": "Tatár Nikoletta",
                    "3": "1997",
                    "4": "N",
                    "5": "1067 Budapest, Győri utca 12.",
                    "6": "Tari Szilvia",
                    "7": "Telek Gábor"
                },
                {
                    "0": "gabor4",
                    "1": "gábor.telek@mail.hu",
                    "2": "Telek Gábor",
                    "3": "1987",
                    "4": "F",
                    "5": "9071 Görbeháza, Fő út 169.",
                    "6": "Tatár Nikoletta",
                    "7": "Tömböly Dénes"
                },
                {
                    "0": "denes",
                    "1": "denes@gmail.com",
                    "2": "Tömböly Dénes",
                    "3": "1975",
                    "4": "F",
                    "5": "2400 Dunaújváros, Kossuth út 39.",
                    "6": "Telek Gábor",
                    "7": "Tornyos Andrea"
                },
                {
                    "0": "ANDREAT",
                    "1": "ANDREAT@gmail.com",
                    "2": "Tornyos Andrea",
                    "3": "1986",
                    "4": "N",
                    "5": "6131 Szank, Bécsi utca 82.",
                    "6": "Tömböly Dénes",
                    "7": "Tóth András"
                },
                {
                    "0": "andras2",
                    "1": "andrás.tóth@mail.hu",
                    "2": "Tóth András",
                    "3": "1997",
                    "4": "F",
                    "5": "4071 Egyek, Petőfi utca 30.",
                    "6": "Tornyos Andrea",
                    "7": "Tóth Anikó"
                },
                {
                    "0": "aniko",
                    "1": "aniko@gmail.com",
                    "2": "Tóth Anikó",
                    "3": "1973",
                    "4": "N",
                    "5": "2085 Pilisvörösvár, Deák Ferenc út 5.",
                    "6": "Tóth András",
                    "7": "Tóth Júlia"
                },
                {
                    "0": "julia",
                    "1": "julia@gmail.com",
                    "2": "Tóth Júlia",
                    "3": "1993",
                    "4": "N",
                    "5": "5310 Kisújszállás, Árpád utca 4.",
                    "6": "Tóth Anikó",
                    "7": "Tóth Roland"
                },
                {
                    "0": "roland",
                    "1": "roland@gmail.com",
                    "2": "Tóth Roland",
                    "3": "1968",
                    "4": "F",
                    "5": "2000 Szentendre, Fő út 169.",
                    "6": "Tóth Júlia",
                    "7": "Tóth Zoltán"
                },
                {
                    "0": "ZOLTANT",
                    "1": "zoltán.tóth@mail.hu",
                    "2": "Tóth Zoltán",
                    "3": "1985",
                    "4": "F",
                    "5": "4244 Újfehértó, Posta köz 2.",
                    "6": "Tóth Roland",
                    "7": "Turcsik Tünde"
                },
                {
                    "0": "tunde",
                    "1": "tunde@gmail.com",
                    "2": "Turcsik Tünde",
                    "3": "1974",
                    "4": "N",
                    "5": "7130 Tolna, Fő út 122.",
                    "6": "Tóth Zoltán",
                    "7": "Urbán Viktoria"
                },
                {
                    "0": "VIKTORIAU",
                    "1": "viktoria.urbán@mail.hu",
                    "2": "Urbán Viktoria",
                    "3": "1996",
                    "4": "N",
                    "5": "3860 Encs, Népboltsor  2.",
                    "6": "Turcsik Tünde",
                    "7": "Vajda József"
                },
                {
                    "0": "jozsef2",
                    "1": "józsef.vajda@mail.hu",
                    "2": "Vajda József",
                    "3": "1978",
                    "4": "F",
                    "5": "6700 Szeged, Baracsi László utca 14.",
                    "6": "Urbán Viktoria",
                    "7": "Vajda Zsuzsa"
                },
                {
                    "0": "ZSUZSAV",
                    "1": "zsuzsa.vajda@mail.hu",
                    "2": "Vajda Zsuzsa",
                    "3": "1976",
                    "4": "N",
                    "5": "6786 Ruzsa, Kossuth utca 77.",
                    "6": "Vajda József",
                    "7": "Varga István"
                },
                {
                    "0": "ISTVANV",
                    "1": "ISTVANV@gmail.com",
                    "2": "Varga István",
                    "3": "1989",
                    "4": "F",
                    "5": "6320 Solt, Hősök tere 11.",
                    "6": "Vajda Zsuzsa",
                    "7": "Varsányi Zsuzsa"
                },
                {
                    "0": "zsuzsa3",
                    "1": "zsuzsa.varsányi@mail.hu",
                    "2": "Varsányi Zsuzsa",
                    "3": "1979",
                    "4": "N",
                    "5": "8600 Siófok, Árpád utca 4.",
                    "6": "Varga István",
                    "7": "Vida Gabriella"
                },
                {
                    "0": "gabriella10",
                    "1": "gabriella10@gmail.com",
                    "2": "Vida Gabriella",
                    "3": "1969",
                    "4": "N",
                    "5": "2484 Agárd, Arany János utca 3.",
                    "6": "Varsányi Zsuzsa",
                    "7": "Vígh András"
                },
                {
                    "0": "andras3",
                    "1": "andrás.vígh@mail.hu",
                    "2": "Vígh András",
                    "3": "1971",
                    "4": "F",
                    "5": "1118 Budapest, Arany János utca 1.",
                    "6": "Vida Gabriella",
                    "7": "Viktor Éva"
                },
                {
                    "0": "EVAV",
                    "1": "EVAV@gmail.com",
                    "2": "Viktor Éva",
                    "3": "1980",
                    "4": "N",
                    "5": "6913 Csanádpalota, Arany János utca 3.",
                    "6": "Vígh András",
                    "7": "Vizi István"
                },
                {
                    "0": "istvan1",
                    "1": "istván.vizi@mail.hu",
                    "2": "Vizi István",
                    "3": "1997",
                    "4": "F",
                    "5": "7086 Ozora, Rákóczi utca 1.",
                    "6": "Viktor Éva",
                    "7": "Vörös Dániel"
                },
                {
                    "0": "dani",
                    "1": "daniel@gmail.com",
                    "2": "Vörös Dániel",
                    "3": "1986",
                    "4": "F",
                    "5": "7150 Bonyhád, Dózsa György u. 1.",
                    "6": "Vizi István",
                    "7": "Vukasinovity Bálint"
                },
                {
                    "0": "balint2",
                    "1": "balint2@gmail.com",
                    "2": "Vukasinovity Bálint",
                    "3": "1997",
                    "4": "F",
                    "5": "2330 Dunaharaszti, Béke utca 7.",
                    "6": "Vörös Dániel",
                    "7": "Zatykó Katalin"
                },
                {
                    "0": "kati",
                    "1": "katalin.zatykó@mail.hu",
                    "2": "Zatykó Katalin",
                    "3": "1995",
                    "4": "N",
                    "5": "7511 Ötvöskónyi, Kossuth Lajos utca 6.",
                    "6": "Vukasinovity Bálint",
                    "7": "Nincs"
                }
            ]
        },
        "text/html": [
            "<table>",
            "<tr><th>LOGIN</th><th>EMAIL</th><th>NEV</th><th>SZULEV</th><th>NEM</th><th>CIM</th><th>(No column name)</th><th>(No column name)</th></tr>",
            "<tr><td>david</td><td>david@gmail.com</td><td>Ambrus Dávid</td><td>1974</td><td>F</td><td>1149 Budapest, Fő út 18.</td><td>Nincs</td><td>Andor Ibolya</td></tr>",
            "<tr><td>IBOLYAA</td><td>ibolya.andor@mail.hu</td><td>Andor Ibolya</td><td>1983</td><td>N</td><td>9023 Győr, Posta köz 2.</td><td>Ambrus Dávid</td><td>Antal László</td></tr>",
            "<tr><td>LASZLOA</td><td>lászló.antal@mail.hu</td><td>Antal László</td><td>1969</td><td>F</td><td>2484 Agárd, Bécsi utca 82.</td><td>Andor Ibolya</td><td>Antal Tamás</td></tr>",
            "<tr><td>tamas</td><td>tamás.antal@mail.hu</td><td>Antal Tamás</td><td>1984</td><td>F</td><td>4440 Tiszavasvári, Posta köz 2.</td><td>Antal László</td><td>Back András</td></tr>",
            "<tr><td>andras4</td><td>andras4@gmail.com</td><td>Back András</td><td>1984</td><td>F</td><td>3783 Edelény, Fő út 169.</td><td>Antal Tamás</td><td>Bagi Beáta</td></tr>",
            "<tr><td>beata4</td><td>beáta.bagi@mail.hu</td><td>Bagi Beáta</td><td>1994</td><td>N</td><td>8477 Tüskevár, Felszabadulás utca 32.</td><td>Back András</td><td>Bagóczki Alexandra</td></tr>",
            "<tr><td>alexandra</td><td>alexandra.bagóczki@mail.hu</td><td>Bagóczki Alexandra</td><td>1992</td><td>N</td><td>2381 Táborfalva, Petőfi utca 1/2.</td><td>Bagi Beáta</td><td>Bajusz Bence</td></tr>",
            "<tr><td>BENCEB</td><td>bence.bajusz@mail.hu</td><td>Bajusz Bence</td><td>1973</td><td>F</td><td>8391 Sármellék, Fő utca 56.</td><td>Bagóczki Alexandra</td><td>Bakó Klaudia</td></tr>",
            "<tr><td>klaudia2</td><td>klaudia.bakó@mail.hu</td><td>Bakó Klaudia</td><td>1982</td><td>N</td><td>8254 Kővágóörs, Kossuth Lajos utca 6.</td><td>Bajusz Bence</td><td>Bakódy Balázs</td></tr>",
            "<tr><td>balazs3</td><td>balazs3@gmail.com</td><td>Bakódy Balázs</td><td>1986</td><td>F</td><td>2131 Göd, Arany János utca 1.</td><td>Bakó Klaudia</td><td>Balla Miklós</td></tr>",
            "<tr><td>MIKLOSB</td><td>miklós.balla@mail.hu</td><td>Balla Miklós</td><td>1979</td><td>F</td><td>4060 Balmazújváros, Szent István utca 2.</td><td>Bakódy Balázs</td><td>Balogh Eszter</td></tr>",
            "<tr><td>eszter2</td><td>eszter.balogh@mail.hu</td><td>Balogh Eszter</td><td>1998</td><td>N</td><td>6760 Kistelek, Kossuth utca 11.</td><td>Balla Miklós</td><td>Barabás Pál</td></tr>",
            "<tr><td>pal</td><td>pál.barabás@mail.hu</td><td>Barabás Pál</td><td>1968</td><td>F</td><td>1183 Budapest, Szolnoki út 8.</td><td>Balogh Eszter</td><td>Baráth Mária</td></tr>",
            "<tr><td>maria1</td><td>mária.baráth@mail.hu</td><td>Baráth Mária</td><td>1995</td><td>N</td><td>1047 Budapest, Posta köz 2.</td><td>Barabás Pál</td><td>Bárci Gusztáv</td></tr>",
            "<tr><td>gusztav</td><td>gusztav@gmail.com</td><td>Bárci Gusztáv</td><td>1967</td><td>F</td><td>3643 Dédestapolcsány, Endrődi Sándor utca 47.</td><td>Baráth Mária</td><td>Barkóci Ádám</td></tr>",
            "<tr><td>adam3</td><td>adam3@gmail.com</td><td>Barkóci Ádám</td><td>1970</td><td>F</td><td>3910 Tokaj, Dózsa György utca 37.</td><td>Bárci Gusztáv</td><td>Barna Debóra</td></tr>",
            "<tr><td>debora</td><td>debóra.barna@mail.hu</td><td>Barna Debóra</td><td>1976</td><td>N</td><td>1155 Budapest, Fő út 169.</td><td>Barkóci Ádám</td><td>Barna Zoltán</td></tr>",
            "<tr><td>zoltan4</td><td>zoltan4@gmail.com</td><td>Barna Zoltán</td><td>1986</td><td>F</td><td>8313 Balatongyörök, Jászai tér 21.</td><td>Barna Debóra</td><td>Baróti Attila</td></tr>",
            "<tr><td>attila4</td><td>attila.baróti@mail.hu</td><td>Baróti Attila</td><td>1975</td><td>F</td><td>7149 Báta, Arany János utca 3.</td><td>Barna Zoltán</td><td>Barta Zsuzsanna</td></tr>",
            "<tr><td>zsuzsanna</td><td>zsuzsanna.barta@mail.hu</td><td>Barta Zsuzsanna</td><td>1994</td><td>N</td><td>4172 Biharnagybajom, Dózsa György utca 37.</td><td>Baróti Attila</td><td>Berendi Péter</td></tr>",
            "<tr><td>PETERB</td><td>péter.berendi@mail.hu</td><td>Berendi Péter</td><td>1969</td><td>F</td><td>3980 Sátoraljaújhely, Vasút utca 4/10.</td><td>Barta Zsuzsanna</td><td>Béres Norbert</td></tr>",
            "<tr><td>norbert5</td><td>norbert5@gmail.com</td><td>Béres Norbert</td><td>1975</td><td>F</td><td>8640 Fonyód, Bajcsy-Zsilinszky utca 4.</td><td>Berendi Péter</td><td>Berta Dávid</td></tr>",
            "<tr><td>david4</td><td>david4@gmail.com</td><td>Berta Dávid</td><td>1990</td><td>F</td><td>3500 Miskolc, Balatoni út 12.</td><td>Béres Norbert</td><td>Bieniek Ádám</td></tr>",
            "<tr><td>adam4</td><td>ádám.bieniek@mail.hu</td><td>Bieniek Ádám</td><td>1976</td><td>F</td><td>8630 Balatonboglár, Juhászföldi út 1.</td><td>Berta Dávid</td><td>Bíró Ákos</td></tr>",
            "<tr><td>akos</td><td>ákos.bíró@mail.hu</td><td>Bíró Ákos</td><td>1982</td><td>F</td><td>9023 Győr, Kossuth Lajos utca 47/b.</td><td>Bieniek Ádám</td><td>Biró Alexander</td></tr>",
            "<tr><td>alexis</td><td>alexbiro@gmail.com</td><td>Biró Alexander</td><td>2000</td><td>F</td><td>6914 Pitvaros, Deák F. u. 38.</td><td>Bíró Ákos</td><td>Bíró Péter</td></tr>",
            "<tr><td>peter4</td><td>péter.bíró@mail.hu</td><td>Bíró Péter</td><td>1985</td><td>F</td><td>5137 Jászkisér, Rákóczi utca 67.</td><td>Biró Alexander</td><td>Bittmann Edit</td></tr>",
            "<tr><td>edit</td><td>edit.bittmann@mail.hu</td><td>Bittmann Edit</td><td>1984</td><td>N</td><td>6077 Orgovány, Fő utca 60.</td><td>Bíró Péter</td><td>Bodor Szabolcs</td></tr>",
            "<tr><td>szabolcs</td><td>szabolcs.bodor@mail.hu</td><td>Bodor Szabolcs</td><td>1990</td><td>F</td><td>6786 Ruzsa, Ady Endre út 27.</td><td>Bittmann Edit</td><td>Bori Krisztina</td></tr>",
            "<tr><td>krisztina1</td><td>krisztina.bori@mail.hu</td><td>Bori Krisztina</td><td>1969</td><td>N</td><td>2115 Vácszentlászló, Fő utca 47.</td><td>Bodor Szabolcs</td><td>Böröcz Anikó</td></tr>",
            "<tr><td>aniko4</td><td>aniko4@gmail.com</td><td>Böröcz Anikó</td><td>1978</td><td>N</td><td>2484 Agárd, Petőfi Sándor tér 1.</td><td>Bori Krisztina</td><td>Boros Vivien</td></tr>",
            "<tr><td>vivien3</td><td>vivien3@gmail.com</td><td>Boros Vivien</td><td>1991</td><td>N</td><td>2117 Isaszeg, Fő út 122.</td><td>Böröcz Anikó</td><td>Bosnyák Ilona</td></tr>",
            "<tr><td>ilona3</td><td>ilona3@gmail.com</td><td>Bosnyák Ilona</td><td>1990</td><td>N</td><td>2483 Gárdony, Posta köz 2.</td><td>Boros Vivien</td><td>Botka Mátyás</td></tr>",
            "<tr><td>matyas2</td><td>matyas2@gmail.com</td><td>Botka Mátyás</td><td>1972</td><td>F</td><td>2700 Cegléd, Kossuth Lajos utca 6.</td><td>Bosnyák Ilona</td><td>Bozsik Balázs</td></tr>",
            "<tr><td>balazs1</td><td>balázs.bozsik@mail.hu</td><td>Bozsik Balázs</td><td>1992</td><td>F</td><td>2300 Ráckeve, Bécsi utca 82.</td><td>Botka Mátyás</td><td>Bozsó Péter</td></tr>",
            "<tr><td>peter2</td><td>peter2@gmail.com</td><td>Bozsó Péter</td><td>1976</td><td>F</td><td>4800 Vásárosnamény, Zombori út 2/A</td><td>Bozsik Balázs</td><td>Bucskó Róza</td></tr>",
            "<tr><td>roza2</td><td>roza2@gmail.com</td><td>Bucskó Róza</td><td>1988</td><td>N</td><td>5661 Újkígyós, Arany János utca 3.</td><td>Bozsó Péter</td><td>Búza Imre</td></tr>",
            "<tr><td>imre</td><td>imre.búza@mail.hu</td><td>Búza Imre</td><td>1988</td><td>F</td><td>9181 Kimle, Petőfi Sándor tér 1.</td><td>Bucskó Róza</td><td>Csiger Bertalan</td></tr>",
            "<tr><td>bertalan</td><td>bertalan@gmail.com</td><td>Csiger Bertalan</td><td>1977</td><td>F</td><td>1192 Budapest, Fő út 169.</td><td>Búza Imre</td><td>Csóti Attila</td></tr>",
            "<tr><td>attila</td><td>attila@gmail.com</td><td>Csóti Attila</td><td>1979</td><td>F</td><td>3000 Hatvan, Bajcsy-Zsilinszky utca 4.</td><td>Csiger Bertalan</td><td>Czérna Krisztián</td></tr>",
            "<tr><td>krisztian4</td><td>krisztián.czérna@mail.hu</td><td>Czérna Krisztián</td><td>1970</td><td>F</td><td>1107 Budapest, Dózsa György utca 37.</td><td>Csóti Attila</td><td>Dániel Tibor</td></tr>",
            "<tr><td>tibor2</td><td>tibor2@gmail.com</td><td>Dániel Tibor</td><td>1985</td><td>F</td><td>6646 Tömörkény, Árpád utca 23.</td><td>Czérna Krisztián</td><td>Dunai Aladár</td></tr>",
            "<tr><td>aladar</td><td>aladár.dunai@mail.hu</td><td>Dunai Aladár</td><td>1980</td><td>F</td><td>5931 Nagyszénás, Árpád utca 23.</td><td>Dániel Tibor</td><td>Dusha Tímea</td></tr>",
            "<tr><td>timea2</td><td>tímea.dusha@mail.hu</td><td>Dusha Tímea</td><td>1975</td><td>N</td><td>5920 Csorvás, Kossuth utca 8.</td><td>Dunai Aladár</td><td>Endresz Bálint</td></tr>",
            "<tr><td>balu</td><td>bálint.endresz@mail.hu</td><td>Endresz Bálint</td><td>1976</td><td>F</td><td>3973 Cigánd, Fő út 169.</td><td>Dusha Tímea</td><td>Enyedi Éva</td></tr>",
            "<tr><td>eva</td><td>eva@gmail.com</td><td>Enyedi Éva</td><td>1967</td><td>N</td><td>4231 Bököny, Petőfi utca 8.</td><td>Endresz Bálint</td><td>Erdei András</td></tr>",
            "<tr><td>ANDRASE</td><td>ANDRASE@gmail.com</td><td>Erdei András</td><td>1997</td><td>F</td><td>5071 Besenyszög, Szolnoki út 8.</td><td>Enyedi Éva</td><td>Érsek Eszter</td></tr>",
            "<tr><td>ESZTERE</td><td>eszter.érsek@mail.hu</td><td>Érsek Eszter</td><td>1978</td><td>N</td><td>6785 Pusztamérges, Kossuth Lajos utca 6.</td><td>Erdei András</td><td>Farkas Béla</td></tr>",
            "<tr><td>BELAF</td><td>BELAF@gmail.com</td><td>Farkas Béla</td><td>1995</td><td>F</td><td>5530 Vésztő, Petőfi Sándor utca 3.</td><td>Érsek Eszter</td><td>Farkas László</td></tr>",
            "<tr><td>laszlo1</td><td>lászló.farkas@mail.hu</td><td>Farkas László</td><td>1967</td><td>F</td><td>5200 Törökszentmiklós, Rendeki utca 21.</td><td>Farkas Béla</td><td>Farkas Sándor</td></tr>",
            "<tr><td>sandor3</td><td>sándor.farkas@mail.hu</td><td>Farkas Sándor</td><td>1989</td><td>F</td><td>8640 Fonyód, Tanácsköztársaság tér 1.</td><td>Farkas László</td><td>Farkas Sára</td></tr>",
            "<tr><td>sara</td><td>sára.farkas@mail.hu</td><td>Farkas Sára</td><td>1973</td><td>N</td><td>5940 Tótkomlós, Felszabadulás utca 32.</td><td>Farkas Sándor</td><td>Fényes Tamás</td></tr>",
            "<tr><td>TAMASF</td><td>TAMASF@gmail.com</td><td>Fényes Tamás</td><td>1997</td><td>F</td><td>9023 Győr, Arany János utca 1.</td><td>Farkas Sára</td><td>Ferencz Roland</td></tr>",
            "<tr><td>roland1</td><td>roland.ferencz@mail.hu</td><td>Ferencz Roland</td><td>1985</td><td>F</td><td>2424 Előszállás, Fő út 169.</td><td>Fényes Tamás</td><td>Feró Valentin</td></tr>",
            "<tr><td>valentin</td><td>valentin.feró@mail.hu</td><td>Feró Valentin</td><td>1986</td><td>F</td><td>3895 Gönc, Búvár utca 4.</td><td>Ferencz Roland</td><td>Fő Nándor</td></tr>",
            "<tr><td>NANDORF</td><td>nándor.fő@mail.hu</td><td>Fő Nándor</td><td>1968</td><td>F</td><td>5920 Csorvás, Bécsi utca 82.</td><td>Feró Valentin</td><td>Fodor Zoltán</td></tr>",
            "<tr><td>zoltan</td><td>zoltán.fodor@mail.hu</td><td>Fodor Zoltán</td><td>1979</td><td>F</td><td>3441 Mezőkeresztes, Fő utca 23.</td><td>Fő Nándor</td><td>Foltényi Sebastián</td></tr>",
            "<tr><td>SEBASTIANF</td><td>SEBASTIANF@gmail.com</td><td>Foltényi Sebastián</td><td>1992</td><td>F</td><td>7960 Sellye, Grassalkovich út 10.</td><td>Fodor Zoltán</td><td>Frank Fruzsina</td></tr>",
            "<tr><td>fruzsina4</td><td>fruzsina4@gmail.com</td><td>Frank Fruzsina</td><td>1996</td><td>N</td><td>9700 Szombathely, Szabadság utca 95.</td><td>Foltényi Sebastián</td><td>Fülöp Eszter</td></tr>",
            "<tr><td>eszter4</td><td>eszter.fülöp@mail.hu</td><td>Fülöp Eszter</td><td>1993</td><td>N</td><td>3643 Dédestapolcsány, Kossuth Lajos utca 47/b.</td><td>Frank Fruzsina</td><td>Gergely József</td></tr>",
            "<tr><td>jozsef</td><td>jozsef@gmail.com</td><td>Gergely József</td><td>1985</td><td>F</td><td>6050 Lajosmizse, Fő út 18.</td><td>Fülöp Eszter</td><td>Giliga János</td></tr>",
            "<tr><td>JANOSG</td><td>JANOSG@gmail.com</td><td>Giliga János</td><td>1975</td><td>F</td><td>3300 Eger, Deák Ferenc út 5.</td><td>Gergely József</td><td>Gombos Tibor</td></tr>",
            "<tr><td>tibor</td><td>tibor.gombos@mail.hu</td><td>Gombos Tibor</td><td>1993</td><td>F</td><td>7100 Szekszárd, Kossuth utca 77.</td><td>Giliga János</td><td>Gondos Katalin</td></tr>",
            "<tr><td>kata</td><td>katalin.gondos@mail.hu</td><td>Gondos Katalin</td><td>1968</td><td>N</td><td>8237 Tihany, Kossuth Lajos utca 6.</td><td>Gombos Tibor</td><td>Gondos Miklós</td></tr>",
            "<tr><td>miklos2</td><td>miklos2@gmail.com</td><td>Gondos Miklós</td><td>1995</td><td>F</td><td>2100 Gödöllő, Árpád utca 23.</td><td>Gondos Katalin</td><td>Gulyás Attila</td></tr>",
            "<tr><td>attila1</td><td>attila.gulyás@mail.hu</td><td>Gulyás Attila</td><td>1982</td><td>F</td><td>3881 Abaújszántó, Szolnoki út 8.</td><td>Gondos Miklós</td><td>Gyárfás Krisztina</td></tr>",
            "<tr><td>KRISZTINAG</td><td>KRISZTINAG@gmail.com</td><td>Gyárfás Krisztina</td><td>1987</td><td>N</td><td>6762 Sándorfalva, Arany János utca 1.</td><td>Gulyás Attila</td><td>Győrffy Bence</td></tr>",
            "<tr><td>bence</td><td>bence@gmail.com</td><td>Győrffy Bence</td><td>1987</td><td>F</td><td>6900 Makó, Árpád utca 23.</td><td>Gyárfás Krisztina</td><td>Gyuris József</td></tr>",
            "<tr><td>JOZSEFG</td><td>józsef.gyuris@mail.hu</td><td>Gyuris József</td><td>1975</td><td>F</td><td>2660 Balassagyarmat, Petőfi utca 1/2.</td><td>Győrffy Bence</td><td>Hamvay-Kovács Anita</td></tr>",
            "<tr><td>anita</td><td>anita.hamvay-kovács@mail.hu</td><td>Hamvay-Kovács Anita</td><td>1971</td><td>N</td><td>7220 Sarkad, Táncsics utca 19.</td><td>Gyuris József</td><td>Harangozó János</td></tr>",
            "<tr><td>janos3</td><td>janos3@gmail.com</td><td>Harangozó János</td><td>1967</td><td>F</td><td>8700 Marcali, Petőfi Sándor tér 1.</td><td>Hamvay-Kovács Anita</td><td>Hartyánszky Ágnes</td></tr>",
            "<tr><td>agnes3</td><td>agnes3@gmail.com</td><td>Hartyánszky Ágnes</td><td>1967</td><td>N</td><td>6430 Bácsalmás, Posta köz 2.</td><td>Harangozó János</td><td>Hegedűs Norbert</td></tr>",
            "<tr><td>norbert2</td><td>norbert.hegedűs@mail.hu</td><td>Hegedűs Norbert</td><td>1991</td><td>F</td><td>2081 Piliscsaba, Rendeki utca 21.</td><td>Hartyánszky Ágnes</td><td>Hídasi Judit</td></tr>",
            "<tr><td>JUDITH</td><td>JUDITH@gmail.com</td><td>Hídasi Judit</td><td>1997</td><td>N</td><td>2100 Gödöllő, Fő út 169.</td><td>Hegedűs Norbert</td><td>Horváth Ágnes</td></tr>",
            "<tr><td>AGNESH</td><td>AGNESH@gmail.com</td><td>Horváth Ágnes</td><td>1981</td><td>N</td><td>8200 Veszprém, Rákóczi utca 21.</td><td>Hídasi Judit</td><td>Horváth Árpád</td></tr>",
            "<tr><td>ARPADH</td><td>árpád.horváth@mail.hu</td><td>Horváth Árpád</td><td>1990</td><td>F</td><td>7349 Szászvár, Dózsa György u. 1.</td><td>Horváth Ágnes</td><td>Horváth Bálint</td></tr>",
            "<tr><td>balint</td><td>balint@gmail.com</td><td>Horváth Bálint</td><td>1996</td><td>F</td><td>6646 Tömörkény, Endrődi Sándor utca 47.</td><td>Horváth Árpád</td><td>Horváth Katalin</td></tr>",
            "<tr><td>katalin</td><td>katalin.horváth@mail.hu</td><td>Horváth Katalin</td><td>1968</td><td>N</td><td>2424 Előszállás, Rákóczi út 200.</td><td>Horváth Bálint</td><td>Horváth Krisztina</td></tr>",
            "<tr><td>kriszti</td><td>kriszti@gmail.com</td><td>Horváth Krisztina</td><td>1978</td><td>N</td><td>6060 Tiszakécske, Árpád utca 4.</td><td>Horváth Katalin</td><td>Horváth Márk</td></tr>",
            "<tr><td>MARKH</td><td>márk.horváth@mail.hu</td><td>Horváth Márk</td><td>1997</td><td>F</td><td>4400 Nyíregyháza, Badacsonyi utca 12.</td><td>Horváth Krisztina</td><td>Horváth Nikolett</td></tr>",
            "<tr><td>nikolett3</td><td>nikolett3@gmail.com</td><td>Horváth Nikolett</td><td>1981</td><td>N</td><td>1072 Budapest, Arany János utca 1.</td><td>Horváth Márk</td><td>Iván Róbert</td></tr>",
            "<tr><td>ROBERTI</td><td>róbert.iván@mail.hu</td><td>Iván Róbert</td><td>1967</td><td>F</td><td>2377 Örkény, Petőfi Sándor utca 3.</td><td>Horváth Nikolett</td><td>Jakab Áron</td></tr>",
            "<tr><td>aron2</td><td>aron2@gmail.com</td><td>Jakab Áron</td><td>1971</td><td>F</td><td>7133 Fadd, Bajcsy-Zsilinszky utca 4.</td><td>Iván Róbert</td><td>Józsa Zsolt</td></tr>",
            "<tr><td>ZSOLTJ</td><td>ZSOLTJ@gmail.com</td><td>Józsa Zsolt</td><td>1983</td><td>F</td><td>8315 Gyenesdiás, Bajcsy-Zsilinszky utca 4.</td><td>Jakab Áron</td><td>Juhász Mihály</td></tr>",
            "<tr><td>MIHALYJ</td><td>mihály.juhász@mail.hu</td><td>Juhász Mihály</td><td>1979</td><td>F</td><td>6786 Ruzsa, Rákóczi utca 1.</td><td>Józsa Zsolt</td><td>Kalacsi Márton</td></tr>",
            "<tr><td>marton</td><td>marton@gmail.com</td><td>Kalacsi Márton</td><td>1989</td><td>F</td><td>5137 Jászkisér, Fő út 169.</td><td>Juhász Mihály</td><td>Karasz Sándor</td></tr>",
            "<tr><td>sandor</td><td>sandor@gmail.com</td><td>Karasz Sándor</td><td>1970</td><td>F</td><td>8283 Káptalantóti, Kossuth Lajos utca 1/a.</td><td>Kalacsi Márton</td><td>Kardos Renáta</td></tr>",
            "<tr><td>RENATAK</td><td>renáta.kardos@mail.hu</td><td>Kardos Renáta</td><td>1988</td><td>N</td><td>7086 Ozora, Bécsi utca 82.</td><td>Karasz Sándor</td><td>Kazy Tihamér</td></tr>",
            "<tr><td>tihamer</td><td>tihamér.kazy@mail.hu</td><td>Kazy Tihamér</td><td>1991</td><td>F</td><td>2370 Dabas, Fő utca 60.</td><td>Kardos Renáta</td><td>Kelemen Áron</td></tr>",
            "<tr><td>ARONK</td><td>áron.kelemen@mail.hu</td><td>Kelemen Áron</td><td>1989</td><td>F</td><td>8200 Veszprém, Petőfi utca 8.</td><td>Kazy Tihamér</td><td>Kerényi Beatrix</td></tr>",
            "<tr><td>BEATRIXK</td><td>beatrix.kerényi@mail.hu</td><td>Kerényi Beatrix</td><td>1972</td><td>N</td><td>7396 Magyarszék, Kossuth Lajos utca 47/b.</td><td>Kelemen Áron</td><td>Keresztúri Viktor</td></tr>",
            "<tr><td>VIKTORK</td><td>viktor.keresztúri@mail.hu</td><td>Keresztúri Viktor</td><td>1989</td><td>F</td><td>2532 Tokodaltáró, Nagy Lajos tér 4.</td><td>Kerényi Beatrix</td><td>Kertész Katalin</td></tr>",
            "<tr><td>katalin4</td><td>katalin4@gmail.com</td><td>Kertész Katalin</td><td>1986</td><td>N</td><td>2800 Tatabánya, Búvár utca 4.</td><td>Keresztúri Viktor</td><td>Keszler Dániel</td></tr>",
            "<tr><td>daniel1</td><td>dániel.keszler@mail.hu</td><td>Keszler Dániel</td><td>1969</td><td>F</td><td>3580 Tiszaújváros, Kossuth Lajos utca 6.</td><td>Kertész Katalin</td><td>Kispál Márk</td></tr>",
            "<tr><td>mark</td><td>márk.kispál@mail.hu</td><td>Kispál Márk</td><td>1996</td><td>F</td><td>1086 Budapest, Juhászföldi út 1.</td><td>Keszler Dániel</td><td>Kiss Ádám</td></tr>",
            "<tr><td>adam1</td><td>ádám.kiss@mail.hu</td><td>Kiss Ádám</td><td>1991</td><td>F</td><td>5630 Békés, Szolnoki út 8.</td><td>Kispál Márk</td><td>Kiss Andrea</td></tr>",
            "<tr><td>andrea</td><td>andrea.kiss@mail.hu</td><td>Kiss Andrea</td><td>1993</td><td>N</td><td>1113 Budapest, Petőfi Sándor utca 87.</td><td>Kiss Ádám</td><td>Kiss Anita</td></tr>",
            "<tr><td>kanita12</td><td>anita.kiss12@gmail.com</td><td>Kiss Anita</td><td>1975</td><td>N</td><td>2230 Gyömrő Fő tér 3.</td><td>Kiss Andrea</td><td>Kiss Lajos</td></tr>",
            "<tr><td>lajos</td><td>lajos.kiss@mail.hu</td><td>Kiss Lajos</td><td>1978</td><td>F</td><td>1077 Budapest, Dob utca 1</td><td>Kiss Anita</td><td>Kő Nikoletta</td></tr>",
            "<tr><td>nikoletta4</td><td>nikoletta4@gmail.com</td><td>Kő Nikoletta</td><td>1972</td><td>N</td><td>5537 Zsadány, Fő út 18.</td><td>Kiss Lajos</td><td>Komjáti András</td></tr>",
            "<tr><td>andras41</td><td>andras41@gmail.com</td><td>Komjáti András</td><td>1997</td><td>F</td><td>5065 Nagykörű, Kossuth út 24.</td><td>Kő Nikoletta</td><td>Kornseé Gyöngyi</td></tr>",
            "<tr><td>GYONGYIK</td><td>gyöngyi.kornseé@mail.hu</td><td>Kornseé Gyöngyi</td><td>1974</td><td>N</td><td>8800 Nagykanizsa, Fő út 60.</td><td>Komjáti András</td><td>Kovács Ágnes</td></tr>",
            "<tr><td>AGNESK</td><td>AGNESK@gmail.com</td><td>Kovács Ágnes</td><td>1988</td><td>N</td><td>1084 Budapest, Endrődi Sándor utca 47.</td><td>Kornseé Gyöngyi</td><td>Kovács Bernadett</td></tr>",
            "<tr><td>bernadett2</td><td>bernadett.kovács@mail.hu</td><td>Kovács Bernadett</td><td>1996</td><td>N</td><td>4200 Hajdúszoboszló, Fő út 122.</td><td>Kovács Ágnes</td><td>Kovács Katalin</td></tr>",
            "<tr><td>katka</td><td>katalin.kovács@mail.hu</td><td>Kovács Katalin</td><td>1975</td><td>N</td><td>8254 Kővágóörs, Petőfi utca 22.</td><td>Kovács Bernadett</td><td>Köves Gábor</td></tr>",
            "<tr><td>gabor1</td><td>gabor1@gmail.com</td><td>Köves Gábor</td><td>1973</td><td>F</td><td>6762 Sándorfalva, Árpád utca 23.</td><td>Kovács Katalin</td><td>Koza Máté</td></tr>",
            "<tr><td>MATEK</td><td>máté.koza@mail.hu</td><td>Koza Máté</td><td>1997</td><td>F</td><td>1011 Budapest, Központi telep 3.</td><td>Köves Gábor</td><td>Kozma Péter</td></tr>",
            "<tr><td>peter1</td><td>peter1@gmail.com</td><td>Kozma Péter</td><td>1976</td><td>F</td><td>6913 Csanádpalota, Központi telep 3.</td><td>Koza Máté</td><td>Kuruc Emese</td></tr>",
            "<tr><td>emese</td><td>emese.kuruc@mail.hu</td><td>Kuruc Emese</td><td>1989</td><td>N</td><td>6700 Szeged, Rákóczi utca 67.</td><td>Kozma Péter</td><td>Lengyel Ágnes</td></tr>",
            "<tr><td>agnes</td><td>agnes@gmail.com</td><td>Lengyel Ágnes</td><td>1979</td><td>N</td><td>5200 Törökszentmiklós, Deák Ferenc út 5.</td><td>Kuruc Emese</td><td>Lukács Kornél</td></tr>",
            "<tr><td>kornel4</td><td>kornél.lukács@mail.hu</td><td>Lukács Kornél</td><td>1975</td><td>F</td><td>2053 Herceghalom, Bécsi utca 82.</td><td>Lengyel Ágnes</td><td>Maródi Andrea</td></tr>",
            "<tr><td>andi</td><td>andrea.maródi@mail.hu</td><td>Maródi Andrea</td><td>1968</td><td>N</td><td>5465 Cserkeszőlő, Árpád utca 4.</td><td>Lukács Kornél</td><td>Miklós Szabolcs</td></tr>",
            "<tr><td>SZABOLCSM</td><td>szabolcs.miklós@mail.hu</td><td>Miklós Szabolcs</td><td>1980</td><td>F</td><td>1102 Budapest, Fő út 169.</td><td>Maródi Andrea</td><td>Miklós Tamara</td></tr>",
            "<tr><td>tamara2</td><td>tamara.miklós@mail.hu</td><td>Miklós Tamara</td><td>1980</td><td>N</td><td>3910 Tokaj, Kossuth út 39.</td><td>Miklós Szabolcs</td><td>Mile Norbert</td></tr>",
            "<tr><td>norbert4</td><td>norbert4@gmail.com</td><td>Mile Norbert</td><td>1983</td><td>F</td><td>3973 Cigánd, Bajcsy-Zsilinszky utca 4.</td><td>Miklós Tamara</td><td>Mogyródi Krisztián</td></tr>",
            "<tr><td>KRISZTIANM</td><td>KRISZTIANM@gmail.com</td><td>Mogyródi Krisztián</td><td>1968</td><td>F</td><td>9155 Lébény, Jászai tér 21.</td><td>Mile Norbert</td><td>Mohos Mónika</td></tr>",
            "<tr><td>MONIKAM</td><td>mónika.mohos@mail.hu</td><td>Mohos Mónika</td><td>1974</td><td>N</td><td>2241 Sülysáp, Baracsi László utca 14.</td><td>Mogyródi Krisztián</td><td>Molnár András</td></tr>",
            "<tr><td>andras21</td><td>andrás.molnár@mail.hu</td><td>Molnár András</td><td>1977</td><td>F</td><td>7900 Szigetvár, Rákóczi utca 67.</td><td>Mohos Mónika</td><td>Molnár Bálint</td></tr>",
            "<tr><td>balint1</td><td>balint1@gmail.com</td><td>Molnár Bálint</td><td>1989</td><td>F</td><td>9181 Kimle, Fő út 169.</td><td>Molnár András</td><td>Molnár Eszter</td></tr>",
            "<tr><td>eszter</td><td>eszter.molnár@mail.hu</td><td>Molnár Eszter</td><td>1987</td><td>N</td><td>6800 Hódmezővásárhely, Fő út 77.</td><td>Molnár Bálint</td><td>Molnár Zsófi</td></tr>",
            "<tr><td>zsofi1</td><td>zsofi1@gmail.com</td><td>Molnár Zsófi</td><td>1983</td><td>N</td><td>2730 Albertirsa, Árpád utca 23.</td><td>Molnár Eszter</td><td>Mór Ottó</td></tr>",
            "<tr><td>desdemona</td><td>mor.otto@mail.hu</td><td>Mór Ottó</td><td>1968</td><td>F</td><td>9200 Mosonmagyaróvár Fő u. 12.</td><td>Molnár Zsófi</td><td>Móra László</td></tr>",
            "<tr><td>laszlo2</td><td>lászló.móra@mail.hu</td><td>Móra László</td><td>1975</td><td>F</td><td>9970 Szentgotthárd, Petőfi utca 1/2.</td><td>Mór Ottó</td><td>Móricz Árpád</td></tr>",
            "<tr><td>ARPADM</td><td>árpád.móricz@mail.hu</td><td>Móricz Árpád</td><td>1986</td><td>F</td><td>3910 Tokaj, Rákóczi utca 67.</td><td>Móra László</td><td>Nádudvari Henrik</td></tr>",
            "<tr><td>henrik3</td><td>henrik.nádudvari@mail.hu</td><td>Nádudvari Henrik</td><td>1986</td><td>F</td><td>1077 Budapest, Tanácsköztársaság tér 1.</td><td>Móricz Árpád</td><td>Nagy András</td></tr>",
            "<tr><td>ANDRASN</td><td>andrás.nagy@mail.hu</td><td>Nagy András</td><td>1980</td><td>F</td><td>6500 Baja, Fő út 169.</td><td>Nádudvari Henrik</td><td>Nagy Gabriella</td></tr>",
            "<tr><td>gabriella1</td><td>gabriella1@gmail.com</td><td>Nagy Gabriella</td><td>1982</td><td>N</td><td>1077 Budapest, Dob utca 1</td><td>Nagy András</td><td>Nagy Júlia</td></tr>",
            "<tr><td>julia4</td><td>julia4@gmail.com</td><td>Nagy Júlia</td><td>1985</td><td>N</td><td>7000 Sárbogárd, Jászai tér 21.</td><td>Nagy Gabriella</td><td>Nagy László</td></tr>",
            "<tr><td>LASZLON</td><td>lászló.nagy@mail.hu</td><td>Nagy László</td><td>1969</td><td>F</td><td>1173 Budapest, Jászai tér 21.</td><td>Nagy Júlia</td><td>Nagy Péter</td></tr>",
            "<tr><td>melissza</td><td>nagy_peter@indamail.hu</td><td>Nagy Péter</td><td>1998</td><td>F</td><td>6800 Hódmezővásárhely, Oldalkosát u. 1.</td><td>Nagy László</td><td>Nagy Sándor</td></tr>",
            "<tr><td>sandor4</td><td>sandor4@gmail.com</td><td>Nagy Sándor</td><td>1997</td><td>F</td><td>4600 Kisvárda, Fő utca 47.</td><td>Nagy Péter</td><td>Nagymihály Csongor</td></tr>",
            "<tr><td>csongor3</td><td>csongor.nagymihály@mail.hu</td><td>Nagymihály Csongor</td><td>1984</td><td>F</td><td>9181 Kimle, Deák Ferenc út 5.</td><td>Nagy Sándor</td><td>Nagymihály Lajos</td></tr>",
            "<tr><td>lala</td><td>lajos.nagymihály@mail.hu</td><td>Nagymihály Lajos</td><td>1997</td><td>F</td><td>8638 Balatonlelle, Rákóczi út 200.</td><td>Nagymihály Csongor</td><td>Neizer Andrea</td></tr>",
            "<tr><td>andrea4</td><td>andrea4@gmail.com</td><td>Neizer Andrea</td><td>1981</td><td>N</td><td>1124 Budapest, Kiss u. 8.</td><td>Nagymihály Lajos</td><td>Nyíri Georgij</td></tr>",
            "<tr><td>georgij</td><td>georgij.nyíri@mail.hu</td><td>Nyíri Georgij</td><td>1983</td><td>F</td><td>8391 Sármellék, Grassalkovich út 10.</td><td>Neizer Andrea</td><td>Opra Attila</td></tr>",
            "<tr><td>ATTILAO</td><td>ATTILAO@gmail.com</td><td>Opra Attila</td><td>1995</td><td>F</td><td>8283 Káptalantóti, Rákóczi út 200.</td><td>Nyíri Georgij</td><td>Orbán Bernadett</td></tr>",
            "<tr><td>BERNADETTO</td><td>bernadett.orbán@mail.hu</td><td>Orbán Bernadett</td><td>1987</td><td>N</td><td>5085 Rákóczifalva, Arany János utca 1.</td><td>Opra Attila</td><td>Orosz Ferenc</td></tr>",
            "<tr><td>ferenc1</td><td>ferenc.orosz@mail.hu</td><td>Orosz Ferenc</td><td>1983</td><td>F</td><td>5061 Tiszasüly, Arany János utca 3.</td><td>Orbán Bernadett</td><td>Oroszi György</td></tr>",
            "<tr><td>GYORGYO</td><td>GYORGYO@gmail.com</td><td>Oroszi György</td><td>1980</td><td>F</td><td>7220 Sarkad, Dózsa György u. 1.</td><td>Orosz Ferenc</td><td>Ötvös Árpád</td></tr>",
            "<tr><td>arpad2</td><td>árpád.ötvös@mail.hu</td><td>Ötvös Árpád</td><td>1990</td><td>F</td><td>2600 Vác, Padragi út 158.</td><td>Oroszi György</td><td>Palágyi Polla</td></tr>",
            "<tr><td>polla</td><td>polla@gmail.com</td><td>Palágyi Polla</td><td>1994</td><td>N</td><td>2484 Agárd, Fő út 18.</td><td>Ötvös Árpád</td><td>Pálinkás János</td></tr>",
            "<tr><td>JANOSP</td><td>JANOSP@gmail.com</td><td>Pálinkás János</td><td>1984</td><td>F</td><td>5920 Csorvás, Padragi út 158.</td><td>Palágyi Polla</td><td>Papós Tímea</td></tr>",
            "<tr><td>timea</td><td>timea@gmail.com</td><td>Papós Tímea</td><td>1996</td><td>N</td><td>1035 Budapest,  Kossuth út 77.</td><td>Pálinkás János</td><td>Papp Imre</td></tr>",
            "<tr><td>imre1</td><td>imre.papp@mail.hu</td><td>Papp Imre</td><td>1976</td><td>F</td><td>1077 Budapest, Szolnoki út 8.</td><td>Papós Tímea</td><td>Pásztor Róbert</td></tr>",
            "<tr><td>ROBERTP</td><td>ROBERTP@gmail.com</td><td>Pásztor Róbert</td><td>1972</td><td>F</td><td>5137 Jászkisér, Ady Endre út 27.</td><td>Papp Imre</td><td>Pataki Brigitta</td></tr>",
            "<tr><td>brigitta3</td><td>brigitta.pataki@mail.hu</td><td>Pataki Brigitta</td><td>1991</td><td>N</td><td>2730 Albertirsa, Rendeki utca 21.</td><td>Pásztor Róbert</td><td>Patay Róbert</td></tr>",
            "<tr><td>robert2</td><td>robert2@gmail.com</td><td>Patay Róbert</td><td>1977</td><td>F</td><td>2370 Dabas, Rákóczi utca 21.</td><td>Pataki Brigitta</td><td>Perlinger Éva</td></tr>",
            "<tr><td>eva2</td><td>eva2@gmail.com</td><td>Perlinger Éva</td><td>1971</td><td>N</td><td>9653 Répcelak, Bécsi utca 82.</td><td>Patay Róbert</td><td>Pintér Zoltán</td></tr>",
            "<tr><td>ZOLTANP</td><td>zoltán.pintér@mail.hu</td><td>Pintér Zoltán</td><td>1977</td><td>F</td><td>6050 Lajosmizse, Fő út 18.</td><td>Perlinger Éva</td><td>Pivarcsi Anett</td></tr>",
            "<tr><td>anett3</td><td>anett.pivarcsi@mail.hu</td><td>Pivarcsi Anett</td><td>1967</td><td>N</td><td>1149 Budapest, Fő út 60.</td><td>Pintér Zoltán</td><td>Poprádi Kristóf</td></tr>",
            "<tr><td>kristof4</td><td>kristof4@gmail.com</td><td>Poprádi Kristóf</td><td>1984</td><td>F</td><td>8220 Balatonalmádi, Mészáros utca 7.</td><td>Pivarcsi Anett</td><td>Pulai Zsolt</td></tr>",
            "<tr><td>zsolt1</td><td>zsolt.pulai@mail.hu</td><td>Pulai Zsolt</td><td>1988</td><td>F</td><td>8391 Sármellék, Fő utca 60.</td><td>Poprádi Kristóf</td><td>Pusztai Zsuzsanna</td></tr>",
            "<tr><td>zsuzsa</td><td>zsuzsanna@gmail.com</td><td>Pusztai Zsuzsanna</td><td>1980</td><td>N</td><td>6783 Ásotthalom, Badacsonyi utca 12.</td><td>Pulai Zsolt</td><td>Rab Sebestyén</td></tr>",
            "<tr><td>sebestyen</td><td>sebestyen@gmail.com</td><td>Rab Sebestyén</td><td>1992</td><td>F</td><td>7130 Tolna, Központi telep 3.</td><td>Pusztai Zsuzsanna</td><td>Rácz Dániel</td></tr>",
            "<tr><td>daniel</td><td>dániel.rácz@mail.hu</td><td>Rácz Dániel</td><td>1978</td><td>F</td><td>9181 Kimle, Szabadság tér 9.</td><td>Rab Sebestyén</td><td>Rácz Rajmond</td></tr>",
            "<tr><td>rajmond4</td><td>rajmond.rácz@mail.hu</td><td>Rácz Rajmond</td><td>1993</td><td>F</td><td>9155 Lébény, Petőfi utca 1/2.</td><td>Rácz Dániel</td><td>Regős Annamária</td></tr>",
            "<tr><td>ANNAMARIAR</td><td>ANNAMARIAR@gmail.com</td><td>Regős Annamária</td><td>1977</td><td>N</td><td>8283 Káptalantóti, Petőfi Sándor tér 1.</td><td>Rácz Rajmond</td><td>Sarodi Dóra</td></tr>",
            "<tr><td>dora3</td><td>dóra.sarodi@mail.hu</td><td>Sarodi Dóra</td><td>1995</td><td>N</td><td>2855 Bokod, Fő út 18.</td><td>Regős Annamária</td><td>Simon Anikó</td></tr>",
            "<tr><td>ANIKOS</td><td>ANIKOS@gmail.com</td><td>Simon Anikó</td><td>1988</td><td>N</td><td>5137 Jászkisér, Bécsi utca 82.</td><td>Sarodi Dóra</td><td>Simon Bernadett</td></tr>",
            "<tr><td>bernadett1</td><td>bernadett1@gmail.com</td><td>Simon Bernadett</td><td>1984</td><td>N</td><td>2300 Ráckeve, Fő utca 108.</td><td>Simon Anikó</td><td>Sobják Dávid</td></tr>",
            "<tr><td>david1</td><td>david1@gmail.com</td><td>Sobják Dávid</td><td>1970</td><td>F</td><td>5083 Kengyel, Arany János utca 3.</td><td>Simon Bernadett</td><td>Soós István</td></tr>",
            "<tr><td>istvan</td><td>istvan@gmail.com</td><td>Soós István</td><td>1986</td><td>F</td><td>2370 Dabas, Kossuth utca 27.</td><td>Sobják Dávid</td><td>Szabó Julianna</td></tr>",
            "<tr><td>julianna4</td><td>julianna4@gmail.com</td><td>Szabó Julianna</td><td>1990</td><td>N</td><td>6700 Szeged, Kossuth Lajos utca 6.</td><td>Soós István</td><td>Szalai Péter</td></tr>",
            "<tr><td>peter3</td><td>peter3@gmail.com</td><td>Szalai Péter</td><td>1983</td><td>F</td><td>1155 Budapest, Arany János utca 3.</td><td>Szabó Julianna</td><td>Szalai Szilárd</td></tr>",
            "<tr><td>SZILARDS</td><td>szilárd.szalai@mail.hu</td><td>Szalai Szilárd</td><td>1967</td><td>F</td><td>1077 Budapest, Fő út 18.</td><td>Szalai Péter</td><td>Szedlár Krisztina</td></tr>",
            "<tr><td>krisztina</td><td>krisztina@gmail.com</td><td>Szedlár Krisztina</td><td>1979</td><td>N</td><td>6646 Tömörkény, Arany János utca 1.</td><td>Szalai Szilárd</td><td>Székely Brigitta</td></tr>",
            "<tr><td>brigitta</td><td>brigitta.székely@mail.hu</td><td>Székely Brigitta</td><td>1978</td><td>N</td><td>2462 Martonvásár, Fő utca 47.</td><td>Szedlár Krisztina</td><td>Szekendi Beatrix</td></tr>",
            "<tr><td>BEATRIXS</td><td>beatrix.szekendi@mail.hu</td><td>Szekendi Beatrix</td><td>1981</td><td>N</td><td>4060 Balmazújváros, Jászai tér 21.</td><td>Székely Brigitta</td><td>Szikszai Réka</td></tr>",
            "<tr><td>reka4</td><td>réka.szikszai@mail.hu</td><td>Szikszai Réka</td><td>1969</td><td>N</td><td>8254 Kővágóörs, Templom utca 73.</td><td>Szekendi Beatrix</td><td>Szilágyi Mátyás</td></tr>",
            "<tr><td>MATYASS</td><td>mátyás.szilágyi@mail.hu</td><td>Szilágyi Mátyás</td><td>1975</td><td>F</td><td>9023 Győr, Kossuth Lajos utca 6.</td><td>Szikszai Réka</td><td>Szirmai Renáta</td></tr>",
            "<tr><td>RENATAS</td><td>RENATAS@gmail.com</td><td>Szirmai Renáta</td><td>1991</td><td>N</td><td>2053 Herceghalom, Kossuth utca 27.</td><td>Szilágyi Mátyás</td><td>Szöllősi Gábor</td></tr>",
            "<tr><td>GABORS</td><td>GABORS@gmail.com</td><td>Szöllősi Gábor</td><td>1990</td><td>F</td><td>3630 Putnok, Kossuth utca 27.</td><td>Szirmai Renáta</td><td>Szomor Andrea</td></tr>",
            "<tr><td>andrea3</td><td>andrea3@gmail.com</td><td>Szomor Andrea</td><td>1996</td><td>N</td><td>7960 Sellye, Bécsi utca 82.</td><td>Szöllősi Gábor</td><td>Szűcs Annamária</td></tr>",
            "<tr><td>annamaria1</td><td>annamária.szűcs@mail.hu</td><td>Szűcs Annamária</td><td>1990</td><td>N</td><td>1191 Budapest, Rendeki utca 21.</td><td>Szomor Andrea</td><td>Szűcs Balázs</td></tr>",
            "<tr><td>balazs2</td><td>balázs.szűcs@mail.hu</td><td>Szűcs Balázs</td><td>1984</td><td>F</td><td>3170 Szécsény, Szabadság utca 95.</td><td>Szűcs Annamária</td><td>Szűcs Norbert</td></tr>",
            "<tr><td>norbert</td><td>norbert@gmail.com</td><td>Szűcs Norbert</td><td>1969</td><td>F</td><td>5071 Besenyszög, Győri utca 12.</td><td>Szűcs Balázs</td><td>Tankó Veronika</td></tr>",
            "<tr><td>veronika4</td><td>veronika4@gmail.com</td><td>Tankó Veronika</td><td>1983</td><td>N</td><td>6412 Balotaszállás, Rendeki utca 21.</td><td>Szűcs Norbert</td><td>Tari Szilvia</td></tr>",
            "<tr><td>szilvia1</td><td>szilvia.tari@mail.hu</td><td>Tari Szilvia</td><td>1971</td><td>N</td><td>6080 Szabadszállás, Bécsi utca 82.</td><td>Tankó Veronika</td><td>Tatár Nikoletta</td></tr>",
            "<tr><td>NIKOLETTAT</td><td>nikoletta.tatár@mail.hu</td><td>Tatár Nikoletta</td><td>1997</td><td>N</td><td>1067 Budapest, Győri utca 12.</td><td>Tari Szilvia</td><td>Telek Gábor</td></tr>",
            "<tr><td>gabor4</td><td>gábor.telek@mail.hu</td><td>Telek Gábor</td><td>1987</td><td>F</td><td>9071 Görbeháza, Fő út 169.</td><td>Tatár Nikoletta</td><td>Tömböly Dénes</td></tr>",
            "<tr><td>denes</td><td>denes@gmail.com</td><td>Tömböly Dénes</td><td>1975</td><td>F</td><td>2400 Dunaújváros, Kossuth út 39.</td><td>Telek Gábor</td><td>Tornyos Andrea</td></tr>",
            "<tr><td>ANDREAT</td><td>ANDREAT@gmail.com</td><td>Tornyos Andrea</td><td>1986</td><td>N</td><td>6131 Szank, Bécsi utca 82.</td><td>Tömböly Dénes</td><td>Tóth András</td></tr>",
            "<tr><td>andras2</td><td>andrás.tóth@mail.hu</td><td>Tóth András</td><td>1997</td><td>F</td><td>4071 Egyek, Petőfi utca 30.</td><td>Tornyos Andrea</td><td>Tóth Anikó</td></tr>",
            "<tr><td>aniko</td><td>aniko@gmail.com</td><td>Tóth Anikó</td><td>1973</td><td>N</td><td>2085 Pilisvörösvár, Deák Ferenc út 5.</td><td>Tóth András</td><td>Tóth Júlia</td></tr>",
            "<tr><td>julia</td><td>julia@gmail.com</td><td>Tóth Júlia</td><td>1993</td><td>N</td><td>5310 Kisújszállás, Árpád utca 4.</td><td>Tóth Anikó</td><td>Tóth Roland</td></tr>",
            "<tr><td>roland</td><td>roland@gmail.com</td><td>Tóth Roland</td><td>1968</td><td>F</td><td>2000 Szentendre, Fő út 169.</td><td>Tóth Júlia</td><td>Tóth Zoltán</td></tr>",
            "<tr><td>ZOLTANT</td><td>zoltán.tóth@mail.hu</td><td>Tóth Zoltán</td><td>1985</td><td>F</td><td>4244 Újfehértó, Posta köz 2.</td><td>Tóth Roland</td><td>Turcsik Tünde</td></tr>",
            "<tr><td>tunde</td><td>tunde@gmail.com</td><td>Turcsik Tünde</td><td>1974</td><td>N</td><td>7130 Tolna, Fő út 122.</td><td>Tóth Zoltán</td><td>Urbán Viktoria</td></tr>",
            "<tr><td>VIKTORIAU</td><td>viktoria.urbán@mail.hu</td><td>Urbán Viktoria</td><td>1996</td><td>N</td><td>3860 Encs, Népboltsor  2.</td><td>Turcsik Tünde</td><td>Vajda József</td></tr>",
            "<tr><td>jozsef2</td><td>józsef.vajda@mail.hu</td><td>Vajda József</td><td>1978</td><td>F</td><td>6700 Szeged, Baracsi László utca 14.</td><td>Urbán Viktoria</td><td>Vajda Zsuzsa</td></tr>",
            "<tr><td>ZSUZSAV</td><td>zsuzsa.vajda@mail.hu</td><td>Vajda Zsuzsa</td><td>1976</td><td>N</td><td>6786 Ruzsa, Kossuth utca 77.</td><td>Vajda József</td><td>Varga István</td></tr>",
            "<tr><td>ISTVANV</td><td>ISTVANV@gmail.com</td><td>Varga István</td><td>1989</td><td>F</td><td>6320 Solt, Hősök tere 11.</td><td>Vajda Zsuzsa</td><td>Varsányi Zsuzsa</td></tr>",
            "<tr><td>zsuzsa3</td><td>zsuzsa.varsányi@mail.hu</td><td>Varsányi Zsuzsa</td><td>1979</td><td>N</td><td>8600 Siófok, Árpád utca 4.</td><td>Varga István</td><td>Vida Gabriella</td></tr>",
            "<tr><td>gabriella10</td><td>gabriella10@gmail.com</td><td>Vida Gabriella</td><td>1969</td><td>N</td><td>2484 Agárd, Arany János utca 3.</td><td>Varsányi Zsuzsa</td><td>Vígh András</td></tr>",
            "<tr><td>andras3</td><td>andrás.vígh@mail.hu</td><td>Vígh András</td><td>1971</td><td>F</td><td>1118 Budapest, Arany János utca 1.</td><td>Vida Gabriella</td><td>Viktor Éva</td></tr>",
            "<tr><td>EVAV</td><td>EVAV@gmail.com</td><td>Viktor Éva</td><td>1980</td><td>N</td><td>6913 Csanádpalota, Arany János utca 3.</td><td>Vígh András</td><td>Vizi István</td></tr>",
            "<tr><td>istvan1</td><td>istván.vizi@mail.hu</td><td>Vizi István</td><td>1997</td><td>F</td><td>7086 Ozora, Rákóczi utca 1.</td><td>Viktor Éva</td><td>Vörös Dániel</td></tr>",
            "<tr><td>dani</td><td>daniel@gmail.com</td><td>Vörös Dániel</td><td>1986</td><td>F</td><td>7150 Bonyhád, Dózsa György u. 1.</td><td>Vizi István</td><td>Vukasinovity Bálint</td></tr>",
            "<tr><td>balint2</td><td>balint2@gmail.com</td><td>Vukasinovity Bálint</td><td>1997</td><td>F</td><td>2330 Dunaharaszti, Béke utca 7.</td><td>Vörös Dániel</td><td>Zatykó Katalin</td></tr>",
            "<tr><td>kati</td><td>katalin.zatykó@mail.hu</td><td>Zatykó Katalin</td><td>1995</td><td>N</td><td>7511 Ötvöskónyi, Kossuth Lajos utca 6.</td><td>Vukasinovity Bálint</td><td>Nincs</td></tr>",
            "</table>"
        ]
    }
}
],
            "execution_count": 10
        },
        {
            "cell_type": "markdown",
            "source": [
                "7\\. Készítsünk lekérdezést, amely megmutatja, hogy melyik  \n",
                "termékkategóriába hány termék tartozik. A lista a kategória nevét  \n",
                "és a darabszámot jelenítse meg. A lista ne tartalmazzon duplikált sorokat.  \n",
                "A feladatot partíciók segítségével oldjuk meg!"
            ],
            "metadata": {
                "azdata_cell_guid": "9593632a-54ea-4c03-825e-9a6ba69a1528"
            },
            "attachments": {}
        },
        {
            "cell_type": "code",
            "source": [
                ""
            ],
            "metadata": {
                "azdata_cell_guid": "5416cc87-dab6-4017-a305-5cb178345dd9"
            },
            "outputs": [],
            "execution_count": null
        },
        {
            "cell_type": "markdown",
            "source": [
                "8\\. Készítsünk listát a rendelési tételekről.  \n",
                "Az egyes rendelési tételeket termékenként soroljuk be 4 osztályba a rendelés mennyisége alapján.\n",
                "\n",
                "Jelenítsük meg ezt az információt is egy új oszlopban, az oszlop neve legyen 'Mennyiségi kategória'.  \n",
                "A lista csak a 100 Ft feletti egységárú rendelési tételeket vegye figyelembe!"
            ],
            "metadata": {
                "azdata_cell_guid": "6b2be7f7-0e1b-4fc4-92de-90b6715d7647"
            },
            "attachments": {}
        },
        {
            "cell_type": "code",
            "source": [
                ""
            ],
            "metadata": {
                "azdata_cell_guid": "567aef4c-a7e5-4dec-a264-7f326e1ee820"
            },
            "outputs": [],
            "execution_count": null
        },
        {
            "cell_type": "markdown",
            "source": [
                "9\\. Listázzuk a termékek kódját, megnevezését, kategóriájának nevét, és listaárát.  \n",
                "A listát egészítsük ki két új oszloppal, amelyek a kategória legolcsóbb, illetve legdrágább termékének árát tartalmazzák.  \n",
                "A két új oszlop létrehozásánál partíciókkal dolgozzunk!"
            ],
            "metadata": {
                "azdata_cell_guid": "5d826aeb-b0f8-4665-93a1-92c7c827d465"
            },
            "attachments": {}
        },
        {
            "cell_type": "code",
            "source": [
                ""
            ],
            "metadata": {
                "azdata_cell_guid": "f8c3b11e-200c-4252-a2cf-0bd6042f3fb1"
            },
            "outputs": [],
            "execution_count": null
        },
        {
            "cell_type": "markdown",
            "source": [
                "10\\. Készítsünk listát a rendelésekről. A lista legyen rendezve ügyfelenként (LOGIN), azon belül a rendelés dátuma szerint.  \n",
                "A listához készítsünk sorszámozást is.  \n",
                "A sorszám a következő formában jelenjen meg: sorszám\\_év\\_login. Pl: 1\\_2015\\_adam1  \n",
                "A számozás login-onként, azon belül rendelési évenként kezdődjön újra.  \n",
                "A sorszám oszlop neve legyen Azonosító."
            ],
            "metadata": {
                "azdata_cell_guid": "2f42a573-1384-422a-8040-1306b38f2657"
            },
            "attachments": {}
        },
        {
            "cell_type": "code",
            "source": [
                ""
            ],
            "metadata": {
                "azdata_cell_guid": "29db0d43-7709-44df-a749-ecaca8047f63"
            },
            "outputs": [],
            "execution_count": null
        },
        {
            "cell_type": "markdown",
            "source": [
                "11.Készítsünk listát a termékek adatairól listaár szerint növekvő  sorrenben!  \n",
                "A lista jelenítse meg két új oszlopban a sorrend szerint előző, illetve következő termék listaárát is a termék saját   \n",
                " kategóriájában és raktárában! Ahol nincs előző vagy következő  érték, ott 0 jelenjen meg!  \n",
                " Az oszlopokat nevezzük el értelemszerűen!"
            ],
            "metadata": {
                "azdata_cell_guid": "357279eb-71ee-473e-9763-eb0b238ff906"
            },
            "attachments": {}
        },
        {
            "cell_type": "code",
            "source": [
                ""
            ],
            "metadata": {
                "azdata_cell_guid": "f79d14ed-9aa1-4434-a9c3-8a9cf40b4d9c"
            },
            "outputs": [],
            "execution_count": null
        },
        {
            "cell_type": "markdown",
            "source": [
                "12\\. Listázzuk a termékek kódját, nevét és listaárát listaár szerinti sorrendben!  \n",
                "Vegyünk fel egy új oszlopot Mozgóátlag néven, amely minden esetben az aktuális termék,  \n",
                "az előző, és a következő termék átlagárát tartalmazza!  \n",
                "A mozgóátlagot kerekítsük két tizedesre!"
            ],
            "metadata": {
                "azdata_cell_guid": "f974b17a-0c4a-47f7-8f00-550e9847550f"
            },
            "attachments": {}
        },
        {
            "cell_type": "code",
            "source": [
                ""
            ],
            "metadata": {
                "azdata_cell_guid": "d6acc00d-7046-4f2c-810d-f82a18cca1a4"
            },
            "outputs": [],
            "execution_count": null
        },
        {
            "cell_type": "markdown",
            "source": [
                "13\\. Készítsünk listát, amely a rendelések sorszámát és a rendelés értékét tartalmazza.  \n",
                "A listát egészítsük ki egy új oszloppal, amely minden rendelés esetén addigi rendelések értékének összegét tartalmazza  \n",
                "(az aktuálisat is beleértve)!  \n",
                "A listát rendezzük sorszám szerint növekvő sorrendbe. A lista ne tartalmazzon duplikált sorokat!  \n",
                "Nevezzük el az oszlopokat értelemszerűen!"
            ],
            "metadata": {
                "azdata_cell_guid": "526e07ad-8234-46b8-bdba-af5474604839"
            },
            "attachments": {}
        },
        {
            "cell_type": "code",
            "source": [
                ""
            ],
            "metadata": {
                "azdata_cell_guid": "596c853d-7ae5-4280-95e2-973c81aaea16"
            },
            "outputs": [],
            "execution_count": null
        },
        {
            "cell_type": "markdown",
            "source": [
                "14\\. Készítsünk listát a termékek kódjáról, nevéről, kategória azonosítójáról, raktár azonosítójáról és listaáráról, valamint  \n",
                "a termék adott szempontok szerinti rangsorokban elfogalt helyezéseiről.  \n",
                "(Szempontonként külön oszlopban, a helyezéseknél növekvő sorrendet feltételezve).  \n",
                "A szempontok a következők legyenek: listaár, kategória szerinti listaár, és raktárkód szerinti listaár.  \n",
                "Az oszlopokat nevezzük el értelemszerűen.  \n",
                "A helyezések egyenlőség esetén \"sűrűn\" kövessék egymást.  \n",
                "A lista legyen rendezett kategória azonosító, azon belül listaár szerint!"
            ],
            "metadata": {
                "azdata_cell_guid": "d153dce8-e47b-41b2-8fd9-e13a6313771d"
            },
            "attachments": {}
        },
        {
            "cell_type": "code",
            "source": [
                ""
            ],
            "metadata": {
                "azdata_cell_guid": "7c673b39-c0bd-49a2-a737-8bec0628e2d8"
            },
            "outputs": [],
            "execution_count": null
        },
        {
            "cell_type": "markdown",
            "source": [
                "15\\. Készítsünk listát a rendelési tételekről, amely minden sor esetén göngyölítve tartalmazza az ügyfél adott rendelési tételig  \n",
                "meglévő rendelési tételeinek összértékét!  \n",
                "Az új oszlop neve legyen Eddigi rendelési tételek összértéke!  \n",
                "Az ügyfél neve is jelenjen meg!"
            ],
            "metadata": {
                "azdata_cell_guid": "5ddc59be-70cf-4c6d-a8be-21b2df1f4e31"
            },
            "attachments": {}
        },
        {
            "cell_type": "code",
            "source": [
                ""
            ],
            "metadata": {
                "azdata_cell_guid": "f1fe1994-34cd-444b-b078-1313521bbcc1"
            },
            "outputs": [],
            "execution_count": null
        }
    ]
}