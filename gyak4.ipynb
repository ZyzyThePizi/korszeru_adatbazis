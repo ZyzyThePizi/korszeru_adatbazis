{
    "metadata": {
        "kernelspec": {
            "name": "SQL",
            "display_name": "SQL",
            "language": "sql"
        },
        "language_info": {
            "name": "sql",
            "version": ""
        },
        "extensions": {
            "azuredatastudio": {
                "version": 1,
                "views": []
            }
        }
    },
    "nbformat_minor": 2,
    "nbformat": 4,
    "cells": [
        {
            "cell_type": "markdown",
            "source": [
                "<span style=\"color: rgb(18, 38, 44); font-family: Arial; font-size: 15px; background-color: rgb(239, 249, 252);\">Számítsa ki, hogy átlagosan hány napig tartottak a foglalások&nbsp;</span> <span style=\"box-sizing: border-box; color: rgb(18, 38, 44); font-family: Arial; font-size: 0.9375rem; background-color: rgb(239, 249, 252);\">szállásonként, illetve ügyfelenként (külön-külön)!<br style=\"box-sizing: border-box;\">A szállás,&nbsp;</span> <span style=\"box-sizing: border-box; color: rgb(18, 38, 44); font-family: Arial; font-size: 0.9375rem; background-color: rgb(239, 249, 252);\">illetve az ügyfél esetén elég az azonosítójukat megadni.&nbsp;</span>"
            ],
            "metadata": {
                "azdata_cell_guid": "75a0ac15-f3d8-416a-9e7e-c5ab9ac160b7"
            },
            "attachments": {}
        },
        {
            "cell_type": "code",
            "source": [
                ""
            ],
            "metadata": {
                "azdata_cell_guid": "04965f0a-29f9-4393-9444-c451c21de2db"
            },
            "outputs": [],
            "execution_count": null
        }
    ]
}