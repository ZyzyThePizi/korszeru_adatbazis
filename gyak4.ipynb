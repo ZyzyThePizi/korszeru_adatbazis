{
    "metadata": {
        "kernelspec": {
            "name": "SQL",
            "display_name": "SQL",
            "language": "sql"
        },
        "language_info": {
            "name": "sql",
            "version": ""
        },
        "extensions": {
            "azuredatastudio": {
                "version": 1,
                "views": []
            }
        }
    },
    "nbformat_minor": 2,
    "nbformat": 4,
    "cells": [
        {
            "cell_type": "markdown",
            "source": [
                "<span style=\"color: rgb(18, 38, 44); font-family: Arial; font-size: 15px; background-color: rgb(239, 249, 252);\">Számítsa ki, hogy átlagosan hány napig tartottak a foglalások&nbsp;</span> <span style=\"box-sizing: border-box; color: rgb(18, 38, 44); font-family: Arial; font-size: 0.9375rem; background-color: rgb(239, 249, 252);\">szállásonként, illetve ügyfelenként (külön-külön)!<br style=\"box-sizing: border-box;\">A szállás,&nbsp;</span> <span style=\"box-sizing: border-box; color: rgb(18, 38, 44); font-family: Arial; font-size: 0.9375rem; background-color: rgb(239, 249, 252);\">illetve az ügyfél esetén elég az azonosítójukat megadni.&nbsp;</span>"
            ],
            "metadata": {
                "azdata_cell_guid": "75a0ac15-f3d8-416a-9e7e-c5ab9ac160b7"
            },
            "attachments": {}
        },
        {
            "cell_type": "code",
            "source": [
                "SELECT  sz.szallas_fk,\r\n",
                "    f.ugyfel_fk,\r\n",
                "    avg(DATEDIFF(DAY, f.METTOL, f.MEDDIG))\r\n",
                "from foglalas f join szoba sz on f.szoba_fk = sz.szoba_id\r\n",
                "group by GROUPING sets (\r\n",
                "    (SZALLAS_FK),\r\n",
                "    (UGYFEL_FK)\r\n",
                ")\r\n",
                ""
            ],
            "metadata": {
                "azdata_cell_guid": "04965f0a-29f9-4393-9444-c451c21de2db"
            },
            "outputs": [
                {
                    "output_type": "display_data",
                    "data": {
                        "text/html": "(207 rows affected)"
                    },
                    "metadata": {}
                },
                {
                    "output_type": "display_data",
                    "data": {
                        "text/html": "Total execution time: 00:00:00.059"
                    },
                    "metadata": {}
                },
                {
                    "output_type": "execute_result",
                    "metadata": {},
                    "execution_count": 7,
                    "data": {
                        "application/vnd.dataresource+json": {
                            "schema": {
                                "fields": [
                                    {
                                        "name": "szallas_fk"
                                    },
                                    {
                                        "name": "ugyfel_fk"
                                    },
                                    {
                                        "name": "(No column name)"
                                    }
                                ]
                            },
                            "data": [
                                {
                                    "0": "NULL",
                                    "1": "adam1",
                                    "2": "5"
                                },
                                {
                                    "0": "NULL",
                                    "1": "adam3",
                                    "2": "4"
                                },
                                {
                                    "0": "NULL",
                                    "1": "adam4",
                                    "2": "4"
                                },
                                {
                                    "0": "NULL",
                                    "1": "agnes",
                                    "2": "5"
                                },
                                {
                                    "0": "NULL",
                                    "1": "agnes3",
                                    "2": "4"
                                },
                                {
                                    "0": "NULL",
                                    "1": "AGNESH",
                                    "2": "4"
                                },
                                {
                                    "0": "NULL",
                                    "1": "AGNESK",
                                    "2": "2"
                                },
                                {
                                    "0": "NULL",
                                    "1": "akos",
                                    "2": "4"
                                },
                                {
                                    "0": "NULL",
                                    "1": "aladar",
                                    "2": "4"
                                },
                                {
                                    "0": "NULL",
                                    "1": "alexandra",
                                    "2": "4"
                                },
                                {
                                    "0": "NULL",
                                    "1": "andi",
                                    "2": "3"
                                },
                                {
                                    "0": "NULL",
                                    "1": "andras2",
                                    "2": "3"
                                },
                                {
                                    "0": "NULL",
                                    "1": "andras21",
                                    "2": "3"
                                },
                                {
                                    "0": "NULL",
                                    "1": "andras3",
                                    "2": "3"
                                },
                                {
                                    "0": "NULL",
                                    "1": "andras4",
                                    "2": "2"
                                },
                                {
                                    "0": "NULL",
                                    "1": "andras41",
                                    "2": "4"
                                },
                                {
                                    "0": "NULL",
                                    "1": "ANDRASE",
                                    "2": "4"
                                },
                                {
                                    "0": "NULL",
                                    "1": "ANDRASN",
                                    "2": "6"
                                },
                                {
                                    "0": "NULL",
                                    "1": "andrea",
                                    "2": "3"
                                },
                                {
                                    "0": "NULL",
                                    "1": "andrea3",
                                    "2": "2"
                                },
                                {
                                    "0": "NULL",
                                    "1": "andrea4",
                                    "2": "5"
                                },
                                {
                                    "0": "NULL",
                                    "1": "ANDREAT",
                                    "2": "3"
                                },
                                {
                                    "0": "NULL",
                                    "1": "anett3",
                                    "2": "5"
                                },
                                {
                                    "0": "NULL",
                                    "1": "aniko",
                                    "2": "2"
                                },
                                {
                                    "0": "NULL",
                                    "1": "aniko4",
                                    "2": "3"
                                },
                                {
                                    "0": "NULL",
                                    "1": "ANIKOS",
                                    "2": "5"
                                },
                                {
                                    "0": "NULL",
                                    "1": "anita",
                                    "2": "3"
                                },
                                {
                                    "0": "NULL",
                                    "1": "annamaria1",
                                    "2": "1"
                                },
                                {
                                    "0": "NULL",
                                    "1": "ANNAMARIAR",
                                    "2": "2"
                                },
                                {
                                    "0": "NULL",
                                    "1": "aron2",
                                    "2": "2"
                                },
                                {
                                    "0": "NULL",
                                    "1": "ARONK",
                                    "2": "4"
                                },
                                {
                                    "0": "NULL",
                                    "1": "arpad2",
                                    "2": "2"
                                },
                                {
                                    "0": "NULL",
                                    "1": "ARPADH",
                                    "2": "4"
                                },
                                {
                                    "0": "NULL",
                                    "1": "ARPADM",
                                    "2": "3"
                                },
                                {
                                    "0": "NULL",
                                    "1": "attila",
                                    "2": "5"
                                },
                                {
                                    "0": "NULL",
                                    "1": "attila1",
                                    "2": "4"
                                },
                                {
                                    "0": "NULL",
                                    "1": "attila4",
                                    "2": "4"
                                },
                                {
                                    "0": "NULL",
                                    "1": "ATTILAO",
                                    "2": "4"
                                },
                                {
                                    "0": "NULL",
                                    "1": "balazs1",
                                    "2": "3"
                                },
                                {
                                    "0": "NULL",
                                    "1": "balazs2",
                                    "2": "4"
                                },
                                {
                                    "0": "NULL",
                                    "1": "balazs3",
                                    "2": "3"
                                },
                                {
                                    "0": "NULL",
                                    "1": "balint",
                                    "2": "4"
                                },
                                {
                                    "0": "NULL",
                                    "1": "balint1",
                                    "2": "3"
                                },
                                {
                                    "0": "NULL",
                                    "1": "balint2",
                                    "2": "3"
                                },
                                {
                                    "0": "NULL",
                                    "1": "balu",
                                    "2": "2"
                                },
                                {
                                    "0": "NULL",
                                    "1": "beata4",
                                    "2": "2"
                                },
                                {
                                    "0": "NULL",
                                    "1": "BEATRIXK",
                                    "2": "3"
                                },
                                {
                                    "0": "NULL",
                                    "1": "BEATRIXS",
                                    "2": "3"
                                },
                                {
                                    "0": "NULL",
                                    "1": "BELAF",
                                    "2": "3"
                                },
                                {
                                    "0": "NULL",
                                    "1": "bence",
                                    "2": "3"
                                },
                                {
                                    "0": "NULL",
                                    "1": "BENCEB",
                                    "2": "4"
                                },
                                {
                                    "0": "NULL",
                                    "1": "bernadett1",
                                    "2": "4"
                                },
                                {
                                    "0": "NULL",
                                    "1": "bernadett2",
                                    "2": "4"
                                },
                                {
                                    "0": "NULL",
                                    "1": "BERNADETTO",
                                    "2": "4"
                                },
                                {
                                    "0": "NULL",
                                    "1": "bertalan",
                                    "2": "4"
                                },
                                {
                                    "0": "NULL",
                                    "1": "brigitta",
                                    "2": "5"
                                },
                                {
                                    "0": "NULL",
                                    "1": "brigitta3",
                                    "2": "5"
                                },
                                {
                                    "0": "NULL",
                                    "1": "csongor3",
                                    "2": "4"
                                },
                                {
                                    "0": "NULL",
                                    "1": "dani",
                                    "2": "3"
                                },
                                {
                                    "0": "NULL",
                                    "1": "daniel",
                                    "2": "2"
                                },
                                {
                                    "0": "NULL",
                                    "1": "daniel1",
                                    "2": "3"
                                },
                                {
                                    "0": "NULL",
                                    "1": "david",
                                    "2": "4"
                                },
                                {
                                    "0": "NULL",
                                    "1": "david1",
                                    "2": "2"
                                },
                                {
                                    "0": "NULL",
                                    "1": "david4",
                                    "2": "3"
                                },
                                {
                                    "0": "NULL",
                                    "1": "debora",
                                    "2": "3"
                                },
                                {
                                    "0": "NULL",
                                    "1": "denes",
                                    "2": "5"
                                },
                                {
                                    "0": "NULL",
                                    "1": "dora3",
                                    "2": "4"
                                },
                                {
                                    "0": "NULL",
                                    "1": "edit",
                                    "2": "4"
                                },
                                {
                                    "0": "NULL",
                                    "1": "emese",
                                    "2": "2"
                                },
                                {
                                    "0": "NULL",
                                    "1": "eszter",
                                    "2": "5"
                                },
                                {
                                    "0": "NULL",
                                    "1": "eszter2",
                                    "2": "8"
                                },
                                {
                                    "0": "NULL",
                                    "1": "eszter4",
                                    "2": "4"
                                },
                                {
                                    "0": "NULL",
                                    "1": "ESZTERE",
                                    "2": "4"
                                },
                                {
                                    "0": "NULL",
                                    "1": "eva",
                                    "2": "2"
                                },
                                {
                                    "0": "NULL",
                                    "1": "eva2",
                                    "2": "4"
                                },
                                {
                                    "0": "NULL",
                                    "1": "EVAV",
                                    "2": "5"
                                },
                                {
                                    "0": "NULL",
                                    "1": "ferenc1",
                                    "2": "2"
                                },
                                {
                                    "0": "NULL",
                                    "1": "fruzsina4",
                                    "2": "3"
                                },
                                {
                                    "0": "NULL",
                                    "1": "gabor1",
                                    "2": "2"
                                },
                                {
                                    "0": "NULL",
                                    "1": "gabor4",
                                    "2": "5"
                                },
                                {
                                    "0": "NULL",
                                    "1": "gabriella1",
                                    "2": "4"
                                },
                                {
                                    "0": "NULL",
                                    "1": "gabriella10",
                                    "2": "5"
                                },
                                {
                                    "0": "NULL",
                                    "1": "georgij",
                                    "2": "5"
                                },
                                {
                                    "0": "NULL",
                                    "1": "gusztav",
                                    "2": "5"
                                },
                                {
                                    "0": "NULL",
                                    "1": "GYONGYIK",
                                    "2": "5"
                                },
                                {
                                    "0": "NULL",
                                    "1": "GYORGYO",
                                    "2": "3"
                                },
                                {
                                    "0": "NULL",
                                    "1": "henrik3",
                                    "2": "3"
                                },
                                {
                                    "0": "NULL",
                                    "1": "IBOLYAA",
                                    "2": "4"
                                },
                                {
                                    "0": "NULL",
                                    "1": "ilona3",
                                    "2": "4"
                                },
                                {
                                    "0": "NULL",
                                    "1": "imre",
                                    "2": "1"
                                },
                                {
                                    "0": "NULL",
                                    "1": "imre1",
                                    "2": "2"
                                },
                                {
                                    "0": "NULL",
                                    "1": "istvan",
                                    "2": "2"
                                },
                                {
                                    "0": "NULL",
                                    "1": "istvan1",
                                    "2": "4"
                                },
                                {
                                    "0": "NULL",
                                    "1": "ISTVANV",
                                    "2": "2"
                                },
                                {
                                    "0": "NULL",
                                    "1": "janos3",
                                    "2": "2"
                                },
                                {
                                    "0": "NULL",
                                    "1": "JANOSG",
                                    "2": "5"
                                },
                                {
                                    "0": "NULL",
                                    "1": "JANOSP",
                                    "2": "4"
                                },
                                {
                                    "0": "NULL",
                                    "1": "jozsef",
                                    "2": "3"
                                },
                                {
                                    "0": "NULL",
                                    "1": "jozsef2",
                                    "2": "5"
                                },
                                {
                                    "0": "NULL",
                                    "1": "JOZSEFG",
                                    "2": "4"
                                },
                                {
                                    "0": "NULL",
                                    "1": "JUDITH",
                                    "2": "4"
                                },
                                {
                                    "0": "NULL",
                                    "1": "julia",
                                    "2": "4"
                                },
                                {
                                    "0": "NULL",
                                    "1": "julia4",
                                    "2": "6"
                                },
                                {
                                    "0": "NULL",
                                    "1": "julianna4",
                                    "2": "4"
                                },
                                {
                                    "0": "NULL",
                                    "1": "kata",
                                    "2": "3"
                                },
                                {
                                    "0": "NULL",
                                    "1": "katalin",
                                    "2": "4"
                                },
                                {
                                    "0": "NULL",
                                    "1": "katalin4",
                                    "2": "4"
                                },
                                {
                                    "0": "NULL",
                                    "1": "kati",
                                    "2": "4"
                                },
                                {
                                    "0": "NULL",
                                    "1": "katka",
                                    "2": "3"
                                },
                                {
                                    "0": "NULL",
                                    "1": "klaudia2",
                                    "2": "2"
                                },
                                {
                                    "0": "NULL",
                                    "1": "kornel4",
                                    "2": "4"
                                },
                                {
                                    "0": "NULL",
                                    "1": "kristof4",
                                    "2": "5"
                                },
                                {
                                    "0": "NULL",
                                    "1": "kriszti",
                                    "2": "3"
                                },
                                {
                                    "0": "NULL",
                                    "1": "krisztian4",
                                    "2": "4"
                                },
                                {
                                    "0": "NULL",
                                    "1": "KRISZTIANM",
                                    "2": "5"
                                },
                                {
                                    "0": "NULL",
                                    "1": "krisztina",
                                    "2": "4"
                                },
                                {
                                    "0": "NULL",
                                    "1": "krisztina1",
                                    "2": "3"
                                },
                                {
                                    "0": "NULL",
                                    "1": "KRISZTINAG",
                                    "2": "4"
                                },
                                {
                                    "0": "NULL",
                                    "1": "lajos",
                                    "2": "2"
                                },
                                {
                                    "0": "NULL",
                                    "1": "lala",
                                    "2": "2"
                                },
                                {
                                    "0": "NULL",
                                    "1": "laszlo1",
                                    "2": "7"
                                },
                                {
                                    "0": "NULL",
                                    "1": "laszlo2",
                                    "2": "2"
                                },
                                {
                                    "0": "NULL",
                                    "1": "LASZLOA",
                                    "2": "4"
                                },
                                {
                                    "0": "NULL",
                                    "1": "LASZLON",
                                    "2": "4"
                                },
                                {
                                    "0": "NULL",
                                    "1": "maria1",
                                    "2": "4"
                                },
                                {
                                    "0": "NULL",
                                    "1": "mark",
                                    "2": "5"
                                },
                                {
                                    "0": "NULL",
                                    "1": "MARKH",
                                    "2": "5"
                                },
                                {
                                    "0": "NULL",
                                    "1": "marton",
                                    "2": "4"
                                },
                                {
                                    "0": "NULL",
                                    "1": "MATEK",
                                    "2": "4"
                                },
                                {
                                    "0": "NULL",
                                    "1": "matyas2",
                                    "2": "3"
                                },
                                {
                                    "0": "NULL",
                                    "1": "MATYASS",
                                    "2": "5"
                                },
                                {
                                    "0": "NULL",
                                    "1": "MIHALYJ",
                                    "2": "4"
                                },
                                {
                                    "0": "NULL",
                                    "1": "miklos2",
                                    "2": "1"
                                },
                                {
                                    "0": "NULL",
                                    "1": "MIKLOSB",
                                    "2": "4"
                                },
                                {
                                    "0": "NULL",
                                    "1": "MONIKAM",
                                    "2": "4"
                                },
                                {
                                    "0": "NULL",
                                    "1": "NANDORF",
                                    "2": "2"
                                },
                                {
                                    "0": "NULL",
                                    "1": "nikolett3",
                                    "2": "5"
                                },
                                {
                                    "0": "NULL",
                                    "1": "nikoletta4",
                                    "2": "4"
                                },
                                {
                                    "0": "NULL",
                                    "1": "NIKOLETTAT",
                                    "2": "2"
                                },
                                {
                                    "0": "NULL",
                                    "1": "norbert",
                                    "2": "4"
                                },
                                {
                                    "0": "NULL",
                                    "1": "norbert2",
                                    "2": "4"
                                },
                                {
                                    "0": "NULL",
                                    "1": "norbert4",
                                    "2": "3"
                                },
                                {
                                    "0": "NULL",
                                    "1": "norbert5",
                                    "2": "2"
                                },
                                {
                                    "0": "NULL",
                                    "1": "pal",
                                    "2": "4"
                                },
                                {
                                    "0": "NULL",
                                    "1": "peter1",
                                    "2": "4"
                                },
                                {
                                    "0": "NULL",
                                    "1": "peter2",
                                    "2": "4"
                                },
                                {
                                    "0": "NULL",
                                    "1": "peter3",
                                    "2": "4"
                                },
                                {
                                    "0": "NULL",
                                    "1": "peter4",
                                    "2": "4"
                                },
                                {
                                    "0": "NULL",
                                    "1": "PETERB",
                                    "2": "3"
                                },
                                {
                                    "0": "NULL",
                                    "1": "polla",
                                    "2": "4"
                                },
                                {
                                    "0": "NULL",
                                    "1": "rajmond4",
                                    "2": "2"
                                },
                                {
                                    "0": "NULL",
                                    "1": "reka4",
                                    "2": "4"
                                },
                                {
                                    "0": "NULL",
                                    "1": "RENATAK",
                                    "2": "3"
                                },
                                {
                                    "0": "NULL",
                                    "1": "RENATAS",
                                    "2": "5"
                                },
                                {
                                    "0": "NULL",
                                    "1": "robert2",
                                    "2": "5"
                                },
                                {
                                    "0": "NULL",
                                    "1": "ROBERTI",
                                    "2": "4"
                                },
                                {
                                    "0": "NULL",
                                    "1": "ROBERTP",
                                    "2": "4"
                                },
                                {
                                    "0": "NULL",
                                    "1": "roland",
                                    "2": "2"
                                },
                                {
                                    "0": "NULL",
                                    "1": "roland1",
                                    "2": "4"
                                },
                                {
                                    "0": "NULL",
                                    "1": "roza2",
                                    "2": "4"
                                },
                                {
                                    "0": "NULL",
                                    "1": "sandor",
                                    "2": "5"
                                },
                                {
                                    "0": "NULL",
                                    "1": "sandor3",
                                    "2": "4"
                                },
                                {
                                    "0": "NULL",
                                    "1": "sandor4",
                                    "2": "4"
                                },
                                {
                                    "0": "NULL",
                                    "1": "sara",
                                    "2": "3"
                                },
                                {
                                    "0": "NULL",
                                    "1": "SEBASTIANF",
                                    "2": "4"
                                },
                                {
                                    "0": "NULL",
                                    "1": "sebestyen",
                                    "2": "5"
                                },
                                {
                                    "0": "NULL",
                                    "1": "szabolcs",
                                    "2": "2"
                                },
                                {
                                    "0": "NULL",
                                    "1": "SZABOLCSM",
                                    "2": "2"
                                },
                                {
                                    "0": "NULL",
                                    "1": "SZILARDS",
                                    "2": "5"
                                },
                                {
                                    "0": "NULL",
                                    "1": "szilvia1",
                                    "2": "4"
                                },
                                {
                                    "0": "NULL",
                                    "1": "tamara2",
                                    "2": "3"
                                },
                                {
                                    "0": "NULL",
                                    "1": "tamas",
                                    "2": "5"
                                },
                                {
                                    "0": "NULL",
                                    "1": "TAMASF",
                                    "2": "4"
                                },
                                {
                                    "0": "NULL",
                                    "1": "tibor",
                                    "2": "4"
                                },
                                {
                                    "0": "NULL",
                                    "1": "tibor2",
                                    "2": "5"
                                },
                                {
                                    "0": "NULL",
                                    "1": "tihamer",
                                    "2": "4"
                                },
                                {
                                    "0": "NULL",
                                    "1": "timea",
                                    "2": "1"
                                },
                                {
                                    "0": "NULL",
                                    "1": "timea2",
                                    "2": "2"
                                },
                                {
                                    "0": "NULL",
                                    "1": "tunde",
                                    "2": "4"
                                },
                                {
                                    "0": "NULL",
                                    "1": "valentin",
                                    "2": "5"
                                },
                                {
                                    "0": "NULL",
                                    "1": "veronika4",
                                    "2": "5"
                                },
                                {
                                    "0": "NULL",
                                    "1": "VIKTORIAU",
                                    "2": "3"
                                },
                                {
                                    "0": "NULL",
                                    "1": "VIKTORK",
                                    "2": "1"
                                },
                                {
                                    "0": "NULL",
                                    "1": "vivien3",
                                    "2": "3"
                                },
                                {
                                    "0": "NULL",
                                    "1": "zoltan",
                                    "2": "5"
                                },
                                {
                                    "0": "NULL",
                                    "1": "zoltan4",
                                    "2": "4"
                                },
                                {
                                    "0": "NULL",
                                    "1": "ZOLTANP",
                                    "2": "3"
                                },
                                {
                                    "0": "NULL",
                                    "1": "ZOLTANT",
                                    "2": "2"
                                },
                                {
                                    "0": "NULL",
                                    "1": "zsofi1",
                                    "2": "1"
                                },
                                {
                                    "0": "NULL",
                                    "1": "zsolt1",
                                    "2": "2"
                                },
                                {
                                    "0": "NULL",
                                    "1": "ZSOLTJ",
                                    "2": "3"
                                },
                                {
                                    "0": "NULL",
                                    "1": "zsuzsa",
                                    "2": "3"
                                },
                                {
                                    "0": "NULL",
                                    "1": "zsuzsa3",
                                    "2": "4"
                                },
                                {
                                    "0": "NULL",
                                    "1": "zsuzsanna",
                                    "2": "5"
                                },
                                {
                                    "0": "NULL",
                                    "1": "ZSUZSAV",
                                    "2": "3"
                                },
                                {
                                    "0": "9",
                                    "1": "NULL",
                                    "2": "4"
                                },
                                {
                                    "0": "3",
                                    "1": "NULL",
                                    "2": "3"
                                },
                                {
                                    "0": "12",
                                    "1": "NULL",
                                    "2": "4"
                                },
                                {
                                    "0": "6",
                                    "1": "NULL",
                                    "2": "4"
                                },
                                {
                                    "0": "7",
                                    "1": "NULL",
                                    "2": "3"
                                },
                                {
                                    "0": "1",
                                    "1": "NULL",
                                    "2": "4"
                                },
                                {
                                    "0": "10",
                                    "1": "NULL",
                                    "2": "3"
                                },
                                {
                                    "0": "4",
                                    "1": "NULL",
                                    "2": "4"
                                },
                                {
                                    "0": "5",
                                    "1": "NULL",
                                    "2": "4"
                                },
                                {
                                    "0": "2",
                                    "1": "NULL",
                                    "2": "3"
                                },
                                {
                                    "0": "11",
                                    "1": "NULL",
                                    "2": "3"
                                },
                                {
                                    "0": "8",
                                    "1": "NULL",
                                    "2": "3"
                                }
                            ]
                        },
                        "text/html": [
                            "<table>",
                            "<tr><th>szallas_fk</th><th>ugyfel_fk</th><th>(No column name)</th></tr>",
                            "<tr><td>NULL</td><td>adam1</td><td>5</td></tr>",
                            "<tr><td>NULL</td><td>adam3</td><td>4</td></tr>",
                            "<tr><td>NULL</td><td>adam4</td><td>4</td></tr>",
                            "<tr><td>NULL</td><td>agnes</td><td>5</td></tr>",
                            "<tr><td>NULL</td><td>agnes3</td><td>4</td></tr>",
                            "<tr><td>NULL</td><td>AGNESH</td><td>4</td></tr>",
                            "<tr><td>NULL</td><td>AGNESK</td><td>2</td></tr>",
                            "<tr><td>NULL</td><td>akos</td><td>4</td></tr>",
                            "<tr><td>NULL</td><td>aladar</td><td>4</td></tr>",
                            "<tr><td>NULL</td><td>alexandra</td><td>4</td></tr>",
                            "<tr><td>NULL</td><td>andi</td><td>3</td></tr>",
                            "<tr><td>NULL</td><td>andras2</td><td>3</td></tr>",
                            "<tr><td>NULL</td><td>andras21</td><td>3</td></tr>",
                            "<tr><td>NULL</td><td>andras3</td><td>3</td></tr>",
                            "<tr><td>NULL</td><td>andras4</td><td>2</td></tr>",
                            "<tr><td>NULL</td><td>andras41</td><td>4</td></tr>",
                            "<tr><td>NULL</td><td>ANDRASE</td><td>4</td></tr>",
                            "<tr><td>NULL</td><td>ANDRASN</td><td>6</td></tr>",
                            "<tr><td>NULL</td><td>andrea</td><td>3</td></tr>",
                            "<tr><td>NULL</td><td>andrea3</td><td>2</td></tr>",
                            "<tr><td>NULL</td><td>andrea4</td><td>5</td></tr>",
                            "<tr><td>NULL</td><td>ANDREAT</td><td>3</td></tr>",
                            "<tr><td>NULL</td><td>anett3</td><td>5</td></tr>",
                            "<tr><td>NULL</td><td>aniko</td><td>2</td></tr>",
                            "<tr><td>NULL</td><td>aniko4</td><td>3</td></tr>",
                            "<tr><td>NULL</td><td>ANIKOS</td><td>5</td></tr>",
                            "<tr><td>NULL</td><td>anita</td><td>3</td></tr>",
                            "<tr><td>NULL</td><td>annamaria1</td><td>1</td></tr>",
                            "<tr><td>NULL</td><td>ANNAMARIAR</td><td>2</td></tr>",
                            "<tr><td>NULL</td><td>aron2</td><td>2</td></tr>",
                            "<tr><td>NULL</td><td>ARONK</td><td>4</td></tr>",
                            "<tr><td>NULL</td><td>arpad2</td><td>2</td></tr>",
                            "<tr><td>NULL</td><td>ARPADH</td><td>4</td></tr>",
                            "<tr><td>NULL</td><td>ARPADM</td><td>3</td></tr>",
                            "<tr><td>NULL</td><td>attila</td><td>5</td></tr>",
                            "<tr><td>NULL</td><td>attila1</td><td>4</td></tr>",
                            "<tr><td>NULL</td><td>attila4</td><td>4</td></tr>",
                            "<tr><td>NULL</td><td>ATTILAO</td><td>4</td></tr>",
                            "<tr><td>NULL</td><td>balazs1</td><td>3</td></tr>",
                            "<tr><td>NULL</td><td>balazs2</td><td>4</td></tr>",
                            "<tr><td>NULL</td><td>balazs3</td><td>3</td></tr>",
                            "<tr><td>NULL</td><td>balint</td><td>4</td></tr>",
                            "<tr><td>NULL</td><td>balint1</td><td>3</td></tr>",
                            "<tr><td>NULL</td><td>balint2</td><td>3</td></tr>",
                            "<tr><td>NULL</td><td>balu</td><td>2</td></tr>",
                            "<tr><td>NULL</td><td>beata4</td><td>2</td></tr>",
                            "<tr><td>NULL</td><td>BEATRIXK</td><td>3</td></tr>",
                            "<tr><td>NULL</td><td>BEATRIXS</td><td>3</td></tr>",
                            "<tr><td>NULL</td><td>BELAF</td><td>3</td></tr>",
                            "<tr><td>NULL</td><td>bence</td><td>3</td></tr>",
                            "<tr><td>NULL</td><td>BENCEB</td><td>4</td></tr>",
                            "<tr><td>NULL</td><td>bernadett1</td><td>4</td></tr>",
                            "<tr><td>NULL</td><td>bernadett2</td><td>4</td></tr>",
                            "<tr><td>NULL</td><td>BERNADETTO</td><td>4</td></tr>",
                            "<tr><td>NULL</td><td>bertalan</td><td>4</td></tr>",
                            "<tr><td>NULL</td><td>brigitta</td><td>5</td></tr>",
                            "<tr><td>NULL</td><td>brigitta3</td><td>5</td></tr>",
                            "<tr><td>NULL</td><td>csongor3</td><td>4</td></tr>",
                            "<tr><td>NULL</td><td>dani</td><td>3</td></tr>",
                            "<tr><td>NULL</td><td>daniel</td><td>2</td></tr>",
                            "<tr><td>NULL</td><td>daniel1</td><td>3</td></tr>",
                            "<tr><td>NULL</td><td>david</td><td>4</td></tr>",
                            "<tr><td>NULL</td><td>david1</td><td>2</td></tr>",
                            "<tr><td>NULL</td><td>david4</td><td>3</td></tr>",
                            "<tr><td>NULL</td><td>debora</td><td>3</td></tr>",
                            "<tr><td>NULL</td><td>denes</td><td>5</td></tr>",
                            "<tr><td>NULL</td><td>dora3</td><td>4</td></tr>",
                            "<tr><td>NULL</td><td>edit</td><td>4</td></tr>",
                            "<tr><td>NULL</td><td>emese</td><td>2</td></tr>",
                            "<tr><td>NULL</td><td>eszter</td><td>5</td></tr>",
                            "<tr><td>NULL</td><td>eszter2</td><td>8</td></tr>",
                            "<tr><td>NULL</td><td>eszter4</td><td>4</td></tr>",
                            "<tr><td>NULL</td><td>ESZTERE</td><td>4</td></tr>",
                            "<tr><td>NULL</td><td>eva</td><td>2</td></tr>",
                            "<tr><td>NULL</td><td>eva2</td><td>4</td></tr>",
                            "<tr><td>NULL</td><td>EVAV</td><td>5</td></tr>",
                            "<tr><td>NULL</td><td>ferenc1</td><td>2</td></tr>",
                            "<tr><td>NULL</td><td>fruzsina4</td><td>3</td></tr>",
                            "<tr><td>NULL</td><td>gabor1</td><td>2</td></tr>",
                            "<tr><td>NULL</td><td>gabor4</td><td>5</td></tr>",
                            "<tr><td>NULL</td><td>gabriella1</td><td>4</td></tr>",
                            "<tr><td>NULL</td><td>gabriella10</td><td>5</td></tr>",
                            "<tr><td>NULL</td><td>georgij</td><td>5</td></tr>",
                            "<tr><td>NULL</td><td>gusztav</td><td>5</td></tr>",
                            "<tr><td>NULL</td><td>GYONGYIK</td><td>5</td></tr>",
                            "<tr><td>NULL</td><td>GYORGYO</td><td>3</td></tr>",
                            "<tr><td>NULL</td><td>henrik3</td><td>3</td></tr>",
                            "<tr><td>NULL</td><td>IBOLYAA</td><td>4</td></tr>",
                            "<tr><td>NULL</td><td>ilona3</td><td>4</td></tr>",
                            "<tr><td>NULL</td><td>imre</td><td>1</td></tr>",
                            "<tr><td>NULL</td><td>imre1</td><td>2</td></tr>",
                            "<tr><td>NULL</td><td>istvan</td><td>2</td></tr>",
                            "<tr><td>NULL</td><td>istvan1</td><td>4</td></tr>",
                            "<tr><td>NULL</td><td>ISTVANV</td><td>2</td></tr>",
                            "<tr><td>NULL</td><td>janos3</td><td>2</td></tr>",
                            "<tr><td>NULL</td><td>JANOSG</td><td>5</td></tr>",
                            "<tr><td>NULL</td><td>JANOSP</td><td>4</td></tr>",
                            "<tr><td>NULL</td><td>jozsef</td><td>3</td></tr>",
                            "<tr><td>NULL</td><td>jozsef2</td><td>5</td></tr>",
                            "<tr><td>NULL</td><td>JOZSEFG</td><td>4</td></tr>",
                            "<tr><td>NULL</td><td>JUDITH</td><td>4</td></tr>",
                            "<tr><td>NULL</td><td>julia</td><td>4</td></tr>",
                            "<tr><td>NULL</td><td>julia4</td><td>6</td></tr>",
                            "<tr><td>NULL</td><td>julianna4</td><td>4</td></tr>",
                            "<tr><td>NULL</td><td>kata</td><td>3</td></tr>",
                            "<tr><td>NULL</td><td>katalin</td><td>4</td></tr>",
                            "<tr><td>NULL</td><td>katalin4</td><td>4</td></tr>",
                            "<tr><td>NULL</td><td>kati</td><td>4</td></tr>",
                            "<tr><td>NULL</td><td>katka</td><td>3</td></tr>",
                            "<tr><td>NULL</td><td>klaudia2</td><td>2</td></tr>",
                            "<tr><td>NULL</td><td>kornel4</td><td>4</td></tr>",
                            "<tr><td>NULL</td><td>kristof4</td><td>5</td></tr>",
                            "<tr><td>NULL</td><td>kriszti</td><td>3</td></tr>",
                            "<tr><td>NULL</td><td>krisztian4</td><td>4</td></tr>",
                            "<tr><td>NULL</td><td>KRISZTIANM</td><td>5</td></tr>",
                            "<tr><td>NULL</td><td>krisztina</td><td>4</td></tr>",
                            "<tr><td>NULL</td><td>krisztina1</td><td>3</td></tr>",
                            "<tr><td>NULL</td><td>KRISZTINAG</td><td>4</td></tr>",
                            "<tr><td>NULL</td><td>lajos</td><td>2</td></tr>",
                            "<tr><td>NULL</td><td>lala</td><td>2</td></tr>",
                            "<tr><td>NULL</td><td>laszlo1</td><td>7</td></tr>",
                            "<tr><td>NULL</td><td>laszlo2</td><td>2</td></tr>",
                            "<tr><td>NULL</td><td>LASZLOA</td><td>4</td></tr>",
                            "<tr><td>NULL</td><td>LASZLON</td><td>4</td></tr>",
                            "<tr><td>NULL</td><td>maria1</td><td>4</td></tr>",
                            "<tr><td>NULL</td><td>mark</td><td>5</td></tr>",
                            "<tr><td>NULL</td><td>MARKH</td><td>5</td></tr>",
                            "<tr><td>NULL</td><td>marton</td><td>4</td></tr>",
                            "<tr><td>NULL</td><td>MATEK</td><td>4</td></tr>",
                            "<tr><td>NULL</td><td>matyas2</td><td>3</td></tr>",
                            "<tr><td>NULL</td><td>MATYASS</td><td>5</td></tr>",
                            "<tr><td>NULL</td><td>MIHALYJ</td><td>4</td></tr>",
                            "<tr><td>NULL</td><td>miklos2</td><td>1</td></tr>",
                            "<tr><td>NULL</td><td>MIKLOSB</td><td>4</td></tr>",
                            "<tr><td>NULL</td><td>MONIKAM</td><td>4</td></tr>",
                            "<tr><td>NULL</td><td>NANDORF</td><td>2</td></tr>",
                            "<tr><td>NULL</td><td>nikolett3</td><td>5</td></tr>",
                            "<tr><td>NULL</td><td>nikoletta4</td><td>4</td></tr>",
                            "<tr><td>NULL</td><td>NIKOLETTAT</td><td>2</td></tr>",
                            "<tr><td>NULL</td><td>norbert</td><td>4</td></tr>",
                            "<tr><td>NULL</td><td>norbert2</td><td>4</td></tr>",
                            "<tr><td>NULL</td><td>norbert4</td><td>3</td></tr>",
                            "<tr><td>NULL</td><td>norbert5</td><td>2</td></tr>",
                            "<tr><td>NULL</td><td>pal</td><td>4</td></tr>",
                            "<tr><td>NULL</td><td>peter1</td><td>4</td></tr>",
                            "<tr><td>NULL</td><td>peter2</td><td>4</td></tr>",
                            "<tr><td>NULL</td><td>peter3</td><td>4</td></tr>",
                            "<tr><td>NULL</td><td>peter4</td><td>4</td></tr>",
                            "<tr><td>NULL</td><td>PETERB</td><td>3</td></tr>",
                            "<tr><td>NULL</td><td>polla</td><td>4</td></tr>",
                            "<tr><td>NULL</td><td>rajmond4</td><td>2</td></tr>",
                            "<tr><td>NULL</td><td>reka4</td><td>4</td></tr>",
                            "<tr><td>NULL</td><td>RENATAK</td><td>3</td></tr>",
                            "<tr><td>NULL</td><td>RENATAS</td><td>5</td></tr>",
                            "<tr><td>NULL</td><td>robert2</td><td>5</td></tr>",
                            "<tr><td>NULL</td><td>ROBERTI</td><td>4</td></tr>",
                            "<tr><td>NULL</td><td>ROBERTP</td><td>4</td></tr>",
                            "<tr><td>NULL</td><td>roland</td><td>2</td></tr>",
                            "<tr><td>NULL</td><td>roland1</td><td>4</td></tr>",
                            "<tr><td>NULL</td><td>roza2</td><td>4</td></tr>",
                            "<tr><td>NULL</td><td>sandor</td><td>5</td></tr>",
                            "<tr><td>NULL</td><td>sandor3</td><td>4</td></tr>",
                            "<tr><td>NULL</td><td>sandor4</td><td>4</td></tr>",
                            "<tr><td>NULL</td><td>sara</td><td>3</td></tr>",
                            "<tr><td>NULL</td><td>SEBASTIANF</td><td>4</td></tr>",
                            "<tr><td>NULL</td><td>sebestyen</td><td>5</td></tr>",
                            "<tr><td>NULL</td><td>szabolcs</td><td>2</td></tr>",
                            "<tr><td>NULL</td><td>SZABOLCSM</td><td>2</td></tr>",
                            "<tr><td>NULL</td><td>SZILARDS</td><td>5</td></tr>",
                            "<tr><td>NULL</td><td>szilvia1</td><td>4</td></tr>",
                            "<tr><td>NULL</td><td>tamara2</td><td>3</td></tr>",
                            "<tr><td>NULL</td><td>tamas</td><td>5</td></tr>",
                            "<tr><td>NULL</td><td>TAMASF</td><td>4</td></tr>",
                            "<tr><td>NULL</td><td>tibor</td><td>4</td></tr>",
                            "<tr><td>NULL</td><td>tibor2</td><td>5</td></tr>",
                            "<tr><td>NULL</td><td>tihamer</td><td>4</td></tr>",
                            "<tr><td>NULL</td><td>timea</td><td>1</td></tr>",
                            "<tr><td>NULL</td><td>timea2</td><td>2</td></tr>",
                            "<tr><td>NULL</td><td>tunde</td><td>4</td></tr>",
                            "<tr><td>NULL</td><td>valentin</td><td>5</td></tr>",
                            "<tr><td>NULL</td><td>veronika4</td><td>5</td></tr>",
                            "<tr><td>NULL</td><td>VIKTORIAU</td><td>3</td></tr>",
                            "<tr><td>NULL</td><td>VIKTORK</td><td>1</td></tr>",
                            "<tr><td>NULL</td><td>vivien3</td><td>3</td></tr>",
                            "<tr><td>NULL</td><td>zoltan</td><td>5</td></tr>",
                            "<tr><td>NULL</td><td>zoltan4</td><td>4</td></tr>",
                            "<tr><td>NULL</td><td>ZOLTANP</td><td>3</td></tr>",
                            "<tr><td>NULL</td><td>ZOLTANT</td><td>2</td></tr>",
                            "<tr><td>NULL</td><td>zsofi1</td><td>1</td></tr>",
                            "<tr><td>NULL</td><td>zsolt1</td><td>2</td></tr>",
                            "<tr><td>NULL</td><td>ZSOLTJ</td><td>3</td></tr>",
                            "<tr><td>NULL</td><td>zsuzsa</td><td>3</td></tr>",
                            "<tr><td>NULL</td><td>zsuzsa3</td><td>4</td></tr>",
                            "<tr><td>NULL</td><td>zsuzsanna</td><td>5</td></tr>",
                            "<tr><td>NULL</td><td>ZSUZSAV</td><td>3</td></tr>",
                            "<tr><td>9</td><td>NULL</td><td>4</td></tr>",
                            "<tr><td>3</td><td>NULL</td><td>3</td></tr>",
                            "<tr><td>12</td><td>NULL</td><td>4</td></tr>",
                            "<tr><td>6</td><td>NULL</td><td>4</td></tr>",
                            "<tr><td>7</td><td>NULL</td><td>3</td></tr>",
                            "<tr><td>1</td><td>NULL</td><td>4</td></tr>",
                            "<tr><td>10</td><td>NULL</td><td>3</td></tr>",
                            "<tr><td>4</td><td>NULL</td><td>4</td></tr>",
                            "<tr><td>5</td><td>NULL</td><td>4</td></tr>",
                            "<tr><td>2</td><td>NULL</td><td>3</td></tr>",
                            "<tr><td>11</td><td>NULL</td><td>3</td></tr>",
                            "<tr><td>8</td><td>NULL</td><td>3</td></tr>",
                            "</table>"
                        ]
                    }
                }
            ],
            "execution_count": 7
        },
        {
            "cell_type": "markdown",
            "source": [
                "Készítsünk lekérdezést, amely megadja, hogy szállás típusonként, <span style=\"box-sizing: border-box; font-size: 0.9375rem;\">azon belül szálláshely kategóriánként (csillagok_szama) hány&nbsp;</span> <span style=\"box-sizing: border-box; font-size: 0.9375rem;\">db szálláshely van!&nbsp;</span> \n",
                "\n",
                "<span style=\"box-sizing: border-box; font-size: 0.9375rem;\">a. A lista jelenítse&nbsp; meg a részösszegeket és&nbsp;</span> <span style=\"box-sizing: border-box; font-size: 0.9375rem;\">a végösszeget is (csak a végösszeget kell külön elnevezni)</span>"
            ],
            "metadata": {
                "azdata_cell_guid": "7c760331-032a-441f-a755-23bae41d53bb"
            },
            "attachments": {}
        },
        {
            "cell_type": "code",
            "source": [
                "SELECT isnull(TIPUS, 'Végösszeg'),\r\n",
                "    CSILLAGOK_SZAMA,\r\n",
                "    COUNT(*)\r\n",
                "from Szallashely sz\r\n",
                "group by ROLLUP ( TIPUS, CSILLAGOK_SZAMA )"
            ],
            "metadata": {
                "azdata_cell_guid": "f52842a4-ac19-43cb-a716-c38944cdc0b8",
                "tags": []
            },
            "outputs": [
                {
                    "output_type": "display_data",
                    "data": {
                        "text/html": "(12 rows affected)"
                    },
                    "metadata": {}
                },
                {
                    "output_type": "display_data",
                    "data": {
                        "text/html": "Total execution time: 00:00:00.041"
                    },
                    "metadata": {}
                },
                {
                    "output_type": "execute_result",
                    "metadata": {},
                    "execution_count": 13,
                    "data": {
                        "application/vnd.dataresource+json": {
                            "schema": {
                                "fields": [
                                    {
                                        "name": "(No column name)"
                                    },
                                    {
                                        "name": "CSILLAGOK_SZAMA"
                                    },
                                    {
                                        "name": "(No column name)"
                                    }
                                ]
                            },
                            "data": [
                                {
                                    "0": "Apartman",
                                    "1": "0",
                                    "2": "3"
                                },
                                {
                                    "0": "Apartman",
                                    "1": "NULL",
                                    "2": "3"
                                },
                                {
                                    "0": "Diákszálló",
                                    "1": "0",
                                    "2": "1"
                                },
                                {
                                    "0": "Diákszálló",
                                    "1": "NULL",
                                    "2": "1"
                                },
                                {
                                    "0": "Hotel",
                                    "1": "3",
                                    "2": "3"
                                },
                                {
                                    "0": "Hotel",
                                    "1": "4",
                                    "2": "3"
                                },
                                {
                                    "0": "Hotel",
                                    "1": "NULL",
                                    "2": "6"
                                },
                                {
                                    "0": "panzió",
                                    "1": "3",
                                    "2": "5"
                                },
                                {
                                    "0": "panzió",
                                    "1": "NULL",
                                    "2": "5"
                                },
                                {
                                    "0": "vendégház",
                                    "1": "0",
                                    "2": "6"
                                },
                                {
                                    "0": "vendégház",
                                    "1": "NULL",
                                    "2": "6"
                                },
                                {
                                    "0": "Végösszeg",
                                    "1": "NULL",
                                    "2": "21"
                                }
                            ]
                        },
                        "text/html": [
                            "<table>",
                            "<tr><th>(No column name)</th><th>CSILLAGOK_SZAMA</th><th>(No column name)</th></tr>",
                            "<tr><td>Apartman</td><td>0</td><td>3</td></tr>",
                            "<tr><td>Apartman</td><td>NULL</td><td>3</td></tr>",
                            "<tr><td>Diákszálló</td><td>0</td><td>1</td></tr>",
                            "<tr><td>Diákszálló</td><td>NULL</td><td>1</td></tr>",
                            "<tr><td>Hotel</td><td>3</td><td>3</td></tr>",
                            "<tr><td>Hotel</td><td>4</td><td>3</td></tr>",
                            "<tr><td>Hotel</td><td>NULL</td><td>6</td></tr>",
                            "<tr><td>panzió</td><td>3</td><td>5</td></tr>",
                            "<tr><td>panzió</td><td>NULL</td><td>5</td></tr>",
                            "<tr><td>vendégház</td><td>0</td><td>6</td></tr>",
                            "<tr><td>vendégház</td><td>NULL</td><td>6</td></tr>",
                            "<tr><td>Végösszeg</td><td>NULL</td><td>21</td></tr>",
                            "</table>"
                        ]
                    }
                }
            ],
            "execution_count": 13
        },
        {
            "cell_type": "markdown",
            "source": [
                "Jelenítsük meg az ügyfelek nevét, minden egyes foglalásuk <span style=\"box-sizing: border-box; font-size: 0.9375rem;\">kezdő dátumát, és azt, hogy a foglalás összesen hány főre&nbsp;</span> <span style=\"box-sizing: border-box; font-size: 0.9375rem;\">történt.&nbsp;</span> \n",
                "\n",
                "<span style=\"box-sizing: border-box; font-size: 0.9375rem;\">a. Egy új oszlopban mindig jelenjen meg az előző foglalás&nbsp;</span> <span style=\"box-sizing: border-box; font-size: 0.9375rem;\">kezdő dátuma is!</span>"
            ],
            "metadata": {
                "azdata_cell_guid": "4bc084c0-8190-47c5-bddc-3f2edd0fb4f4"
            },
            "attachments": {}
        },
        {
            "cell_type": "code",
            "source": [
                "SELECT NEV,\r\n",
                "    f.METTOL,\r\n",
                "    f.FELNOTT_SZAM + f.GYERMEK_SZAM,\r\n",
                "    LAG(METTOL, 1) over (order by foglalas_pk) \"Előző foglalás dátuma\"\r\n",
                "from Ugyfel u join Foglalas f on u.[LOGIN] = f.UGYFEL_FK"
            ],
            "metadata": {
                "azdata_cell_guid": "e12fe6cd-dd52-4934-8729-6b0dc40fdf94"
            },
            "outputs": [
                {
                    "output_type": "display_data",
                    "data": {
                        "text/html": "(1027 rows affected)"
                    },
                    "metadata": {}
                },
                {
                    "output_type": "display_data",
                    "data": {
                        "text/html": "Total execution time: 00:00:00.052"
                    },
                    "metadata": {}
                },
                {
                    "output_type": "execute_result",
                    "metadata": {},
                    "execution_count": 20,
                    "data": {
                        "application/vnd.dataresource+json": {
                            "schema": {
                                "fields": [
                                    {
                                        "name": "NEV"
                                    },
                                    {
                                        "name": "METTOL"
                                    },
                                    {
                                        "name": "(No column name)"
                                    },
                                    {
                                        "name": "Előző foglalás dátuma"
                                    }
                                ]
                            },
                            "data": [
                                {
                                    "0": "Fő Nándor",
                                    "1": "2016-04-06",
                                    "2": "3",
                                    "3": "NULL"
                                },
                                {
                                    "0": "Kelemen Áron",
                                    "1": "2016-04-06",
                                    "2": "2",
                                    "3": "2016-04-06"
                                },
                                {
                                    "0": "Foltényi Sebastián",
                                    "1": "2016-04-06",
                                    "2": "2",
                                    "3": "2016-04-06"
                                },
                                {
                                    "0": "Móra László",
                                    "1": "2016-04-06",
                                    "2": "2",
                                    "3": "2016-04-06"
                                },
                                {
                                    "0": "Berendi Péter",
                                    "1": "2016-04-06",
                                    "2": "1",
                                    "3": "2016-04-06"
                                },
                                {
                                    "0": "Rab Sebestyén",
                                    "1": "2016-04-07",
                                    "2": "4",
                                    "3": "2016-04-06"
                                },
                                {
                                    "0": "Kő Nikoletta",
                                    "1": "2016-04-08",
                                    "2": "2",
                                    "3": "2016-04-07"
                                },
                                {
                                    "0": "Poprádi Kristóf",
                                    "1": "2016-04-08",
                                    "2": "2",
                                    "3": "2016-04-08"
                                },
                                {
                                    "0": "Mogyródi Krisztián",
                                    "1": "2016-04-09",
                                    "2": "2",
                                    "3": "2016-04-08"
                                },
                                {
                                    "0": "Pivarcsi Anett",
                                    "1": "2016-04-10",
                                    "2": "1",
                                    "3": "2016-04-09"
                                },
                                {
                                    "0": "Gondos Katalin",
                                    "1": "2016-04-10",
                                    "2": "2",
                                    "3": "2016-04-10"
                                },
                                {
                                    "0": "Mile Norbert",
                                    "1": "2016-04-10",
                                    "2": "2",
                                    "3": "2016-04-10"
                                },
                                {
                                    "0": "Orbán Bernadett",
                                    "1": "2016-04-10",
                                    "2": "2",
                                    "3": "2016-04-10"
                                },
                                {
                                    "0": "Horváth Ágnes",
                                    "1": "2016-04-10",
                                    "2": "2",
                                    "3": "2016-04-10"
                                },
                                {
                                    "0": "Horváth Katalin",
                                    "1": "2016-04-10",
                                    "2": "2",
                                    "3": "2016-04-10"
                                },
                                {
                                    "0": "Keszler Dániel",
                                    "1": "2016-04-10",
                                    "2": "2",
                                    "3": "2016-04-10"
                                },
                                {
                                    "0": "Kovács Katalin",
                                    "1": "2016-04-10",
                                    "2": "2",
                                    "3": "2016-04-10"
                                },
                                {
                                    "0": "Rácz Dániel",
                                    "1": "2016-04-10",
                                    "2": "4",
                                    "3": "2016-04-10"
                                },
                                {
                                    "0": "Jakab Áron",
                                    "1": "2016-04-11",
                                    "2": "3",
                                    "3": "2016-04-10"
                                },
                                {
                                    "0": "Bíró Péter",
                                    "1": "2016-04-12",
                                    "2": "3",
                                    "3": "2016-04-11"
                                },
                                {
                                    "0": "Pivarcsi Anett",
                                    "1": "2016-04-13",
                                    "2": "3",
                                    "3": "2016-04-12"
                                },
                                {
                                    "0": "Vajda Zsuzsa",
                                    "1": "2016-04-14",
                                    "2": "2",
                                    "3": "2016-04-13"
                                },
                                {
                                    "0": "Pulai Zsolt",
                                    "1": "2016-04-14",
                                    "2": "2",
                                    "3": "2016-04-14"
                                },
                                {
                                    "0": "Pivarcsi Anett",
                                    "1": "2016-04-15",
                                    "2": "3",
                                    "3": "2016-04-14"
                                },
                                {
                                    "0": "Szűcs Balázs",
                                    "1": "2016-04-16",
                                    "2": "2",
                                    "3": "2016-04-15"
                                },
                                {
                                    "0": "Vizi István",
                                    "1": "2016-04-16",
                                    "2": "3",
                                    "3": "2016-04-16"
                                },
                                {
                                    "0": "Orbán Bernadett",
                                    "1": "2016-04-17",
                                    "2": "2",
                                    "3": "2016-04-16"
                                },
                                {
                                    "0": "Palágyi Polla",
                                    "1": "2016-04-17",
                                    "2": "3",
                                    "3": "2016-04-17"
                                },
                                {
                                    "0": "Szekendi Beatrix",
                                    "1": "2016-04-18",
                                    "2": "1",
                                    "3": "2016-04-17"
                                },
                                {
                                    "0": "Hegedűs Norbert",
                                    "1": "2016-04-19",
                                    "2": "1",
                                    "3": "2016-04-18"
                                },
                                {
                                    "0": "Kispál Márk",
                                    "1": "2016-04-19",
                                    "2": "4",
                                    "3": "2016-04-19"
                                },
                                {
                                    "0": "Gondos Miklós",
                                    "1": "2016-04-19",
                                    "2": "3",
                                    "3": "2016-04-19"
                                },
                                {
                                    "0": "Simon Anikó",
                                    "1": "2016-04-19",
                                    "2": "2",
                                    "3": "2016-04-19"
                                },
                                {
                                    "0": "Bagi Beáta",
                                    "1": "2016-04-20",
                                    "2": "2",
                                    "3": "2016-04-19"
                                },
                                {
                                    "0": "Tóth Júlia",
                                    "1": "2016-04-21",
                                    "2": "2",
                                    "3": "2016-04-20"
                                },
                                {
                                    "0": "Nagy Gabriella",
                                    "1": "2016-04-21",
                                    "2": "3",
                                    "3": "2016-04-21"
                                },
                                {
                                    "0": "Rácz Dániel",
                                    "1": "2016-04-22",
                                    "2": "2",
                                    "3": "2016-04-21"
                                },
                                {
                                    "0": "Horváth Bálint",
                                    "1": "2016-04-22",
                                    "2": "2",
                                    "3": "2016-04-22"
                                },
                                {
                                    "0": "Szalai Szilárd",
                                    "1": "2016-04-23",
                                    "2": "3",
                                    "3": "2016-04-22"
                                },
                                {
                                    "0": "Gyárfás Krisztina",
                                    "1": "2016-04-23",
                                    "2": "2",
                                    "3": "2016-04-23"
                                },
                                {
                                    "0": "Józsa Zsolt",
                                    "1": "2016-04-24",
                                    "2": "4",
                                    "3": "2016-04-23"
                                },
                                {
                                    "0": "Vizi István",
                                    "1": "2016-04-24",
                                    "2": "3",
                                    "3": "2016-04-24"
                                },
                                {
                                    "0": "Erdei András",
                                    "1": "2016-04-24",
                                    "2": "1",
                                    "3": "2016-04-24"
                                },
                                {
                                    "0": "Gondos Katalin",
                                    "1": "2016-04-25",
                                    "2": "1",
                                    "3": "2016-04-24"
                                },
                                {
                                    "0": "Rab Sebestyén",
                                    "1": "2016-04-26",
                                    "2": "4",
                                    "3": "2016-04-25"
                                },
                                {
                                    "0": "Telek Gábor",
                                    "1": "2016-04-26",
                                    "2": "3",
                                    "3": "2016-04-26"
                                },
                                {
                                    "0": "Móra László",
                                    "1": "2016-04-27",
                                    "2": "2",
                                    "3": "2016-04-26"
                                },
                                {
                                    "0": "Kalacsi Márton",
                                    "1": "2016-04-27",
                                    "2": "3",
                                    "3": "2016-04-27"
                                },
                                {
                                    "0": "Horváth Ágnes",
                                    "1": "2016-04-27",
                                    "2": "4",
                                    "3": "2016-04-27"
                                },
                                {
                                    "0": "Pivarcsi Anett",
                                    "1": "2016-04-28",
                                    "2": "3",
                                    "3": "2016-04-27"
                                },
                                {
                                    "0": "Bori Krisztina",
                                    "1": "2016-04-28",
                                    "2": "2",
                                    "3": "2016-04-28"
                                },
                                {
                                    "0": "Mohos Mónika",
                                    "1": "2016-04-29",
                                    "2": "2",
                                    "3": "2016-04-28"
                                },
                                {
                                    "0": "Urbán Viktoria",
                                    "1": "2016-04-30",
                                    "2": "1",
                                    "3": "2016-04-29"
                                },
                                {
                                    "0": "Vígh András",
                                    "1": "2016-05-01",
                                    "2": "2",
                                    "3": "2016-04-30"
                                },
                                {
                                    "0": "Kovács Bernadett",
                                    "1": "2016-05-01",
                                    "2": "2",
                                    "3": "2016-05-01"
                                },
                                {
                                    "0": "Nagymihály Csongor",
                                    "1": "2016-05-01",
                                    "2": "2",
                                    "3": "2016-05-01"
                                },
                                {
                                    "0": "Viktor Éva",
                                    "1": "2016-05-01",
                                    "2": "3",
                                    "3": "2016-05-01"
                                },
                                {
                                    "0": "Tóth Zoltán",
                                    "1": "2016-05-01",
                                    "2": "3",
                                    "3": "2016-05-01"
                                },
                                {
                                    "0": "Gyuris József",
                                    "1": "2016-05-02",
                                    "2": "2",
                                    "3": "2016-05-01"
                                },
                                {
                                    "0": "Boros Vivien",
                                    "1": "2016-05-02",
                                    "2": "3",
                                    "3": "2016-05-02"
                                },
                                {
                                    "0": "Fényes Tamás",
                                    "1": "2016-05-03",
                                    "2": "2",
                                    "3": "2016-05-02"
                                },
                                {
                                    "0": "Szirmai Renáta",
                                    "1": "2016-05-04",
                                    "2": "2",
                                    "3": "2016-05-03"
                                },
                                {
                                    "0": "Kalacsi Márton",
                                    "1": "2016-05-05",
                                    "2": "1",
                                    "3": "2016-05-04"
                                },
                                {
                                    "0": "Bárci Gusztáv",
                                    "1": "2016-05-06",
                                    "2": "2",
                                    "3": "2016-05-05"
                                },
                                {
                                    "0": "Bozsik Balázs",
                                    "1": "2016-05-07",
                                    "2": "2",
                                    "3": "2016-05-06"
                                },
                                {
                                    "0": "Nagymihály Csongor",
                                    "1": "2016-05-08",
                                    "2": "3",
                                    "3": "2016-05-07"
                                },
                                {
                                    "0": "Maródi Andrea",
                                    "1": "2016-05-08",
                                    "2": "4",
                                    "3": "2016-05-08"
                                },
                                {
                                    "0": "Orosz Ferenc",
                                    "1": "2016-05-08",
                                    "2": "2",
                                    "3": "2016-05-08"
                                },
                                {
                                    "0": "Győrffy Bence",
                                    "1": "2016-05-08",
                                    "2": "2",
                                    "3": "2016-05-08"
                                },
                                {
                                    "0": "Lukács Kornél",
                                    "1": "2016-05-08",
                                    "2": "3",
                                    "3": "2016-05-08"
                                },
                                {
                                    "0": "Lengyel Ágnes",
                                    "1": "2016-05-09",
                                    "2": "3",
                                    "3": "2016-05-08"
                                },
                                {
                                    "0": "Rácz Dániel",
                                    "1": "2016-05-09",
                                    "2": "3",
                                    "3": "2016-05-09"
                                },
                                {
                                    "0": "Józsa Zsolt",
                                    "1": "2016-05-09",
                                    "2": "2",
                                    "3": "2016-05-09"
                                },
                                {
                                    "0": "Giliga János",
                                    "1": "2016-05-09",
                                    "2": "1",
                                    "3": "2016-05-09"
                                },
                                {
                                    "0": "Hegedűs Norbert",
                                    "1": "2016-05-09",
                                    "2": "2",
                                    "3": "2016-05-09"
                                },
                                {
                                    "0": "Kovács Katalin",
                                    "1": "2016-05-09",
                                    "2": "3",
                                    "3": "2016-05-09"
                                },
                                {
                                    "0": "Kő Nikoletta",
                                    "1": "2016-05-09",
                                    "2": "2",
                                    "3": "2016-05-09"
                                },
                                {
                                    "0": "Keszler Dániel",
                                    "1": "2016-05-10",
                                    "2": "4",
                                    "3": "2016-05-09"
                                },
                                {
                                    "0": "Szilágyi Mátyás",
                                    "1": "2016-05-10",
                                    "2": "2",
                                    "3": "2016-05-10"
                                },
                                {
                                    "0": "Szirmai Renáta",
                                    "1": "2016-05-11",
                                    "2": "2",
                                    "3": "2016-05-10"
                                },
                                {
                                    "0": "Tóth Júlia",
                                    "1": "2016-05-12",
                                    "2": "1",
                                    "3": "2016-05-11"
                                },
                                {
                                    "0": "Barna Zoltán",
                                    "1": "2016-05-12",
                                    "2": "3",
                                    "3": "2016-05-12"
                                },
                                {
                                    "0": "Farkas Sándor",
                                    "1": "2016-05-12",
                                    "2": "2",
                                    "3": "2016-05-12"
                                },
                                {
                                    "0": "Barna Zoltán",
                                    "1": "2016-05-13",
                                    "2": "3",
                                    "3": "2016-05-12"
                                },
                                {
                                    "0": "Baráth Mária",
                                    "1": "2016-05-13",
                                    "2": "2",
                                    "3": "2016-05-13"
                                },
                                {
                                    "0": "Komjáti András",
                                    "1": "2016-05-14",
                                    "2": "2",
                                    "3": "2016-05-13"
                                },
                                {
                                    "0": "Tari Szilvia",
                                    "1": "2016-05-14",
                                    "2": "2",
                                    "3": "2016-05-14"
                                },
                                {
                                    "0": "Kelemen Áron",
                                    "1": "2016-05-14",
                                    "2": "4",
                                    "3": "2016-05-14"
                                },
                                {
                                    "0": "Bajusz Bence",
                                    "1": "2016-05-14",
                                    "2": "3",
                                    "3": "2016-05-14"
                                },
                                {
                                    "0": "Patay Róbert",
                                    "1": "2016-05-15",
                                    "2": "2",
                                    "3": "2016-05-14"
                                },
                                {
                                    "0": "Bori Krisztina",
                                    "1": "2016-05-16",
                                    "2": "1",
                                    "3": "2016-05-15"
                                },
                                {
                                    "0": "Antal Tamás",
                                    "1": "2016-05-17",
                                    "2": "2",
                                    "3": "2016-05-16"
                                },
                                {
                                    "0": "Barta Zsuzsanna",
                                    "1": "2016-05-17",
                                    "2": "2",
                                    "3": "2016-05-17"
                                },
                                {
                                    "0": "Dunai Aladár",
                                    "1": "2016-05-17",
                                    "2": "1",
                                    "3": "2016-05-17"
                                },
                                {
                                    "0": "Baráth Mária",
                                    "1": "2016-05-18",
                                    "2": "1",
                                    "3": "2016-05-17"
                                },
                                {
                                    "0": "Ambrus Dávid",
                                    "1": "2016-05-18",
                                    "2": "2",
                                    "3": "2016-05-18"
                                },
                                {
                                    "0": "Csiger Bertalan",
                                    "1": "2016-05-18",
                                    "2": "2",
                                    "3": "2016-05-18"
                                },
                                {
                                    "0": "Bíró Ákos",
                                    "1": "2016-05-18",
                                    "2": "2",
                                    "3": "2016-05-18"
                                },
                                {
                                    "0": "Horváth Krisztina",
                                    "1": "2016-05-19",
                                    "2": "2",
                                    "3": "2016-05-18"
                                },
                                {
                                    "0": "Gulyás Attila",
                                    "1": "2016-05-20",
                                    "2": "1",
                                    "3": "2016-05-19"
                                },
                                {
                                    "0": "Bagóczki Alexandra",
                                    "1": "2016-05-21",
                                    "2": "3",
                                    "3": "2016-05-20"
                                },
                                {
                                    "0": "Szedlár Krisztina",
                                    "1": "2016-05-21",
                                    "2": "2",
                                    "3": "2016-05-21"
                                },
                                {
                                    "0": "Opra Attila",
                                    "1": "2016-05-21",
                                    "2": "3",
                                    "3": "2016-05-21"
                                },
                                {
                                    "0": "Horváth Katalin",
                                    "1": "2016-05-21",
                                    "2": "1",
                                    "3": "2016-05-21"
                                },
                                {
                                    "0": "Komjáti András",
                                    "1": "2016-05-21",
                                    "2": "4",
                                    "3": "2016-05-21"
                                },
                                {
                                    "0": "Tatár Nikoletta",
                                    "1": "2016-05-22",
                                    "2": "4",
                                    "3": "2016-05-21"
                                },
                                {
                                    "0": "Botka Mátyás",
                                    "1": "2016-07-13",
                                    "2": "2",
                                    "3": "2016-05-22"
                                },
                                {
                                    "0": "Zatykó Katalin",
                                    "1": "2016-07-13",
                                    "2": "2",
                                    "3": "2016-07-13"
                                },
                                {
                                    "0": "Lengyel Ágnes",
                                    "1": "2016-07-13",
                                    "2": "3",
                                    "3": "2016-07-13"
                                },
                                {
                                    "0": "Frank Fruzsina",
                                    "1": "2016-07-13",
                                    "2": "3",
                                    "3": "2016-07-13"
                                },
                                {
                                    "0": "Tóth Zoltán",
                                    "1": "2016-07-14",
                                    "2": "3",
                                    "3": "2016-07-13"
                                },
                                {
                                    "0": "Turcsik Tünde",
                                    "1": "2016-07-14",
                                    "2": "1",
                                    "3": "2016-07-14"
                                },
                                {
                                    "0": "Horváth Árpád",
                                    "1": "2016-07-14",
                                    "2": "2",
                                    "3": "2016-07-14"
                                },
                                {
                                    "0": "Kozma Péter",
                                    "1": "2016-07-14",
                                    "2": "3",
                                    "3": "2016-07-14"
                                },
                                {
                                    "0": "Bittmann Edit",
                                    "1": "2016-07-14",
                                    "2": "3",
                                    "3": "2016-07-14"
                                },
                                {
                                    "0": "Bíró Ákos",
                                    "1": "2016-07-14",
                                    "2": "2",
                                    "3": "2016-07-14"
                                },
                                {
                                    "0": "Vígh András",
                                    "1": "2016-07-15",
                                    "2": "3",
                                    "3": "2016-07-14"
                                },
                                {
                                    "0": "Farkas Sára",
                                    "1": "2016-07-15",
                                    "2": "3",
                                    "3": "2016-07-15"
                                },
                                {
                                    "0": "Bíró Ákos",
                                    "1": "2016-07-16",
                                    "2": "2",
                                    "3": "2016-07-15"
                                },
                                {
                                    "0": "Vajda József",
                                    "1": "2016-07-16",
                                    "2": "3",
                                    "3": "2016-07-16"
                                },
                                {
                                    "0": "Bakódy Balázs",
                                    "1": "2016-07-17",
                                    "2": "2",
                                    "3": "2016-07-16"
                                },
                                {
                                    "0": "Simon Anikó",
                                    "1": "2016-07-17",
                                    "2": "3",
                                    "3": "2016-07-17"
                                },
                                {
                                    "0": "Foltényi Sebastián",
                                    "1": "2016-07-17",
                                    "2": "2",
                                    "3": "2016-07-17"
                                },
                                {
                                    "0": "Ambrus Dávid",
                                    "1": "2016-07-18",
                                    "2": "2",
                                    "3": "2016-07-17"
                                },
                                {
                                    "0": "Kiss Lajos",
                                    "1": "2016-07-18",
                                    "2": "2",
                                    "3": "2016-07-18"
                                },
                                {
                                    "0": "Oroszi György",
                                    "1": "2016-07-18",
                                    "2": "2",
                                    "3": "2016-07-18"
                                },
                                {
                                    "0": "Regős Annamária",
                                    "1": "2016-07-18",
                                    "2": "1",
                                    "3": "2016-07-18"
                                },
                                {
                                    "0": "Józsa Zsolt",
                                    "1": "2016-07-18",
                                    "2": "2",
                                    "3": "2016-07-18"
                                },
                                {
                                    "0": "Karasz Sándor",
                                    "1": "2016-07-18",
                                    "2": "2",
                                    "3": "2016-07-18"
                                },
                                {
                                    "0": "Balla Miklós",
                                    "1": "2016-07-18",
                                    "2": "2",
                                    "3": "2016-07-18"
                                },
                                {
                                    "0": "Érsek Eszter",
                                    "1": "2016-07-19",
                                    "2": "2",
                                    "3": "2016-07-18"
                                },
                                {
                                    "0": "Vizi István",
                                    "1": "2016-07-19",
                                    "2": "1",
                                    "3": "2016-07-19"
                                },
                                {
                                    "0": "Tömböly Dénes",
                                    "1": "2016-07-19",
                                    "2": "2",
                                    "3": "2016-07-19"
                                },
                                {
                                    "0": "Szűcs Balázs",
                                    "1": "2016-07-20",
                                    "2": "2",
                                    "3": "2016-07-19"
                                },
                                {
                                    "0": "Szabó Julianna",
                                    "1": "2016-07-20",
                                    "2": "2",
                                    "3": "2016-07-20"
                                },
                                {
                                    "0": "Tóth András",
                                    "1": "2016-07-20",
                                    "2": "2",
                                    "3": "2016-07-20"
                                },
                                {
                                    "0": "Berendi Péter",
                                    "1": "2016-07-20",
                                    "2": "2",
                                    "3": "2016-07-20"
                                },
                                {
                                    "0": "Tankó Veronika",
                                    "1": "2016-07-20",
                                    "2": "3",
                                    "3": "2016-07-20"
                                },
                                {
                                    "0": "Nagymihály Lajos",
                                    "1": "2016-07-20",
                                    "2": "3",
                                    "3": "2016-07-20"
                                },
                                {
                                    "0": "Molnár András",
                                    "1": "2016-07-20",
                                    "2": "1",
                                    "3": "2016-07-20"
                                },
                                {
                                    "0": "Kazy Tihamér",
                                    "1": "2016-07-20",
                                    "2": "3",
                                    "3": "2016-07-20"
                                },
                                {
                                    "0": "Tóth Júlia",
                                    "1": "2016-07-20",
                                    "2": "2",
                                    "3": "2016-07-20"
                                },
                                {
                                    "0": "Pintér Zoltán",
                                    "1": "2016-07-20",
                                    "2": "3",
                                    "3": "2016-07-20"
                                },
                                {
                                    "0": "Vígh András",
                                    "1": "2016-07-21",
                                    "2": "2",
                                    "3": "2016-07-20"
                                },
                                {
                                    "0": "Vukasinovity Bálint",
                                    "1": "2016-07-21",
                                    "2": "1",
                                    "3": "2016-07-21"
                                },
                                {
                                    "0": "Bozsik Balázs",
                                    "1": "2016-07-22",
                                    "2": "4",
                                    "3": "2016-07-21"
                                },
                                {
                                    "0": "Böröcz Anikó",
                                    "1": "2016-07-22",
                                    "2": "3",
                                    "3": "2016-07-22"
                                },
                                {
                                    "0": "Bíró Ákos",
                                    "1": "2016-07-22",
                                    "2": "1",
                                    "3": "2016-07-22"
                                },
                                {
                                    "0": "Kuruc Emese",
                                    "1": "2016-07-22",
                                    "2": "2",
                                    "3": "2016-07-22"
                                },
                                {
                                    "0": "Szilágyi Mátyás",
                                    "1": "2016-07-23",
                                    "2": "3",
                                    "3": "2016-07-22"
                                },
                                {
                                    "0": "Mohos Mónika",
                                    "1": "2016-07-23",
                                    "2": "1",
                                    "3": "2016-07-23"
                                },
                                {
                                    "0": "Feró Valentin",
                                    "1": "2016-07-24",
                                    "2": "1",
                                    "3": "2016-07-23"
                                },
                                {
                                    "0": "Nagy Gabriella",
                                    "1": "2016-07-24",
                                    "2": "2",
                                    "3": "2016-07-24"
                                },
                                {
                                    "0": "Farkas Sára",
                                    "1": "2016-07-24",
                                    "2": "3",
                                    "3": "2016-07-24"
                                },
                                {
                                    "0": "Pusztai Zsuzsanna",
                                    "1": "2016-07-24",
                                    "2": "3",
                                    "3": "2016-07-24"
                                },
                                {
                                    "0": "Győrffy Bence",
                                    "1": "2016-07-24",
                                    "2": "2",
                                    "3": "2016-07-24"
                                },
                                {
                                    "0": "Győrffy Bence",
                                    "1": "2016-07-25",
                                    "2": "3",
                                    "3": "2016-07-24"
                                },
                                {
                                    "0": "Tari Szilvia",
                                    "1": "2016-07-25",
                                    "2": "2",
                                    "3": "2016-07-25"
                                },
                                {
                                    "0": "Nagymihály Lajos",
                                    "1": "2016-07-26",
                                    "2": "3",
                                    "3": "2016-07-25"
                                },
                                {
                                    "0": "Molnár Bálint",
                                    "1": "2016-07-26",
                                    "2": "2",
                                    "3": "2016-07-26"
                                },
                                {
                                    "0": "Szalai Szilárd",
                                    "1": "2016-07-27",
                                    "2": "5",
                                    "3": "2016-07-26"
                                },
                                {
                                    "0": "Farkas Béla",
                                    "1": "2016-07-27",
                                    "2": "3",
                                    "3": "2016-07-27"
                                },
                                {
                                    "0": "Tatár Nikoletta",
                                    "1": "2016-07-27",
                                    "2": "4",
                                    "3": "2016-07-27"
                                },
                                {
                                    "0": "Szikszai Réka",
                                    "1": "2016-07-27",
                                    "2": "2",
                                    "3": "2016-07-27"
                                },
                                {
                                    "0": "Kiss Andrea",
                                    "1": "2016-07-27",
                                    "2": "2",
                                    "3": "2016-07-27"
                                },
                                {
                                    "0": "Zatykó Katalin",
                                    "1": "2016-07-27",
                                    "2": "2",
                                    "3": "2016-07-27"
                                },
                                {
                                    "0": "Hegedűs Norbert",
                                    "1": "2016-07-27",
                                    "2": "2",
                                    "3": "2016-07-27"
                                },
                                {
                                    "0": "Tornyos Andrea",
                                    "1": "2016-07-27",
                                    "2": "2",
                                    "3": "2016-07-27"
                                },
                                {
                                    "0": "Szalai Péter",
                                    "1": "2016-07-27",
                                    "2": "4",
                                    "3": "2016-07-27"
                                },
                                {
                                    "0": "Bagóczki Alexandra",
                                    "1": "2016-07-27",
                                    "2": "2",
                                    "3": "2016-07-27"
                                },
                                {
                                    "0": "Bakódy Balázs",
                                    "1": "2016-07-27",
                                    "2": "4",
                                    "3": "2016-07-27"
                                },
                                {
                                    "0": "Hídasi Judit",
                                    "1": "2016-07-28",
                                    "2": "2",
                                    "3": "2016-07-27"
                                },
                                {
                                    "0": "Köves Gábor",
                                    "1": "2016-07-28",
                                    "2": "2",
                                    "3": "2016-07-28"
                                },
                                {
                                    "0": "Komjáti András",
                                    "1": "2016-07-28",
                                    "2": "3",
                                    "3": "2016-07-28"
                                },
                                {
                                    "0": "Czérna Krisztián",
                                    "1": "2016-07-28",
                                    "2": "2",
                                    "3": "2016-07-28"
                                },
                                {
                                    "0": "Horváth Katalin",
                                    "1": "2016-07-28",
                                    "2": "1",
                                    "3": "2016-07-28"
                                },
                                {
                                    "0": "Oroszi György",
                                    "1": "2016-07-28",
                                    "2": "3",
                                    "3": "2016-07-28"
                                },
                                {
                                    "0": "Miklós Szabolcs",
                                    "1": "2016-07-28",
                                    "2": "2",
                                    "3": "2016-07-28"
                                },
                                {
                                    "0": "Kovács Ágnes",
                                    "1": "2016-07-29",
                                    "2": "3",
                                    "3": "2016-07-28"
                                },
                                {
                                    "0": "Farkas Béla",
                                    "1": "2016-07-29",
                                    "2": "2",
                                    "3": "2016-07-29"
                                },
                                {
                                    "0": "Lengyel Ágnes",
                                    "1": "2016-07-30",
                                    "2": "3",
                                    "3": "2016-07-29"
                                },
                                {
                                    "0": "Pásztor Róbert",
                                    "1": "2016-07-30",
                                    "2": "2",
                                    "3": "2016-07-30"
                                },
                                {
                                    "0": "Varsányi Zsuzsa",
                                    "1": "2016-07-30",
                                    "2": "2",
                                    "3": "2016-07-30"
                                },
                                {
                                    "0": "Foltényi Sebastián",
                                    "1": "2016-07-30",
                                    "2": "4",
                                    "3": "2016-07-30"
                                },
                                {
                                    "0": "Bosnyák Ilona",
                                    "1": "2016-07-31",
                                    "2": "2",
                                    "3": "2016-07-30"
                                },
                                {
                                    "0": "Pulai Zsolt",
                                    "1": "2016-07-31",
                                    "2": "2",
                                    "3": "2016-07-31"
                                },
                                {
                                    "0": "Kiss Andrea",
                                    "1": "2016-08-01",
                                    "2": "2",
                                    "3": "2016-07-31"
                                },
                                {
                                    "0": "Bajusz Bence",
                                    "1": "2016-08-01",
                                    "2": "2",
                                    "3": "2016-08-01"
                                },
                                {
                                    "0": "Tömböly Dénes",
                                    "1": "2016-08-01",
                                    "2": "3",
                                    "3": "2016-08-01"
                                },
                                {
                                    "0": "Czérna Krisztián",
                                    "1": "2016-08-01",
                                    "2": "3",
                                    "3": "2016-08-01"
                                },
                                {
                                    "0": "Szikszai Réka",
                                    "1": "2016-08-02",
                                    "2": "4",
                                    "3": "2016-08-01"
                                },
                                {
                                    "0": "Mogyródi Krisztián",
                                    "1": "2016-08-02",
                                    "2": "4",
                                    "3": "2016-08-02"
                                },
                                {
                                    "0": "Bittmann Edit",
                                    "1": "2016-08-03",
                                    "2": "4",
                                    "3": "2016-08-02"
                                },
                                {
                                    "0": "Zatykó Katalin",
                                    "1": "2016-08-03",
                                    "2": "2",
                                    "3": "2016-08-03"
                                },
                                {
                                    "0": "Molnár Bálint",
                                    "1": "2016-08-03",
                                    "2": "2",
                                    "3": "2016-08-03"
                                },
                                {
                                    "0": "Urbán Viktoria",
                                    "1": "2016-08-03",
                                    "2": "2",
                                    "3": "2016-08-03"
                                },
                                {
                                    "0": "Bosnyák Ilona",
                                    "1": "2016-08-04",
                                    "2": "3",
                                    "3": "2016-08-03"
                                },
                                {
                                    "0": "Hartyánszky Ágnes",
                                    "1": "2016-08-04",
                                    "2": "1",
                                    "3": "2016-08-04"
                                },
                                {
                                    "0": "Bárci Gusztáv",
                                    "1": "2016-08-05",
                                    "2": "3",
                                    "3": "2016-08-04"
                                },
                                {
                                    "0": "Ambrus Dávid",
                                    "1": "2016-08-05",
                                    "2": "1",
                                    "3": "2016-08-05"
                                },
                                {
                                    "0": "Kelemen Áron",
                                    "1": "2016-08-05",
                                    "2": "4",
                                    "3": "2016-08-05"
                                },
                                {
                                    "0": "Bíró Péter",
                                    "1": "2016-08-06",
                                    "2": "2",
                                    "3": "2016-08-05"
                                },
                                {
                                    "0": "Endresz Bálint",
                                    "1": "2016-08-06",
                                    "2": "2",
                                    "3": "2016-08-06"
                                },
                                {
                                    "0": "Vörös Dániel",
                                    "1": "2016-08-06",
                                    "2": "2",
                                    "3": "2016-08-06"
                                },
                                {
                                    "0": "Dusha Tímea",
                                    "1": "2016-08-07",
                                    "2": "3",
                                    "3": "2016-08-06"
                                },
                                {
                                    "0": "Gyárfás Krisztina",
                                    "1": "2016-08-08",
                                    "2": "3",
                                    "3": "2016-08-07"
                                },
                                {
                                    "0": "Kispál Márk",
                                    "1": "2016-08-09",
                                    "2": "3",
                                    "3": "2016-08-08"
                                },
                                {
                                    "0": "Kuruc Emese",
                                    "1": "2016-08-09",
                                    "2": "2",
                                    "3": "2016-08-09"
                                },
                                {
                                    "0": "Béres Norbert",
                                    "1": "2016-08-10",
                                    "2": "2",
                                    "3": "2016-08-09"
                                },
                                {
                                    "0": "Baráth Mária",
                                    "1": "2016-08-11",
                                    "2": "3",
                                    "3": "2016-08-10"
                                },
                                {
                                    "0": "Kerényi Beatrix",
                                    "1": "2016-08-12",
                                    "2": "4",
                                    "3": "2016-08-11"
                                },
                                {
                                    "0": "Kalacsi Márton",
                                    "1": "2016-08-12",
                                    "2": "2",
                                    "3": "2016-08-12"
                                },
                                {
                                    "0": "Miklós Tamara",
                                    "1": "2016-08-12",
                                    "2": "3",
                                    "3": "2016-08-12"
                                },
                                {
                                    "0": "Móricz Árpád",
                                    "1": "2016-08-12",
                                    "2": "2",
                                    "3": "2016-08-12"
                                },
                                {
                                    "0": "Molnár Eszter",
                                    "1": "2016-08-12",
                                    "2": "3",
                                    "3": "2016-08-12"
                                },
                                {
                                    "0": "Bittmann Edit",
                                    "1": "2016-08-12",
                                    "2": "2",
                                    "3": "2016-08-12"
                                },
                                {
                                    "0": "Boros Vivien",
                                    "1": "2016-08-13",
                                    "2": "2",
                                    "3": "2016-08-12"
                                },
                                {
                                    "0": "Kő Nikoletta",
                                    "1": "2016-08-13",
                                    "2": "3",
                                    "3": "2016-08-13"
                                },
                                {
                                    "0": "Barabás Pál",
                                    "1": "2016-08-14",
                                    "2": "3",
                                    "3": "2016-08-13"
                                },
                                {
                                    "0": "Palágyi Polla",
                                    "1": "2016-08-14",
                                    "2": "2",
                                    "3": "2016-08-14"
                                },
                                {
                                    "0": "Móra László",
                                    "1": "2016-08-14",
                                    "2": "3",
                                    "3": "2016-08-14"
                                },
                                {
                                    "0": "Barna Zoltán",
                                    "1": "2016-08-15",
                                    "2": "1",
                                    "3": "2016-08-14"
                                },
                                {
                                    "0": "Pivarcsi Anett",
                                    "1": "2016-08-15",
                                    "2": "2",
                                    "3": "2016-08-15"
                                },
                                {
                                    "0": "Berendi Péter",
                                    "1": "2016-08-16",
                                    "2": "1",
                                    "3": "2016-08-15"
                                },
                                {
                                    "0": "Hegedűs Norbert",
                                    "1": "2016-08-16",
                                    "2": "1",
                                    "3": "2016-08-16"
                                },
                                {
                                    "0": "Tömböly Dénes",
                                    "1": "2016-08-16",
                                    "2": "2",
                                    "3": "2016-08-16"
                                },
                                {
                                    "0": "Barna Zoltán",
                                    "1": "2016-08-16",
                                    "2": "2",
                                    "3": "2016-08-16"
                                },
                                {
                                    "0": "Sarodi Dóra",
                                    "1": "2016-08-16",
                                    "2": "4",
                                    "3": "2016-08-16"
                                },
                                {
                                    "0": "Erdei András",
                                    "1": "2016-08-16",
                                    "2": "2",
                                    "3": "2016-08-16"
                                },
                                {
                                    "0": "Czérna Krisztián",
                                    "1": "2016-08-16",
                                    "2": "1",
                                    "3": "2016-08-16"
                                },
                                {
                                    "0": "Nyíri Georgij",
                                    "1": "2016-08-16",
                                    "2": "4",
                                    "3": "2016-08-16"
                                },
                                {
                                    "0": "Giliga János",
                                    "1": "2016-08-16",
                                    "2": "3",
                                    "3": "2016-08-16"
                                },
                                {
                                    "0": "Tankó Veronika",
                                    "1": "2016-08-16",
                                    "2": "1",
                                    "3": "2016-08-16"
                                },
                                {
                                    "0": "Iván Róbert",
                                    "1": "2016-08-16",
                                    "2": "2",
                                    "3": "2016-08-16"
                                },
                                {
                                    "0": "Palágyi Polla",
                                    "1": "2016-08-16",
                                    "2": "4",
                                    "3": "2016-08-16"
                                },
                                {
                                    "0": "Pivarcsi Anett",
                                    "1": "2016-08-17",
                                    "2": "3",
                                    "3": "2016-08-16"
                                },
                                {
                                    "0": "Koza Máté",
                                    "1": "2016-08-17",
                                    "2": "4",
                                    "3": "2016-08-17"
                                },
                                {
                                    "0": "Kornseé Gyöngyi",
                                    "1": "2016-08-17",
                                    "2": "3",
                                    "3": "2016-08-17"
                                },
                                {
                                    "0": "Komjáti András",
                                    "1": "2016-08-17",
                                    "2": "3",
                                    "3": "2016-08-17"
                                },
                                {
                                    "0": "Baróti Attila",
                                    "1": "2016-08-18",
                                    "2": "4",
                                    "3": "2016-08-17"
                                },
                                {
                                    "0": "Kazy Tihamér",
                                    "1": "2016-08-18",
                                    "2": "3",
                                    "3": "2016-08-18"
                                },
                                {
                                    "0": "Komjáti András",
                                    "1": "2016-08-19",
                                    "2": "1",
                                    "3": "2016-08-18"
                                },
                                {
                                    "0": "Karasz Sándor",
                                    "1": "2016-08-20",
                                    "2": "2",
                                    "3": "2016-08-19"
                                },
                                {
                                    "0": "Ambrus Dávid",
                                    "1": "2016-08-20",
                                    "2": "3",
                                    "3": "2016-08-20"
                                },
                                {
                                    "0": "Patay Róbert",
                                    "1": "2016-08-20",
                                    "2": "2",
                                    "3": "2016-08-20"
                                },
                                {
                                    "0": "Kiss Ádám",
                                    "1": "2016-08-20",
                                    "2": "1",
                                    "3": "2016-08-20"
                                },
                                {
                                    "0": "Tömböly Dénes",
                                    "1": "2016-08-20",
                                    "2": "3",
                                    "3": "2016-08-20"
                                },
                                {
                                    "0": "Szűcs Balázs",
                                    "1": "2016-08-21",
                                    "2": "3",
                                    "3": "2016-08-20"
                                },
                                {
                                    "0": "Papp Imre",
                                    "1": "2016-08-21",
                                    "2": "2",
                                    "3": "2016-08-21"
                                },
                                {
                                    "0": "Ambrus Dávid",
                                    "1": "2016-08-22",
                                    "2": "3",
                                    "3": "2016-08-21"
                                },
                                {
                                    "0": "Iván Róbert",
                                    "1": "2016-08-23",
                                    "2": "2",
                                    "3": "2016-08-22"
                                },
                                {
                                    "0": "Kiss Andrea",
                                    "1": "2016-08-23",
                                    "2": "3",
                                    "3": "2016-08-23"
                                },
                                {
                                    "0": "Papp Imre",
                                    "1": "2016-08-23",
                                    "2": "3",
                                    "3": "2016-08-23"
                                },
                                {
                                    "0": "Ötvös Árpád",
                                    "1": "2016-08-23",
                                    "2": "2",
                                    "3": "2016-08-23"
                                },
                                {
                                    "0": "Kovács Bernadett",
                                    "1": "2016-08-23",
                                    "2": "2",
                                    "3": "2016-08-23"
                                },
                                {
                                    "0": "Gyuris József",
                                    "1": "2016-08-24",
                                    "2": "3",
                                    "3": "2016-08-23"
                                },
                                {
                                    "0": "Gondos Katalin",
                                    "1": "2016-08-24",
                                    "2": "3",
                                    "3": "2016-08-24"
                                },
                                {
                                    "0": "Bíró Péter",
                                    "1": "2016-08-24",
                                    "2": "3",
                                    "3": "2016-08-24"
                                },
                                {
                                    "0": "Bakódy Balázs",
                                    "1": "2016-08-24",
                                    "2": "3",
                                    "3": "2016-08-24"
                                },
                                {
                                    "0": "Antal Tamás",
                                    "1": "2016-08-24",
                                    "2": "3",
                                    "3": "2016-08-24"
                                },
                                {
                                    "0": "Nádudvari Henrik",
                                    "1": "2016-08-24",
                                    "2": "1",
                                    "3": "2016-08-24"
                                },
                                {
                                    "0": "Kovács Katalin",
                                    "1": "2016-08-24",
                                    "2": "2",
                                    "3": "2016-08-24"
                                },
                                {
                                    "0": "Harangozó János",
                                    "1": "2016-08-24",
                                    "2": "3",
                                    "3": "2016-08-24"
                                },
                                {
                                    "0": "Horváth Krisztina",
                                    "1": "2016-08-24",
                                    "2": "3",
                                    "3": "2016-08-24"
                                },
                                {
                                    "0": "Fodor Zoltán",
                                    "1": "2016-08-24",
                                    "2": "2",
                                    "3": "2016-08-24"
                                },
                                {
                                    "0": "Bagi Beáta",
                                    "1": "2016-08-25",
                                    "2": "3",
                                    "3": "2016-08-24"
                                },
                                {
                                    "0": "Kovács Bernadett",
                                    "1": "2016-08-25",
                                    "2": "3",
                                    "3": "2016-08-25"
                                },
                                {
                                    "0": "Sarodi Dóra",
                                    "1": "2016-08-25",
                                    "2": "3",
                                    "3": "2016-08-25"
                                },
                                {
                                    "0": "Kiss Andrea",
                                    "1": "2016-08-26",
                                    "2": "2",
                                    "3": "2016-08-25"
                                },
                                {
                                    "0": "Simon Anikó",
                                    "1": "2016-08-26",
                                    "2": "2",
                                    "3": "2016-08-26"
                                },
                                {
                                    "0": "Frank Fruzsina",
                                    "1": "2016-08-27",
                                    "2": "4",
                                    "3": "2016-08-26"
                                },
                                {
                                    "0": "Bieniek Ádám",
                                    "1": "2016-08-28",
                                    "2": "3",
                                    "3": "2016-08-27"
                                },
                                {
                                    "0": "Szalai Szilárd",
                                    "1": "2016-08-28",
                                    "2": "4",
                                    "3": "2016-08-28"
                                },
                                {
                                    "0": "Nyíri Georgij",
                                    "1": "2016-08-28",
                                    "2": "2",
                                    "3": "2016-08-28"
                                },
                                {
                                    "0": "Székely Brigitta",
                                    "1": "2016-08-28",
                                    "2": "3",
                                    "3": "2016-08-28"
                                },
                                {
                                    "0": "Pusztai Zsuzsanna",
                                    "1": "2016-08-28",
                                    "2": "2",
                                    "3": "2016-08-28"
                                },
                                {
                                    "0": "Czérna Krisztián",
                                    "1": "2016-08-29",
                                    "2": "1",
                                    "3": "2016-08-28"
                                },
                                {
                                    "0": "Andor Ibolya",
                                    "1": "2016-08-29",
                                    "2": "5",
                                    "3": "2016-08-29"
                                },
                                {
                                    "0": "Papp Imre",
                                    "1": "2016-08-29",
                                    "2": "2",
                                    "3": "2016-08-29"
                                },
                                {
                                    "0": "Vígh András",
                                    "1": "2016-08-29",
                                    "2": "3",
                                    "3": "2016-08-29"
                                },
                                {
                                    "0": "Farkas Béla",
                                    "1": "2016-08-29",
                                    "2": "2",
                                    "3": "2016-08-29"
                                },
                                {
                                    "0": "Juhász Mihály",
                                    "1": "2016-08-29",
                                    "2": "1",
                                    "3": "2016-08-29"
                                },
                                {
                                    "0": "Giliga János",
                                    "1": "2016-08-30",
                                    "2": "3",
                                    "3": "2016-08-29"
                                },
                                {
                                    "0": "Telek Gábor",
                                    "1": "2016-08-31",
                                    "2": "4",
                                    "3": "2016-08-30"
                                },
                                {
                                    "0": "Viktor Éva",
                                    "1": "2016-08-31",
                                    "2": "2",
                                    "3": "2016-08-31"
                                },
                                {
                                    "0": "Boros Vivien",
                                    "1": "2016-09-01",
                                    "2": "2",
                                    "3": "2016-08-31"
                                },
                                {
                                    "0": "Köves Gábor",
                                    "1": "2016-09-02",
                                    "2": "3",
                                    "3": "2016-09-01"
                                },
                                {
                                    "0": "Perlinger Éva",
                                    "1": "2016-09-02",
                                    "2": "1",
                                    "3": "2016-09-02"
                                },
                                {
                                    "0": "Baráth Mária",
                                    "1": "2016-09-02",
                                    "2": "1",
                                    "3": "2016-09-02"
                                },
                                {
                                    "0": "Győrffy Bence",
                                    "1": "2016-09-03",
                                    "2": "3",
                                    "3": "2016-09-02"
                                },
                                {
                                    "0": "Tóth Roland",
                                    "1": "2016-09-04",
                                    "2": "2",
                                    "3": "2016-09-03"
                                },
                                {
                                    "0": "Turcsik Tünde",
                                    "1": "2016-09-05",
                                    "2": "2",
                                    "3": "2016-09-04"
                                },
                                {
                                    "0": "Rácz Rajmond",
                                    "1": "2016-09-05",
                                    "2": "3",
                                    "3": "2016-09-05"
                                },
                                {
                                    "0": "Szűcs Balázs",
                                    "1": "2016-05-22",
                                    "2": "3",
                                    "3": "2016-09-05"
                                },
                                {
                                    "0": "Gyuris József",
                                    "1": "2016-05-23",
                                    "2": "1",
                                    "3": "2016-05-22"
                                },
                                {
                                    "0": "Horváth Nikolett",
                                    "1": "2016-05-24",
                                    "2": "2",
                                    "3": "2016-05-23"
                                },
                                {
                                    "0": "Gyárfás Krisztina",
                                    "1": "2016-05-24",
                                    "2": "1",
                                    "3": "2016-05-24"
                                },
                                {
                                    "0": "Simon Anikó",
                                    "1": "2016-05-24",
                                    "2": "3",
                                    "3": "2016-05-24"
                                },
                                {
                                    "0": "Feró Valentin",
                                    "1": "2016-05-24",
                                    "2": "4",
                                    "3": "2016-05-24"
                                },
                                {
                                    "0": "Lengyel Ágnes",
                                    "1": "2016-05-25",
                                    "2": "1",
                                    "3": "2016-05-24"
                                },
                                {
                                    "0": "Farkas Sándor",
                                    "1": "2016-05-25",
                                    "2": "1",
                                    "3": "2016-05-25"
                                },
                                {
                                    "0": "Keszler Dániel",
                                    "1": "2016-05-26",
                                    "2": "3",
                                    "3": "2016-05-25"
                                },
                                {
                                    "0": "Neizer Andrea",
                                    "1": "2016-05-27",
                                    "2": "1",
                                    "3": "2016-05-26"
                                },
                                {
                                    "0": "Oroszi György",
                                    "1": "2016-05-27",
                                    "2": "3",
                                    "3": "2016-05-27"
                                },
                                {
                                    "0": "Tömböly Dénes",
                                    "1": "2016-05-27",
                                    "2": "3",
                                    "3": "2016-05-27"
                                },
                                {
                                    "0": "Szűcs Balázs",
                                    "1": "2016-05-28",
                                    "2": "3",
                                    "3": "2016-05-27"
                                },
                                {
                                    "0": "Baráth Mária",
                                    "1": "2016-05-28",
                                    "2": "2",
                                    "3": "2016-05-28"
                                },
                                {
                                    "0": "Palágyi Polla",
                                    "1": "2016-05-28",
                                    "2": "2",
                                    "3": "2016-05-28"
                                },
                                {
                                    "0": "Farkas Sára",
                                    "1": "2016-05-28",
                                    "2": "2",
                                    "3": "2016-05-28"
                                },
                                {
                                    "0": "Józsa Zsolt",
                                    "1": "2016-05-28",
                                    "2": "1",
                                    "3": "2016-05-28"
                                },
                                {
                                    "0": "Vajda Zsuzsa",
                                    "1": "2016-05-28",
                                    "2": "4",
                                    "3": "2016-05-28"
                                },
                                {
                                    "0": "Kiss Ádám",
                                    "1": "2016-05-28",
                                    "2": "3",
                                    "3": "2016-05-28"
                                },
                                {
                                    "0": "Tari Szilvia",
                                    "1": "2016-05-28",
                                    "2": "2",
                                    "3": "2016-05-28"
                                },
                                {
                                    "0": "Mile Norbert",
                                    "1": "2016-05-29",
                                    "2": "3",
                                    "3": "2016-05-28"
                                },
                                {
                                    "0": "Győrffy Bence",
                                    "1": "2016-05-29",
                                    "2": "1",
                                    "3": "2016-05-29"
                                },
                                {
                                    "0": "Móricz Árpád",
                                    "1": "2016-05-29",
                                    "2": "2",
                                    "3": "2016-05-29"
                                },
                                {
                                    "0": "Érsek Eszter",
                                    "1": "2016-05-30",
                                    "2": "2",
                                    "3": "2016-05-29"
                                },
                                {
                                    "0": "Juhász Mihály",
                                    "1": "2016-05-30",
                                    "2": "2",
                                    "3": "2016-05-30"
                                },
                                {
                                    "0": "Székely Brigitta",
                                    "1": "2016-05-30",
                                    "2": "3",
                                    "3": "2016-05-30"
                                },
                                {
                                    "0": "Kő Nikoletta",
                                    "1": "2016-05-30",
                                    "2": "3",
                                    "3": "2016-05-30"
                                },
                                {
                                    "0": "Telek Gábor",
                                    "1": "2016-05-30",
                                    "2": "1",
                                    "3": "2016-05-30"
                                },
                                {
                                    "0": "Keresztúri Viktor",
                                    "1": "2016-05-30",
                                    "2": "2",
                                    "3": "2016-05-30"
                                },
                                {
                                    "0": "Vígh András",
                                    "1": "2016-05-30",
                                    "2": "1",
                                    "3": "2016-05-30"
                                },
                                {
                                    "0": "Kazy Tihamér",
                                    "1": "2016-05-30",
                                    "2": "1",
                                    "3": "2016-05-30"
                                },
                                {
                                    "0": "Farkas Sára",
                                    "1": "2016-05-30",
                                    "2": "2",
                                    "3": "2016-05-30"
                                },
                                {
                                    "0": "Tankó Veronika",
                                    "1": "2016-05-30",
                                    "2": "2",
                                    "3": "2016-05-30"
                                },
                                {
                                    "0": "Tóth András",
                                    "1": "2016-05-30",
                                    "2": "1",
                                    "3": "2016-05-30"
                                },
                                {
                                    "0": "Gondos Katalin",
                                    "1": "2016-05-31",
                                    "2": "3",
                                    "3": "2016-05-30"
                                },
                                {
                                    "0": "Pataki Brigitta",
                                    "1": "2016-06-01",
                                    "2": "2",
                                    "3": "2016-05-31"
                                },
                                {
                                    "0": "Oroszi György",
                                    "1": "2016-06-01",
                                    "2": "2",
                                    "3": "2016-06-01"
                                },
                                {
                                    "0": "Lukács Kornél",
                                    "1": "2016-06-02",
                                    "2": "3",
                                    "3": "2016-06-01"
                                },
                                {
                                    "0": "Frank Fruzsina",
                                    "1": "2016-06-02",
                                    "2": "2",
                                    "3": "2016-06-02"
                                },
                                {
                                    "0": "Kornseé Gyöngyi",
                                    "1": "2016-06-02",
                                    "2": "3",
                                    "3": "2016-06-02"
                                },
                                {
                                    "0": "Szilágyi Mátyás",
                                    "1": "2016-06-02",
                                    "2": "1",
                                    "3": "2016-06-02"
                                },
                                {
                                    "0": "Nagy László",
                                    "1": "2016-06-03",
                                    "2": "1",
                                    "3": "2016-06-02"
                                },
                                {
                                    "0": "Barna Zoltán",
                                    "1": "2016-06-03",
                                    "2": "1",
                                    "3": "2016-06-03"
                                },
                                {
                                    "0": "Czérna Krisztián",
                                    "1": "2016-06-03",
                                    "2": "2",
                                    "3": "2016-06-03"
                                },
                                {
                                    "0": "Kazy Tihamér",
                                    "1": "2016-06-03",
                                    "2": "5",
                                    "3": "2016-06-03"
                                },
                                {
                                    "0": "Bagi Beáta",
                                    "1": "2016-06-03",
                                    "2": "2",
                                    "3": "2016-06-03"
                                },
                                {
                                    "0": "Horváth Nikolett",
                                    "1": "2016-06-03",
                                    "2": "1",
                                    "3": "2016-06-03"
                                },
                                {
                                    "0": "Turcsik Tünde",
                                    "1": "2016-06-03",
                                    "2": "3",
                                    "3": "2016-06-03"
                                },
                                {
                                    "0": "Antal László",
                                    "1": "2016-06-03",
                                    "2": "2",
                                    "3": "2016-06-03"
                                },
                                {
                                    "0": "Bajusz Bence",
                                    "1": "2016-06-03",
                                    "2": "2",
                                    "3": "2016-06-03"
                                },
                                {
                                    "0": "Mogyródi Krisztián",
                                    "1": "2016-06-04",
                                    "2": "2",
                                    "3": "2016-06-03"
                                },
                                {
                                    "0": "Kelemen Áron",
                                    "1": "2016-06-04",
                                    "2": "2",
                                    "3": "2016-06-04"
                                },
                                {
                                    "0": "Opra Attila",
                                    "1": "2016-06-04",
                                    "2": "3",
                                    "3": "2016-06-04"
                                },
                                {
                                    "0": "Harangozó János",
                                    "1": "2016-06-04",
                                    "2": "1",
                                    "3": "2016-06-04"
                                },
                                {
                                    "0": "Gyuris József",
                                    "1": "2016-06-04",
                                    "2": "4",
                                    "3": "2016-06-04"
                                },
                                {
                                    "0": "Nagymihály Csongor",
                                    "1": "2016-06-04",
                                    "2": "2",
                                    "3": "2016-06-04"
                                },
                                {
                                    "0": "Pintér Zoltán",
                                    "1": "2016-06-05",
                                    "2": "2",
                                    "3": "2016-06-04"
                                },
                                {
                                    "0": "Ötvös Árpád",
                                    "1": "2016-06-05",
                                    "2": "2",
                                    "3": "2016-06-05"
                                },
                                {
                                    "0": "Vörös Dániel",
                                    "1": "2016-06-06",
                                    "2": "3",
                                    "3": "2016-06-05"
                                },
                                {
                                    "0": "Farkas Sára",
                                    "1": "2016-06-06",
                                    "2": "2",
                                    "3": "2016-06-06"
                                },
                                {
                                    "0": "Zatykó Katalin",
                                    "1": "2016-06-06",
                                    "2": "2",
                                    "3": "2016-06-06"
                                },
                                {
                                    "0": "Horváth Árpád",
                                    "1": "2016-06-06",
                                    "2": "3",
                                    "3": "2016-06-06"
                                },
                                {
                                    "0": "Dusha Tímea",
                                    "1": "2016-06-06",
                                    "2": "2",
                                    "3": "2016-06-06"
                                },
                                {
                                    "0": "Zatykó Katalin",
                                    "1": "2016-06-06",
                                    "2": "3",
                                    "3": "2016-06-06"
                                },
                                {
                                    "0": "Pintér Zoltán",
                                    "1": "2016-06-06",
                                    "2": "2",
                                    "3": "2016-06-06"
                                },
                                {
                                    "0": "Kalacsi Márton",
                                    "1": "2016-06-06",
                                    "2": "3",
                                    "3": "2016-06-06"
                                },
                                {
                                    "0": "Pulai Zsolt",
                                    "1": "2016-06-06",
                                    "2": "2",
                                    "3": "2016-06-06"
                                },
                                {
                                    "0": "Turcsik Tünde",
                                    "1": "2016-06-06",
                                    "2": "3",
                                    "3": "2016-06-06"
                                },
                                {
                                    "0": "Keresztúri Viktor",
                                    "1": "2016-06-06",
                                    "2": "4",
                                    "3": "2016-06-06"
                                },
                                {
                                    "0": "Hídasi Judit",
                                    "1": "2016-06-06",
                                    "2": "2",
                                    "3": "2016-06-06"
                                },
                                {
                                    "0": "Szűcs Annamária",
                                    "1": "2016-06-06",
                                    "2": "3",
                                    "3": "2016-06-06"
                                },
                                {
                                    "0": "Bakó Klaudia",
                                    "1": "2016-06-06",
                                    "2": "4",
                                    "3": "2016-06-06"
                                },
                                {
                                    "0": "Antal László",
                                    "1": "2016-06-07",
                                    "2": "1",
                                    "3": "2016-06-06"
                                },
                                {
                                    "0": "Molnár Bálint",
                                    "1": "2016-06-07",
                                    "2": "3",
                                    "3": "2016-06-07"
                                },
                                {
                                    "0": "Orbán Bernadett",
                                    "1": "2016-06-07",
                                    "2": "3",
                                    "3": "2016-06-07"
                                },
                                {
                                    "0": "Tóth Júlia",
                                    "1": "2016-06-07",
                                    "2": "5",
                                    "3": "2016-06-07"
                                },
                                {
                                    "0": "Komjáti András",
                                    "1": "2016-06-07",
                                    "2": "3",
                                    "3": "2016-06-07"
                                },
                                {
                                    "0": "Tatár Nikoletta",
                                    "1": "2016-06-07",
                                    "2": "2",
                                    "3": "2016-06-07"
                                },
                                {
                                    "0": "Czérna Krisztián",
                                    "1": "2016-06-07",
                                    "2": "2",
                                    "3": "2016-06-07"
                                },
                                {
                                    "0": "Pulai Zsolt",
                                    "1": "2016-06-07",
                                    "2": "4",
                                    "3": "2016-06-07"
                                },
                                {
                                    "0": "Gondos Katalin",
                                    "1": "2016-06-07",
                                    "2": "2",
                                    "3": "2016-06-07"
                                },
                                {
                                    "0": "Kelemen Áron",
                                    "1": "2016-06-07",
                                    "2": "3",
                                    "3": "2016-06-07"
                                },
                                {
                                    "0": "Molnár Bálint",
                                    "1": "2016-06-07",
                                    "2": "3",
                                    "3": "2016-06-07"
                                },
                                {
                                    "0": "Nagy László",
                                    "1": "2016-06-08",
                                    "2": "2",
                                    "3": "2016-06-07"
                                },
                                {
                                    "0": "Gyárfás Krisztina",
                                    "1": "2016-06-08",
                                    "2": "1",
                                    "3": "2016-06-08"
                                },
                                {
                                    "0": "Regős Annamária",
                                    "1": "2016-06-08",
                                    "2": "2",
                                    "3": "2016-06-08"
                                },
                                {
                                    "0": "Bagóczki Alexandra",
                                    "1": "2016-06-08",
                                    "2": "3",
                                    "3": "2016-06-08"
                                },
                                {
                                    "0": "Ambrus Dávid",
                                    "1": "2016-06-09",
                                    "2": "2",
                                    "3": "2016-06-08"
                                },
                                {
                                    "0": "Tóth Roland",
                                    "1": "2016-06-09",
                                    "2": "3",
                                    "3": "2016-06-09"
                                },
                                {
                                    "0": "Rab Sebestyén",
                                    "1": "2016-06-09",
                                    "2": "4",
                                    "3": "2016-06-09"
                                },
                                {
                                    "0": "Kerényi Beatrix",
                                    "1": "2016-06-10",
                                    "2": "2",
                                    "3": "2016-06-09"
                                },
                                {
                                    "0": "Orbán Bernadett",
                                    "1": "2016-06-10",
                                    "2": "4",
                                    "3": "2016-06-10"
                                },
                                {
                                    "0": "Nagymihály Csongor",
                                    "1": "2016-06-10",
                                    "2": "3",
                                    "3": "2016-06-10"
                                },
                                {
                                    "0": "Kerényi Beatrix",
                                    "1": "2016-06-10",
                                    "2": "2",
                                    "3": "2016-06-10"
                                },
                                {
                                    "0": "Kornseé Gyöngyi",
                                    "1": "2016-06-10",
                                    "2": "1",
                                    "3": "2016-06-10"
                                },
                                {
                                    "0": "Oroszi György",
                                    "1": "2016-06-10",
                                    "2": "2",
                                    "3": "2016-06-10"
                                },
                                {
                                    "0": "Antal László",
                                    "1": "2016-06-10",
                                    "2": "3",
                                    "3": "2016-06-10"
                                },
                                {
                                    "0": "Molnár Bálint",
                                    "1": "2016-06-10",
                                    "2": "1",
                                    "3": "2016-06-10"
                                },
                                {
                                    "0": "Vígh András",
                                    "1": "2016-06-10",
                                    "2": "1",
                                    "3": "2016-06-10"
                                },
                                {
                                    "0": "Fényes Tamás",
                                    "1": "2016-06-10",
                                    "2": "3",
                                    "3": "2016-06-10"
                                },
                                {
                                    "0": "Nagymihály Csongor",
                                    "1": "2016-06-11",
                                    "2": "2",
                                    "3": "2016-06-10"
                                },
                                {
                                    "0": "Szekendi Beatrix",
                                    "1": "2016-06-11",
                                    "2": "3",
                                    "3": "2016-06-11"
                                },
                                {
                                    "0": "Simon Bernadett",
                                    "1": "2016-06-12",
                                    "2": "3",
                                    "3": "2016-06-11"
                                },
                                {
                                    "0": "Kovács Katalin",
                                    "1": "2016-06-13",
                                    "2": "1",
                                    "3": "2016-06-12"
                                },
                                {
                                    "0": "Maródi Andrea",
                                    "1": "2016-06-13",
                                    "2": "1",
                                    "3": "2016-06-13"
                                },
                                {
                                    "0": "Kovács Katalin",
                                    "1": "2016-06-13",
                                    "2": "4",
                                    "3": "2016-06-13"
                                },
                                {
                                    "0": "Pataki Brigitta",
                                    "1": "2016-06-13",
                                    "2": "3",
                                    "3": "2016-06-13"
                                },
                                {
                                    "0": "Kispál Márk",
                                    "1": "2016-06-13",
                                    "2": "3",
                                    "3": "2016-06-13"
                                },
                                {
                                    "0": "Antal Tamás",
                                    "1": "2016-06-14",
                                    "2": "2",
                                    "3": "2016-06-13"
                                },
                                {
                                    "0": "Vajda Zsuzsa",
                                    "1": "2016-06-15",
                                    "2": "3",
                                    "3": "2016-06-14"
                                },
                                {
                                    "0": "Nagymihály Lajos",
                                    "1": "2016-06-16",
                                    "2": "2",
                                    "3": "2016-06-15"
                                },
                                {
                                    "0": "Nyíri Georgij",
                                    "1": "2016-06-16",
                                    "2": "3",
                                    "3": "2016-06-16"
                                },
                                {
                                    "0": "Mile Norbert",
                                    "1": "2016-06-16",
                                    "2": "4",
                                    "3": "2016-06-16"
                                },
                                {
                                    "0": "Bori Krisztina",
                                    "1": "2016-06-16",
                                    "2": "2",
                                    "3": "2016-06-16"
                                },
                                {
                                    "0": "Simon Anikó",
                                    "1": "2016-06-16",
                                    "2": "1",
                                    "3": "2016-06-16"
                                },
                                {
                                    "0": "Orosz Ferenc",
                                    "1": "2016-06-16",
                                    "2": "2",
                                    "3": "2016-06-16"
                                },
                                {
                                    "0": "Mile Norbert",
                                    "1": "2016-06-16",
                                    "2": "3",
                                    "3": "2016-06-16"
                                },
                                {
                                    "0": "Molnár Zsófi",
                                    "1": "2016-06-16",
                                    "2": "2",
                                    "3": "2016-06-16"
                                },
                                {
                                    "0": "Kovács Bernadett",
                                    "1": "2016-06-17",
                                    "2": "3",
                                    "3": "2016-06-16"
                                },
                                {
                                    "0": "Józsa Zsolt",
                                    "1": "2016-06-17",
                                    "2": "2",
                                    "3": "2016-06-17"
                                },
                                {
                                    "0": "Miklós Szabolcs",
                                    "1": "2016-06-18",
                                    "2": "3",
                                    "3": "2016-06-17"
                                },
                                {
                                    "0": "Kerényi Beatrix",
                                    "1": "2016-06-19",
                                    "2": "3",
                                    "3": "2016-06-18"
                                },
                                {
                                    "0": "Köves Gábor",
                                    "1": "2016-06-20",
                                    "2": "4",
                                    "3": "2016-06-19"
                                },
                                {
                                    "0": "Csiger Bertalan",
                                    "1": "2016-06-20",
                                    "2": "1",
                                    "3": "2016-06-20"
                                },
                                {
                                    "0": "Molnár András",
                                    "1": "2016-06-21",
                                    "2": "2",
                                    "3": "2016-06-20"
                                },
                                {
                                    "0": "Horváth Nikolett",
                                    "1": "2016-06-22",
                                    "2": "1",
                                    "3": "2016-06-21"
                                },
                                {
                                    "0": "Barna Debóra",
                                    "1": "2016-06-22",
                                    "2": "5",
                                    "3": "2016-06-22"
                                },
                                {
                                    "0": "Tóth Roland",
                                    "1": "2016-06-22",
                                    "2": "3",
                                    "3": "2016-06-22"
                                },
                                {
                                    "0": "Kalacsi Márton",
                                    "1": "2016-06-22",
                                    "2": "2",
                                    "3": "2016-06-22"
                                },
                                {
                                    "0": "Horváth Ágnes",
                                    "1": "2016-06-23",
                                    "2": "1",
                                    "3": "2016-06-22"
                                },
                                {
                                    "0": "Baráth Mária",
                                    "1": "2016-06-23",
                                    "2": "1",
                                    "3": "2016-06-23"
                                },
                                {
                                    "0": "Papp Imre",
                                    "1": "2016-06-23",
                                    "2": "4",
                                    "3": "2016-06-23"
                                },
                                {
                                    "0": "Komjáti András",
                                    "1": "2016-06-23",
                                    "2": "2",
                                    "3": "2016-06-23"
                                },
                                {
                                    "0": "Béres Norbert",
                                    "1": "2016-06-24",
                                    "2": "2",
                                    "3": "2016-06-23"
                                },
                                {
                                    "0": "Szirmai Renáta",
                                    "1": "2016-06-24",
                                    "2": "5",
                                    "3": "2016-06-24"
                                },
                                {
                                    "0": "Tóth Anikó",
                                    "1": "2016-06-25",
                                    "2": "3",
                                    "3": "2016-06-24"
                                },
                                {
                                    "0": "Balla Miklós",
                                    "1": "2016-06-26",
                                    "2": "2",
                                    "3": "2016-06-25"
                                },
                                {
                                    "0": "Simon Anikó",
                                    "1": "2016-06-27",
                                    "2": "2",
                                    "3": "2016-06-26"
                                },
                                {
                                    "0": "Papp Imre",
                                    "1": "2016-06-27",
                                    "2": "2",
                                    "3": "2016-06-27"
                                },
                                {
                                    "0": "Juhász Mihály",
                                    "1": "2016-06-27",
                                    "2": "1",
                                    "3": "2016-06-27"
                                },
                                {
                                    "0": "Fényes Tamás",
                                    "1": "2016-06-28",
                                    "2": "3",
                                    "3": "2016-06-27"
                                },
                                {
                                    "0": "Kő Nikoletta",
                                    "1": "2016-06-29",
                                    "2": "2",
                                    "3": "2016-06-28"
                                },
                                {
                                    "0": "Balogh Eszter",
                                    "1": "2016-06-30",
                                    "2": "3",
                                    "3": "2016-06-29"
                                },
                                {
                                    "0": "Ambrus Dávid",
                                    "1": "2016-06-30",
                                    "2": "2",
                                    "3": "2016-06-30"
                                },
                                {
                                    "0": "Szalai Péter",
                                    "1": "2016-06-30",
                                    "2": "3",
                                    "3": "2016-06-30"
                                },
                                {
                                    "0": "Frank Fruzsina",
                                    "1": "2016-07-01",
                                    "2": "3",
                                    "3": "2016-06-30"
                                },
                                {
                                    "0": "Kertész Katalin",
                                    "1": "2016-07-01",
                                    "2": "1",
                                    "3": "2016-07-01"
                                },
                                {
                                    "0": "Varga István",
                                    "1": "2016-07-01",
                                    "2": "4",
                                    "3": "2016-07-01"
                                },
                                {
                                    "0": "Gondos Katalin",
                                    "1": "2016-07-01",
                                    "2": "2",
                                    "3": "2016-07-01"
                                },
                                {
                                    "0": "Kornseé Gyöngyi",
                                    "1": "2016-07-01",
                                    "2": "2",
                                    "3": "2016-07-01"
                                },
                                {
                                    "0": "Böröcz Anikó",
                                    "1": "2016-07-02",
                                    "2": "1",
                                    "3": "2016-07-01"
                                },
                                {
                                    "0": "Kertész Katalin",
                                    "1": "2016-07-03",
                                    "2": "4",
                                    "3": "2016-07-02"
                                },
                                {
                                    "0": "Kelemen Áron",
                                    "1": "2016-07-03",
                                    "2": "2",
                                    "3": "2016-07-03"
                                },
                                {
                                    "0": "Bozsó Péter",
                                    "1": "2016-07-03",
                                    "2": "2",
                                    "3": "2016-07-03"
                                },
                                {
                                    "0": "Bagi Beáta",
                                    "1": "2016-07-03",
                                    "2": "1",
                                    "3": "2016-07-03"
                                },
                                {
                                    "0": "Gondos Katalin",
                                    "1": "2016-07-03",
                                    "2": "1",
                                    "3": "2016-07-03"
                                },
                                {
                                    "0": "Jakab Áron",
                                    "1": "2016-07-04",
                                    "2": "3",
                                    "3": "2016-07-03"
                                },
                                {
                                    "0": "Fényes Tamás",
                                    "1": "2016-07-04",
                                    "2": "2",
                                    "3": "2016-07-04"
                                },
                                {
                                    "0": "Molnár András",
                                    "1": "2016-07-04",
                                    "2": "3",
                                    "3": "2016-07-04"
                                },
                                {
                                    "0": "Karasz Sándor",
                                    "1": "2016-07-04",
                                    "2": "2",
                                    "3": "2016-07-04"
                                },
                                {
                                    "0": "Pálinkás János",
                                    "1": "2016-07-04",
                                    "2": "3",
                                    "3": "2016-07-04"
                                },
                                {
                                    "0": "Szedlár Krisztina",
                                    "1": "2016-07-05",
                                    "2": "3",
                                    "3": "2016-07-04"
                                },
                                {
                                    "0": "Vajda József",
                                    "1": "2016-07-06",
                                    "2": "2",
                                    "3": "2016-07-05"
                                },
                                {
                                    "0": "Erdei András",
                                    "1": "2016-07-06",
                                    "2": "2",
                                    "3": "2016-07-06"
                                },
                                {
                                    "0": "Horváth Katalin",
                                    "1": "2016-07-06",
                                    "2": "1",
                                    "3": "2016-07-06"
                                },
                                {
                                    "0": "Gondos Katalin",
                                    "1": "2016-07-07",
                                    "2": "3",
                                    "3": "2016-07-06"
                                },
                                {
                                    "0": "Balogh Eszter",
                                    "1": "2016-07-08",
                                    "2": "1",
                                    "3": "2016-07-07"
                                },
                                {
                                    "0": "Szűcs Norbert",
                                    "1": "2016-07-08",
                                    "2": "1",
                                    "3": "2016-07-08"
                                },
                                {
                                    "0": "Szűcs Balázs",
                                    "1": "2016-07-08",
                                    "2": "3",
                                    "3": "2016-07-08"
                                },
                                {
                                    "0": "Mogyródi Krisztián",
                                    "1": "2016-07-09",
                                    "2": "3",
                                    "3": "2016-07-08"
                                },
                                {
                                    "0": "Nagymihály Csongor",
                                    "1": "2016-07-09",
                                    "2": "4",
                                    "3": "2016-07-09"
                                },
                                {
                                    "0": "Nagy Gabriella",
                                    "1": "2016-07-10",
                                    "2": "3",
                                    "3": "2016-07-09"
                                },
                                {
                                    "0": "Szűcs Balázs",
                                    "1": "2016-07-10",
                                    "2": "3",
                                    "3": "2016-07-10"
                                },
                                {
                                    "0": "Vörös Dániel",
                                    "1": "2016-07-11",
                                    "2": "3",
                                    "3": "2016-07-10"
                                },
                                {
                                    "0": "Barta Zsuzsanna",
                                    "1": "2016-07-12",
                                    "2": "2",
                                    "3": "2016-07-11"
                                },
                                {
                                    "0": "Köves Gábor",
                                    "1": "2016-07-12",
                                    "2": "1",
                                    "3": "2016-07-12"
                                },
                                {
                                    "0": "Iván Róbert",
                                    "1": "2016-07-12",
                                    "2": "4",
                                    "3": "2016-07-12"
                                },
                                {
                                    "0": "Hegedűs Norbert",
                                    "1": "2016-07-13",
                                    "2": "3",
                                    "3": "2016-07-12"
                                },
                                {
                                    "0": "Kovács Katalin",
                                    "1": "2016-09-05",
                                    "2": "4",
                                    "3": "2016-07-13"
                                },
                                {
                                    "0": "Fodor Zoltán",
                                    "1": "2016-09-05",
                                    "2": "3",
                                    "3": "2016-09-05"
                                },
                                {
                                    "0": "Böröcz Anikó",
                                    "1": "2016-09-05",
                                    "2": "4",
                                    "3": "2016-09-05"
                                },
                                {
                                    "0": "Móra László",
                                    "1": "2016-09-05",
                                    "2": "3",
                                    "3": "2016-09-05"
                                },
                                {
                                    "0": "Szikszai Réka",
                                    "1": "2016-09-05",
                                    "2": "3",
                                    "3": "2016-09-05"
                                },
                                {
                                    "0": "Bíró Ákos",
                                    "1": "2016-09-06",
                                    "2": "1",
                                    "3": "2016-09-05"
                                },
                                {
                                    "0": "Kovács Bernadett",
                                    "1": "2016-09-07",
                                    "2": "3",
                                    "3": "2016-09-06"
                                },
                                {
                                    "0": "Rácz Dániel",
                                    "1": "2016-09-08",
                                    "2": "4",
                                    "3": "2016-09-07"
                                },
                                {
                                    "0": "Kelemen Áron",
                                    "1": "2016-09-08",
                                    "2": "2",
                                    "3": "2016-09-08"
                                },
                                {
                                    "0": "Pásztor Róbert",
                                    "1": "2016-09-08",
                                    "2": "4",
                                    "3": "2016-09-08"
                                },
                                {
                                    "0": "Vajda József",
                                    "1": "2016-09-09",
                                    "2": "2",
                                    "3": "2016-09-08"
                                },
                                {
                                    "0": "Varsányi Zsuzsa",
                                    "1": "2016-09-09",
                                    "2": "2",
                                    "3": "2016-09-09"
                                },
                                {
                                    "0": "Bucskó Róza",
                                    "1": "2016-09-10",
                                    "2": "2",
                                    "3": "2016-09-09"
                                },
                                {
                                    "0": "Kalacsi Márton",
                                    "1": "2016-09-10",
                                    "2": "2",
                                    "3": "2016-09-10"
                                },
                                {
                                    "0": "Bíró Péter",
                                    "1": "2016-09-11",
                                    "2": "4",
                                    "3": "2016-09-10"
                                },
                                {
                                    "0": "Fényes Tamás",
                                    "1": "2016-09-12",
                                    "2": "3",
                                    "3": "2016-09-11"
                                },
                                {
                                    "0": "Szűcs Balázs",
                                    "1": "2016-09-12",
                                    "2": "3",
                                    "3": "2016-09-12"
                                },
                                {
                                    "0": "Barkóci Ádám",
                                    "1": "2016-09-12",
                                    "2": "2",
                                    "3": "2016-09-12"
                                },
                                {
                                    "0": "Neizer Andrea",
                                    "1": "2016-09-13",
                                    "2": "2",
                                    "3": "2016-09-12"
                                },
                                {
                                    "0": "Szedlár Krisztina",
                                    "1": "2016-09-13",
                                    "2": "1",
                                    "3": "2016-09-13"
                                },
                                {
                                    "0": "Maródi Andrea",
                                    "1": "2016-09-13",
                                    "2": "2",
                                    "3": "2016-09-13"
                                },
                                {
                                    "0": "Gergely József",
                                    "1": "2016-09-13",
                                    "2": "2",
                                    "3": "2016-09-13"
                                },
                                {
                                    "0": "Foltényi Sebastián",
                                    "1": "2016-09-14",
                                    "2": "3",
                                    "3": "2016-09-13"
                                },
                                {
                                    "0": "Horváth Márk",
                                    "1": "2016-09-14",
                                    "2": "3",
                                    "3": "2016-09-14"
                                },
                                {
                                    "0": "Tornyos Andrea",
                                    "1": "2016-09-15",
                                    "2": "2",
                                    "3": "2016-09-14"
                                },
                                {
                                    "0": "Bakódy Balázs",
                                    "1": "2016-09-15",
                                    "2": "3",
                                    "3": "2016-09-15"
                                },
                                {
                                    "0": "Bori Krisztina",
                                    "1": "2016-09-15",
                                    "2": "3",
                                    "3": "2016-09-15"
                                },
                                {
                                    "0": "Horváth Árpád",
                                    "1": "2016-09-16",
                                    "2": "1",
                                    "3": "2016-09-15"
                                },
                                {
                                    "0": "Molnár Bálint",
                                    "1": "2016-09-16",
                                    "2": "1",
                                    "3": "2016-09-16"
                                },
                                {
                                    "0": "Barabás Pál",
                                    "1": "2016-09-16",
                                    "2": "2",
                                    "3": "2016-09-16"
                                },
                                {
                                    "0": "Back András",
                                    "1": "2016-09-17",
                                    "2": "2",
                                    "3": "2016-09-16"
                                },
                                {
                                    "0": "Búza Imre",
                                    "1": "2016-09-17",
                                    "2": "3",
                                    "3": "2016-09-17"
                                },
                                {
                                    "0": "Bittmann Edit",
                                    "1": "2016-09-17",
                                    "2": "2",
                                    "3": "2016-09-17"
                                },
                                {
                                    "0": "Foltényi Sebastián",
                                    "1": "2016-09-17",
                                    "2": "3",
                                    "3": "2016-09-17"
                                },
                                {
                                    "0": "Vajda Zsuzsa",
                                    "1": "2016-09-18",
                                    "2": "2",
                                    "3": "2016-09-17"
                                },
                                {
                                    "0": "Nyíri Georgij",
                                    "1": "2016-09-18",
                                    "2": "3",
                                    "3": "2016-09-18"
                                },
                                {
                                    "0": "Bittmann Edit",
                                    "1": "2016-09-18",
                                    "2": "3",
                                    "3": "2016-09-18"
                                },
                                {
                                    "0": "Horváth Árpád",
                                    "1": "2016-09-18",
                                    "2": "1",
                                    "3": "2016-09-18"
                                },
                                {
                                    "0": "Szedlár Krisztina",
                                    "1": "2016-09-19",
                                    "2": "2",
                                    "3": "2016-09-18"
                                },
                                {
                                    "0": "Vörös Dániel",
                                    "1": "2016-09-19",
                                    "2": "4",
                                    "3": "2016-09-19"
                                },
                                {
                                    "0": "Karasz Sándor",
                                    "1": "2016-09-19",
                                    "2": "4",
                                    "3": "2016-09-19"
                                },
                                {
                                    "0": "Gondos Katalin",
                                    "1": "2016-09-19",
                                    "2": "3",
                                    "3": "2016-09-19"
                                },
                                {
                                    "0": "Szalai Szilárd",
                                    "1": "2016-09-20",
                                    "2": "3",
                                    "3": "2016-09-19"
                                },
                                {
                                    "0": "Sobják Dávid",
                                    "1": "2016-09-20",
                                    "2": "2",
                                    "3": "2016-09-20"
                                },
                                {
                                    "0": "Tatár Nikoletta",
                                    "1": "2016-09-21",
                                    "2": "2",
                                    "3": "2016-09-20"
                                },
                                {
                                    "0": "Komjáti András",
                                    "1": "2016-09-22",
                                    "2": "1",
                                    "3": "2016-09-21"
                                },
                                {
                                    "0": "Regős Annamária",
                                    "1": "2016-09-23",
                                    "2": "2",
                                    "3": "2016-09-22"
                                },
                                {
                                    "0": "Horváth Márk",
                                    "1": "2016-09-23",
                                    "2": "2",
                                    "3": "2016-09-23"
                                },
                                {
                                    "0": "Lukács Kornél",
                                    "1": "2016-09-23",
                                    "2": "3",
                                    "3": "2016-09-23"
                                },
                                {
                                    "0": "Farkas László",
                                    "1": "2016-09-23",
                                    "2": "3",
                                    "3": "2016-09-23"
                                },
                                {
                                    "0": "Dunai Aladár",
                                    "1": "2016-09-24",
                                    "2": "1",
                                    "3": "2016-09-23"
                                },
                                {
                                    "0": "Bíró Péter",
                                    "1": "2016-09-25",
                                    "2": "3",
                                    "3": "2016-09-24"
                                },
                                {
                                    "0": "Tankó Veronika",
                                    "1": "2016-09-26",
                                    "2": "2",
                                    "3": "2016-09-25"
                                },
                                {
                                    "0": "Horváth Márk",
                                    "1": "2016-09-26",
                                    "2": "4",
                                    "3": "2016-09-26"
                                },
                                {
                                    "0": "Kuruc Emese",
                                    "1": "2016-09-27",
                                    "2": "3",
                                    "3": "2016-09-26"
                                },
                                {
                                    "0": "Ötvös Árpád",
                                    "1": "2016-09-28",
                                    "2": "2",
                                    "3": "2016-09-27"
                                },
                                {
                                    "0": "Hamvay-Kovács Anita",
                                    "1": "2016-09-28",
                                    "2": "4",
                                    "3": "2016-09-28"
                                },
                                {
                                    "0": "Varsányi Zsuzsa",
                                    "1": "2016-09-28",
                                    "2": "2",
                                    "3": "2016-09-28"
                                },
                                {
                                    "0": "Varga István",
                                    "1": "2016-09-29",
                                    "2": "3",
                                    "3": "2016-09-28"
                                },
                                {
                                    "0": "Frank Fruzsina",
                                    "1": "2016-09-29",
                                    "2": "3",
                                    "3": "2016-09-29"
                                },
                                {
                                    "0": "Szikszai Réka",
                                    "1": "2016-09-30",
                                    "2": "2",
                                    "3": "2016-09-29"
                                },
                                {
                                    "0": "Csóti Attila",
                                    "1": "2016-09-30",
                                    "2": "3",
                                    "3": "2016-09-30"
                                },
                                {
                                    "0": "Barna Zoltán",
                                    "1": "2016-09-30",
                                    "2": "3",
                                    "3": "2016-09-30"
                                },
                                {
                                    "0": "Tóth András",
                                    "1": "2016-09-30",
                                    "2": "2",
                                    "3": "2016-09-30"
                                },
                                {
                                    "0": "Bíró Péter",
                                    "1": "2016-09-30",
                                    "2": "3",
                                    "3": "2016-09-30"
                                },
                                {
                                    "0": "Komjáti András",
                                    "1": "2016-09-30",
                                    "2": "2",
                                    "3": "2016-09-30"
                                },
                                {
                                    "0": "Horváth Krisztina",
                                    "1": "2016-09-30",
                                    "2": "3",
                                    "3": "2016-09-30"
                                },
                                {
                                    "0": "Poprádi Kristóf",
                                    "1": "2016-09-30",
                                    "2": "2",
                                    "3": "2016-09-30"
                                },
                                {
                                    "0": "Balogh Eszter",
                                    "1": "2016-10-01",
                                    "2": "3",
                                    "3": "2016-09-30"
                                },
                                {
                                    "0": "Szekendi Beatrix",
                                    "1": "2016-10-01",
                                    "2": "3",
                                    "3": "2016-10-01"
                                },
                                {
                                    "0": "Szekendi Beatrix",
                                    "1": "2016-10-01",
                                    "2": "3",
                                    "3": "2016-10-01"
                                },
                                {
                                    "0": "Józsa Zsolt",
                                    "1": "2016-10-01",
                                    "2": "2",
                                    "3": "2016-10-01"
                                },
                                {
                                    "0": "Molnár András",
                                    "1": "2016-10-01",
                                    "2": "3",
                                    "3": "2016-10-01"
                                },
                                {
                                    "0": "Vörös Dániel",
                                    "1": "2016-10-01",
                                    "2": "1",
                                    "3": "2016-10-01"
                                },
                                {
                                    "0": "Boros Vivien",
                                    "1": "2016-10-01",
                                    "2": "1",
                                    "3": "2016-10-01"
                                },
                                {
                                    "0": "Sobják Dávid",
                                    "1": "2016-10-01",
                                    "2": "2",
                                    "3": "2016-10-01"
                                },
                                {
                                    "0": "Horváth Krisztina",
                                    "1": "2016-10-01",
                                    "2": "3",
                                    "3": "2016-10-01"
                                },
                                {
                                    "0": "Bárci Gusztáv",
                                    "1": "2016-10-01",
                                    "2": "3",
                                    "3": "2016-10-01"
                                },
                                {
                                    "0": "Koza Máté",
                                    "1": "2016-10-01",
                                    "2": "2",
                                    "3": "2016-10-01"
                                },
                                {
                                    "0": "Bakó Klaudia",
                                    "1": "2016-10-01",
                                    "2": "2",
                                    "3": "2016-10-01"
                                },
                                {
                                    "0": "Balogh Eszter",
                                    "1": "2016-10-01",
                                    "2": "1",
                                    "3": "2016-10-01"
                                },
                                {
                                    "0": "Szalai Szilárd",
                                    "1": "2016-10-01",
                                    "2": "3",
                                    "3": "2016-10-01"
                                },
                                {
                                    "0": "Nagy László",
                                    "1": "2016-10-01",
                                    "2": "3",
                                    "3": "2016-10-01"
                                },
                                {
                                    "0": "Bagi Beáta",
                                    "1": "2016-10-01",
                                    "2": "1",
                                    "3": "2016-10-01"
                                },
                                {
                                    "0": "Hamvay-Kovács Anita",
                                    "1": "2016-10-01",
                                    "2": "2",
                                    "3": "2016-10-01"
                                },
                                {
                                    "0": "Vida Gabriella",
                                    "1": "2016-10-01",
                                    "2": "3",
                                    "3": "2016-10-01"
                                },
                                {
                                    "0": "Bakó Klaudia",
                                    "1": "2016-10-02",
                                    "2": "2",
                                    "3": "2016-10-01"
                                },
                                {
                                    "0": "Rácz Rajmond",
                                    "1": "2016-10-03",
                                    "2": "3",
                                    "3": "2016-10-02"
                                },
                                {
                                    "0": "Bagi Beáta",
                                    "1": "2016-10-03",
                                    "2": "3",
                                    "3": "2016-10-03"
                                },
                                {
                                    "0": "Harangozó János",
                                    "1": "2016-10-03",
                                    "2": "3",
                                    "3": "2016-10-03"
                                },
                                {
                                    "0": "Molnár Eszter",
                                    "1": "2016-10-04",
                                    "2": "3",
                                    "3": "2016-10-03"
                                },
                                {
                                    "0": "Orbán Bernadett",
                                    "1": "2016-10-04",
                                    "2": "2",
                                    "3": "2016-10-04"
                                },
                                {
                                    "0": "Molnár András",
                                    "1": "2016-10-04",
                                    "2": "3",
                                    "3": "2016-10-04"
                                },
                                {
                                    "0": "Bíró Ákos",
                                    "1": "2016-10-05",
                                    "2": "2",
                                    "3": "2016-10-04"
                                },
                                {
                                    "0": "Mile Norbert",
                                    "1": "2016-10-05",
                                    "2": "3",
                                    "3": "2016-10-05"
                                },
                                {
                                    "0": "Farkas Sára",
                                    "1": "2016-10-06",
                                    "2": "3",
                                    "3": "2016-10-05"
                                },
                                {
                                    "0": "Enyedi Éva",
                                    "1": "2016-10-06",
                                    "2": "3",
                                    "3": "2016-10-06"
                                },
                                {
                                    "0": "Tóth András",
                                    "1": "2016-10-07",
                                    "2": "3",
                                    "3": "2016-10-06"
                                },
                                {
                                    "0": "Soós István",
                                    "1": "2016-10-07",
                                    "2": "2",
                                    "3": "2016-10-07"
                                },
                                {
                                    "0": "Tornyos Andrea",
                                    "1": "2016-10-08",
                                    "2": "3",
                                    "3": "2016-10-07"
                                },
                                {
                                    "0": "Iván Róbert",
                                    "1": "2016-10-08",
                                    "2": "3",
                                    "3": "2016-10-08"
                                },
                                {
                                    "0": "Simon Bernadett",
                                    "1": "2016-10-08",
                                    "2": "4",
                                    "3": "2016-10-08"
                                },
                                {
                                    "0": "Orosz Ferenc",
                                    "1": "2016-10-08",
                                    "2": "2",
                                    "3": "2016-10-08"
                                },
                                {
                                    "0": "Simon Anikó",
                                    "1": "2016-10-08",
                                    "2": "2",
                                    "3": "2016-10-08"
                                },
                                {
                                    "0": "Gergely József",
                                    "1": "2016-10-08",
                                    "2": "2",
                                    "3": "2016-10-08"
                                },
                                {
                                    "0": "Gondos Miklós",
                                    "1": "2016-10-08",
                                    "2": "1",
                                    "3": "2016-10-08"
                                },
                                {
                                    "0": "Gulyás Attila",
                                    "1": "2016-10-09",
                                    "2": "2",
                                    "3": "2016-10-08"
                                },
                                {
                                    "0": "Nagy László",
                                    "1": "2016-10-09",
                                    "2": "1",
                                    "3": "2016-10-09"
                                },
                                {
                                    "0": "Horváth Bálint",
                                    "1": "2016-10-09",
                                    "2": "2",
                                    "3": "2016-10-09"
                                },
                                {
                                    "0": "Farkas Sándor",
                                    "1": "2016-10-09",
                                    "2": "2",
                                    "3": "2016-10-09"
                                },
                                {
                                    "0": "Bíró Péter",
                                    "1": "2016-10-09",
                                    "2": "3",
                                    "3": "2016-10-09"
                                },
                                {
                                    "0": "Sarodi Dóra",
                                    "1": "2016-10-09",
                                    "2": "3",
                                    "3": "2016-10-09"
                                },
                                {
                                    "0": "Iván Róbert",
                                    "1": "2016-10-09",
                                    "2": "2",
                                    "3": "2016-10-09"
                                },
                                {
                                    "0": "Komjáti András",
                                    "1": "2016-10-09",
                                    "2": "2",
                                    "3": "2016-10-09"
                                },
                                {
                                    "0": "Szilágyi Mátyás",
                                    "1": "2016-10-09",
                                    "2": "3",
                                    "3": "2016-10-09"
                                },
                                {
                                    "0": "Tari Szilvia",
                                    "1": "2016-10-09",
                                    "2": "3",
                                    "3": "2016-10-09"
                                },
                                {
                                    "0": "Gombos Tibor",
                                    "1": "2016-10-09",
                                    "2": "2",
                                    "3": "2016-10-09"
                                },
                                {
                                    "0": "Bozsó Péter",
                                    "1": "2016-10-10",
                                    "2": "2",
                                    "3": "2016-10-09"
                                },
                                {
                                    "0": "Pataki Brigitta",
                                    "1": "2016-10-10",
                                    "2": "2",
                                    "3": "2016-10-10"
                                },
                                {
                                    "0": "Farkas Sára",
                                    "1": "2016-10-11",
                                    "2": "3",
                                    "3": "2016-10-10"
                                },
                                {
                                    "0": "Pivarcsi Anett",
                                    "1": "2016-10-12",
                                    "2": "3",
                                    "3": "2016-10-11"
                                },
                                {
                                    "0": "Ötvös Árpád",
                                    "1": "2016-10-13",
                                    "2": "3",
                                    "3": "2016-10-12"
                                },
                                {
                                    "0": "Urbán Viktoria",
                                    "1": "2016-10-14",
                                    "2": "3",
                                    "3": "2016-10-13"
                                },
                                {
                                    "0": "Gulyás Attila",
                                    "1": "2016-10-15",
                                    "2": "3",
                                    "3": "2016-10-14"
                                },
                                {
                                    "0": "Komjáti András",
                                    "1": "2016-10-15",
                                    "2": "3",
                                    "3": "2016-10-15"
                                },
                                {
                                    "0": "Csóti Attila",
                                    "1": "2016-10-15",
                                    "2": "1",
                                    "3": "2016-10-15"
                                },
                                {
                                    "0": "Simon Bernadett",
                                    "1": "2016-10-15",
                                    "2": "3",
                                    "3": "2016-10-15"
                                },
                                {
                                    "0": "Nagy Sándor",
                                    "1": "2016-10-15",
                                    "2": "1",
                                    "3": "2016-10-15"
                                },
                                {
                                    "0": "Viktor Éva",
                                    "1": "2016-10-15",
                                    "2": "3",
                                    "3": "2016-10-15"
                                },
                                {
                                    "0": "Böröcz Anikó",
                                    "1": "2016-10-16",
                                    "2": "3",
                                    "3": "2016-10-15"
                                },
                                {
                                    "0": "Pivarcsi Anett",
                                    "1": "2016-10-16",
                                    "2": "1",
                                    "3": "2016-10-16"
                                },
                                {
                                    "0": "Viktor Éva",
                                    "1": "2016-10-16",
                                    "2": "2",
                                    "3": "2016-10-16"
                                },
                                {
                                    "0": "Czérna Krisztián",
                                    "1": "2016-10-17",
                                    "2": "3",
                                    "3": "2016-10-16"
                                },
                                {
                                    "0": "Kovács Ágnes",
                                    "1": "2016-10-17",
                                    "2": "2",
                                    "3": "2016-10-17"
                                },
                                {
                                    "0": "Miklós Szabolcs",
                                    "1": "2016-10-17",
                                    "2": "2",
                                    "3": "2016-10-17"
                                },
                                {
                                    "0": "Bíró Ákos",
                                    "1": "2016-10-18",
                                    "2": "2",
                                    "3": "2016-10-17"
                                },
                                {
                                    "0": "Kiss Ádám",
                                    "1": "2016-10-19",
                                    "2": "2",
                                    "3": "2016-10-18"
                                },
                                {
                                    "0": "Kazy Tihamér",
                                    "1": "2016-10-19",
                                    "2": "2",
                                    "3": "2016-10-19"
                                },
                                {
                                    "0": "Berendi Péter",
                                    "1": "2016-10-19",
                                    "2": "4",
                                    "3": "2016-10-19"
                                },
                                {
                                    "0": "Pintér Zoltán",
                                    "1": "2016-10-19",
                                    "2": "2",
                                    "3": "2016-10-19"
                                },
                                {
                                    "0": "Köves Gábor",
                                    "1": "2016-10-20",
                                    "2": "1",
                                    "3": "2016-10-19"
                                },
                                {
                                    "0": "Dániel Tibor",
                                    "1": "2016-10-20",
                                    "2": "2",
                                    "3": "2016-10-20"
                                },
                                {
                                    "0": "Balogh Eszter",
                                    "1": "2016-10-20",
                                    "2": "1",
                                    "3": "2016-10-20"
                                },
                                {
                                    "0": "Kispál Márk",
                                    "1": "2016-10-20",
                                    "2": "1",
                                    "3": "2016-10-20"
                                },
                                {
                                    "0": "Kiss Andrea",
                                    "1": "2016-10-21",
                                    "2": "4",
                                    "3": "2016-10-20"
                                },
                                {
                                    "0": "Székely Brigitta",
                                    "1": "2016-10-21",
                                    "2": "3",
                                    "3": "2016-10-21"
                                },
                                {
                                    "0": "Bagóczki Alexandra",
                                    "1": "2016-10-21",
                                    "2": "2",
                                    "3": "2016-10-21"
                                },
                                {
                                    "0": "Barna Zoltán",
                                    "1": "2016-10-21",
                                    "2": "5",
                                    "3": "2016-10-21"
                                },
                                {
                                    "0": "Harangozó János",
                                    "1": "2016-10-22",
                                    "2": "1",
                                    "3": "2016-10-21"
                                },
                                {
                                    "0": "Horváth Nikolett",
                                    "1": "2016-10-22",
                                    "2": "3",
                                    "3": "2016-10-22"
                                },
                                {
                                    "0": "Bajusz Bence",
                                    "1": "2016-10-22",
                                    "2": "3",
                                    "3": "2016-10-22"
                                },
                                {
                                    "0": "Hartyánszky Ágnes",
                                    "1": "2016-10-22",
                                    "2": "3",
                                    "3": "2016-10-22"
                                },
                                {
                                    "0": "Farkas Sándor",
                                    "1": "2016-10-23",
                                    "2": "3",
                                    "3": "2016-10-22"
                                },
                                {
                                    "0": "Jakab Áron",
                                    "1": "2016-10-23",
                                    "2": "2",
                                    "3": "2016-10-23"
                                },
                                {
                                    "0": "Patay Róbert",
                                    "1": "2016-10-23",
                                    "2": "3",
                                    "3": "2016-10-23"
                                },
                                {
                                    "0": "Andor Ibolya",
                                    "1": "2016-10-23",
                                    "2": "2",
                                    "3": "2016-10-23"
                                },
                                {
                                    "0": "Kerényi Beatrix",
                                    "1": "2016-10-23",
                                    "2": "2",
                                    "3": "2016-10-23"
                                },
                                {
                                    "0": "Iván Róbert",
                                    "1": "2016-10-23",
                                    "2": "1",
                                    "3": "2016-10-23"
                                },
                                {
                                    "0": "Balogh Eszter",
                                    "1": "2016-10-23",
                                    "2": "1",
                                    "3": "2016-10-23"
                                },
                                {
                                    "0": "Bíró Péter",
                                    "1": "2016-10-24",
                                    "2": "2",
                                    "3": "2016-10-23"
                                },
                                {
                                    "0": "Turcsik Tünde",
                                    "1": "2016-10-24",
                                    "2": "3",
                                    "3": "2016-10-24"
                                },
                                {
                                    "0": "Szilágyi Mátyás",
                                    "1": "2016-10-24",
                                    "2": "1",
                                    "3": "2016-10-24"
                                },
                                {
                                    "0": "Tari Szilvia",
                                    "1": "2016-10-25",
                                    "2": "3",
                                    "3": "2016-10-24"
                                },
                                {
                                    "0": "Zatykó Katalin",
                                    "1": "2016-10-26",
                                    "2": "2",
                                    "3": "2016-10-25"
                                },
                                {
                                    "0": "Molnár Eszter",
                                    "1": "2016-10-26",
                                    "2": "3",
                                    "3": "2016-10-26"
                                },
                                {
                                    "0": "Barna Zoltán",
                                    "1": "2016-10-26",
                                    "2": "2",
                                    "3": "2016-10-26"
                                },
                                {
                                    "0": "Rab Sebestyén",
                                    "1": "2016-10-26",
                                    "2": "5",
                                    "3": "2016-10-26"
                                },
                                {
                                    "0": "Dusha Tímea",
                                    "1": "2016-10-26",
                                    "2": "3",
                                    "3": "2016-10-26"
                                },
                                {
                                    "0": "Iván Róbert",
                                    "1": "2016-10-26",
                                    "2": "2",
                                    "3": "2016-10-26"
                                },
                                {
                                    "0": "Horváth Katalin",
                                    "1": "2016-10-26",
                                    "2": "2",
                                    "3": "2016-10-26"
                                },
                                {
                                    "0": "Urbán Viktoria",
                                    "1": "2016-10-26",
                                    "2": "4",
                                    "3": "2016-10-26"
                                },
                                {
                                    "0": "Simon Bernadett",
                                    "1": "2016-10-26",
                                    "2": "3",
                                    "3": "2016-10-26"
                                },
                                {
                                    "0": "Kozma Péter",
                                    "1": "2016-10-26",
                                    "2": "3",
                                    "3": "2016-10-26"
                                },
                                {
                                    "0": "Vajda Zsuzsa",
                                    "1": "2016-10-26",
                                    "2": "1",
                                    "3": "2016-10-26"
                                },
                                {
                                    "0": "Feró Valentin",
                                    "1": "2016-10-26",
                                    "2": "3",
                                    "3": "2016-10-26"
                                },
                                {
                                    "0": "Kardos Renáta",
                                    "1": "2016-10-27",
                                    "2": "4",
                                    "3": "2016-10-26"
                                },
                                {
                                    "0": "Bieniek Ádám",
                                    "1": "2016-10-27",
                                    "2": "3",
                                    "3": "2016-10-27"
                                },
                                {
                                    "0": "Varsányi Zsuzsa",
                                    "1": "2016-10-27",
                                    "2": "4",
                                    "3": "2016-10-27"
                                },
                                {
                                    "0": "Tari Szilvia",
                                    "1": "2016-10-27",
                                    "2": "2",
                                    "3": "2016-10-27"
                                },
                                {
                                    "0": "Miklós Szabolcs",
                                    "1": "2016-10-28",
                                    "2": "3",
                                    "3": "2016-10-27"
                                },
                                {
                                    "0": "Búza Imre",
                                    "1": "2016-10-28",
                                    "2": "4",
                                    "3": "2016-10-28"
                                },
                                {
                                    "0": "Simon Bernadett",
                                    "1": "2016-10-28",
                                    "2": "3",
                                    "3": "2016-10-28"
                                },
                                {
                                    "0": "Mile Norbert",
                                    "1": "2016-10-28",
                                    "2": "3",
                                    "3": "2016-10-28"
                                },
                                {
                                    "0": "Farkas Sára",
                                    "1": "2016-10-28",
                                    "2": "2",
                                    "3": "2016-10-28"
                                },
                                {
                                    "0": "Oroszi György",
                                    "1": "2016-10-28",
                                    "2": "1",
                                    "3": "2016-10-28"
                                },
                                {
                                    "0": "Barna Debóra",
                                    "1": "2016-10-29",
                                    "2": "2",
                                    "3": "2016-10-28"
                                },
                                {
                                    "0": "Sarodi Dóra",
                                    "1": "2016-10-29",
                                    "2": "3",
                                    "3": "2016-10-29"
                                },
                                {
                                    "0": "Simon Anikó",
                                    "1": "2016-10-29",
                                    "2": "3",
                                    "3": "2016-10-29"
                                },
                                {
                                    "0": "Bori Krisztina",
                                    "1": "2016-10-29",
                                    "2": "4",
                                    "3": "2016-10-29"
                                },
                                {
                                    "0": "Szabó Julianna",
                                    "1": "2016-10-29",
                                    "2": "3",
                                    "3": "2016-10-29"
                                },
                                {
                                    "0": "Gulyás Attila",
                                    "1": "2016-10-30",
                                    "2": "2",
                                    "3": "2016-10-29"
                                },
                                {
                                    "0": "Győrffy Bence",
                                    "1": "2016-10-30",
                                    "2": "4",
                                    "3": "2016-10-30"
                                },
                                {
                                    "0": "Zatykó Katalin",
                                    "1": "2016-10-30",
                                    "2": "3",
                                    "3": "2016-10-30"
                                },
                                {
                                    "0": "Bíró Péter",
                                    "1": "2016-10-30",
                                    "2": "3",
                                    "3": "2016-10-30"
                                },
                                {
                                    "0": "Nagymihály Lajos",
                                    "1": "2016-10-30",
                                    "2": "3",
                                    "3": "2016-10-30"
                                },
                                {
                                    "0": "Kardos Renáta",
                                    "1": "2016-10-30",
                                    "2": "1",
                                    "3": "2016-10-30"
                                },
                                {
                                    "0": "Horváth Ágnes",
                                    "1": "2016-10-30",
                                    "2": "1",
                                    "3": "2016-10-30"
                                },
                                {
                                    "0": "Szilágyi Mátyás",
                                    "1": "2016-10-30",
                                    "2": "3",
                                    "3": "2016-10-30"
                                },
                                {
                                    "0": "Ambrus Dávid",
                                    "1": "2016-10-30",
                                    "2": "2",
                                    "3": "2016-10-30"
                                },
                                {
                                    "0": "Szalai Péter",
                                    "1": "2016-10-30",
                                    "2": "2",
                                    "3": "2016-10-30"
                                },
                                {
                                    "0": "Kovács Bernadett",
                                    "1": "2016-10-30",
                                    "2": "3",
                                    "3": "2016-10-30"
                                },
                                {
                                    "0": "Barna Zoltán",
                                    "1": "2016-10-30",
                                    "2": "1",
                                    "3": "2016-10-30"
                                },
                                {
                                    "0": "Opra Attila",
                                    "1": "2016-10-30",
                                    "2": "2",
                                    "3": "2016-10-30"
                                },
                                {
                                    "0": "Neizer Andrea",
                                    "1": "2016-10-30",
                                    "2": "3",
                                    "3": "2016-10-30"
                                },
                                {
                                    "0": "Hegedűs Norbert",
                                    "1": "2016-10-31",
                                    "2": "2",
                                    "3": "2016-10-30"
                                },
                                {
                                    "0": "Juhász Mihály",
                                    "1": "2016-11-01",
                                    "2": "3",
                                    "3": "2016-10-31"
                                },
                                {
                                    "0": "Érsek Eszter",
                                    "1": "2016-11-01",
                                    "2": "2",
                                    "3": "2016-11-01"
                                },
                                {
                                    "0": "Bozsó Péter",
                                    "1": "2016-11-01",
                                    "2": "2",
                                    "3": "2016-11-01"
                                },
                                {
                                    "0": "Czérna Krisztián",
                                    "1": "2016-11-02",
                                    "2": "2",
                                    "3": "2016-11-01"
                                },
                                {
                                    "0": "Farkas Béla",
                                    "1": "2016-11-03",
                                    "2": "4",
                                    "3": "2016-11-02"
                                },
                                {
                                    "0": "Szűcs Balázs",
                                    "1": "2016-11-03",
                                    "2": "3",
                                    "3": "2016-11-03"
                                },
                                {
                                    "0": "Kelemen Áron",
                                    "1": "2016-11-03",
                                    "2": "2",
                                    "3": "2016-11-03"
                                },
                                {
                                    "0": "Csiger Bertalan",
                                    "1": "2016-11-03",
                                    "2": "2",
                                    "3": "2016-11-03"
                                },
                                {
                                    "0": "Fő Nándor",
                                    "1": "2016-11-03",
                                    "2": "3",
                                    "3": "2016-11-03"
                                },
                                {
                                    "0": "Pataki Brigitta",
                                    "1": "2016-11-03",
                                    "2": "3",
                                    "3": "2016-11-03"
                                },
                                {
                                    "0": "Szabó Julianna",
                                    "1": "2016-11-03",
                                    "2": "2",
                                    "3": "2016-11-03"
                                },
                                {
                                    "0": "Bosnyák Ilona",
                                    "1": "2016-11-04",
                                    "2": "4",
                                    "3": "2016-11-03"
                                },
                                {
                                    "0": "Balogh Eszter",
                                    "1": "2016-11-05",
                                    "2": "4",
                                    "3": "2016-11-04"
                                },
                                {
                                    "0": "Kovács Katalin",
                                    "1": "2016-11-05",
                                    "2": "3",
                                    "3": "2016-11-05"
                                },
                                {
                                    "0": "Kelemen Áron",
                                    "1": "2016-11-05",
                                    "2": "2",
                                    "3": "2016-11-05"
                                },
                                {
                                    "0": "Jakab Áron",
                                    "1": "2016-11-05",
                                    "2": "2",
                                    "3": "2016-11-05"
                                },
                                {
                                    "0": "Kuruc Emese",
                                    "1": "2016-11-05",
                                    "2": "1",
                                    "3": "2016-11-05"
                                },
                                {
                                    "0": "Gombos Tibor",
                                    "1": "2016-11-05",
                                    "2": "1",
                                    "3": "2016-11-05"
                                },
                                {
                                    "0": "Béres Norbert",
                                    "1": "2016-11-05",
                                    "2": "1",
                                    "3": "2016-11-05"
                                },
                                {
                                    "0": "Ferencz Roland",
                                    "1": "2016-11-05",
                                    "2": "3",
                                    "3": "2016-11-05"
                                },
                                {
                                    "0": "Tömböly Dénes",
                                    "1": "2016-11-06",
                                    "2": "2",
                                    "3": "2016-11-05"
                                },
                                {
                                    "0": "Perlinger Éva",
                                    "1": "2016-11-06",
                                    "2": "2",
                                    "3": "2016-11-06"
                                },
                                {
                                    "0": "Ötvös Árpád",
                                    "1": "2016-11-06",
                                    "2": "2",
                                    "3": "2016-11-06"
                                },
                                {
                                    "0": "Molnár Bálint",
                                    "1": "2016-11-07",
                                    "2": "2",
                                    "3": "2016-11-06"
                                },
                                {
                                    "0": "Nagy Júlia",
                                    "1": "2016-11-07",
                                    "2": "1",
                                    "3": "2016-11-07"
                                },
                                {
                                    "0": "Giliga János",
                                    "1": "2016-11-07",
                                    "2": "3",
                                    "3": "2016-11-07"
                                },
                                {
                                    "0": "Telek Gábor",
                                    "1": "2016-11-07",
                                    "2": "4",
                                    "3": "2016-11-07"
                                },
                                {
                                    "0": "Lengyel Ágnes",
                                    "1": "2016-11-07",
                                    "2": "2",
                                    "3": "2016-11-07"
                                },
                                {
                                    "0": "Orosz Ferenc",
                                    "1": "2016-11-07",
                                    "2": "3",
                                    "3": "2016-11-07"
                                },
                                {
                                    "0": "Rácz Rajmond",
                                    "1": "2016-11-08",
                                    "2": "4",
                                    "3": "2016-11-07"
                                },
                                {
                                    "0": "Baráth Mária",
                                    "1": "2016-11-08",
                                    "2": "3",
                                    "3": "2016-11-08"
                                },
                                {
                                    "0": "Kornseé Gyöngyi",
                                    "1": "2016-11-08",
                                    "2": "2",
                                    "3": "2016-11-08"
                                },
                                {
                                    "0": "Szedlár Krisztina",
                                    "1": "2016-11-08",
                                    "2": "2",
                                    "3": "2016-11-08"
                                },
                                {
                                    "0": "Mohos Mónika",
                                    "1": "2016-11-09",
                                    "2": "2",
                                    "3": "2016-11-08"
                                },
                                {
                                    "0": "Móricz Árpád",
                                    "1": "2016-11-09",
                                    "2": "2",
                                    "3": "2016-11-09"
                                },
                                {
                                    "0": "Keszler Dániel",
                                    "1": "2016-11-09",
                                    "2": "2",
                                    "3": "2016-11-09"
                                },
                                {
                                    "0": "Gulyás Attila",
                                    "1": "2016-11-10",
                                    "2": "2",
                                    "3": "2016-11-09"
                                },
                                {
                                    "0": "Simon Anikó",
                                    "1": "2016-11-10",
                                    "2": "2",
                                    "3": "2016-11-10"
                                },
                                {
                                    "0": "Farkas Sándor",
                                    "1": "2016-11-10",
                                    "2": "2",
                                    "3": "2016-11-10"
                                },
                                {
                                    "0": "Bíró Péter",
                                    "1": "2016-11-10",
                                    "2": "3",
                                    "3": "2016-11-10"
                                },
                                {
                                    "0": "Regős Annamária",
                                    "1": "2016-11-11",
                                    "2": "3",
                                    "3": "2016-11-10"
                                },
                                {
                                    "0": "Feró Valentin",
                                    "1": "2016-11-11",
                                    "2": "3",
                                    "3": "2016-11-11"
                                },
                                {
                                    "0": "Miklós Szabolcs",
                                    "1": "2016-11-12",
                                    "2": "2",
                                    "3": "2016-11-11"
                                },
                                {
                                    "0": "Nagymihály Csongor",
                                    "1": "2016-11-12",
                                    "2": "3",
                                    "3": "2016-11-12"
                                },
                                {
                                    "0": "Rácz Dániel",
                                    "1": "2016-11-13",
                                    "2": "3",
                                    "3": "2016-11-12"
                                },
                                {
                                    "0": "Kerényi Beatrix",
                                    "1": "2016-11-14",
                                    "2": "2",
                                    "3": "2016-11-13"
                                },
                                {
                                    "0": "Miklós Tamara",
                                    "1": "2016-11-15",
                                    "2": "2",
                                    "3": "2016-11-14"
                                },
                                {
                                    "0": "Bieniek Ádám",
                                    "1": "2016-11-15",
                                    "2": "2",
                                    "3": "2016-11-15"
                                },
                                {
                                    "0": "Bozsó Péter",
                                    "1": "2016-11-15",
                                    "2": "3",
                                    "3": "2016-11-15"
                                },
                                {
                                    "0": "Gondos Miklós",
                                    "1": "2016-11-16",
                                    "2": "3",
                                    "3": "2016-11-15"
                                },
                                {
                                    "0": "Rácz Rajmond",
                                    "1": "2016-11-16",
                                    "2": "2",
                                    "3": "2016-11-16"
                                },
                                {
                                    "0": "Szűcs Norbert",
                                    "1": "2016-11-16",
                                    "2": "3",
                                    "3": "2016-11-16"
                                },
                                {
                                    "0": "Maródi Andrea",
                                    "1": "2016-11-16",
                                    "2": "3",
                                    "3": "2016-11-16"
                                },
                                {
                                    "0": "Berendi Péter",
                                    "1": "2016-11-17",
                                    "2": "2",
                                    "3": "2016-11-16"
                                },
                                {
                                    "0": "Boros Vivien",
                                    "1": "2016-11-17",
                                    "2": "2",
                                    "3": "2016-11-17"
                                },
                                {
                                    "0": "Farkas Sára",
                                    "1": "2016-11-18",
                                    "2": "3",
                                    "3": "2016-11-17"
                                },
                                {
                                    "0": "Turcsik Tünde",
                                    "1": "2016-11-19",
                                    "2": "3",
                                    "3": "2016-11-18"
                                },
                                {
                                    "0": "Köves Gábor",
                                    "1": "2016-11-19",
                                    "2": "2",
                                    "3": "2016-11-19"
                                },
                                {
                                    "0": "Barna Zoltán",
                                    "1": "2016-11-19",
                                    "2": "2",
                                    "3": "2016-11-19"
                                },
                                {
                                    "0": "Kispál Márk",
                                    "1": "2016-11-19",
                                    "2": "2",
                                    "3": "2016-11-19"
                                },
                                {
                                    "0": "Tóth Roland",
                                    "1": "2016-11-19",
                                    "2": "2",
                                    "3": "2016-11-19"
                                },
                                {
                                    "0": "Szomor Andrea",
                                    "1": "2016-11-19",
                                    "2": "3",
                                    "3": "2016-11-19"
                                },
                                {
                                    "0": "Sobják Dávid",
                                    "1": "2016-11-19",
                                    "2": "2",
                                    "3": "2016-11-19"
                                },
                                {
                                    "0": "Erdei András",
                                    "1": "2016-11-19",
                                    "2": "4",
                                    "3": "2016-11-19"
                                },
                                {
                                    "0": "Komjáti András",
                                    "1": "2016-11-20",
                                    "2": "3",
                                    "3": "2016-11-19"
                                },
                                {
                                    "0": "Bíró Ákos",
                                    "1": "2016-11-21",
                                    "2": "2",
                                    "3": "2016-11-20"
                                },
                                {
                                    "0": "Vajda Zsuzsa",
                                    "1": "2016-11-21",
                                    "2": "3",
                                    "3": "2016-11-21"
                                },
                                {
                                    "0": "Soós István",
                                    "1": "2016-11-22",
                                    "2": "3",
                                    "3": "2016-11-21"
                                },
                                {
                                    "0": "Dunai Aladár",
                                    "1": "2016-11-22",
                                    "2": "2",
                                    "3": "2016-11-22"
                                },
                                {
                                    "0": "Vörös Dániel",
                                    "1": "2016-11-22",
                                    "2": "2",
                                    "3": "2016-11-22"
                                },
                                {
                                    "0": "Sarodi Dóra",
                                    "1": "2016-11-22",
                                    "2": "3",
                                    "3": "2016-11-22"
                                },
                                {
                                    "0": "Frank Fruzsina",
                                    "1": "2016-11-22",
                                    "2": "2",
                                    "3": "2016-11-22"
                                },
                                {
                                    "0": "Szedlár Krisztina",
                                    "1": "2016-11-22",
                                    "2": "1",
                                    "3": "2016-11-22"
                                },
                                {
                                    "0": "Vajda József",
                                    "1": "2016-11-23",
                                    "2": "3",
                                    "3": "2016-11-22"
                                },
                                {
                                    "0": "Komjáti András",
                                    "1": "2016-11-23",
                                    "2": "1",
                                    "3": "2016-11-23"
                                },
                                {
                                    "0": "Keszler Dániel",
                                    "1": "2016-11-23",
                                    "2": "2",
                                    "3": "2016-11-23"
                                },
                                {
                                    "0": "Molnár András",
                                    "1": "2016-11-23",
                                    "2": "4",
                                    "3": "2016-11-23"
                                },
                                {
                                    "0": "Farkas Sára",
                                    "1": "2016-11-23",
                                    "2": "4",
                                    "3": "2016-11-23"
                                },
                                {
                                    "0": "Kardos Renáta",
                                    "1": "2016-11-23",
                                    "2": "1",
                                    "3": "2016-11-23"
                                },
                                {
                                    "0": "Kuruc Emese",
                                    "1": "2016-11-23",
                                    "2": "4",
                                    "3": "2016-11-23"
                                },
                                {
                                    "0": "Pálinkás János",
                                    "1": "2016-11-23",
                                    "2": "2",
                                    "3": "2016-11-23"
                                },
                                {
                                    "0": "Horváth Bálint",
                                    "1": "2016-11-24",
                                    "2": "3",
                                    "3": "2016-11-23"
                                },
                                {
                                    "0": "Bíró Péter",
                                    "1": "2016-11-25",
                                    "2": "3",
                                    "3": "2016-11-24"
                                },
                                {
                                    "0": "Back András",
                                    "1": "2016-11-25",
                                    "2": "2",
                                    "3": "2016-11-25"
                                },
                                {
                                    "0": "Pálinkás János",
                                    "1": "2016-11-25",
                                    "2": "2",
                                    "3": "2016-11-25"
                                },
                                {
                                    "0": "Nagy András",
                                    "1": "2016-11-25",
                                    "2": "2",
                                    "3": "2016-11-25"
                                },
                                {
                                    "0": "Móra László",
                                    "1": "2016-11-25",
                                    "2": "3",
                                    "3": "2016-11-25"
                                },
                                {
                                    "0": "Vajda József",
                                    "1": "2016-11-25",
                                    "2": "3",
                                    "3": "2016-11-25"
                                },
                                {
                                    "0": "Csiger Bertalan",
                                    "1": "2016-11-26",
                                    "2": "3",
                                    "3": "2016-11-25"
                                },
                                {
                                    "0": "Szabó Julianna",
                                    "1": "2016-11-27",
                                    "2": "3",
                                    "3": "2016-11-26"
                                },
                                {
                                    "0": "Dusha Tímea",
                                    "1": "2016-11-27",
                                    "2": "4",
                                    "3": "2016-11-27"
                                },
                                {
                                    "0": "Kertész Katalin",
                                    "1": "2016-11-27",
                                    "2": "3",
                                    "3": "2016-11-27"
                                },
                                {
                                    "0": "Bajusz Bence",
                                    "1": "2016-11-28",
                                    "2": "2",
                                    "3": "2016-11-27"
                                },
                                {
                                    "0": "Pusztai Zsuzsanna",
                                    "1": "2016-11-28",
                                    "2": "3",
                                    "3": "2016-11-28"
                                },
                                {
                                    "0": "Vígh András",
                                    "1": "2016-11-28",
                                    "2": "2",
                                    "3": "2016-11-28"
                                },
                                {
                                    "0": "Nagy László",
                                    "1": "2016-11-29",
                                    "2": "1",
                                    "3": "2016-11-28"
                                },
                                {
                                    "0": "Erdei András",
                                    "1": "2016-11-29",
                                    "2": "3",
                                    "3": "2016-11-29"
                                },
                                {
                                    "0": "Nagy Sándor",
                                    "1": "2016-11-29",
                                    "2": "2",
                                    "3": "2016-11-29"
                                },
                                {
                                    "0": "Bagóczki Alexandra",
                                    "1": "2016-11-29",
                                    "2": "2",
                                    "3": "2016-11-29"
                                },
                                {
                                    "0": "Mile Norbert",
                                    "1": "2016-11-30",
                                    "2": "3",
                                    "3": "2016-11-29"
                                },
                                {
                                    "0": "Feró Valentin",
                                    "1": "2016-12-01",
                                    "2": "3",
                                    "3": "2016-11-30"
                                },
                                {
                                    "0": "Kornseé Gyöngyi",
                                    "1": "2016-12-01",
                                    "2": "2",
                                    "3": "2016-12-01"
                                },
                                {
                                    "0": "Balogh Eszter",
                                    "1": "2016-12-02",
                                    "2": "1",
                                    "3": "2016-12-01"
                                },
                                {
                                    "0": "Farkas Béla",
                                    "1": "2016-12-02",
                                    "2": "3",
                                    "3": "2016-12-02"
                                },
                                {
                                    "0": "Fényes Tamás",
                                    "1": "2016-12-02",
                                    "2": "1",
                                    "3": "2016-12-02"
                                },
                                {
                                    "0": "Nagy Sándor",
                                    "1": "2016-12-03",
                                    "2": "1",
                                    "3": "2016-12-02"
                                },
                                {
                                    "0": "Kertész Katalin",
                                    "1": "2016-12-04",
                                    "2": "3",
                                    "3": "2016-12-03"
                                },
                                {
                                    "0": "Vukasinovity Bálint",
                                    "1": "2016-12-04",
                                    "2": "3",
                                    "3": "2016-12-04"
                                },
                                {
                                    "0": "Horváth Árpád",
                                    "1": "2016-12-04",
                                    "2": "1",
                                    "3": "2016-12-04"
                                },
                                {
                                    "0": "Bodor Szabolcs",
                                    "1": "2016-12-05",
                                    "2": "2",
                                    "3": "2016-12-04"
                                },
                                {
                                    "0": "Balla Miklós",
                                    "1": "2016-12-05",
                                    "2": "2",
                                    "3": "2016-12-05"
                                },
                                {
                                    "0": "Balogh Eszter",
                                    "1": "2016-12-05",
                                    "2": "2",
                                    "3": "2016-12-05"
                                },
                                {
                                    "0": "Bakódy Balázs",
                                    "1": "2016-12-05",
                                    "2": "3",
                                    "3": "2016-12-05"
                                },
                                {
                                    "0": "Bieniek Ádám",
                                    "1": "2016-12-06",
                                    "2": "3",
                                    "3": "2016-12-05"
                                },
                                {
                                    "0": "Gergely József",
                                    "1": "2016-12-06",
                                    "2": "2",
                                    "3": "2016-12-06"
                                },
                                {
                                    "0": "Perlinger Éva",
                                    "1": "2016-12-06",
                                    "2": "2",
                                    "3": "2016-12-06"
                                },
                                {
                                    "0": "Farkas Béla",
                                    "1": "2016-12-06",
                                    "2": "1",
                                    "3": "2016-12-06"
                                },
                                {
                                    "0": "Farkas Sára",
                                    "1": "2016-12-06",
                                    "2": "1",
                                    "3": "2016-12-06"
                                },
                                {
                                    "0": "Pintér Zoltán",
                                    "1": "2016-12-07",
                                    "2": "3",
                                    "3": "2016-12-06"
                                },
                                {
                                    "0": "Kelemen Áron",
                                    "1": "2016-12-07",
                                    "2": "3",
                                    "3": "2016-12-07"
                                },
                                {
                                    "0": "Kuruc Emese",
                                    "1": "2016-12-07",
                                    "2": "3",
                                    "3": "2016-12-07"
                                },
                                {
                                    "0": "Kő Nikoletta",
                                    "1": "2016-12-08",
                                    "2": "5",
                                    "3": "2016-12-07"
                                },
                                {
                                    "0": "Botka Mátyás",
                                    "1": "2016-12-09",
                                    "2": "3",
                                    "3": "2016-12-08"
                                },
                                {
                                    "0": "Fényes Tamás",
                                    "1": "2016-12-10",
                                    "2": "3",
                                    "3": "2016-12-09"
                                },
                                {
                                    "0": "Czérna Krisztián",
                                    "1": "2016-12-11",
                                    "2": "2",
                                    "3": "2016-12-10"
                                },
                                {
                                    "0": "Kerényi Beatrix",
                                    "1": "2016-12-12",
                                    "2": "3",
                                    "3": "2016-12-11"
                                },
                                {
                                    "0": "Horváth Katalin",
                                    "1": "2016-12-13",
                                    "2": "2",
                                    "3": "2016-12-12"
                                },
                                {
                                    "0": "Móricz Árpád",
                                    "1": "2016-12-14",
                                    "2": "3",
                                    "3": "2016-12-13"
                                },
                                {
                                    "0": "Dusha Tímea",
                                    "1": "2016-12-14",
                                    "2": "4",
                                    "3": "2016-12-14"
                                },
                                {
                                    "0": "Turcsik Tünde",
                                    "1": "2016-12-15",
                                    "2": "3",
                                    "3": "2016-12-14"
                                },
                                {
                                    "0": "Bíró Ákos",
                                    "1": "2016-12-15",
                                    "2": "2",
                                    "3": "2016-12-15"
                                },
                                {
                                    "0": "Szűcs Norbert",
                                    "1": "2016-12-15",
                                    "2": "2",
                                    "3": "2016-12-15"
                                },
                                {
                                    "0": "Frank Fruzsina",
                                    "1": "2016-12-16",
                                    "2": "1",
                                    "3": "2016-12-15"
                                },
                                {
                                    "0": "Kovács Bernadett",
                                    "1": "2016-12-17",
                                    "2": "1",
                                    "3": "2016-12-16"
                                },
                                {
                                    "0": "Győrffy Bence",
                                    "1": "2016-12-17",
                                    "2": "2",
                                    "3": "2016-12-17"
                                },
                                {
                                    "0": "Barabás Pál",
                                    "1": "2016-12-17",
                                    "2": "3",
                                    "3": "2016-12-17"
                                },
                                {
                                    "0": "Kerényi Beatrix",
                                    "1": "2016-12-17",
                                    "2": "4",
                                    "3": "2016-12-17"
                                },
                                {
                                    "0": "Kovács Ágnes",
                                    "1": "2016-12-17",
                                    "2": "2",
                                    "3": "2016-12-17"
                                },
                                {
                                    "0": "Horváth Katalin",
                                    "1": "2016-12-17",
                                    "2": "1",
                                    "3": "2016-12-17"
                                },
                                {
                                    "0": "Székely Brigitta",
                                    "1": "2016-12-17",
                                    "2": "2",
                                    "3": "2016-12-17"
                                },
                                {
                                    "0": "Patay Róbert",
                                    "1": "2016-12-17",
                                    "2": "1",
                                    "3": "2016-12-17"
                                },
                                {
                                    "0": "Boros Vivien",
                                    "1": "2016-12-17",
                                    "2": "2",
                                    "3": "2016-12-17"
                                },
                                {
                                    "0": "Molnár Bálint",
                                    "1": "2016-12-17",
                                    "2": "3",
                                    "3": "2016-12-17"
                                },
                                {
                                    "0": "Horváth Árpád",
                                    "1": "2016-12-18",
                                    "2": "3",
                                    "3": "2016-12-17"
                                },
                                {
                                    "0": "Pálinkás János",
                                    "1": "2016-12-18",
                                    "2": "2",
                                    "3": "2016-12-18"
                                },
                                {
                                    "0": "Hídasi Judit",
                                    "1": "2016-12-19",
                                    "2": "1",
                                    "3": "2016-12-18"
                                },
                                {
                                    "0": "Szilágyi Mátyás",
                                    "1": "2016-12-20",
                                    "2": "2",
                                    "3": "2016-12-19"
                                },
                                {
                                    "0": "Szekendi Beatrix",
                                    "1": "2016-12-21",
                                    "2": "2",
                                    "3": "2016-12-20"
                                },
                                {
                                    "0": "Endresz Bálint",
                                    "1": "2016-12-22",
                                    "2": "2",
                                    "3": "2016-12-21"
                                },
                                {
                                    "0": "Csóti Attila",
                                    "1": "2016-12-22",
                                    "2": "2",
                                    "3": "2016-12-22"
                                },
                                {
                                    "0": "Ferencz Roland",
                                    "1": "2016-12-22",
                                    "2": "1",
                                    "3": "2016-12-22"
                                },
                                {
                                    "0": "Molnár Eszter",
                                    "1": "2016-12-23",
                                    "2": "2",
                                    "3": "2016-12-22"
                                },
                                {
                                    "0": "Boros Vivien",
                                    "1": "2016-12-24",
                                    "2": "3",
                                    "3": "2016-12-23"
                                },
                                {
                                    "0": "Ötvös Árpád",
                                    "1": "2016-12-24",
                                    "2": "3",
                                    "3": "2016-12-24"
                                },
                                {
                                    "0": "Horváth Katalin",
                                    "1": "2016-12-24",
                                    "2": "2",
                                    "3": "2016-12-24"
                                },
                                {
                                    "0": "Kazy Tihamér",
                                    "1": "2016-12-25",
                                    "2": "2",
                                    "3": "2016-12-24"
                                },
                                {
                                    "0": "Farkas Sára",
                                    "1": "2016-12-25",
                                    "2": "2",
                                    "3": "2016-12-25"
                                },
                                {
                                    "0": "Tari Szilvia",
                                    "1": "2016-12-25",
                                    "2": "5",
                                    "3": "2016-12-25"
                                },
                                {
                                    "0": "Mogyródi Krisztián",
                                    "1": "2016-12-25",
                                    "2": "2",
                                    "3": "2016-12-25"
                                },
                                {
                                    "0": "Bosnyák Ilona",
                                    "1": "2016-12-25",
                                    "2": "3",
                                    "3": "2016-12-25"
                                },
                                {
                                    "0": "Kiss Lajos",
                                    "1": "2016-12-25",
                                    "2": "4",
                                    "3": "2016-12-25"
                                },
                                {
                                    "0": "Rácz Dániel",
                                    "1": "2016-12-25",
                                    "2": "3",
                                    "3": "2016-12-25"
                                },
                                {
                                    "0": "Szalai Péter",
                                    "1": "2016-12-25",
                                    "2": "1",
                                    "3": "2016-12-25"
                                },
                                {
                                    "0": "Pintér Zoltán",
                                    "1": "2016-12-25",
                                    "2": "2",
                                    "3": "2016-12-25"
                                },
                                {
                                    "0": "Papós Tímea",
                                    "1": "2016-12-26",
                                    "2": "2",
                                    "3": "2016-12-25"
                                },
                                {
                                    "0": "Bozsik Balázs",
                                    "1": "2016-12-26",
                                    "2": "3",
                                    "3": "2016-12-26"
                                },
                                {
                                    "0": "Győrffy Bence",
                                    "1": "2016-12-26",
                                    "2": "2",
                                    "3": "2016-12-26"
                                },
                                {
                                    "0": "Tari Szilvia",
                                    "1": "2016-12-27",
                                    "2": "2",
                                    "3": "2016-12-26"
                                },
                                {
                                    "0": "Giliga János",
                                    "1": "2016-12-28",
                                    "2": "2",
                                    "3": "2016-12-27"
                                },
                                {
                                    "0": "Barna Zoltán",
                                    "1": "2016-12-29",
                                    "2": "1",
                                    "3": "2016-12-28"
                                },
                                {
                                    "0": "Molnár Bálint",
                                    "1": "2016-12-29",
                                    "2": "3",
                                    "3": "2016-12-29"
                                },
                                {
                                    "0": "Nádudvari Henrik",
                                    "1": "2016-12-29",
                                    "2": "3",
                                    "3": "2016-12-29"
                                },
                                {
                                    "0": "Bíró Ákos",
                                    "1": "2016-12-29",
                                    "2": "3",
                                    "3": "2016-12-29"
                                },
                                {
                                    "0": "Sobják Dávid",
                                    "1": "2016-12-30",
                                    "2": "2",
                                    "3": "2016-12-29"
                                },
                                {
                                    "0": "Baróti Attila",
                                    "1": "2016-12-31",
                                    "2": "2",
                                    "3": "2016-12-30"
                                },
                                {
                                    "0": "Barna Zoltán",
                                    "1": "2017-01-01",
                                    "2": "3",
                                    "3": "2016-12-31"
                                },
                                {
                                    "0": "Bozsik Balázs",
                                    "1": "2017-01-01",
                                    "2": "2",
                                    "3": "2017-01-01"
                                },
                                {
                                    "0": "Orbán Bernadett",
                                    "1": "2017-01-01",
                                    "2": "3",
                                    "3": "2017-01-01"
                                },
                                {
                                    "0": "Kelemen Áron",
                                    "1": "2017-01-01",
                                    "2": "2",
                                    "3": "2017-01-01"
                                },
                                {
                                    "0": "Soós István",
                                    "1": "2017-01-02",
                                    "2": "2",
                                    "3": "2017-01-01"
                                },
                                {
                                    "0": "Kovács Katalin",
                                    "1": "2017-01-02",
                                    "2": "3",
                                    "3": "2017-01-02"
                                },
                                {
                                    "0": "Turcsik Tünde",
                                    "1": "2017-01-03",
                                    "2": "5",
                                    "3": "2017-01-02"
                                },
                                {
                                    "0": "Molnár Bálint",
                                    "1": "2017-01-03",
                                    "2": "2",
                                    "3": "2017-01-03"
                                },
                                {
                                    "0": "Horváth Ágnes",
                                    "1": "2017-01-03",
                                    "2": "2",
                                    "3": "2017-01-03"
                                },
                                {
                                    "0": "Ferencz Roland",
                                    "1": "2017-01-04",
                                    "2": "3",
                                    "3": "2017-01-03"
                                },
                                {
                                    "0": "Keszler Dániel",
                                    "1": "2017-01-05",
                                    "2": "3",
                                    "3": "2017-01-04"
                                },
                                {
                                    "0": "Móricz Árpád",
                                    "1": "2017-01-05",
                                    "2": "1",
                                    "3": "2017-01-05"
                                },
                                {
                                    "0": "Fülöp Eszter",
                                    "1": "2017-01-05",
                                    "2": "2",
                                    "3": "2017-01-05"
                                },
                                {
                                    "0": "Czérna Krisztián",
                                    "1": "2017-01-06",
                                    "2": "1",
                                    "3": "2017-01-05"
                                },
                                {
                                    "0": "Perlinger Éva",
                                    "1": "2017-01-06",
                                    "2": "4",
                                    "3": "2017-01-06"
                                },
                                {
                                    "0": "Miklós Szabolcs",
                                    "1": "2017-01-07",
                                    "2": "2",
                                    "3": "2017-01-06"
                                },
                                {
                                    "0": "Nagymihály Lajos",
                                    "1": "2017-01-08",
                                    "2": "3",
                                    "3": "2017-01-07"
                                },
                                {
                                    "0": "Gyuris József",
                                    "1": "2017-01-09",
                                    "2": "2",
                                    "3": "2017-01-08"
                                },
                                {
                                    "0": "Back András",
                                    "1": "2017-01-09",
                                    "2": "2",
                                    "3": "2017-01-09"
                                },
                                {
                                    "0": "Barta Zsuzsanna",
                                    "1": "2017-01-09",
                                    "2": "1",
                                    "3": "2017-01-09"
                                },
                                {
                                    "0": "Szilágyi Mátyás",
                                    "1": "2017-01-09",
                                    "2": "2",
                                    "3": "2017-01-09"
                                },
                                {
                                    "0": "Rácz Dániel",
                                    "1": "2017-01-09",
                                    "2": "1",
                                    "3": "2017-01-09"
                                },
                                {
                                    "0": "Giliga János",
                                    "1": "2017-01-10",
                                    "2": "2",
                                    "3": "2017-01-09"
                                },
                                {
                                    "0": "Regős Annamária",
                                    "1": "2017-01-10",
                                    "2": "2",
                                    "3": "2017-01-10"
                                },
                                {
                                    "0": "Bucskó Róza",
                                    "1": "2017-01-11",
                                    "2": "3",
                                    "3": "2017-01-10"
                                },
                                {
                                    "0": "Szalai Péter",
                                    "1": "2017-01-12",
                                    "2": "1",
                                    "3": "2017-01-11"
                                },
                                {
                                    "0": "Bieniek Ádám",
                                    "1": "2017-01-12",
                                    "2": "2",
                                    "3": "2017-01-12"
                                },
                                {
                                    "0": "Bagóczki Alexandra",
                                    "1": "2017-01-13",
                                    "2": "1",
                                    "3": "2017-01-12"
                                },
                                {
                                    "0": "Maródi Andrea",
                                    "1": "2017-01-13",
                                    "2": "3",
                                    "3": "2017-01-13"
                                },
                                {
                                    "0": "Enyedi Éva",
                                    "1": "2017-01-14",
                                    "2": "2",
                                    "3": "2017-01-13"
                                },
                                {
                                    "0": "Gondos Katalin",
                                    "1": "2017-01-15",
                                    "2": "3",
                                    "3": "2017-01-14"
                                },
                                {
                                    "0": "Bittmann Edit",
                                    "1": "2017-01-15",
                                    "2": "4",
                                    "3": "2017-01-15"
                                },
                                {
                                    "0": "Horváth Ágnes",
                                    "1": "2017-01-16",
                                    "2": "3",
                                    "3": "2017-01-15"
                                },
                                {
                                    "0": "Szalai Szilárd",
                                    "1": "2017-01-16",
                                    "2": "3",
                                    "3": "2017-01-16"
                                },
                                {
                                    "0": "Mogyródi Krisztián",
                                    "1": "2017-01-16",
                                    "2": "1",
                                    "3": "2017-01-16"
                                },
                                {
                                    "0": "Barta Zsuzsanna",
                                    "1": "2017-01-16",
                                    "2": "2",
                                    "3": "2017-01-16"
                                },
                                {
                                    "0": "Czérna Krisztián",
                                    "1": "2017-01-16",
                                    "2": "3",
                                    "3": "2017-01-16"
                                },
                                {
                                    "0": "Koza Máté",
                                    "1": "2017-01-16",
                                    "2": "2",
                                    "3": "2017-01-16"
                                },
                                {
                                    "0": "Tóth Zoltán",
                                    "1": "2017-01-16",
                                    "2": "2",
                                    "3": "2017-01-16"
                                },
                                {
                                    "0": "Ferencz Roland",
                                    "1": "2017-01-16",
                                    "2": "2",
                                    "3": "2017-01-16"
                                },
                                {
                                    "0": "Nagymihály Lajos",
                                    "1": "2017-01-17",
                                    "2": "2",
                                    "3": "2017-01-16"
                                },
                                {
                                    "0": "Mohos Mónika",
                                    "1": "2017-01-17",
                                    "2": "1",
                                    "3": "2017-01-17"
                                },
                                {
                                    "0": "Vörös Dániel",
                                    "1": "2017-01-17",
                                    "2": "2",
                                    "3": "2017-01-17"
                                },
                                {
                                    "0": "Andor Ibolya",
                                    "1": "2017-01-17",
                                    "2": "3",
                                    "3": "2017-01-17"
                                },
                                {
                                    "0": "Jakab Áron",
                                    "1": "2017-01-17",
                                    "2": "3",
                                    "3": "2017-01-17"
                                },
                                {
                                    "0": "Ambrus Dávid",
                                    "1": "2017-01-18",
                                    "2": "2",
                                    "3": "2017-01-17"
                                },
                                {
                                    "0": "Kertész Katalin",
                                    "1": "2017-01-18",
                                    "2": "2",
                                    "3": "2017-01-18"
                                },
                                {
                                    "0": "Tankó Veronika",
                                    "1": "2017-01-19",
                                    "2": "3",
                                    "3": "2017-01-18"
                                },
                                {
                                    "0": "Bagóczki Alexandra",
                                    "1": "2017-01-19",
                                    "2": "2",
                                    "3": "2017-01-19"
                                },
                                {
                                    "0": "Kovács Katalin",
                                    "1": "2017-01-19",
                                    "2": "3",
                                    "3": "2017-01-19"
                                },
                                {
                                    "0": "Bakódy Balázs",
                                    "1": "2017-01-20",
                                    "2": "2",
                                    "3": "2017-01-19"
                                },
                                {
                                    "0": "Bori Krisztina",
                                    "1": "2017-01-21",
                                    "2": "2",
                                    "3": "2017-01-20"
                                },
                                {
                                    "0": "Gyuris József",
                                    "1": "2017-01-22",
                                    "2": "1",
                                    "3": "2017-01-21"
                                },
                                {
                                    "0": "Horváth Márk",
                                    "1": "2017-01-22",
                                    "2": "4",
                                    "3": "2017-01-22"
                                },
                                {
                                    "0": "Kornseé Gyöngyi",
                                    "1": "2017-01-22",
                                    "2": "3",
                                    "3": "2017-01-22"
                                },
                                {
                                    "0": "Neizer Andrea",
                                    "1": "2017-01-22",
                                    "2": "2",
                                    "3": "2017-01-22"
                                },
                                {
                                    "0": "Nagy Sándor",
                                    "1": "2017-01-22",
                                    "2": "2",
                                    "3": "2017-01-22"
                                },
                                {
                                    "0": "Vörös Dániel",
                                    "1": "2017-01-22",
                                    "2": "1",
                                    "3": "2017-01-22"
                                },
                                {
                                    "0": "Frank Fruzsina",
                                    "1": "2017-01-22",
                                    "2": "4",
                                    "3": "2017-01-22"
                                },
                                {
                                    "0": "Gulyás Attila",
                                    "1": "2017-01-23",
                                    "2": "4",
                                    "3": "2017-01-22"
                                },
                                {
                                    "0": "Székely Brigitta",
                                    "1": "2017-01-23",
                                    "2": "1",
                                    "3": "2017-01-23"
                                },
                                {
                                    "0": "Barna Debóra",
                                    "1": "2017-01-23",
                                    "2": "3",
                                    "3": "2017-01-23"
                                },
                                {
                                    "0": "Kardos Renáta",
                                    "1": "2017-01-23",
                                    "2": "3",
                                    "3": "2017-01-23"
                                },
                                {
                                    "0": "Kovács Bernadett",
                                    "1": "2017-01-24",
                                    "2": "3",
                                    "3": "2017-01-23"
                                },
                                {
                                    "0": "Kertész Katalin",
                                    "1": "2017-01-24",
                                    "2": "2",
                                    "3": "2017-01-24"
                                },
                                {
                                    "0": "Gyárfás Krisztina",
                                    "1": "2017-01-25",
                                    "2": "2",
                                    "3": "2017-01-24"
                                },
                                {
                                    "0": "Fülöp Eszter",
                                    "1": "2017-01-26",
                                    "2": "2",
                                    "3": "2017-01-25"
                                },
                                {
                                    "0": "Nádudvari Henrik",
                                    "1": "2017-01-27",
                                    "2": "3",
                                    "3": "2017-01-26"
                                },
                                {
                                    "0": "Orbán Bernadett",
                                    "1": "2017-01-28",
                                    "2": "2",
                                    "3": "2017-01-27"
                                },
                                {
                                    "0": "Molnár András",
                                    "1": "2017-01-28",
                                    "2": "2",
                                    "3": "2017-01-28"
                                },
                                {
                                    "0": "Tari Szilvia",
                                    "1": "2017-01-28",
                                    "2": "2",
                                    "3": "2017-01-28"
                                },
                                {
                                    "0": "Balogh Eszter",
                                    "1": "2016-12-29",
                                    "2": "1",
                                    "3": "2017-01-28"
                                },
                                {
                                    "0": "Palágyi Polla",
                                    "1": "2017-01-29",
                                    "2": "2",
                                    "3": "2016-12-29"
                                },
                                {
                                    "0": "Hegedűs Norbert",
                                    "1": "2017-01-29",
                                    "2": "3",
                                    "3": "2017-01-29"
                                },
                                {
                                    "0": "Szűcs Annamária",
                                    "1": "2017-01-30",
                                    "2": "4",
                                    "3": "2017-01-29"
                                },
                                {
                                    "0": "Kuruc Emese",
                                    "1": "2017-01-30",
                                    "2": "2",
                                    "3": "2017-01-30"
                                },
                                {
                                    "0": "Kelemen Áron",
                                    "1": "2017-01-30",
                                    "2": "2",
                                    "3": "2017-01-30"
                                },
                                {
                                    "0": "Giliga János",
                                    "1": "2017-01-31",
                                    "2": "2",
                                    "3": "2017-01-30"
                                },
                                {
                                    "0": "Papp Imre",
                                    "1": "2017-02-01",
                                    "2": "2",
                                    "3": "2017-01-31"
                                },
                                {
                                    "0": "Kő Nikoletta",
                                    "1": "2017-02-01",
                                    "2": "2",
                                    "3": "2017-02-01"
                                },
                                {
                                    "0": "Vígh András",
                                    "1": "2017-02-02",
                                    "2": "2",
                                    "3": "2017-02-01"
                                },
                                {
                                    "0": "Szekendi Beatrix",
                                    "1": "2017-02-03",
                                    "2": "2",
                                    "3": "2017-02-02"
                                },
                                {
                                    "0": "Tankó Veronika",
                                    "1": "2017-02-03",
                                    "2": "2",
                                    "3": "2017-02-03"
                                },
                                {
                                    "0": "Bárci Gusztáv",
                                    "1": "2017-02-03",
                                    "2": "2",
                                    "3": "2017-02-03"
                                },
                                {
                                    "0": "Nagy Júlia",
                                    "1": "2017-02-04",
                                    "2": "4",
                                    "3": "2017-02-03"
                                },
                                {
                                    "0": "Barna Debóra",
                                    "1": "2017-02-04",
                                    "2": "3",
                                    "3": "2017-02-04"
                                },
                                {
                                    "0": "Viktor Éva",
                                    "1": "2017-02-04",
                                    "2": "5",
                                    "3": "2017-02-04"
                                },
                                {
                                    "0": "Nagy Gabriella",
                                    "1": "2017-02-04",
                                    "2": "3",
                                    "3": "2017-02-04"
                                },
                                {
                                    "0": "Miklós Szabolcs",
                                    "1": "2017-02-04",
                                    "2": "3",
                                    "3": "2017-02-04"
                                },
                                {
                                    "0": "Horváth Krisztina",
                                    "1": "2017-02-04",
                                    "2": "3",
                                    "3": "2017-02-04"
                                },
                                {
                                    "0": "Papp Imre",
                                    "1": "2017-02-05",
                                    "2": "4",
                                    "3": "2017-02-04"
                                },
                                {
                                    "0": "Bíró Péter",
                                    "1": "2017-02-05",
                                    "2": "3",
                                    "3": "2017-02-05"
                                },
                                {
                                    "0": "Győrffy Bence",
                                    "1": "2017-02-05",
                                    "2": "3",
                                    "3": "2017-02-05"
                                },
                                {
                                    "0": "Szedlár Krisztina",
                                    "1": "2017-02-05",
                                    "2": "2",
                                    "3": "2017-02-05"
                                },
                                {
                                    "0": "Fő Nándor",
                                    "1": "2017-02-05",
                                    "2": "3",
                                    "3": "2017-02-05"
                                },
                                {
                                    "0": "Barkóci Ádám",
                                    "1": "2017-02-06",
                                    "2": "1",
                                    "3": "2017-02-05"
                                },
                                {
                                    "0": "Juhász Mihály",
                                    "1": "2017-02-06",
                                    "2": "4",
                                    "3": "2017-02-06"
                                },
                                {
                                    "0": "Mohos Mónika",
                                    "1": "2017-02-06",
                                    "2": "2",
                                    "3": "2017-02-06"
                                },
                                {
                                    "0": "Vizi István",
                                    "1": "2017-02-07",
                                    "2": "3",
                                    "3": "2017-02-06"
                                },
                                {
                                    "0": "Szalai Szilárd",
                                    "1": "2017-02-08",
                                    "2": "1",
                                    "3": "2017-02-07"
                                },
                                {
                                    "0": "Bittmann Edit",
                                    "1": "2017-02-08",
                                    "2": "3",
                                    "3": "2017-02-08"
                                },
                                {
                                    "0": "Antal László",
                                    "1": "2017-02-08",
                                    "2": "2",
                                    "3": "2017-02-08"
                                },
                                {
                                    "0": "Tóth András",
                                    "1": "2017-02-08",
                                    "2": "4",
                                    "3": "2017-02-08"
                                },
                                {
                                    "0": "Kerényi Beatrix",
                                    "1": "2017-02-08",
                                    "2": "3",
                                    "3": "2017-02-08"
                                },
                                {
                                    "0": "Pataki Brigitta",
                                    "1": "2017-02-09",
                                    "2": "2",
                                    "3": "2017-02-08"
                                },
                                {
                                    "0": "Kiss Andrea",
                                    "1": "2017-02-09",
                                    "2": "2",
                                    "3": "2017-02-09"
                                },
                                {
                                    "0": "Bozsik Balázs",
                                    "1": "2017-02-10",
                                    "2": "3",
                                    "3": "2017-02-09"
                                },
                                {
                                    "0": "Érsek Eszter",
                                    "1": "2017-02-10",
                                    "2": "2",
                                    "3": "2017-02-10"
                                },
                                {
                                    "0": "Palágyi Polla",
                                    "1": "2017-02-11",
                                    "2": "2",
                                    "3": "2017-02-10"
                                },
                                {
                                    "0": "Bozsik Balázs",
                                    "1": "2017-02-12",
                                    "2": "2",
                                    "3": "2017-02-11"
                                },
                                {
                                    "0": "Tóth Anikó",
                                    "1": "2017-02-12",
                                    "2": "3",
                                    "3": "2017-02-12"
                                },
                                {
                                    "0": "Rácz Dániel",
                                    "1": "2017-02-12",
                                    "2": "3",
                                    "3": "2017-02-12"
                                },
                                {
                                    "0": "Bajusz Bence",
                                    "1": "2017-02-12",
                                    "2": "3",
                                    "3": "2017-02-12"
                                },
                                {
                                    "0": "Móricz Árpád",
                                    "1": "2017-02-12",
                                    "2": "3",
                                    "3": "2017-02-12"
                                },
                                {
                                    "0": "Kiss Lajos",
                                    "1": "2017-02-12",
                                    "2": "1",
                                    "3": "2017-02-12"
                                },
                                {
                                    "0": "Nagy Gabriella",
                                    "1": "2017-02-12",
                                    "2": "2",
                                    "3": "2017-02-12"
                                },
                                {
                                    "0": "Fényes Tamás",
                                    "1": "2017-02-12",
                                    "2": "2",
                                    "3": "2017-02-12"
                                },
                                {
                                    "0": "Harangozó János",
                                    "1": "2017-02-12",
                                    "2": "3",
                                    "3": "2017-02-12"
                                },
                                {
                                    "0": "Oroszi György",
                                    "1": "2017-02-13",
                                    "2": "2",
                                    "3": "2017-02-12"
                                },
                                {
                                    "0": "Szűcs Norbert",
                                    "1": "2017-02-13",
                                    "2": "3",
                                    "3": "2017-02-13"
                                },
                                {
                                    "0": "Szirmai Renáta",
                                    "1": "2017-02-13",
                                    "2": "1",
                                    "3": "2017-02-13"
                                },
                                {
                                    "0": "Barabás Pál",
                                    "1": "2017-02-13",
                                    "2": "3",
                                    "3": "2017-02-13"
                                },
                                {
                                    "0": "Nagymihály Csongor",
                                    "1": "2017-02-13",
                                    "2": "3",
                                    "3": "2017-02-13"
                                },
                                {
                                    "0": "Szirmai Renáta",
                                    "1": "2017-02-14",
                                    "2": "2",
                                    "3": "2017-02-13"
                                },
                                {
                                    "0": "Simon Bernadett",
                                    "1": "2017-02-14",
                                    "2": "3",
                                    "3": "2017-02-14"
                                },
                                {
                                    "0": "Antal Tamás",
                                    "1": "2017-02-14",
                                    "2": "3",
                                    "3": "2017-02-14"
                                },
                                {
                                    "0": "Baróti Attila",
                                    "1": "2017-02-15",
                                    "2": "2",
                                    "3": "2017-02-14"
                                },
                                {
                                    "0": "Csiger Bertalan",
                                    "1": "2017-02-16",
                                    "2": "2",
                                    "3": "2017-02-15"
                                },
                                {
                                    "0": "Fényes Tamás",
                                    "1": "2017-02-16",
                                    "2": "4",
                                    "3": "2017-02-16"
                                },
                                {
                                    "0": "Horváth Árpád",
                                    "1": "2017-02-16",
                                    "2": "2",
                                    "3": "2017-02-16"
                                },
                                {
                                    "0": "Regős Annamária",
                                    "1": "2017-02-16",
                                    "2": "2",
                                    "3": "2017-02-16"
                                },
                                {
                                    "0": "Berta Dávid",
                                    "1": "2017-02-16",
                                    "2": "3",
                                    "3": "2017-02-16"
                                },
                                {
                                    "0": "Mile Norbert",
                                    "1": "2017-02-16",
                                    "2": "1",
                                    "3": "2017-02-16"
                                },
                                {
                                    "0": "Szedlár Krisztina",
                                    "1": "2017-02-16",
                                    "2": "4",
                                    "3": "2017-02-16"
                                },
                                {
                                    "0": "Kardos Renáta",
                                    "1": "2017-02-16",
                                    "2": "1",
                                    "3": "2017-02-16"
                                },
                                {
                                    "0": "Hartyánszky Ágnes",
                                    "1": "2017-02-16",
                                    "2": "3",
                                    "3": "2017-02-16"
                                },
                                {
                                    "0": "Iván Róbert",
                                    "1": "2017-02-17",
                                    "2": "2",
                                    "3": "2017-02-16"
                                },
                                {
                                    "0": "Sobják Dávid",
                                    "1": "2017-02-17",
                                    "2": "3",
                                    "3": "2017-02-17"
                                },
                                {
                                    "0": "Molnár Zsófi",
                                    "1": "2017-02-18",
                                    "2": "3",
                                    "3": "2017-02-17"
                                },
                                {
                                    "0": "Nagy László",
                                    "1": "2017-02-18",
                                    "2": "3",
                                    "3": "2017-02-18"
                                },
                                {
                                    "0": "Bucskó Róza",
                                    "1": "2017-02-18",
                                    "2": "3",
                                    "3": "2017-02-18"
                                },
                                {
                                    "0": "Ötvös Árpád",
                                    "1": "2017-02-18",
                                    "2": "4",
                                    "3": "2017-02-18"
                                },
                                {
                                    "0": "Hamvay-Kovács Anita",
                                    "1": "2017-02-19",
                                    "2": "2",
                                    "3": "2017-02-18"
                                },
                                {
                                    "0": "Barabás Pál",
                                    "1": "2017-02-20",
                                    "2": "3",
                                    "3": "2017-02-19"
                                },
                                {
                                    "0": "Hamvay-Kovács Anita",
                                    "1": "2017-02-20",
                                    "2": "2",
                                    "3": "2017-02-20"
                                },
                                {
                                    "0": "Rácz Dániel",
                                    "1": "2017-02-20",
                                    "2": "3",
                                    "3": "2017-02-20"
                                },
                                {
                                    "0": "Csiger Bertalan",
                                    "1": "2017-02-20",
                                    "2": "4",
                                    "3": "2017-02-20"
                                },
                                {
                                    "0": "Nagy Gabriella",
                                    "1": "2017-02-21",
                                    "2": "3",
                                    "3": "2017-02-20"
                                },
                                {
                                    "0": "Szalai Péter",
                                    "1": "2017-02-21",
                                    "2": "2",
                                    "3": "2017-02-21"
                                },
                                {
                                    "0": "Kelemen Áron",
                                    "1": "2017-02-21",
                                    "2": "2",
                                    "3": "2017-02-21"
                                },
                                {
                                    "0": "Opra Attila",
                                    "1": "2017-02-22",
                                    "2": "3",
                                    "3": "2017-02-21"
                                },
                                {
                                    "0": "Tóth Anikó",
                                    "1": "2017-02-23",
                                    "2": "2",
                                    "3": "2017-02-22"
                                },
                                {
                                    "0": "Bieniek Ádám",
                                    "1": "2017-02-23",
                                    "2": "3",
                                    "3": "2017-02-23"
                                },
                                {
                                    "0": "Mohos Mónika",
                                    "1": "2017-02-23",
                                    "2": "2",
                                    "3": "2017-02-23"
                                },
                                {
                                    "0": "Bárci Gusztáv",
                                    "1": "2017-02-23",
                                    "2": "4",
                                    "3": "2017-02-23"
                                },
                                {
                                    "0": "Czérna Krisztián",
                                    "1": "2017-02-23",
                                    "2": "2",
                                    "3": "2017-02-23"
                                },
                                {
                                    "0": "Kozma Péter",
                                    "1": "2017-02-23",
                                    "2": "3",
                                    "3": "2017-02-23"
                                },
                                {
                                    "0": "Oroszi György",
                                    "1": "2017-02-24",
                                    "2": "3",
                                    "3": "2017-02-23"
                                },
                                {
                                    "0": "Baráth Mária",
                                    "1": "2017-02-24",
                                    "2": "2",
                                    "3": "2017-02-24"
                                },
                                {
                                    "0": "Simon Bernadett",
                                    "1": "2017-02-24",
                                    "2": "1",
                                    "3": "2017-02-24"
                                },
                                {
                                    "0": "Gyuris József",
                                    "1": "2017-02-24",
                                    "2": "3",
                                    "3": "2017-02-24"
                                },
                                {
                                    "0": "Horváth Katalin",
                                    "1": "2017-02-24",
                                    "2": "3",
                                    "3": "2017-02-24"
                                },
                                {
                                    "0": "Vörös Dániel",
                                    "1": "2017-02-25",
                                    "2": "3",
                                    "3": "2017-02-24"
                                },
                                {
                                    "0": "Sobják Dávid",
                                    "1": "2017-02-25",
                                    "2": "4",
                                    "3": "2017-02-25"
                                },
                                {
                                    "0": "Jakab Áron",
                                    "1": "2017-02-26",
                                    "2": "3",
                                    "3": "2017-02-25"
                                },
                                {
                                    "0": "Fülöp Eszter",
                                    "1": "2017-02-26",
                                    "2": "3",
                                    "3": "2017-02-26"
                                },
                                {
                                    "0": "Szikszai Réka",
                                    "1": "2017-02-26",
                                    "2": "2",
                                    "3": "2017-02-26"
                                },
                                {
                                    "0": "Szűcs Norbert",
                                    "1": "2017-02-26",
                                    "2": "1",
                                    "3": "2017-02-26"
                                },
                                {
                                    "0": "Tóth Júlia",
                                    "1": "2017-02-27",
                                    "2": "3",
                                    "3": "2017-02-26"
                                },
                                {
                                    "0": "Szűcs Balázs",
                                    "1": "2017-02-27",
                                    "2": "1",
                                    "3": "2017-02-27"
                                },
                                {
                                    "0": "Kozma Péter",
                                    "1": "2017-02-28",
                                    "2": "3",
                                    "3": "2017-02-27"
                                },
                                {
                                    "0": "Keszler Dániel",
                                    "1": "2017-03-01",
                                    "2": "4",
                                    "3": "2017-02-28"
                                },
                                {
                                    "0": "Kardos Renáta",
                                    "1": "2017-03-01",
                                    "2": "1",
                                    "3": "2017-03-01"
                                },
                                {
                                    "0": "Kalacsi Márton",
                                    "1": "2017-03-02",
                                    "2": "2",
                                    "3": "2017-03-01"
                                },
                                {
                                    "0": "Mile Norbert",
                                    "1": "2017-03-03",
                                    "2": "2",
                                    "3": "2017-03-02"
                                },
                                {
                                    "0": "Horváth Krisztina",
                                    "1": "2017-03-03",
                                    "2": "3",
                                    "3": "2017-03-03"
                                }
                            ]
                        },
                        "text/html": [
                            "<table>",
                            "<tr><th>NEV</th><th>METTOL</th><th>(No column name)</th><th>Előző foglalás dátuma</th></tr>",
                            "<tr><td>Fő Nándor</td><td>2016-04-06</td><td>3</td><td>NULL</td></tr>",
                            "<tr><td>Kelemen Áron</td><td>2016-04-06</td><td>2</td><td>2016-04-06</td></tr>",
                            "<tr><td>Foltényi Sebastián</td><td>2016-04-06</td><td>2</td><td>2016-04-06</td></tr>",
                            "<tr><td>Móra László</td><td>2016-04-06</td><td>2</td><td>2016-04-06</td></tr>",
                            "<tr><td>Berendi Péter</td><td>2016-04-06</td><td>1</td><td>2016-04-06</td></tr>",
                            "<tr><td>Rab Sebestyén</td><td>2016-04-07</td><td>4</td><td>2016-04-06</td></tr>",
                            "<tr><td>Kő Nikoletta</td><td>2016-04-08</td><td>2</td><td>2016-04-07</td></tr>",
                            "<tr><td>Poprádi Kristóf</td><td>2016-04-08</td><td>2</td><td>2016-04-08</td></tr>",
                            "<tr><td>Mogyródi Krisztián</td><td>2016-04-09</td><td>2</td><td>2016-04-08</td></tr>",
                            "<tr><td>Pivarcsi Anett</td><td>2016-04-10</td><td>1</td><td>2016-04-09</td></tr>",
                            "<tr><td>Gondos Katalin</td><td>2016-04-10</td><td>2</td><td>2016-04-10</td></tr>",
                            "<tr><td>Mile Norbert</td><td>2016-04-10</td><td>2</td><td>2016-04-10</td></tr>",
                            "<tr><td>Orbán Bernadett</td><td>2016-04-10</td><td>2</td><td>2016-04-10</td></tr>",
                            "<tr><td>Horváth Ágnes</td><td>2016-04-10</td><td>2</td><td>2016-04-10</td></tr>",
                            "<tr><td>Horváth Katalin</td><td>2016-04-10</td><td>2</td><td>2016-04-10</td></tr>",
                            "<tr><td>Keszler Dániel</td><td>2016-04-10</td><td>2</td><td>2016-04-10</td></tr>",
                            "<tr><td>Kovács Katalin</td><td>2016-04-10</td><td>2</td><td>2016-04-10</td></tr>",
                            "<tr><td>Rácz Dániel</td><td>2016-04-10</td><td>4</td><td>2016-04-10</td></tr>",
                            "<tr><td>Jakab Áron</td><td>2016-04-11</td><td>3</td><td>2016-04-10</td></tr>",
                            "<tr><td>Bíró Péter</td><td>2016-04-12</td><td>3</td><td>2016-04-11</td></tr>",
                            "<tr><td>Pivarcsi Anett</td><td>2016-04-13</td><td>3</td><td>2016-04-12</td></tr>",
                            "<tr><td>Vajda Zsuzsa</td><td>2016-04-14</td><td>2</td><td>2016-04-13</td></tr>",
                            "<tr><td>Pulai Zsolt</td><td>2016-04-14</td><td>2</td><td>2016-04-14</td></tr>",
                            "<tr><td>Pivarcsi Anett</td><td>2016-04-15</td><td>3</td><td>2016-04-14</td></tr>",
                            "<tr><td>Szűcs Balázs</td><td>2016-04-16</td><td>2</td><td>2016-04-15</td></tr>",
                            "<tr><td>Vizi István</td><td>2016-04-16</td><td>3</td><td>2016-04-16</td></tr>",
                            "<tr><td>Orbán Bernadett</td><td>2016-04-17</td><td>2</td><td>2016-04-16</td></tr>",
                            "<tr><td>Palágyi Polla</td><td>2016-04-17</td><td>3</td><td>2016-04-17</td></tr>",
                            "<tr><td>Szekendi Beatrix</td><td>2016-04-18</td><td>1</td><td>2016-04-17</td></tr>",
                            "<tr><td>Hegedűs Norbert</td><td>2016-04-19</td><td>1</td><td>2016-04-18</td></tr>",
                            "<tr><td>Kispál Márk</td><td>2016-04-19</td><td>4</td><td>2016-04-19</td></tr>",
                            "<tr><td>Gondos Miklós</td><td>2016-04-19</td><td>3</td><td>2016-04-19</td></tr>",
                            "<tr><td>Simon Anikó</td><td>2016-04-19</td><td>2</td><td>2016-04-19</td></tr>",
                            "<tr><td>Bagi Beáta</td><td>2016-04-20</td><td>2</td><td>2016-04-19</td></tr>",
                            "<tr><td>Tóth Júlia</td><td>2016-04-21</td><td>2</td><td>2016-04-20</td></tr>",
                            "<tr><td>Nagy Gabriella</td><td>2016-04-21</td><td>3</td><td>2016-04-21</td></tr>",
                            "<tr><td>Rácz Dániel</td><td>2016-04-22</td><td>2</td><td>2016-04-21</td></tr>",
                            "<tr><td>Horváth Bálint</td><td>2016-04-22</td><td>2</td><td>2016-04-22</td></tr>",
                            "<tr><td>Szalai Szilárd</td><td>2016-04-23</td><td>3</td><td>2016-04-22</td></tr>",
                            "<tr><td>Gyárfás Krisztina</td><td>2016-04-23</td><td>2</td><td>2016-04-23</td></tr>",
                            "<tr><td>Józsa Zsolt</td><td>2016-04-24</td><td>4</td><td>2016-04-23</td></tr>",
                            "<tr><td>Vizi István</td><td>2016-04-24</td><td>3</td><td>2016-04-24</td></tr>",
                            "<tr><td>Erdei András</td><td>2016-04-24</td><td>1</td><td>2016-04-24</td></tr>",
                            "<tr><td>Gondos Katalin</td><td>2016-04-25</td><td>1</td><td>2016-04-24</td></tr>",
                            "<tr><td>Rab Sebestyén</td><td>2016-04-26</td><td>4</td><td>2016-04-25</td></tr>",
                            "<tr><td>Telek Gábor</td><td>2016-04-26</td><td>3</td><td>2016-04-26</td></tr>",
                            "<tr><td>Móra László</td><td>2016-04-27</td><td>2</td><td>2016-04-26</td></tr>",
                            "<tr><td>Kalacsi Márton</td><td>2016-04-27</td><td>3</td><td>2016-04-27</td></tr>",
                            "<tr><td>Horváth Ágnes</td><td>2016-04-27</td><td>4</td><td>2016-04-27</td></tr>",
                            "<tr><td>Pivarcsi Anett</td><td>2016-04-28</td><td>3</td><td>2016-04-27</td></tr>",
                            "<tr><td>Bori Krisztina</td><td>2016-04-28</td><td>2</td><td>2016-04-28</td></tr>",
                            "<tr><td>Mohos Mónika</td><td>2016-04-29</td><td>2</td><td>2016-04-28</td></tr>",
                            "<tr><td>Urbán Viktoria</td><td>2016-04-30</td><td>1</td><td>2016-04-29</td></tr>",
                            "<tr><td>Vígh András</td><td>2016-05-01</td><td>2</td><td>2016-04-30</td></tr>",
                            "<tr><td>Kovács Bernadett</td><td>2016-05-01</td><td>2</td><td>2016-05-01</td></tr>",
                            "<tr><td>Nagymihály Csongor</td><td>2016-05-01</td><td>2</td><td>2016-05-01</td></tr>",
                            "<tr><td>Viktor Éva</td><td>2016-05-01</td><td>3</td><td>2016-05-01</td></tr>",
                            "<tr><td>Tóth Zoltán</td><td>2016-05-01</td><td>3</td><td>2016-05-01</td></tr>",
                            "<tr><td>Gyuris József</td><td>2016-05-02</td><td>2</td><td>2016-05-01</td></tr>",
                            "<tr><td>Boros Vivien</td><td>2016-05-02</td><td>3</td><td>2016-05-02</td></tr>",
                            "<tr><td>Fényes Tamás</td><td>2016-05-03</td><td>2</td><td>2016-05-02</td></tr>",
                            "<tr><td>Szirmai Renáta</td><td>2016-05-04</td><td>2</td><td>2016-05-03</td></tr>",
                            "<tr><td>Kalacsi Márton</td><td>2016-05-05</td><td>1</td><td>2016-05-04</td></tr>",
                            "<tr><td>Bárci Gusztáv</td><td>2016-05-06</td><td>2</td><td>2016-05-05</td></tr>",
                            "<tr><td>Bozsik Balázs</td><td>2016-05-07</td><td>2</td><td>2016-05-06</td></tr>",
                            "<tr><td>Nagymihály Csongor</td><td>2016-05-08</td><td>3</td><td>2016-05-07</td></tr>",
                            "<tr><td>Maródi Andrea</td><td>2016-05-08</td><td>4</td><td>2016-05-08</td></tr>",
                            "<tr><td>Orosz Ferenc</td><td>2016-05-08</td><td>2</td><td>2016-05-08</td></tr>",
                            "<tr><td>Győrffy Bence</td><td>2016-05-08</td><td>2</td><td>2016-05-08</td></tr>",
                            "<tr><td>Lukács Kornél</td><td>2016-05-08</td><td>3</td><td>2016-05-08</td></tr>",
                            "<tr><td>Lengyel Ágnes</td><td>2016-05-09</td><td>3</td><td>2016-05-08</td></tr>",
                            "<tr><td>Rácz Dániel</td><td>2016-05-09</td><td>3</td><td>2016-05-09</td></tr>",
                            "<tr><td>Józsa Zsolt</td><td>2016-05-09</td><td>2</td><td>2016-05-09</td></tr>",
                            "<tr><td>Giliga János</td><td>2016-05-09</td><td>1</td><td>2016-05-09</td></tr>",
                            "<tr><td>Hegedűs Norbert</td><td>2016-05-09</td><td>2</td><td>2016-05-09</td></tr>",
                            "<tr><td>Kovács Katalin</td><td>2016-05-09</td><td>3</td><td>2016-05-09</td></tr>",
                            "<tr><td>Kő Nikoletta</td><td>2016-05-09</td><td>2</td><td>2016-05-09</td></tr>",
                            "<tr><td>Keszler Dániel</td><td>2016-05-10</td><td>4</td><td>2016-05-09</td></tr>",
                            "<tr><td>Szilágyi Mátyás</td><td>2016-05-10</td><td>2</td><td>2016-05-10</td></tr>",
                            "<tr><td>Szirmai Renáta</td><td>2016-05-11</td><td>2</td><td>2016-05-10</td></tr>",
                            "<tr><td>Tóth Júlia</td><td>2016-05-12</td><td>1</td><td>2016-05-11</td></tr>",
                            "<tr><td>Barna Zoltán</td><td>2016-05-12</td><td>3</td><td>2016-05-12</td></tr>",
                            "<tr><td>Farkas Sándor</td><td>2016-05-12</td><td>2</td><td>2016-05-12</td></tr>",
                            "<tr><td>Barna Zoltán</td><td>2016-05-13</td><td>3</td><td>2016-05-12</td></tr>",
                            "<tr><td>Baráth Mária</td><td>2016-05-13</td><td>2</td><td>2016-05-13</td></tr>",
                            "<tr><td>Komjáti András</td><td>2016-05-14</td><td>2</td><td>2016-05-13</td></tr>",
                            "<tr><td>Tari Szilvia</td><td>2016-05-14</td><td>2</td><td>2016-05-14</td></tr>",
                            "<tr><td>Kelemen Áron</td><td>2016-05-14</td><td>4</td><td>2016-05-14</td></tr>",
                            "<tr><td>Bajusz Bence</td><td>2016-05-14</td><td>3</td><td>2016-05-14</td></tr>",
                            "<tr><td>Patay Róbert</td><td>2016-05-15</td><td>2</td><td>2016-05-14</td></tr>",
                            "<tr><td>Bori Krisztina</td><td>2016-05-16</td><td>1</td><td>2016-05-15</td></tr>",
                            "<tr><td>Antal Tamás</td><td>2016-05-17</td><td>2</td><td>2016-05-16</td></tr>",
                            "<tr><td>Barta Zsuzsanna</td><td>2016-05-17</td><td>2</td><td>2016-05-17</td></tr>",
                            "<tr><td>Dunai Aladár</td><td>2016-05-17</td><td>1</td><td>2016-05-17</td></tr>",
                            "<tr><td>Baráth Mária</td><td>2016-05-18</td><td>1</td><td>2016-05-17</td></tr>",
                            "<tr><td>Ambrus Dávid</td><td>2016-05-18</td><td>2</td><td>2016-05-18</td></tr>",
                            "<tr><td>Csiger Bertalan</td><td>2016-05-18</td><td>2</td><td>2016-05-18</td></tr>",
                            "<tr><td>Bíró Ákos</td><td>2016-05-18</td><td>2</td><td>2016-05-18</td></tr>",
                            "<tr><td>Horváth Krisztina</td><td>2016-05-19</td><td>2</td><td>2016-05-18</td></tr>",
                            "<tr><td>Gulyás Attila</td><td>2016-05-20</td><td>1</td><td>2016-05-19</td></tr>",
                            "<tr><td>Bagóczki Alexandra</td><td>2016-05-21</td><td>3</td><td>2016-05-20</td></tr>",
                            "<tr><td>Szedlár Krisztina</td><td>2016-05-21</td><td>2</td><td>2016-05-21</td></tr>",
                            "<tr><td>Opra Attila</td><td>2016-05-21</td><td>3</td><td>2016-05-21</td></tr>",
                            "<tr><td>Horváth Katalin</td><td>2016-05-21</td><td>1</td><td>2016-05-21</td></tr>",
                            "<tr><td>Komjáti András</td><td>2016-05-21</td><td>4</td><td>2016-05-21</td></tr>",
                            "<tr><td>Tatár Nikoletta</td><td>2016-05-22</td><td>4</td><td>2016-05-21</td></tr>",
                            "<tr><td>Botka Mátyás</td><td>2016-07-13</td><td>2</td><td>2016-05-22</td></tr>",
                            "<tr><td>Zatykó Katalin</td><td>2016-07-13</td><td>2</td><td>2016-07-13</td></tr>",
                            "<tr><td>Lengyel Ágnes</td><td>2016-07-13</td><td>3</td><td>2016-07-13</td></tr>",
                            "<tr><td>Frank Fruzsina</td><td>2016-07-13</td><td>3</td><td>2016-07-13</td></tr>",
                            "<tr><td>Tóth Zoltán</td><td>2016-07-14</td><td>3</td><td>2016-07-13</td></tr>",
                            "<tr><td>Turcsik Tünde</td><td>2016-07-14</td><td>1</td><td>2016-07-14</td></tr>",
                            "<tr><td>Horváth Árpád</td><td>2016-07-14</td><td>2</td><td>2016-07-14</td></tr>",
                            "<tr><td>Kozma Péter</td><td>2016-07-14</td><td>3</td><td>2016-07-14</td></tr>",
                            "<tr><td>Bittmann Edit</td><td>2016-07-14</td><td>3</td><td>2016-07-14</td></tr>",
                            "<tr><td>Bíró Ákos</td><td>2016-07-14</td><td>2</td><td>2016-07-14</td></tr>",
                            "<tr><td>Vígh András</td><td>2016-07-15</td><td>3</td><td>2016-07-14</td></tr>",
                            "<tr><td>Farkas Sára</td><td>2016-07-15</td><td>3</td><td>2016-07-15</td></tr>",
                            "<tr><td>Bíró Ákos</td><td>2016-07-16</td><td>2</td><td>2016-07-15</td></tr>",
                            "<tr><td>Vajda József</td><td>2016-07-16</td><td>3</td><td>2016-07-16</td></tr>",
                            "<tr><td>Bakódy Balázs</td><td>2016-07-17</td><td>2</td><td>2016-07-16</td></tr>",
                            "<tr><td>Simon Anikó</td><td>2016-07-17</td><td>3</td><td>2016-07-17</td></tr>",
                            "<tr><td>Foltényi Sebastián</td><td>2016-07-17</td><td>2</td><td>2016-07-17</td></tr>",
                            "<tr><td>Ambrus Dávid</td><td>2016-07-18</td><td>2</td><td>2016-07-17</td></tr>",
                            "<tr><td>Kiss Lajos</td><td>2016-07-18</td><td>2</td><td>2016-07-18</td></tr>",
                            "<tr><td>Oroszi György</td><td>2016-07-18</td><td>2</td><td>2016-07-18</td></tr>",
                            "<tr><td>Regős Annamária</td><td>2016-07-18</td><td>1</td><td>2016-07-18</td></tr>",
                            "<tr><td>Józsa Zsolt</td><td>2016-07-18</td><td>2</td><td>2016-07-18</td></tr>",
                            "<tr><td>Karasz Sándor</td><td>2016-07-18</td><td>2</td><td>2016-07-18</td></tr>",
                            "<tr><td>Balla Miklós</td><td>2016-07-18</td><td>2</td><td>2016-07-18</td></tr>",
                            "<tr><td>Érsek Eszter</td><td>2016-07-19</td><td>2</td><td>2016-07-18</td></tr>",
                            "<tr><td>Vizi István</td><td>2016-07-19</td><td>1</td><td>2016-07-19</td></tr>",
                            "<tr><td>Tömböly Dénes</td><td>2016-07-19</td><td>2</td><td>2016-07-19</td></tr>",
                            "<tr><td>Szűcs Balázs</td><td>2016-07-20</td><td>2</td><td>2016-07-19</td></tr>",
                            "<tr><td>Szabó Julianna</td><td>2016-07-20</td><td>2</td><td>2016-07-20</td></tr>",
                            "<tr><td>Tóth András</td><td>2016-07-20</td><td>2</td><td>2016-07-20</td></tr>",
                            "<tr><td>Berendi Péter</td><td>2016-07-20</td><td>2</td><td>2016-07-20</td></tr>",
                            "<tr><td>Tankó Veronika</td><td>2016-07-20</td><td>3</td><td>2016-07-20</td></tr>",
                            "<tr><td>Nagymihály Lajos</td><td>2016-07-20</td><td>3</td><td>2016-07-20</td></tr>",
                            "<tr><td>Molnár András</td><td>2016-07-20</td><td>1</td><td>2016-07-20</td></tr>",
                            "<tr><td>Kazy Tihamér</td><td>2016-07-20</td><td>3</td><td>2016-07-20</td></tr>",
                            "<tr><td>Tóth Júlia</td><td>2016-07-20</td><td>2</td><td>2016-07-20</td></tr>",
                            "<tr><td>Pintér Zoltán</td><td>2016-07-20</td><td>3</td><td>2016-07-20</td></tr>",
                            "<tr><td>Vígh András</td><td>2016-07-21</td><td>2</td><td>2016-07-20</td></tr>",
                            "<tr><td>Vukasinovity Bálint</td><td>2016-07-21</td><td>1</td><td>2016-07-21</td></tr>",
                            "<tr><td>Bozsik Balázs</td><td>2016-07-22</td><td>4</td><td>2016-07-21</td></tr>",
                            "<tr><td>Böröcz Anikó</td><td>2016-07-22</td><td>3</td><td>2016-07-22</td></tr>",
                            "<tr><td>Bíró Ákos</td><td>2016-07-22</td><td>1</td><td>2016-07-22</td></tr>",
                            "<tr><td>Kuruc Emese</td><td>2016-07-22</td><td>2</td><td>2016-07-22</td></tr>",
                            "<tr><td>Szilágyi Mátyás</td><td>2016-07-23</td><td>3</td><td>2016-07-22</td></tr>",
                            "<tr><td>Mohos Mónika</td><td>2016-07-23</td><td>1</td><td>2016-07-23</td></tr>",
                            "<tr><td>Feró Valentin</td><td>2016-07-24</td><td>1</td><td>2016-07-23</td></tr>",
                            "<tr><td>Nagy Gabriella</td><td>2016-07-24</td><td>2</td><td>2016-07-24</td></tr>",
                            "<tr><td>Farkas Sára</td><td>2016-07-24</td><td>3</td><td>2016-07-24</td></tr>",
                            "<tr><td>Pusztai Zsuzsanna</td><td>2016-07-24</td><td>3</td><td>2016-07-24</td></tr>",
                            "<tr><td>Győrffy Bence</td><td>2016-07-24</td><td>2</td><td>2016-07-24</td></tr>",
                            "<tr><td>Győrffy Bence</td><td>2016-07-25</td><td>3</td><td>2016-07-24</td></tr>",
                            "<tr><td>Tari Szilvia</td><td>2016-07-25</td><td>2</td><td>2016-07-25</td></tr>",
                            "<tr><td>Nagymihály Lajos</td><td>2016-07-26</td><td>3</td><td>2016-07-25</td></tr>",
                            "<tr><td>Molnár Bálint</td><td>2016-07-26</td><td>2</td><td>2016-07-26</td></tr>",
                            "<tr><td>Szalai Szilárd</td><td>2016-07-27</td><td>5</td><td>2016-07-26</td></tr>",
                            "<tr><td>Farkas Béla</td><td>2016-07-27</td><td>3</td><td>2016-07-27</td></tr>",
                            "<tr><td>Tatár Nikoletta</td><td>2016-07-27</td><td>4</td><td>2016-07-27</td></tr>",
                            "<tr><td>Szikszai Réka</td><td>2016-07-27</td><td>2</td><td>2016-07-27</td></tr>",
                            "<tr><td>Kiss Andrea</td><td>2016-07-27</td><td>2</td><td>2016-07-27</td></tr>",
                            "<tr><td>Zatykó Katalin</td><td>2016-07-27</td><td>2</td><td>2016-07-27</td></tr>",
                            "<tr><td>Hegedűs Norbert</td><td>2016-07-27</td><td>2</td><td>2016-07-27</td></tr>",
                            "<tr><td>Tornyos Andrea</td><td>2016-07-27</td><td>2</td><td>2016-07-27</td></tr>",
                            "<tr><td>Szalai Péter</td><td>2016-07-27</td><td>4</td><td>2016-07-27</td></tr>",
                            "<tr><td>Bagóczki Alexandra</td><td>2016-07-27</td><td>2</td><td>2016-07-27</td></tr>",
                            "<tr><td>Bakódy Balázs</td><td>2016-07-27</td><td>4</td><td>2016-07-27</td></tr>",
                            "<tr><td>Hídasi Judit</td><td>2016-07-28</td><td>2</td><td>2016-07-27</td></tr>",
                            "<tr><td>Köves Gábor</td><td>2016-07-28</td><td>2</td><td>2016-07-28</td></tr>",
                            "<tr><td>Komjáti András</td><td>2016-07-28</td><td>3</td><td>2016-07-28</td></tr>",
                            "<tr><td>Czérna Krisztián</td><td>2016-07-28</td><td>2</td><td>2016-07-28</td></tr>",
                            "<tr><td>Horváth Katalin</td><td>2016-07-28</td><td>1</td><td>2016-07-28</td></tr>",
                            "<tr><td>Oroszi György</td><td>2016-07-28</td><td>3</td><td>2016-07-28</td></tr>",
                            "<tr><td>Miklós Szabolcs</td><td>2016-07-28</td><td>2</td><td>2016-07-28</td></tr>",
                            "<tr><td>Kovács Ágnes</td><td>2016-07-29</td><td>3</td><td>2016-07-28</td></tr>",
                            "<tr><td>Farkas Béla</td><td>2016-07-29</td><td>2</td><td>2016-07-29</td></tr>",
                            "<tr><td>Lengyel Ágnes</td><td>2016-07-30</td><td>3</td><td>2016-07-29</td></tr>",
                            "<tr><td>Pásztor Róbert</td><td>2016-07-30</td><td>2</td><td>2016-07-30</td></tr>",
                            "<tr><td>Varsányi Zsuzsa</td><td>2016-07-30</td><td>2</td><td>2016-07-30</td></tr>",
                            "<tr><td>Foltényi Sebastián</td><td>2016-07-30</td><td>4</td><td>2016-07-30</td></tr>",
                            "<tr><td>Bosnyák Ilona</td><td>2016-07-31</td><td>2</td><td>2016-07-30</td></tr>",
                            "<tr><td>Pulai Zsolt</td><td>2016-07-31</td><td>2</td><td>2016-07-31</td></tr>",
                            "<tr><td>Kiss Andrea</td><td>2016-08-01</td><td>2</td><td>2016-07-31</td></tr>",
                            "<tr><td>Bajusz Bence</td><td>2016-08-01</td><td>2</td><td>2016-08-01</td></tr>",
                            "<tr><td>Tömböly Dénes</td><td>2016-08-01</td><td>3</td><td>2016-08-01</td></tr>",
                            "<tr><td>Czérna Krisztián</td><td>2016-08-01</td><td>3</td><td>2016-08-01</td></tr>",
                            "<tr><td>Szikszai Réka</td><td>2016-08-02</td><td>4</td><td>2016-08-01</td></tr>",
                            "<tr><td>Mogyródi Krisztián</td><td>2016-08-02</td><td>4</td><td>2016-08-02</td></tr>",
                            "<tr><td>Bittmann Edit</td><td>2016-08-03</td><td>4</td><td>2016-08-02</td></tr>",
                            "<tr><td>Zatykó Katalin</td><td>2016-08-03</td><td>2</td><td>2016-08-03</td></tr>",
                            "<tr><td>Molnár Bálint</td><td>2016-08-03</td><td>2</td><td>2016-08-03</td></tr>",
                            "<tr><td>Urbán Viktoria</td><td>2016-08-03</td><td>2</td><td>2016-08-03</td></tr>",
                            "<tr><td>Bosnyák Ilona</td><td>2016-08-04</td><td>3</td><td>2016-08-03</td></tr>",
                            "<tr><td>Hartyánszky Ágnes</td><td>2016-08-04</td><td>1</td><td>2016-08-04</td></tr>",
                            "<tr><td>Bárci Gusztáv</td><td>2016-08-05</td><td>3</td><td>2016-08-04</td></tr>",
                            "<tr><td>Ambrus Dávid</td><td>2016-08-05</td><td>1</td><td>2016-08-05</td></tr>",
                            "<tr><td>Kelemen Áron</td><td>2016-08-05</td><td>4</td><td>2016-08-05</td></tr>",
                            "<tr><td>Bíró Péter</td><td>2016-08-06</td><td>2</td><td>2016-08-05</td></tr>",
                            "<tr><td>Endresz Bálint</td><td>2016-08-06</td><td>2</td><td>2016-08-06</td></tr>",
                            "<tr><td>Vörös Dániel</td><td>2016-08-06</td><td>2</td><td>2016-08-06</td></tr>",
                            "<tr><td>Dusha Tímea</td><td>2016-08-07</td><td>3</td><td>2016-08-06</td></tr>",
                            "<tr><td>Gyárfás Krisztina</td><td>2016-08-08</td><td>3</td><td>2016-08-07</td></tr>",
                            "<tr><td>Kispál Márk</td><td>2016-08-09</td><td>3</td><td>2016-08-08</td></tr>",
                            "<tr><td>Kuruc Emese</td><td>2016-08-09</td><td>2</td><td>2016-08-09</td></tr>",
                            "<tr><td>Béres Norbert</td><td>2016-08-10</td><td>2</td><td>2016-08-09</td></tr>",
                            "<tr><td>Baráth Mária</td><td>2016-08-11</td><td>3</td><td>2016-08-10</td></tr>",
                            "<tr><td>Kerényi Beatrix</td><td>2016-08-12</td><td>4</td><td>2016-08-11</td></tr>",
                            "<tr><td>Kalacsi Márton</td><td>2016-08-12</td><td>2</td><td>2016-08-12</td></tr>",
                            "<tr><td>Miklós Tamara</td><td>2016-08-12</td><td>3</td><td>2016-08-12</td></tr>",
                            "<tr><td>Móricz Árpád</td><td>2016-08-12</td><td>2</td><td>2016-08-12</td></tr>",
                            "<tr><td>Molnár Eszter</td><td>2016-08-12</td><td>3</td><td>2016-08-12</td></tr>",
                            "<tr><td>Bittmann Edit</td><td>2016-08-12</td><td>2</td><td>2016-08-12</td></tr>",
                            "<tr><td>Boros Vivien</td><td>2016-08-13</td><td>2</td><td>2016-08-12</td></tr>",
                            "<tr><td>Kő Nikoletta</td><td>2016-08-13</td><td>3</td><td>2016-08-13</td></tr>",
                            "<tr><td>Barabás Pál</td><td>2016-08-14</td><td>3</td><td>2016-08-13</td></tr>",
                            "<tr><td>Palágyi Polla</td><td>2016-08-14</td><td>2</td><td>2016-08-14</td></tr>",
                            "<tr><td>Móra László</td><td>2016-08-14</td><td>3</td><td>2016-08-14</td></tr>",
                            "<tr><td>Barna Zoltán</td><td>2016-08-15</td><td>1</td><td>2016-08-14</td></tr>",
                            "<tr><td>Pivarcsi Anett</td><td>2016-08-15</td><td>2</td><td>2016-08-15</td></tr>",
                            "<tr><td>Berendi Péter</td><td>2016-08-16</td><td>1</td><td>2016-08-15</td></tr>",
                            "<tr><td>Hegedűs Norbert</td><td>2016-08-16</td><td>1</td><td>2016-08-16</td></tr>",
                            "<tr><td>Tömböly Dénes</td><td>2016-08-16</td><td>2</td><td>2016-08-16</td></tr>",
                            "<tr><td>Barna Zoltán</td><td>2016-08-16</td><td>2</td><td>2016-08-16</td></tr>",
                            "<tr><td>Sarodi Dóra</td><td>2016-08-16</td><td>4</td><td>2016-08-16</td></tr>",
                            "<tr><td>Erdei András</td><td>2016-08-16</td><td>2</td><td>2016-08-16</td></tr>",
                            "<tr><td>Czérna Krisztián</td><td>2016-08-16</td><td>1</td><td>2016-08-16</td></tr>",
                            "<tr><td>Nyíri Georgij</td><td>2016-08-16</td><td>4</td><td>2016-08-16</td></tr>",
                            "<tr><td>Giliga János</td><td>2016-08-16</td><td>3</td><td>2016-08-16</td></tr>",
                            "<tr><td>Tankó Veronika</td><td>2016-08-16</td><td>1</td><td>2016-08-16</td></tr>",
                            "<tr><td>Iván Róbert</td><td>2016-08-16</td><td>2</td><td>2016-08-16</td></tr>",
                            "<tr><td>Palágyi Polla</td><td>2016-08-16</td><td>4</td><td>2016-08-16</td></tr>",
                            "<tr><td>Pivarcsi Anett</td><td>2016-08-17</td><td>3</td><td>2016-08-16</td></tr>",
                            "<tr><td>Koza Máté</td><td>2016-08-17</td><td>4</td><td>2016-08-17</td></tr>",
                            "<tr><td>Kornseé Gyöngyi</td><td>2016-08-17</td><td>3</td><td>2016-08-17</td></tr>",
                            "<tr><td>Komjáti András</td><td>2016-08-17</td><td>3</td><td>2016-08-17</td></tr>",
                            "<tr><td>Baróti Attila</td><td>2016-08-18</td><td>4</td><td>2016-08-17</td></tr>",
                            "<tr><td>Kazy Tihamér</td><td>2016-08-18</td><td>3</td><td>2016-08-18</td></tr>",
                            "<tr><td>Komjáti András</td><td>2016-08-19</td><td>1</td><td>2016-08-18</td></tr>",
                            "<tr><td>Karasz Sándor</td><td>2016-08-20</td><td>2</td><td>2016-08-19</td></tr>",
                            "<tr><td>Ambrus Dávid</td><td>2016-08-20</td><td>3</td><td>2016-08-20</td></tr>",
                            "<tr><td>Patay Róbert</td><td>2016-08-20</td><td>2</td><td>2016-08-20</td></tr>",
                            "<tr><td>Kiss Ádám</td><td>2016-08-20</td><td>1</td><td>2016-08-20</td></tr>",
                            "<tr><td>Tömböly Dénes</td><td>2016-08-20</td><td>3</td><td>2016-08-20</td></tr>",
                            "<tr><td>Szűcs Balázs</td><td>2016-08-21</td><td>3</td><td>2016-08-20</td></tr>",
                            "<tr><td>Papp Imre</td><td>2016-08-21</td><td>2</td><td>2016-08-21</td></tr>",
                            "<tr><td>Ambrus Dávid</td><td>2016-08-22</td><td>3</td><td>2016-08-21</td></tr>",
                            "<tr><td>Iván Róbert</td><td>2016-08-23</td><td>2</td><td>2016-08-22</td></tr>",
                            "<tr><td>Kiss Andrea</td><td>2016-08-23</td><td>3</td><td>2016-08-23</td></tr>",
                            "<tr><td>Papp Imre</td><td>2016-08-23</td><td>3</td><td>2016-08-23</td></tr>",
                            "<tr><td>Ötvös Árpád</td><td>2016-08-23</td><td>2</td><td>2016-08-23</td></tr>",
                            "<tr><td>Kovács Bernadett</td><td>2016-08-23</td><td>2</td><td>2016-08-23</td></tr>",
                            "<tr><td>Gyuris József</td><td>2016-08-24</td><td>3</td><td>2016-08-23</td></tr>",
                            "<tr><td>Gondos Katalin</td><td>2016-08-24</td><td>3</td><td>2016-08-24</td></tr>",
                            "<tr><td>Bíró Péter</td><td>2016-08-24</td><td>3</td><td>2016-08-24</td></tr>",
                            "<tr><td>Bakódy Balázs</td><td>2016-08-24</td><td>3</td><td>2016-08-24</td></tr>",
                            "<tr><td>Antal Tamás</td><td>2016-08-24</td><td>3</td><td>2016-08-24</td></tr>",
                            "<tr><td>Nádudvari Henrik</td><td>2016-08-24</td><td>1</td><td>2016-08-24</td></tr>",
                            "<tr><td>Kovács Katalin</td><td>2016-08-24</td><td>2</td><td>2016-08-24</td></tr>",
                            "<tr><td>Harangozó János</td><td>2016-08-24</td><td>3</td><td>2016-08-24</td></tr>",
                            "<tr><td>Horváth Krisztina</td><td>2016-08-24</td><td>3</td><td>2016-08-24</td></tr>",
                            "<tr><td>Fodor Zoltán</td><td>2016-08-24</td><td>2</td><td>2016-08-24</td></tr>",
                            "<tr><td>Bagi Beáta</td><td>2016-08-25</td><td>3</td><td>2016-08-24</td></tr>",
                            "<tr><td>Kovács Bernadett</td><td>2016-08-25</td><td>3</td><td>2016-08-25</td></tr>",
                            "<tr><td>Sarodi Dóra</td><td>2016-08-25</td><td>3</td><td>2016-08-25</td></tr>",
                            "<tr><td>Kiss Andrea</td><td>2016-08-26</td><td>2</td><td>2016-08-25</td></tr>",
                            "<tr><td>Simon Anikó</td><td>2016-08-26</td><td>2</td><td>2016-08-26</td></tr>",
                            "<tr><td>Frank Fruzsina</td><td>2016-08-27</td><td>4</td><td>2016-08-26</td></tr>",
                            "<tr><td>Bieniek Ádám</td><td>2016-08-28</td><td>3</td><td>2016-08-27</td></tr>",
                            "<tr><td>Szalai Szilárd</td><td>2016-08-28</td><td>4</td><td>2016-08-28</td></tr>",
                            "<tr><td>Nyíri Georgij</td><td>2016-08-28</td><td>2</td><td>2016-08-28</td></tr>",
                            "<tr><td>Székely Brigitta</td><td>2016-08-28</td><td>3</td><td>2016-08-28</td></tr>",
                            "<tr><td>Pusztai Zsuzsanna</td><td>2016-08-28</td><td>2</td><td>2016-08-28</td></tr>",
                            "<tr><td>Czérna Krisztián</td><td>2016-08-29</td><td>1</td><td>2016-08-28</td></tr>",
                            "<tr><td>Andor Ibolya</td><td>2016-08-29</td><td>5</td><td>2016-08-29</td></tr>",
                            "<tr><td>Papp Imre</td><td>2016-08-29</td><td>2</td><td>2016-08-29</td></tr>",
                            "<tr><td>Vígh András</td><td>2016-08-29</td><td>3</td><td>2016-08-29</td></tr>",
                            "<tr><td>Farkas Béla</td><td>2016-08-29</td><td>2</td><td>2016-08-29</td></tr>",
                            "<tr><td>Juhász Mihály</td><td>2016-08-29</td><td>1</td><td>2016-08-29</td></tr>",
                            "<tr><td>Giliga János</td><td>2016-08-30</td><td>3</td><td>2016-08-29</td></tr>",
                            "<tr><td>Telek Gábor</td><td>2016-08-31</td><td>4</td><td>2016-08-30</td></tr>",
                            "<tr><td>Viktor Éva</td><td>2016-08-31</td><td>2</td><td>2016-08-31</td></tr>",
                            "<tr><td>Boros Vivien</td><td>2016-09-01</td><td>2</td><td>2016-08-31</td></tr>",
                            "<tr><td>Köves Gábor</td><td>2016-09-02</td><td>3</td><td>2016-09-01</td></tr>",
                            "<tr><td>Perlinger Éva</td><td>2016-09-02</td><td>1</td><td>2016-09-02</td></tr>",
                            "<tr><td>Baráth Mária</td><td>2016-09-02</td><td>1</td><td>2016-09-02</td></tr>",
                            "<tr><td>Győrffy Bence</td><td>2016-09-03</td><td>3</td><td>2016-09-02</td></tr>",
                            "<tr><td>Tóth Roland</td><td>2016-09-04</td><td>2</td><td>2016-09-03</td></tr>",
                            "<tr><td>Turcsik Tünde</td><td>2016-09-05</td><td>2</td><td>2016-09-04</td></tr>",
                            "<tr><td>Rácz Rajmond</td><td>2016-09-05</td><td>3</td><td>2016-09-05</td></tr>",
                            "<tr><td>Szűcs Balázs</td><td>2016-05-22</td><td>3</td><td>2016-09-05</td></tr>",
                            "<tr><td>Gyuris József</td><td>2016-05-23</td><td>1</td><td>2016-05-22</td></tr>",
                            "<tr><td>Horváth Nikolett</td><td>2016-05-24</td><td>2</td><td>2016-05-23</td></tr>",
                            "<tr><td>Gyárfás Krisztina</td><td>2016-05-24</td><td>1</td><td>2016-05-24</td></tr>",
                            "<tr><td>Simon Anikó</td><td>2016-05-24</td><td>3</td><td>2016-05-24</td></tr>",
                            "<tr><td>Feró Valentin</td><td>2016-05-24</td><td>4</td><td>2016-05-24</td></tr>",
                            "<tr><td>Lengyel Ágnes</td><td>2016-05-25</td><td>1</td><td>2016-05-24</td></tr>",
                            "<tr><td>Farkas Sándor</td><td>2016-05-25</td><td>1</td><td>2016-05-25</td></tr>",
                            "<tr><td>Keszler Dániel</td><td>2016-05-26</td><td>3</td><td>2016-05-25</td></tr>",
                            "<tr><td>Neizer Andrea</td><td>2016-05-27</td><td>1</td><td>2016-05-26</td></tr>",
                            "<tr><td>Oroszi György</td><td>2016-05-27</td><td>3</td><td>2016-05-27</td></tr>",
                            "<tr><td>Tömböly Dénes</td><td>2016-05-27</td><td>3</td><td>2016-05-27</td></tr>",
                            "<tr><td>Szűcs Balázs</td><td>2016-05-28</td><td>3</td><td>2016-05-27</td></tr>",
                            "<tr><td>Baráth Mária</td><td>2016-05-28</td><td>2</td><td>2016-05-28</td></tr>",
                            "<tr><td>Palágyi Polla</td><td>2016-05-28</td><td>2</td><td>2016-05-28</td></tr>",
                            "<tr><td>Farkas Sára</td><td>2016-05-28</td><td>2</td><td>2016-05-28</td></tr>",
                            "<tr><td>Józsa Zsolt</td><td>2016-05-28</td><td>1</td><td>2016-05-28</td></tr>",
                            "<tr><td>Vajda Zsuzsa</td><td>2016-05-28</td><td>4</td><td>2016-05-28</td></tr>",
                            "<tr><td>Kiss Ádám</td><td>2016-05-28</td><td>3</td><td>2016-05-28</td></tr>",
                            "<tr><td>Tari Szilvia</td><td>2016-05-28</td><td>2</td><td>2016-05-28</td></tr>",
                            "<tr><td>Mile Norbert</td><td>2016-05-29</td><td>3</td><td>2016-05-28</td></tr>",
                            "<tr><td>Győrffy Bence</td><td>2016-05-29</td><td>1</td><td>2016-05-29</td></tr>",
                            "<tr><td>Móricz Árpád</td><td>2016-05-29</td><td>2</td><td>2016-05-29</td></tr>",
                            "<tr><td>Érsek Eszter</td><td>2016-05-30</td><td>2</td><td>2016-05-29</td></tr>",
                            "<tr><td>Juhász Mihály</td><td>2016-05-30</td><td>2</td><td>2016-05-30</td></tr>",
                            "<tr><td>Székely Brigitta</td><td>2016-05-30</td><td>3</td><td>2016-05-30</td></tr>",
                            "<tr><td>Kő Nikoletta</td><td>2016-05-30</td><td>3</td><td>2016-05-30</td></tr>",
                            "<tr><td>Telek Gábor</td><td>2016-05-30</td><td>1</td><td>2016-05-30</td></tr>",
                            "<tr><td>Keresztúri Viktor</td><td>2016-05-30</td><td>2</td><td>2016-05-30</td></tr>",
                            "<tr><td>Vígh András</td><td>2016-05-30</td><td>1</td><td>2016-05-30</td></tr>",
                            "<tr><td>Kazy Tihamér</td><td>2016-05-30</td><td>1</td><td>2016-05-30</td></tr>",
                            "<tr><td>Farkas Sára</td><td>2016-05-30</td><td>2</td><td>2016-05-30</td></tr>",
                            "<tr><td>Tankó Veronika</td><td>2016-05-30</td><td>2</td><td>2016-05-30</td></tr>",
                            "<tr><td>Tóth András</td><td>2016-05-30</td><td>1</td><td>2016-05-30</td></tr>",
                            "<tr><td>Gondos Katalin</td><td>2016-05-31</td><td>3</td><td>2016-05-30</td></tr>",
                            "<tr><td>Pataki Brigitta</td><td>2016-06-01</td><td>2</td><td>2016-05-31</td></tr>",
                            "<tr><td>Oroszi György</td><td>2016-06-01</td><td>2</td><td>2016-06-01</td></tr>",
                            "<tr><td>Lukács Kornél</td><td>2016-06-02</td><td>3</td><td>2016-06-01</td></tr>",
                            "<tr><td>Frank Fruzsina</td><td>2016-06-02</td><td>2</td><td>2016-06-02</td></tr>",
                            "<tr><td>Kornseé Gyöngyi</td><td>2016-06-02</td><td>3</td><td>2016-06-02</td></tr>",
                            "<tr><td>Szilágyi Mátyás</td><td>2016-06-02</td><td>1</td><td>2016-06-02</td></tr>",
                            "<tr><td>Nagy László</td><td>2016-06-03</td><td>1</td><td>2016-06-02</td></tr>",
                            "<tr><td>Barna Zoltán</td><td>2016-06-03</td><td>1</td><td>2016-06-03</td></tr>",
                            "<tr><td>Czérna Krisztián</td><td>2016-06-03</td><td>2</td><td>2016-06-03</td></tr>",
                            "<tr><td>Kazy Tihamér</td><td>2016-06-03</td><td>5</td><td>2016-06-03</td></tr>",
                            "<tr><td>Bagi Beáta</td><td>2016-06-03</td><td>2</td><td>2016-06-03</td></tr>",
                            "<tr><td>Horváth Nikolett</td><td>2016-06-03</td><td>1</td><td>2016-06-03</td></tr>",
                            "<tr><td>Turcsik Tünde</td><td>2016-06-03</td><td>3</td><td>2016-06-03</td></tr>",
                            "<tr><td>Antal László</td><td>2016-06-03</td><td>2</td><td>2016-06-03</td></tr>",
                            "<tr><td>Bajusz Bence</td><td>2016-06-03</td><td>2</td><td>2016-06-03</td></tr>",
                            "<tr><td>Mogyródi Krisztián</td><td>2016-06-04</td><td>2</td><td>2016-06-03</td></tr>",
                            "<tr><td>Kelemen Áron</td><td>2016-06-04</td><td>2</td><td>2016-06-04</td></tr>",
                            "<tr><td>Opra Attila</td><td>2016-06-04</td><td>3</td><td>2016-06-04</td></tr>",
                            "<tr><td>Harangozó János</td><td>2016-06-04</td><td>1</td><td>2016-06-04</td></tr>",
                            "<tr><td>Gyuris József</td><td>2016-06-04</td><td>4</td><td>2016-06-04</td></tr>",
                            "<tr><td>Nagymihály Csongor</td><td>2016-06-04</td><td>2</td><td>2016-06-04</td></tr>",
                            "<tr><td>Pintér Zoltán</td><td>2016-06-05</td><td>2</td><td>2016-06-04</td></tr>",
                            "<tr><td>Ötvös Árpád</td><td>2016-06-05</td><td>2</td><td>2016-06-05</td></tr>",
                            "<tr><td>Vörös Dániel</td><td>2016-06-06</td><td>3</td><td>2016-06-05</td></tr>",
                            "<tr><td>Farkas Sára</td><td>2016-06-06</td><td>2</td><td>2016-06-06</td></tr>",
                            "<tr><td>Zatykó Katalin</td><td>2016-06-06</td><td>2</td><td>2016-06-06</td></tr>",
                            "<tr><td>Horváth Árpád</td><td>2016-06-06</td><td>3</td><td>2016-06-06</td></tr>",
                            "<tr><td>Dusha Tímea</td><td>2016-06-06</td><td>2</td><td>2016-06-06</td></tr>",
                            "<tr><td>Zatykó Katalin</td><td>2016-06-06</td><td>3</td><td>2016-06-06</td></tr>",
                            "<tr><td>Pintér Zoltán</td><td>2016-06-06</td><td>2</td><td>2016-06-06</td></tr>",
                            "<tr><td>Kalacsi Márton</td><td>2016-06-06</td><td>3</td><td>2016-06-06</td></tr>",
                            "<tr><td>Pulai Zsolt</td><td>2016-06-06</td><td>2</td><td>2016-06-06</td></tr>",
                            "<tr><td>Turcsik Tünde</td><td>2016-06-06</td><td>3</td><td>2016-06-06</td></tr>",
                            "<tr><td>Keresztúri Viktor</td><td>2016-06-06</td><td>4</td><td>2016-06-06</td></tr>",
                            "<tr><td>Hídasi Judit</td><td>2016-06-06</td><td>2</td><td>2016-06-06</td></tr>",
                            "<tr><td>Szűcs Annamária</td><td>2016-06-06</td><td>3</td><td>2016-06-06</td></tr>",
                            "<tr><td>Bakó Klaudia</td><td>2016-06-06</td><td>4</td><td>2016-06-06</td></tr>",
                            "<tr><td>Antal László</td><td>2016-06-07</td><td>1</td><td>2016-06-06</td></tr>",
                            "<tr><td>Molnár Bálint</td><td>2016-06-07</td><td>3</td><td>2016-06-07</td></tr>",
                            "<tr><td>Orbán Bernadett</td><td>2016-06-07</td><td>3</td><td>2016-06-07</td></tr>",
                            "<tr><td>Tóth Júlia</td><td>2016-06-07</td><td>5</td><td>2016-06-07</td></tr>",
                            "<tr><td>Komjáti András</td><td>2016-06-07</td><td>3</td><td>2016-06-07</td></tr>",
                            "<tr><td>Tatár Nikoletta</td><td>2016-06-07</td><td>2</td><td>2016-06-07</td></tr>",
                            "<tr><td>Czérna Krisztián</td><td>2016-06-07</td><td>2</td><td>2016-06-07</td></tr>",
                            "<tr><td>Pulai Zsolt</td><td>2016-06-07</td><td>4</td><td>2016-06-07</td></tr>",
                            "<tr><td>Gondos Katalin</td><td>2016-06-07</td><td>2</td><td>2016-06-07</td></tr>",
                            "<tr><td>Kelemen Áron</td><td>2016-06-07</td><td>3</td><td>2016-06-07</td></tr>",
                            "<tr><td>Molnár Bálint</td><td>2016-06-07</td><td>3</td><td>2016-06-07</td></tr>",
                            "<tr><td>Nagy László</td><td>2016-06-08</td><td>2</td><td>2016-06-07</td></tr>",
                            "<tr><td>Gyárfás Krisztina</td><td>2016-06-08</td><td>1</td><td>2016-06-08</td></tr>",
                            "<tr><td>Regős Annamária</td><td>2016-06-08</td><td>2</td><td>2016-06-08</td></tr>",
                            "<tr><td>Bagóczki Alexandra</td><td>2016-06-08</td><td>3</td><td>2016-06-08</td></tr>",
                            "<tr><td>Ambrus Dávid</td><td>2016-06-09</td><td>2</td><td>2016-06-08</td></tr>",
                            "<tr><td>Tóth Roland</td><td>2016-06-09</td><td>3</td><td>2016-06-09</td></tr>",
                            "<tr><td>Rab Sebestyén</td><td>2016-06-09</td><td>4</td><td>2016-06-09</td></tr>",
                            "<tr><td>Kerényi Beatrix</td><td>2016-06-10</td><td>2</td><td>2016-06-09</td></tr>",
                            "<tr><td>Orbán Bernadett</td><td>2016-06-10</td><td>4</td><td>2016-06-10</td></tr>",
                            "<tr><td>Nagymihály Csongor</td><td>2016-06-10</td><td>3</td><td>2016-06-10</td></tr>",
                            "<tr><td>Kerényi Beatrix</td><td>2016-06-10</td><td>2</td><td>2016-06-10</td></tr>",
                            "<tr><td>Kornseé Gyöngyi</td><td>2016-06-10</td><td>1</td><td>2016-06-10</td></tr>",
                            "<tr><td>Oroszi György</td><td>2016-06-10</td><td>2</td><td>2016-06-10</td></tr>",
                            "<tr><td>Antal László</td><td>2016-06-10</td><td>3</td><td>2016-06-10</td></tr>",
                            "<tr><td>Molnár Bálint</td><td>2016-06-10</td><td>1</td><td>2016-06-10</td></tr>",
                            "<tr><td>Vígh András</td><td>2016-06-10</td><td>1</td><td>2016-06-10</td></tr>",
                            "<tr><td>Fényes Tamás</td><td>2016-06-10</td><td>3</td><td>2016-06-10</td></tr>",
                            "<tr><td>Nagymihály Csongor</td><td>2016-06-11</td><td>2</td><td>2016-06-10</td></tr>",
                            "<tr><td>Szekendi Beatrix</td><td>2016-06-11</td><td>3</td><td>2016-06-11</td></tr>",
                            "<tr><td>Simon Bernadett</td><td>2016-06-12</td><td>3</td><td>2016-06-11</td></tr>",
                            "<tr><td>Kovács Katalin</td><td>2016-06-13</td><td>1</td><td>2016-06-12</td></tr>",
                            "<tr><td>Maródi Andrea</td><td>2016-06-13</td><td>1</td><td>2016-06-13</td></tr>",
                            "<tr><td>Kovács Katalin</td><td>2016-06-13</td><td>4</td><td>2016-06-13</td></tr>",
                            "<tr><td>Pataki Brigitta</td><td>2016-06-13</td><td>3</td><td>2016-06-13</td></tr>",
                            "<tr><td>Kispál Márk</td><td>2016-06-13</td><td>3</td><td>2016-06-13</td></tr>",
                            "<tr><td>Antal Tamás</td><td>2016-06-14</td><td>2</td><td>2016-06-13</td></tr>",
                            "<tr><td>Vajda Zsuzsa</td><td>2016-06-15</td><td>3</td><td>2016-06-14</td></tr>",
                            "<tr><td>Nagymihály Lajos</td><td>2016-06-16</td><td>2</td><td>2016-06-15</td></tr>",
                            "<tr><td>Nyíri Georgij</td><td>2016-06-16</td><td>3</td><td>2016-06-16</td></tr>",
                            "<tr><td>Mile Norbert</td><td>2016-06-16</td><td>4</td><td>2016-06-16</td></tr>",
                            "<tr><td>Bori Krisztina</td><td>2016-06-16</td><td>2</td><td>2016-06-16</td></tr>",
                            "<tr><td>Simon Anikó</td><td>2016-06-16</td><td>1</td><td>2016-06-16</td></tr>",
                            "<tr><td>Orosz Ferenc</td><td>2016-06-16</td><td>2</td><td>2016-06-16</td></tr>",
                            "<tr><td>Mile Norbert</td><td>2016-06-16</td><td>3</td><td>2016-06-16</td></tr>",
                            "<tr><td>Molnár Zsófi</td><td>2016-06-16</td><td>2</td><td>2016-06-16</td></tr>",
                            "<tr><td>Kovács Bernadett</td><td>2016-06-17</td><td>3</td><td>2016-06-16</td></tr>",
                            "<tr><td>Józsa Zsolt</td><td>2016-06-17</td><td>2</td><td>2016-06-17</td></tr>",
                            "<tr><td>Miklós Szabolcs</td><td>2016-06-18</td><td>3</td><td>2016-06-17</td></tr>",
                            "<tr><td>Kerényi Beatrix</td><td>2016-06-19</td><td>3</td><td>2016-06-18</td></tr>",
                            "<tr><td>Köves Gábor</td><td>2016-06-20</td><td>4</td><td>2016-06-19</td></tr>",
                            "<tr><td>Csiger Bertalan</td><td>2016-06-20</td><td>1</td><td>2016-06-20</td></tr>",
                            "<tr><td>Molnár András</td><td>2016-06-21</td><td>2</td><td>2016-06-20</td></tr>",
                            "<tr><td>Horváth Nikolett</td><td>2016-06-22</td><td>1</td><td>2016-06-21</td></tr>",
                            "<tr><td>Barna Debóra</td><td>2016-06-22</td><td>5</td><td>2016-06-22</td></tr>",
                            "<tr><td>Tóth Roland</td><td>2016-06-22</td><td>3</td><td>2016-06-22</td></tr>",
                            "<tr><td>Kalacsi Márton</td><td>2016-06-22</td><td>2</td><td>2016-06-22</td></tr>",
                            "<tr><td>Horváth Ágnes</td><td>2016-06-23</td><td>1</td><td>2016-06-22</td></tr>",
                            "<tr><td>Baráth Mária</td><td>2016-06-23</td><td>1</td><td>2016-06-23</td></tr>",
                            "<tr><td>Papp Imre</td><td>2016-06-23</td><td>4</td><td>2016-06-23</td></tr>",
                            "<tr><td>Komjáti András</td><td>2016-06-23</td><td>2</td><td>2016-06-23</td></tr>",
                            "<tr><td>Béres Norbert</td><td>2016-06-24</td><td>2</td><td>2016-06-23</td></tr>",
                            "<tr><td>Szirmai Renáta</td><td>2016-06-24</td><td>5</td><td>2016-06-24</td></tr>",
                            "<tr><td>Tóth Anikó</td><td>2016-06-25</td><td>3</td><td>2016-06-24</td></tr>",
                            "<tr><td>Balla Miklós</td><td>2016-06-26</td><td>2</td><td>2016-06-25</td></tr>",
                            "<tr><td>Simon Anikó</td><td>2016-06-27</td><td>2</td><td>2016-06-26</td></tr>",
                            "<tr><td>Papp Imre</td><td>2016-06-27</td><td>2</td><td>2016-06-27</td></tr>",
                            "<tr><td>Juhász Mihály</td><td>2016-06-27</td><td>1</td><td>2016-06-27</td></tr>",
                            "<tr><td>Fényes Tamás</td><td>2016-06-28</td><td>3</td><td>2016-06-27</td></tr>",
                            "<tr><td>Kő Nikoletta</td><td>2016-06-29</td><td>2</td><td>2016-06-28</td></tr>",
                            "<tr><td>Balogh Eszter</td><td>2016-06-30</td><td>3</td><td>2016-06-29</td></tr>",
                            "<tr><td>Ambrus Dávid</td><td>2016-06-30</td><td>2</td><td>2016-06-30</td></tr>",
                            "<tr><td>Szalai Péter</td><td>2016-06-30</td><td>3</td><td>2016-06-30</td></tr>",
                            "<tr><td>Frank Fruzsina</td><td>2016-07-01</td><td>3</td><td>2016-06-30</td></tr>",
                            "<tr><td>Kertész Katalin</td><td>2016-07-01</td><td>1</td><td>2016-07-01</td></tr>",
                            "<tr><td>Varga István</td><td>2016-07-01</td><td>4</td><td>2016-07-01</td></tr>",
                            "<tr><td>Gondos Katalin</td><td>2016-07-01</td><td>2</td><td>2016-07-01</td></tr>",
                            "<tr><td>Kornseé Gyöngyi</td><td>2016-07-01</td><td>2</td><td>2016-07-01</td></tr>",
                            "<tr><td>Böröcz Anikó</td><td>2016-07-02</td><td>1</td><td>2016-07-01</td></tr>",
                            "<tr><td>Kertész Katalin</td><td>2016-07-03</td><td>4</td><td>2016-07-02</td></tr>",
                            "<tr><td>Kelemen Áron</td><td>2016-07-03</td><td>2</td><td>2016-07-03</td></tr>",
                            "<tr><td>Bozsó Péter</td><td>2016-07-03</td><td>2</td><td>2016-07-03</td></tr>",
                            "<tr><td>Bagi Beáta</td><td>2016-07-03</td><td>1</td><td>2016-07-03</td></tr>",
                            "<tr><td>Gondos Katalin</td><td>2016-07-03</td><td>1</td><td>2016-07-03</td></tr>",
                            "<tr><td>Jakab Áron</td><td>2016-07-04</td><td>3</td><td>2016-07-03</td></tr>",
                            "<tr><td>Fényes Tamás</td><td>2016-07-04</td><td>2</td><td>2016-07-04</td></tr>",
                            "<tr><td>Molnár András</td><td>2016-07-04</td><td>3</td><td>2016-07-04</td></tr>",
                            "<tr><td>Karasz Sándor</td><td>2016-07-04</td><td>2</td><td>2016-07-04</td></tr>",
                            "<tr><td>Pálinkás János</td><td>2016-07-04</td><td>3</td><td>2016-07-04</td></tr>",
                            "<tr><td>Szedlár Krisztina</td><td>2016-07-05</td><td>3</td><td>2016-07-04</td></tr>",
                            "<tr><td>Vajda József</td><td>2016-07-06</td><td>2</td><td>2016-07-05</td></tr>",
                            "<tr><td>Erdei András</td><td>2016-07-06</td><td>2</td><td>2016-07-06</td></tr>",
                            "<tr><td>Horváth Katalin</td><td>2016-07-06</td><td>1</td><td>2016-07-06</td></tr>",
                            "<tr><td>Gondos Katalin</td><td>2016-07-07</td><td>3</td><td>2016-07-06</td></tr>",
                            "<tr><td>Balogh Eszter</td><td>2016-07-08</td><td>1</td><td>2016-07-07</td></tr>",
                            "<tr><td>Szűcs Norbert</td><td>2016-07-08</td><td>1</td><td>2016-07-08</td></tr>",
                            "<tr><td>Szűcs Balázs</td><td>2016-07-08</td><td>3</td><td>2016-07-08</td></tr>",
                            "<tr><td>Mogyródi Krisztián</td><td>2016-07-09</td><td>3</td><td>2016-07-08</td></tr>",
                            "<tr><td>Nagymihály Csongor</td><td>2016-07-09</td><td>4</td><td>2016-07-09</td></tr>",
                            "<tr><td>Nagy Gabriella</td><td>2016-07-10</td><td>3</td><td>2016-07-09</td></tr>",
                            "<tr><td>Szűcs Balázs</td><td>2016-07-10</td><td>3</td><td>2016-07-10</td></tr>",
                            "<tr><td>Vörös Dániel</td><td>2016-07-11</td><td>3</td><td>2016-07-10</td></tr>",
                            "<tr><td>Barta Zsuzsanna</td><td>2016-07-12</td><td>2</td><td>2016-07-11</td></tr>",
                            "<tr><td>Köves Gábor</td><td>2016-07-12</td><td>1</td><td>2016-07-12</td></tr>",
                            "<tr><td>Iván Róbert</td><td>2016-07-12</td><td>4</td><td>2016-07-12</td></tr>",
                            "<tr><td>Hegedűs Norbert</td><td>2016-07-13</td><td>3</td><td>2016-07-12</td></tr>",
                            "<tr><td>Kovács Katalin</td><td>2016-09-05</td><td>4</td><td>2016-07-13</td></tr>",
                            "<tr><td>Fodor Zoltán</td><td>2016-09-05</td><td>3</td><td>2016-09-05</td></tr>",
                            "<tr><td>Böröcz Anikó</td><td>2016-09-05</td><td>4</td><td>2016-09-05</td></tr>",
                            "<tr><td>Móra László</td><td>2016-09-05</td><td>3</td><td>2016-09-05</td></tr>",
                            "<tr><td>Szikszai Réka</td><td>2016-09-05</td><td>3</td><td>2016-09-05</td></tr>",
                            "<tr><td>Bíró Ákos</td><td>2016-09-06</td><td>1</td><td>2016-09-05</td></tr>",
                            "<tr><td>Kovács Bernadett</td><td>2016-09-07</td><td>3</td><td>2016-09-06</td></tr>",
                            "<tr><td>Rácz Dániel</td><td>2016-09-08</td><td>4</td><td>2016-09-07</td></tr>",
                            "<tr><td>Kelemen Áron</td><td>2016-09-08</td><td>2</td><td>2016-09-08</td></tr>",
                            "<tr><td>Pásztor Róbert</td><td>2016-09-08</td><td>4</td><td>2016-09-08</td></tr>",
                            "<tr><td>Vajda József</td><td>2016-09-09</td><td>2</td><td>2016-09-08</td></tr>",
                            "<tr><td>Varsányi Zsuzsa</td><td>2016-09-09</td><td>2</td><td>2016-09-09</td></tr>",
                            "<tr><td>Bucskó Róza</td><td>2016-09-10</td><td>2</td><td>2016-09-09</td></tr>",
                            "<tr><td>Kalacsi Márton</td><td>2016-09-10</td><td>2</td><td>2016-09-10</td></tr>",
                            "<tr><td>Bíró Péter</td><td>2016-09-11</td><td>4</td><td>2016-09-10</td></tr>",
                            "<tr><td>Fényes Tamás</td><td>2016-09-12</td><td>3</td><td>2016-09-11</td></tr>",
                            "<tr><td>Szűcs Balázs</td><td>2016-09-12</td><td>3</td><td>2016-09-12</td></tr>",
                            "<tr><td>Barkóci Ádám</td><td>2016-09-12</td><td>2</td><td>2016-09-12</td></tr>",
                            "<tr><td>Neizer Andrea</td><td>2016-09-13</td><td>2</td><td>2016-09-12</td></tr>",
                            "<tr><td>Szedlár Krisztina</td><td>2016-09-13</td><td>1</td><td>2016-09-13</td></tr>",
                            "<tr><td>Maródi Andrea</td><td>2016-09-13</td><td>2</td><td>2016-09-13</td></tr>",
                            "<tr><td>Gergely József</td><td>2016-09-13</td><td>2</td><td>2016-09-13</td></tr>",
                            "<tr><td>Foltényi Sebastián</td><td>2016-09-14</td><td>3</td><td>2016-09-13</td></tr>",
                            "<tr><td>Horváth Márk</td><td>2016-09-14</td><td>3</td><td>2016-09-14</td></tr>",
                            "<tr><td>Tornyos Andrea</td><td>2016-09-15</td><td>2</td><td>2016-09-14</td></tr>",
                            "<tr><td>Bakódy Balázs</td><td>2016-09-15</td><td>3</td><td>2016-09-15</td></tr>",
                            "<tr><td>Bori Krisztina</td><td>2016-09-15</td><td>3</td><td>2016-09-15</td></tr>",
                            "<tr><td>Horváth Árpád</td><td>2016-09-16</td><td>1</td><td>2016-09-15</td></tr>",
                            "<tr><td>Molnár Bálint</td><td>2016-09-16</td><td>1</td><td>2016-09-16</td></tr>",
                            "<tr><td>Barabás Pál</td><td>2016-09-16</td><td>2</td><td>2016-09-16</td></tr>",
                            "<tr><td>Back András</td><td>2016-09-17</td><td>2</td><td>2016-09-16</td></tr>",
                            "<tr><td>Búza Imre</td><td>2016-09-17</td><td>3</td><td>2016-09-17</td></tr>",
                            "<tr><td>Bittmann Edit</td><td>2016-09-17</td><td>2</td><td>2016-09-17</td></tr>",
                            "<tr><td>Foltényi Sebastián</td><td>2016-09-17</td><td>3</td><td>2016-09-17</td></tr>",
                            "<tr><td>Vajda Zsuzsa</td><td>2016-09-18</td><td>2</td><td>2016-09-17</td></tr>",
                            "<tr><td>Nyíri Georgij</td><td>2016-09-18</td><td>3</td><td>2016-09-18</td></tr>",
                            "<tr><td>Bittmann Edit</td><td>2016-09-18</td><td>3</td><td>2016-09-18</td></tr>",
                            "<tr><td>Horváth Árpád</td><td>2016-09-18</td><td>1</td><td>2016-09-18</td></tr>",
                            "<tr><td>Szedlár Krisztina</td><td>2016-09-19</td><td>2</td><td>2016-09-18</td></tr>",
                            "<tr><td>Vörös Dániel</td><td>2016-09-19</td><td>4</td><td>2016-09-19</td></tr>",
                            "<tr><td>Karasz Sándor</td><td>2016-09-19</td><td>4</td><td>2016-09-19</td></tr>",
                            "<tr><td>Gondos Katalin</td><td>2016-09-19</td><td>3</td><td>2016-09-19</td></tr>",
                            "<tr><td>Szalai Szilárd</td><td>2016-09-20</td><td>3</td><td>2016-09-19</td></tr>",
                            "<tr><td>Sobják Dávid</td><td>2016-09-20</td><td>2</td><td>2016-09-20</td></tr>",
                            "<tr><td>Tatár Nikoletta</td><td>2016-09-21</td><td>2</td><td>2016-09-20</td></tr>",
                            "<tr><td>Komjáti András</td><td>2016-09-22</td><td>1</td><td>2016-09-21</td></tr>",
                            "<tr><td>Regős Annamária</td><td>2016-09-23</td><td>2</td><td>2016-09-22</td></tr>",
                            "<tr><td>Horváth Márk</td><td>2016-09-23</td><td>2</td><td>2016-09-23</td></tr>",
                            "<tr><td>Lukács Kornél</td><td>2016-09-23</td><td>3</td><td>2016-09-23</td></tr>",
                            "<tr><td>Farkas László</td><td>2016-09-23</td><td>3</td><td>2016-09-23</td></tr>",
                            "<tr><td>Dunai Aladár</td><td>2016-09-24</td><td>1</td><td>2016-09-23</td></tr>",
                            "<tr><td>Bíró Péter</td><td>2016-09-25</td><td>3</td><td>2016-09-24</td></tr>",
                            "<tr><td>Tankó Veronika</td><td>2016-09-26</td><td>2</td><td>2016-09-25</td></tr>",
                            "<tr><td>Horváth Márk</td><td>2016-09-26</td><td>4</td><td>2016-09-26</td></tr>",
                            "<tr><td>Kuruc Emese</td><td>2016-09-27</td><td>3</td><td>2016-09-26</td></tr>",
                            "<tr><td>Ötvös Árpád</td><td>2016-09-28</td><td>2</td><td>2016-09-27</td></tr>",
                            "<tr><td>Hamvay-Kovács Anita</td><td>2016-09-28</td><td>4</td><td>2016-09-28</td></tr>",
                            "<tr><td>Varsányi Zsuzsa</td><td>2016-09-28</td><td>2</td><td>2016-09-28</td></tr>",
                            "<tr><td>Varga István</td><td>2016-09-29</td><td>3</td><td>2016-09-28</td></tr>",
                            "<tr><td>Frank Fruzsina</td><td>2016-09-29</td><td>3</td><td>2016-09-29</td></tr>",
                            "<tr><td>Szikszai Réka</td><td>2016-09-30</td><td>2</td><td>2016-09-29</td></tr>",
                            "<tr><td>Csóti Attila</td><td>2016-09-30</td><td>3</td><td>2016-09-30</td></tr>",
                            "<tr><td>Barna Zoltán</td><td>2016-09-30</td><td>3</td><td>2016-09-30</td></tr>",
                            "<tr><td>Tóth András</td><td>2016-09-30</td><td>2</td><td>2016-09-30</td></tr>",
                            "<tr><td>Bíró Péter</td><td>2016-09-30</td><td>3</td><td>2016-09-30</td></tr>",
                            "<tr><td>Komjáti András</td><td>2016-09-30</td><td>2</td><td>2016-09-30</td></tr>",
                            "<tr><td>Horváth Krisztina</td><td>2016-09-30</td><td>3</td><td>2016-09-30</td></tr>",
                            "<tr><td>Poprádi Kristóf</td><td>2016-09-30</td><td>2</td><td>2016-09-30</td></tr>",
                            "<tr><td>Balogh Eszter</td><td>2016-10-01</td><td>3</td><td>2016-09-30</td></tr>",
                            "<tr><td>Szekendi Beatrix</td><td>2016-10-01</td><td>3</td><td>2016-10-01</td></tr>",
                            "<tr><td>Szekendi Beatrix</td><td>2016-10-01</td><td>3</td><td>2016-10-01</td></tr>",
                            "<tr><td>Józsa Zsolt</td><td>2016-10-01</td><td>2</td><td>2016-10-01</td></tr>",
                            "<tr><td>Molnár András</td><td>2016-10-01</td><td>3</td><td>2016-10-01</td></tr>",
                            "<tr><td>Vörös Dániel</td><td>2016-10-01</td><td>1</td><td>2016-10-01</td></tr>",
                            "<tr><td>Boros Vivien</td><td>2016-10-01</td><td>1</td><td>2016-10-01</td></tr>",
                            "<tr><td>Sobják Dávid</td><td>2016-10-01</td><td>2</td><td>2016-10-01</td></tr>",
                            "<tr><td>Horváth Krisztina</td><td>2016-10-01</td><td>3</td><td>2016-10-01</td></tr>",
                            "<tr><td>Bárci Gusztáv</td><td>2016-10-01</td><td>3</td><td>2016-10-01</td></tr>",
                            "<tr><td>Koza Máté</td><td>2016-10-01</td><td>2</td><td>2016-10-01</td></tr>",
                            "<tr><td>Bakó Klaudia</td><td>2016-10-01</td><td>2</td><td>2016-10-01</td></tr>",
                            "<tr><td>Balogh Eszter</td><td>2016-10-01</td><td>1</td><td>2016-10-01</td></tr>",
                            "<tr><td>Szalai Szilárd</td><td>2016-10-01</td><td>3</td><td>2016-10-01</td></tr>",
                            "<tr><td>Nagy László</td><td>2016-10-01</td><td>3</td><td>2016-10-01</td></tr>",
                            "<tr><td>Bagi Beáta</td><td>2016-10-01</td><td>1</td><td>2016-10-01</td></tr>",
                            "<tr><td>Hamvay-Kovács Anita</td><td>2016-10-01</td><td>2</td><td>2016-10-01</td></tr>",
                            "<tr><td>Vida Gabriella</td><td>2016-10-01</td><td>3</td><td>2016-10-01</td></tr>",
                            "<tr><td>Bakó Klaudia</td><td>2016-10-02</td><td>2</td><td>2016-10-01</td></tr>",
                            "<tr><td>Rácz Rajmond</td><td>2016-10-03</td><td>3</td><td>2016-10-02</td></tr>",
                            "<tr><td>Bagi Beáta</td><td>2016-10-03</td><td>3</td><td>2016-10-03</td></tr>",
                            "<tr><td>Harangozó János</td><td>2016-10-03</td><td>3</td><td>2016-10-03</td></tr>",
                            "<tr><td>Molnár Eszter</td><td>2016-10-04</td><td>3</td><td>2016-10-03</td></tr>",
                            "<tr><td>Orbán Bernadett</td><td>2016-10-04</td><td>2</td><td>2016-10-04</td></tr>",
                            "<tr><td>Molnár András</td><td>2016-10-04</td><td>3</td><td>2016-10-04</td></tr>",
                            "<tr><td>Bíró Ákos</td><td>2016-10-05</td><td>2</td><td>2016-10-04</td></tr>",
                            "<tr><td>Mile Norbert</td><td>2016-10-05</td><td>3</td><td>2016-10-05</td></tr>",
                            "<tr><td>Farkas Sára</td><td>2016-10-06</td><td>3</td><td>2016-10-05</td></tr>",
                            "<tr><td>Enyedi Éva</td><td>2016-10-06</td><td>3</td><td>2016-10-06</td></tr>",
                            "<tr><td>Tóth András</td><td>2016-10-07</td><td>3</td><td>2016-10-06</td></tr>",
                            "<tr><td>Soós István</td><td>2016-10-07</td><td>2</td><td>2016-10-07</td></tr>",
                            "<tr><td>Tornyos Andrea</td><td>2016-10-08</td><td>3</td><td>2016-10-07</td></tr>",
                            "<tr><td>Iván Róbert</td><td>2016-10-08</td><td>3</td><td>2016-10-08</td></tr>",
                            "<tr><td>Simon Bernadett</td><td>2016-10-08</td><td>4</td><td>2016-10-08</td></tr>",
                            "<tr><td>Orosz Ferenc</td><td>2016-10-08</td><td>2</td><td>2016-10-08</td></tr>",
                            "<tr><td>Simon Anikó</td><td>2016-10-08</td><td>2</td><td>2016-10-08</td></tr>",
                            "<tr><td>Gergely József</td><td>2016-10-08</td><td>2</td><td>2016-10-08</td></tr>",
                            "<tr><td>Gondos Miklós</td><td>2016-10-08</td><td>1</td><td>2016-10-08</td></tr>",
                            "<tr><td>Gulyás Attila</td><td>2016-10-09</td><td>2</td><td>2016-10-08</td></tr>",
                            "<tr><td>Nagy László</td><td>2016-10-09</td><td>1</td><td>2016-10-09</td></tr>",
                            "<tr><td>Horváth Bálint</td><td>2016-10-09</td><td>2</td><td>2016-10-09</td></tr>",
                            "<tr><td>Farkas Sándor</td><td>2016-10-09</td><td>2</td><td>2016-10-09</td></tr>",
                            "<tr><td>Bíró Péter</td><td>2016-10-09</td><td>3</td><td>2016-10-09</td></tr>",
                            "<tr><td>Sarodi Dóra</td><td>2016-10-09</td><td>3</td><td>2016-10-09</td></tr>",
                            "<tr><td>Iván Róbert</td><td>2016-10-09</td><td>2</td><td>2016-10-09</td></tr>",
                            "<tr><td>Komjáti András</td><td>2016-10-09</td><td>2</td><td>2016-10-09</td></tr>",
                            "<tr><td>Szilágyi Mátyás</td><td>2016-10-09</td><td>3</td><td>2016-10-09</td></tr>",
                            "<tr><td>Tari Szilvia</td><td>2016-10-09</td><td>3</td><td>2016-10-09</td></tr>",
                            "<tr><td>Gombos Tibor</td><td>2016-10-09</td><td>2</td><td>2016-10-09</td></tr>",
                            "<tr><td>Bozsó Péter</td><td>2016-10-10</td><td>2</td><td>2016-10-09</td></tr>",
                            "<tr><td>Pataki Brigitta</td><td>2016-10-10</td><td>2</td><td>2016-10-10</td></tr>",
                            "<tr><td>Farkas Sára</td><td>2016-10-11</td><td>3</td><td>2016-10-10</td></tr>",
                            "<tr><td>Pivarcsi Anett</td><td>2016-10-12</td><td>3</td><td>2016-10-11</td></tr>",
                            "<tr><td>Ötvös Árpád</td><td>2016-10-13</td><td>3</td><td>2016-10-12</td></tr>",
                            "<tr><td>Urbán Viktoria</td><td>2016-10-14</td><td>3</td><td>2016-10-13</td></tr>",
                            "<tr><td>Gulyás Attila</td><td>2016-10-15</td><td>3</td><td>2016-10-14</td></tr>",
                            "<tr><td>Komjáti András</td><td>2016-10-15</td><td>3</td><td>2016-10-15</td></tr>",
                            "<tr><td>Csóti Attila</td><td>2016-10-15</td><td>1</td><td>2016-10-15</td></tr>",
                            "<tr><td>Simon Bernadett</td><td>2016-10-15</td><td>3</td><td>2016-10-15</td></tr>",
                            "<tr><td>Nagy Sándor</td><td>2016-10-15</td><td>1</td><td>2016-10-15</td></tr>",
                            "<tr><td>Viktor Éva</td><td>2016-10-15</td><td>3</td><td>2016-10-15</td></tr>",
                            "<tr><td>Böröcz Anikó</td><td>2016-10-16</td><td>3</td><td>2016-10-15</td></tr>",
                            "<tr><td>Pivarcsi Anett</td><td>2016-10-16</td><td>1</td><td>2016-10-16</td></tr>",
                            "<tr><td>Viktor Éva</td><td>2016-10-16</td><td>2</td><td>2016-10-16</td></tr>",
                            "<tr><td>Czérna Krisztián</td><td>2016-10-17</td><td>3</td><td>2016-10-16</td></tr>",
                            "<tr><td>Kovács Ágnes</td><td>2016-10-17</td><td>2</td><td>2016-10-17</td></tr>",
                            "<tr><td>Miklós Szabolcs</td><td>2016-10-17</td><td>2</td><td>2016-10-17</td></tr>",
                            "<tr><td>Bíró Ákos</td><td>2016-10-18</td><td>2</td><td>2016-10-17</td></tr>",
                            "<tr><td>Kiss Ádám</td><td>2016-10-19</td><td>2</td><td>2016-10-18</td></tr>",
                            "<tr><td>Kazy Tihamér</td><td>2016-10-19</td><td>2</td><td>2016-10-19</td></tr>",
                            "<tr><td>Berendi Péter</td><td>2016-10-19</td><td>4</td><td>2016-10-19</td></tr>",
                            "<tr><td>Pintér Zoltán</td><td>2016-10-19</td><td>2</td><td>2016-10-19</td></tr>",
                            "<tr><td>Köves Gábor</td><td>2016-10-20</td><td>1</td><td>2016-10-19</td></tr>",
                            "<tr><td>Dániel Tibor</td><td>2016-10-20</td><td>2</td><td>2016-10-20</td></tr>",
                            "<tr><td>Balogh Eszter</td><td>2016-10-20</td><td>1</td><td>2016-10-20</td></tr>",
                            "<tr><td>Kispál Márk</td><td>2016-10-20</td><td>1</td><td>2016-10-20</td></tr>",
                            "<tr><td>Kiss Andrea</td><td>2016-10-21</td><td>4</td><td>2016-10-20</td></tr>",
                            "<tr><td>Székely Brigitta</td><td>2016-10-21</td><td>3</td><td>2016-10-21</td></tr>",
                            "<tr><td>Bagóczki Alexandra</td><td>2016-10-21</td><td>2</td><td>2016-10-21</td></tr>",
                            "<tr><td>Barna Zoltán</td><td>2016-10-21</td><td>5</td><td>2016-10-21</td></tr>",
                            "<tr><td>Harangozó János</td><td>2016-10-22</td><td>1</td><td>2016-10-21</td></tr>",
                            "<tr><td>Horváth Nikolett</td><td>2016-10-22</td><td>3</td><td>2016-10-22</td></tr>",
                            "<tr><td>Bajusz Bence</td><td>2016-10-22</td><td>3</td><td>2016-10-22</td></tr>",
                            "<tr><td>Hartyánszky Ágnes</td><td>2016-10-22</td><td>3</td><td>2016-10-22</td></tr>",
                            "<tr><td>Farkas Sándor</td><td>2016-10-23</td><td>3</td><td>2016-10-22</td></tr>",
                            "<tr><td>Jakab Áron</td><td>2016-10-23</td><td>2</td><td>2016-10-23</td></tr>",
                            "<tr><td>Patay Róbert</td><td>2016-10-23</td><td>3</td><td>2016-10-23</td></tr>",
                            "<tr><td>Andor Ibolya</td><td>2016-10-23</td><td>2</td><td>2016-10-23</td></tr>",
                            "<tr><td>Kerényi Beatrix</td><td>2016-10-23</td><td>2</td><td>2016-10-23</td></tr>",
                            "<tr><td>Iván Róbert</td><td>2016-10-23</td><td>1</td><td>2016-10-23</td></tr>",
                            "<tr><td>Balogh Eszter</td><td>2016-10-23</td><td>1</td><td>2016-10-23</td></tr>",
                            "<tr><td>Bíró Péter</td><td>2016-10-24</td><td>2</td><td>2016-10-23</td></tr>",
                            "<tr><td>Turcsik Tünde</td><td>2016-10-24</td><td>3</td><td>2016-10-24</td></tr>",
                            "<tr><td>Szilágyi Mátyás</td><td>2016-10-24</td><td>1</td><td>2016-10-24</td></tr>",
                            "<tr><td>Tari Szilvia</td><td>2016-10-25</td><td>3</td><td>2016-10-24</td></tr>",
                            "<tr><td>Zatykó Katalin</td><td>2016-10-26</td><td>2</td><td>2016-10-25</td></tr>",
                            "<tr><td>Molnár Eszter</td><td>2016-10-26</td><td>3</td><td>2016-10-26</td></tr>",
                            "<tr><td>Barna Zoltán</td><td>2016-10-26</td><td>2</td><td>2016-10-26</td></tr>",
                            "<tr><td>Rab Sebestyén</td><td>2016-10-26</td><td>5</td><td>2016-10-26</td></tr>",
                            "<tr><td>Dusha Tímea</td><td>2016-10-26</td><td>3</td><td>2016-10-26</td></tr>",
                            "<tr><td>Iván Róbert</td><td>2016-10-26</td><td>2</td><td>2016-10-26</td></tr>",
                            "<tr><td>Horváth Katalin</td><td>2016-10-26</td><td>2</td><td>2016-10-26</td></tr>",
                            "<tr><td>Urbán Viktoria</td><td>2016-10-26</td><td>4</td><td>2016-10-26</td></tr>",
                            "<tr><td>Simon Bernadett</td><td>2016-10-26</td><td>3</td><td>2016-10-26</td></tr>",
                            "<tr><td>Kozma Péter</td><td>2016-10-26</td><td>3</td><td>2016-10-26</td></tr>",
                            "<tr><td>Vajda Zsuzsa</td><td>2016-10-26</td><td>1</td><td>2016-10-26</td></tr>",
                            "<tr><td>Feró Valentin</td><td>2016-10-26</td><td>3</td><td>2016-10-26</td></tr>",
                            "<tr><td>Kardos Renáta</td><td>2016-10-27</td><td>4</td><td>2016-10-26</td></tr>",
                            "<tr><td>Bieniek Ádám</td><td>2016-10-27</td><td>3</td><td>2016-10-27</td></tr>",
                            "<tr><td>Varsányi Zsuzsa</td><td>2016-10-27</td><td>4</td><td>2016-10-27</td></tr>",
                            "<tr><td>Tari Szilvia</td><td>2016-10-27</td><td>2</td><td>2016-10-27</td></tr>",
                            "<tr><td>Miklós Szabolcs</td><td>2016-10-28</td><td>3</td><td>2016-10-27</td></tr>",
                            "<tr><td>Búza Imre</td><td>2016-10-28</td><td>4</td><td>2016-10-28</td></tr>",
                            "<tr><td>Simon Bernadett</td><td>2016-10-28</td><td>3</td><td>2016-10-28</td></tr>",
                            "<tr><td>Mile Norbert</td><td>2016-10-28</td><td>3</td><td>2016-10-28</td></tr>",
                            "<tr><td>Farkas Sára</td><td>2016-10-28</td><td>2</td><td>2016-10-28</td></tr>",
                            "<tr><td>Oroszi György</td><td>2016-10-28</td><td>1</td><td>2016-10-28</td></tr>",
                            "<tr><td>Barna Debóra</td><td>2016-10-29</td><td>2</td><td>2016-10-28</td></tr>",
                            "<tr><td>Sarodi Dóra</td><td>2016-10-29</td><td>3</td><td>2016-10-29</td></tr>",
                            "<tr><td>Simon Anikó</td><td>2016-10-29</td><td>3</td><td>2016-10-29</td></tr>",
                            "<tr><td>Bori Krisztina</td><td>2016-10-29</td><td>4</td><td>2016-10-29</td></tr>",
                            "<tr><td>Szabó Julianna</td><td>2016-10-29</td><td>3</td><td>2016-10-29</td></tr>",
                            "<tr><td>Gulyás Attila</td><td>2016-10-30</td><td>2</td><td>2016-10-29</td></tr>",
                            "<tr><td>Győrffy Bence</td><td>2016-10-30</td><td>4</td><td>2016-10-30</td></tr>",
                            "<tr><td>Zatykó Katalin</td><td>2016-10-30</td><td>3</td><td>2016-10-30</td></tr>",
                            "<tr><td>Bíró Péter</td><td>2016-10-30</td><td>3</td><td>2016-10-30</td></tr>",
                            "<tr><td>Nagymihály Lajos</td><td>2016-10-30</td><td>3</td><td>2016-10-30</td></tr>",
                            "<tr><td>Kardos Renáta</td><td>2016-10-30</td><td>1</td><td>2016-10-30</td></tr>",
                            "<tr><td>Horváth Ágnes</td><td>2016-10-30</td><td>1</td><td>2016-10-30</td></tr>",
                            "<tr><td>Szilágyi Mátyás</td><td>2016-10-30</td><td>3</td><td>2016-10-30</td></tr>",
                            "<tr><td>Ambrus Dávid</td><td>2016-10-30</td><td>2</td><td>2016-10-30</td></tr>",
                            "<tr><td>Szalai Péter</td><td>2016-10-30</td><td>2</td><td>2016-10-30</td></tr>",
                            "<tr><td>Kovács Bernadett</td><td>2016-10-30</td><td>3</td><td>2016-10-30</td></tr>",
                            "<tr><td>Barna Zoltán</td><td>2016-10-30</td><td>1</td><td>2016-10-30</td></tr>",
                            "<tr><td>Opra Attila</td><td>2016-10-30</td><td>2</td><td>2016-10-30</td></tr>",
                            "<tr><td>Neizer Andrea</td><td>2016-10-30</td><td>3</td><td>2016-10-30</td></tr>",
                            "<tr><td>Hegedűs Norbert</td><td>2016-10-31</td><td>2</td><td>2016-10-30</td></tr>",
                            "<tr><td>Juhász Mihály</td><td>2016-11-01</td><td>3</td><td>2016-10-31</td></tr>",
                            "<tr><td>Érsek Eszter</td><td>2016-11-01</td><td>2</td><td>2016-11-01</td></tr>",
                            "<tr><td>Bozsó Péter</td><td>2016-11-01</td><td>2</td><td>2016-11-01</td></tr>",
                            "<tr><td>Czérna Krisztián</td><td>2016-11-02</td><td>2</td><td>2016-11-01</td></tr>",
                            "<tr><td>Farkas Béla</td><td>2016-11-03</td><td>4</td><td>2016-11-02</td></tr>",
                            "<tr><td>Szűcs Balázs</td><td>2016-11-03</td><td>3</td><td>2016-11-03</td></tr>",
                            "<tr><td>Kelemen Áron</td><td>2016-11-03</td><td>2</td><td>2016-11-03</td></tr>",
                            "<tr><td>Csiger Bertalan</td><td>2016-11-03</td><td>2</td><td>2016-11-03</td></tr>",
                            "<tr><td>Fő Nándor</td><td>2016-11-03</td><td>3</td><td>2016-11-03</td></tr>",
                            "<tr><td>Pataki Brigitta</td><td>2016-11-03</td><td>3</td><td>2016-11-03</td></tr>",
                            "<tr><td>Szabó Julianna</td><td>2016-11-03</td><td>2</td><td>2016-11-03</td></tr>",
                            "<tr><td>Bosnyák Ilona</td><td>2016-11-04</td><td>4</td><td>2016-11-03</td></tr>",
                            "<tr><td>Balogh Eszter</td><td>2016-11-05</td><td>4</td><td>2016-11-04</td></tr>",
                            "<tr><td>Kovács Katalin</td><td>2016-11-05</td><td>3</td><td>2016-11-05</td></tr>",
                            "<tr><td>Kelemen Áron</td><td>2016-11-05</td><td>2</td><td>2016-11-05</td></tr>",
                            "<tr><td>Jakab Áron</td><td>2016-11-05</td><td>2</td><td>2016-11-05</td></tr>",
                            "<tr><td>Kuruc Emese</td><td>2016-11-05</td><td>1</td><td>2016-11-05</td></tr>",
                            "<tr><td>Gombos Tibor</td><td>2016-11-05</td><td>1</td><td>2016-11-05</td></tr>",
                            "<tr><td>Béres Norbert</td><td>2016-11-05</td><td>1</td><td>2016-11-05</td></tr>",
                            "<tr><td>Ferencz Roland</td><td>2016-11-05</td><td>3</td><td>2016-11-05</td></tr>",
                            "<tr><td>Tömböly Dénes</td><td>2016-11-06</td><td>2</td><td>2016-11-05</td></tr>",
                            "<tr><td>Perlinger Éva</td><td>2016-11-06</td><td>2</td><td>2016-11-06</td></tr>",
                            "<tr><td>Ötvös Árpád</td><td>2016-11-06</td><td>2</td><td>2016-11-06</td></tr>",
                            "<tr><td>Molnár Bálint</td><td>2016-11-07</td><td>2</td><td>2016-11-06</td></tr>",
                            "<tr><td>Nagy Júlia</td><td>2016-11-07</td><td>1</td><td>2016-11-07</td></tr>",
                            "<tr><td>Giliga János</td><td>2016-11-07</td><td>3</td><td>2016-11-07</td></tr>",
                            "<tr><td>Telek Gábor</td><td>2016-11-07</td><td>4</td><td>2016-11-07</td></tr>",
                            "<tr><td>Lengyel Ágnes</td><td>2016-11-07</td><td>2</td><td>2016-11-07</td></tr>",
                            "<tr><td>Orosz Ferenc</td><td>2016-11-07</td><td>3</td><td>2016-11-07</td></tr>",
                            "<tr><td>Rácz Rajmond</td><td>2016-11-08</td><td>4</td><td>2016-11-07</td></tr>",
                            "<tr><td>Baráth Mária</td><td>2016-11-08</td><td>3</td><td>2016-11-08</td></tr>",
                            "<tr><td>Kornseé Gyöngyi</td><td>2016-11-08</td><td>2</td><td>2016-11-08</td></tr>",
                            "<tr><td>Szedlár Krisztina</td><td>2016-11-08</td><td>2</td><td>2016-11-08</td></tr>",
                            "<tr><td>Mohos Mónika</td><td>2016-11-09</td><td>2</td><td>2016-11-08</td></tr>",
                            "<tr><td>Móricz Árpád</td><td>2016-11-09</td><td>2</td><td>2016-11-09</td></tr>",
                            "<tr><td>Keszler Dániel</td><td>2016-11-09</td><td>2</td><td>2016-11-09</td></tr>",
                            "<tr><td>Gulyás Attila</td><td>2016-11-10</td><td>2</td><td>2016-11-09</td></tr>",
                            "<tr><td>Simon Anikó</td><td>2016-11-10</td><td>2</td><td>2016-11-10</td></tr>",
                            "<tr><td>Farkas Sándor</td><td>2016-11-10</td><td>2</td><td>2016-11-10</td></tr>",
                            "<tr><td>Bíró Péter</td><td>2016-11-10</td><td>3</td><td>2016-11-10</td></tr>",
                            "<tr><td>Regős Annamária</td><td>2016-11-11</td><td>3</td><td>2016-11-10</td></tr>",
                            "<tr><td>Feró Valentin</td><td>2016-11-11</td><td>3</td><td>2016-11-11</td></tr>",
                            "<tr><td>Miklós Szabolcs</td><td>2016-11-12</td><td>2</td><td>2016-11-11</td></tr>",
                            "<tr><td>Nagymihály Csongor</td><td>2016-11-12</td><td>3</td><td>2016-11-12</td></tr>",
                            "<tr><td>Rácz Dániel</td><td>2016-11-13</td><td>3</td><td>2016-11-12</td></tr>",
                            "<tr><td>Kerényi Beatrix</td><td>2016-11-14</td><td>2</td><td>2016-11-13</td></tr>",
                            "<tr><td>Miklós Tamara</td><td>2016-11-15</td><td>2</td><td>2016-11-14</td></tr>",
                            "<tr><td>Bieniek Ádám</td><td>2016-11-15</td><td>2</td><td>2016-11-15</td></tr>",
                            "<tr><td>Bozsó Péter</td><td>2016-11-15</td><td>3</td><td>2016-11-15</td></tr>",
                            "<tr><td>Gondos Miklós</td><td>2016-11-16</td><td>3</td><td>2016-11-15</td></tr>",
                            "<tr><td>Rácz Rajmond</td><td>2016-11-16</td><td>2</td><td>2016-11-16</td></tr>",
                            "<tr><td>Szűcs Norbert</td><td>2016-11-16</td><td>3</td><td>2016-11-16</td></tr>",
                            "<tr><td>Maródi Andrea</td><td>2016-11-16</td><td>3</td><td>2016-11-16</td></tr>",
                            "<tr><td>Berendi Péter</td><td>2016-11-17</td><td>2</td><td>2016-11-16</td></tr>",
                            "<tr><td>Boros Vivien</td><td>2016-11-17</td><td>2</td><td>2016-11-17</td></tr>",
                            "<tr><td>Farkas Sára</td><td>2016-11-18</td><td>3</td><td>2016-11-17</td></tr>",
                            "<tr><td>Turcsik Tünde</td><td>2016-11-19</td><td>3</td><td>2016-11-18</td></tr>",
                            "<tr><td>Köves Gábor</td><td>2016-11-19</td><td>2</td><td>2016-11-19</td></tr>",
                            "<tr><td>Barna Zoltán</td><td>2016-11-19</td><td>2</td><td>2016-11-19</td></tr>",
                            "<tr><td>Kispál Márk</td><td>2016-11-19</td><td>2</td><td>2016-11-19</td></tr>",
                            "<tr><td>Tóth Roland</td><td>2016-11-19</td><td>2</td><td>2016-11-19</td></tr>",
                            "<tr><td>Szomor Andrea</td><td>2016-11-19</td><td>3</td><td>2016-11-19</td></tr>",
                            "<tr><td>Sobják Dávid</td><td>2016-11-19</td><td>2</td><td>2016-11-19</td></tr>",
                            "<tr><td>Erdei András</td><td>2016-11-19</td><td>4</td><td>2016-11-19</td></tr>",
                            "<tr><td>Komjáti András</td><td>2016-11-20</td><td>3</td><td>2016-11-19</td></tr>",
                            "<tr><td>Bíró Ákos</td><td>2016-11-21</td><td>2</td><td>2016-11-20</td></tr>",
                            "<tr><td>Vajda Zsuzsa</td><td>2016-11-21</td><td>3</td><td>2016-11-21</td></tr>",
                            "<tr><td>Soós István</td><td>2016-11-22</td><td>3</td><td>2016-11-21</td></tr>",
                            "<tr><td>Dunai Aladár</td><td>2016-11-22</td><td>2</td><td>2016-11-22</td></tr>",
                            "<tr><td>Vörös Dániel</td><td>2016-11-22</td><td>2</td><td>2016-11-22</td></tr>",
                            "<tr><td>Sarodi Dóra</td><td>2016-11-22</td><td>3</td><td>2016-11-22</td></tr>",
                            "<tr><td>Frank Fruzsina</td><td>2016-11-22</td><td>2</td><td>2016-11-22</td></tr>",
                            "<tr><td>Szedlár Krisztina</td><td>2016-11-22</td><td>1</td><td>2016-11-22</td></tr>",
                            "<tr><td>Vajda József</td><td>2016-11-23</td><td>3</td><td>2016-11-22</td></tr>",
                            "<tr><td>Komjáti András</td><td>2016-11-23</td><td>1</td><td>2016-11-23</td></tr>",
                            "<tr><td>Keszler Dániel</td><td>2016-11-23</td><td>2</td><td>2016-11-23</td></tr>",
                            "<tr><td>Molnár András</td><td>2016-11-23</td><td>4</td><td>2016-11-23</td></tr>",
                            "<tr><td>Farkas Sára</td><td>2016-11-23</td><td>4</td><td>2016-11-23</td></tr>",
                            "<tr><td>Kardos Renáta</td><td>2016-11-23</td><td>1</td><td>2016-11-23</td></tr>",
                            "<tr><td>Kuruc Emese</td><td>2016-11-23</td><td>4</td><td>2016-11-23</td></tr>",
                            "<tr><td>Pálinkás János</td><td>2016-11-23</td><td>2</td><td>2016-11-23</td></tr>",
                            "<tr><td>Horváth Bálint</td><td>2016-11-24</td><td>3</td><td>2016-11-23</td></tr>",
                            "<tr><td>Bíró Péter</td><td>2016-11-25</td><td>3</td><td>2016-11-24</td></tr>",
                            "<tr><td>Back András</td><td>2016-11-25</td><td>2</td><td>2016-11-25</td></tr>",
                            "<tr><td>Pálinkás János</td><td>2016-11-25</td><td>2</td><td>2016-11-25</td></tr>",
                            "<tr><td>Nagy András</td><td>2016-11-25</td><td>2</td><td>2016-11-25</td></tr>",
                            "<tr><td>Móra László</td><td>2016-11-25</td><td>3</td><td>2016-11-25</td></tr>",
                            "<tr><td>Vajda József</td><td>2016-11-25</td><td>3</td><td>2016-11-25</td></tr>",
                            "<tr><td>Csiger Bertalan</td><td>2016-11-26</td><td>3</td><td>2016-11-25</td></tr>",
                            "<tr><td>Szabó Julianna</td><td>2016-11-27</td><td>3</td><td>2016-11-26</td></tr>",
                            "<tr><td>Dusha Tímea</td><td>2016-11-27</td><td>4</td><td>2016-11-27</td></tr>",
                            "<tr><td>Kertész Katalin</td><td>2016-11-27</td><td>3</td><td>2016-11-27</td></tr>",
                            "<tr><td>Bajusz Bence</td><td>2016-11-28</td><td>2</td><td>2016-11-27</td></tr>",
                            "<tr><td>Pusztai Zsuzsanna</td><td>2016-11-28</td><td>3</td><td>2016-11-28</td></tr>",
                            "<tr><td>Vígh András</td><td>2016-11-28</td><td>2</td><td>2016-11-28</td></tr>",
                            "<tr><td>Nagy László</td><td>2016-11-29</td><td>1</td><td>2016-11-28</td></tr>",
                            "<tr><td>Erdei András</td><td>2016-11-29</td><td>3</td><td>2016-11-29</td></tr>",
                            "<tr><td>Nagy Sándor</td><td>2016-11-29</td><td>2</td><td>2016-11-29</td></tr>",
                            "<tr><td>Bagóczki Alexandra</td><td>2016-11-29</td><td>2</td><td>2016-11-29</td></tr>",
                            "<tr><td>Mile Norbert</td><td>2016-11-30</td><td>3</td><td>2016-11-29</td></tr>",
                            "<tr><td>Feró Valentin</td><td>2016-12-01</td><td>3</td><td>2016-11-30</td></tr>",
                            "<tr><td>Kornseé Gyöngyi</td><td>2016-12-01</td><td>2</td><td>2016-12-01</td></tr>",
                            "<tr><td>Balogh Eszter</td><td>2016-12-02</td><td>1</td><td>2016-12-01</td></tr>",
                            "<tr><td>Farkas Béla</td><td>2016-12-02</td><td>3</td><td>2016-12-02</td></tr>",
                            "<tr><td>Fényes Tamás</td><td>2016-12-02</td><td>1</td><td>2016-12-02</td></tr>",
                            "<tr><td>Nagy Sándor</td><td>2016-12-03</td><td>1</td><td>2016-12-02</td></tr>",
                            "<tr><td>Kertész Katalin</td><td>2016-12-04</td><td>3</td><td>2016-12-03</td></tr>",
                            "<tr><td>Vukasinovity Bálint</td><td>2016-12-04</td><td>3</td><td>2016-12-04</td></tr>",
                            "<tr><td>Horváth Árpád</td><td>2016-12-04</td><td>1</td><td>2016-12-04</td></tr>",
                            "<tr><td>Bodor Szabolcs</td><td>2016-12-05</td><td>2</td><td>2016-12-04</td></tr>",
                            "<tr><td>Balla Miklós</td><td>2016-12-05</td><td>2</td><td>2016-12-05</td></tr>",
                            "<tr><td>Balogh Eszter</td><td>2016-12-05</td><td>2</td><td>2016-12-05</td></tr>",
                            "<tr><td>Bakódy Balázs</td><td>2016-12-05</td><td>3</td><td>2016-12-05</td></tr>",
                            "<tr><td>Bieniek Ádám</td><td>2016-12-06</td><td>3</td><td>2016-12-05</td></tr>",
                            "<tr><td>Gergely József</td><td>2016-12-06</td><td>2</td><td>2016-12-06</td></tr>",
                            "<tr><td>Perlinger Éva</td><td>2016-12-06</td><td>2</td><td>2016-12-06</td></tr>",
                            "<tr><td>Farkas Béla</td><td>2016-12-06</td><td>1</td><td>2016-12-06</td></tr>",
                            "<tr><td>Farkas Sára</td><td>2016-12-06</td><td>1</td><td>2016-12-06</td></tr>",
                            "<tr><td>Pintér Zoltán</td><td>2016-12-07</td><td>3</td><td>2016-12-06</td></tr>",
                            "<tr><td>Kelemen Áron</td><td>2016-12-07</td><td>3</td><td>2016-12-07</td></tr>",
                            "<tr><td>Kuruc Emese</td><td>2016-12-07</td><td>3</td><td>2016-12-07</td></tr>",
                            "<tr><td>Kő Nikoletta</td><td>2016-12-08</td><td>5</td><td>2016-12-07</td></tr>",
                            "<tr><td>Botka Mátyás</td><td>2016-12-09</td><td>3</td><td>2016-12-08</td></tr>",
                            "<tr><td>Fényes Tamás</td><td>2016-12-10</td><td>3</td><td>2016-12-09</td></tr>",
                            "<tr><td>Czérna Krisztián</td><td>2016-12-11</td><td>2</td><td>2016-12-10</td></tr>",
                            "<tr><td>Kerényi Beatrix</td><td>2016-12-12</td><td>3</td><td>2016-12-11</td></tr>",
                            "<tr><td>Horváth Katalin</td><td>2016-12-13</td><td>2</td><td>2016-12-12</td></tr>",
                            "<tr><td>Móricz Árpád</td><td>2016-12-14</td><td>3</td><td>2016-12-13</td></tr>",
                            "<tr><td>Dusha Tímea</td><td>2016-12-14</td><td>4</td><td>2016-12-14</td></tr>",
                            "<tr><td>Turcsik Tünde</td><td>2016-12-15</td><td>3</td><td>2016-12-14</td></tr>",
                            "<tr><td>Bíró Ákos</td><td>2016-12-15</td><td>2</td><td>2016-12-15</td></tr>",
                            "<tr><td>Szűcs Norbert</td><td>2016-12-15</td><td>2</td><td>2016-12-15</td></tr>",
                            "<tr><td>Frank Fruzsina</td><td>2016-12-16</td><td>1</td><td>2016-12-15</td></tr>",
                            "<tr><td>Kovács Bernadett</td><td>2016-12-17</td><td>1</td><td>2016-12-16</td></tr>",
                            "<tr><td>Győrffy Bence</td><td>2016-12-17</td><td>2</td><td>2016-12-17</td></tr>",
                            "<tr><td>Barabás Pál</td><td>2016-12-17</td><td>3</td><td>2016-12-17</td></tr>",
                            "<tr><td>Kerényi Beatrix</td><td>2016-12-17</td><td>4</td><td>2016-12-17</td></tr>",
                            "<tr><td>Kovács Ágnes</td><td>2016-12-17</td><td>2</td><td>2016-12-17</td></tr>",
                            "<tr><td>Horváth Katalin</td><td>2016-12-17</td><td>1</td><td>2016-12-17</td></tr>",
                            "<tr><td>Székely Brigitta</td><td>2016-12-17</td><td>2</td><td>2016-12-17</td></tr>",
                            "<tr><td>Patay Róbert</td><td>2016-12-17</td><td>1</td><td>2016-12-17</td></tr>",
                            "<tr><td>Boros Vivien</td><td>2016-12-17</td><td>2</td><td>2016-12-17</td></tr>",
                            "<tr><td>Molnár Bálint</td><td>2016-12-17</td><td>3</td><td>2016-12-17</td></tr>",
                            "<tr><td>Horváth Árpád</td><td>2016-12-18</td><td>3</td><td>2016-12-17</td></tr>",
                            "<tr><td>Pálinkás János</td><td>2016-12-18</td><td>2</td><td>2016-12-18</td></tr>",
                            "<tr><td>Hídasi Judit</td><td>2016-12-19</td><td>1</td><td>2016-12-18</td></tr>",
                            "<tr><td>Szilágyi Mátyás</td><td>2016-12-20</td><td>2</td><td>2016-12-19</td></tr>",
                            "<tr><td>Szekendi Beatrix</td><td>2016-12-21</td><td>2</td><td>2016-12-20</td></tr>",
                            "<tr><td>Endresz Bálint</td><td>2016-12-22</td><td>2</td><td>2016-12-21</td></tr>",
                            "<tr><td>Csóti Attila</td><td>2016-12-22</td><td>2</td><td>2016-12-22</td></tr>",
                            "<tr><td>Ferencz Roland</td><td>2016-12-22</td><td>1</td><td>2016-12-22</td></tr>",
                            "<tr><td>Molnár Eszter</td><td>2016-12-23</td><td>2</td><td>2016-12-22</td></tr>",
                            "<tr><td>Boros Vivien</td><td>2016-12-24</td><td>3</td><td>2016-12-23</td></tr>",
                            "<tr><td>Ötvös Árpád</td><td>2016-12-24</td><td>3</td><td>2016-12-24</td></tr>",
                            "<tr><td>Horváth Katalin</td><td>2016-12-24</td><td>2</td><td>2016-12-24</td></tr>",
                            "<tr><td>Kazy Tihamér</td><td>2016-12-25</td><td>2</td><td>2016-12-24</td></tr>",
                            "<tr><td>Farkas Sára</td><td>2016-12-25</td><td>2</td><td>2016-12-25</td></tr>",
                            "<tr><td>Tari Szilvia</td><td>2016-12-25</td><td>5</td><td>2016-12-25</td></tr>",
                            "<tr><td>Mogyródi Krisztián</td><td>2016-12-25</td><td>2</td><td>2016-12-25</td></tr>",
                            "<tr><td>Bosnyák Ilona</td><td>2016-12-25</td><td>3</td><td>2016-12-25</td></tr>",
                            "<tr><td>Kiss Lajos</td><td>2016-12-25</td><td>4</td><td>2016-12-25</td></tr>",
                            "<tr><td>Rácz Dániel</td><td>2016-12-25</td><td>3</td><td>2016-12-25</td></tr>",
                            "<tr><td>Szalai Péter</td><td>2016-12-25</td><td>1</td><td>2016-12-25</td></tr>",
                            "<tr><td>Pintér Zoltán</td><td>2016-12-25</td><td>2</td><td>2016-12-25</td></tr>",
                            "<tr><td>Papós Tímea</td><td>2016-12-26</td><td>2</td><td>2016-12-25</td></tr>",
                            "<tr><td>Bozsik Balázs</td><td>2016-12-26</td><td>3</td><td>2016-12-26</td></tr>",
                            "<tr><td>Győrffy Bence</td><td>2016-12-26</td><td>2</td><td>2016-12-26</td></tr>",
                            "<tr><td>Tari Szilvia</td><td>2016-12-27</td><td>2</td><td>2016-12-26</td></tr>",
                            "<tr><td>Giliga János</td><td>2016-12-28</td><td>2</td><td>2016-12-27</td></tr>",
                            "<tr><td>Barna Zoltán</td><td>2016-12-29</td><td>1</td><td>2016-12-28</td></tr>",
                            "<tr><td>Molnár Bálint</td><td>2016-12-29</td><td>3</td><td>2016-12-29</td></tr>",
                            "<tr><td>Nádudvari Henrik</td><td>2016-12-29</td><td>3</td><td>2016-12-29</td></tr>",
                            "<tr><td>Bíró Ákos</td><td>2016-12-29</td><td>3</td><td>2016-12-29</td></tr>",
                            "<tr><td>Sobják Dávid</td><td>2016-12-30</td><td>2</td><td>2016-12-29</td></tr>",
                            "<tr><td>Baróti Attila</td><td>2016-12-31</td><td>2</td><td>2016-12-30</td></tr>",
                            "<tr><td>Barna Zoltán</td><td>2017-01-01</td><td>3</td><td>2016-12-31</td></tr>",
                            "<tr><td>Bozsik Balázs</td><td>2017-01-01</td><td>2</td><td>2017-01-01</td></tr>",
                            "<tr><td>Orbán Bernadett</td><td>2017-01-01</td><td>3</td><td>2017-01-01</td></tr>",
                            "<tr><td>Kelemen Áron</td><td>2017-01-01</td><td>2</td><td>2017-01-01</td></tr>",
                            "<tr><td>Soós István</td><td>2017-01-02</td><td>2</td><td>2017-01-01</td></tr>",
                            "<tr><td>Kovács Katalin</td><td>2017-01-02</td><td>3</td><td>2017-01-02</td></tr>",
                            "<tr><td>Turcsik Tünde</td><td>2017-01-03</td><td>5</td><td>2017-01-02</td></tr>",
                            "<tr><td>Molnár Bálint</td><td>2017-01-03</td><td>2</td><td>2017-01-03</td></tr>",
                            "<tr><td>Horváth Ágnes</td><td>2017-01-03</td><td>2</td><td>2017-01-03</td></tr>",
                            "<tr><td>Ferencz Roland</td><td>2017-01-04</td><td>3</td><td>2017-01-03</td></tr>",
                            "<tr><td>Keszler Dániel</td><td>2017-01-05</td><td>3</td><td>2017-01-04</td></tr>",
                            "<tr><td>Móricz Árpád</td><td>2017-01-05</td><td>1</td><td>2017-01-05</td></tr>",
                            "<tr><td>Fülöp Eszter</td><td>2017-01-05</td><td>2</td><td>2017-01-05</td></tr>",
                            "<tr><td>Czérna Krisztián</td><td>2017-01-06</td><td>1</td><td>2017-01-05</td></tr>",
                            "<tr><td>Perlinger Éva</td><td>2017-01-06</td><td>4</td><td>2017-01-06</td></tr>",
                            "<tr><td>Miklós Szabolcs</td><td>2017-01-07</td><td>2</td><td>2017-01-06</td></tr>",
                            "<tr><td>Nagymihály Lajos</td><td>2017-01-08</td><td>3</td><td>2017-01-07</td></tr>",
                            "<tr><td>Gyuris József</td><td>2017-01-09</td><td>2</td><td>2017-01-08</td></tr>",
                            "<tr><td>Back András</td><td>2017-01-09</td><td>2</td><td>2017-01-09</td></tr>",
                            "<tr><td>Barta Zsuzsanna</td><td>2017-01-09</td><td>1</td><td>2017-01-09</td></tr>",
                            "<tr><td>Szilágyi Mátyás</td><td>2017-01-09</td><td>2</td><td>2017-01-09</td></tr>",
                            "<tr><td>Rácz Dániel</td><td>2017-01-09</td><td>1</td><td>2017-01-09</td></tr>",
                            "<tr><td>Giliga János</td><td>2017-01-10</td><td>2</td><td>2017-01-09</td></tr>",
                            "<tr><td>Regős Annamária</td><td>2017-01-10</td><td>2</td><td>2017-01-10</td></tr>",
                            "<tr><td>Bucskó Róza</td><td>2017-01-11</td><td>3</td><td>2017-01-10</td></tr>",
                            "<tr><td>Szalai Péter</td><td>2017-01-12</td><td>1</td><td>2017-01-11</td></tr>",
                            "<tr><td>Bieniek Ádám</td><td>2017-01-12</td><td>2</td><td>2017-01-12</td></tr>",
                            "<tr><td>Bagóczki Alexandra</td><td>2017-01-13</td><td>1</td><td>2017-01-12</td></tr>",
                            "<tr><td>Maródi Andrea</td><td>2017-01-13</td><td>3</td><td>2017-01-13</td></tr>",
                            "<tr><td>Enyedi Éva</td><td>2017-01-14</td><td>2</td><td>2017-01-13</td></tr>",
                            "<tr><td>Gondos Katalin</td><td>2017-01-15</td><td>3</td><td>2017-01-14</td></tr>",
                            "<tr><td>Bittmann Edit</td><td>2017-01-15</td><td>4</td><td>2017-01-15</td></tr>",
                            "<tr><td>Horváth Ágnes</td><td>2017-01-16</td><td>3</td><td>2017-01-15</td></tr>",
                            "<tr><td>Szalai Szilárd</td><td>2017-01-16</td><td>3</td><td>2017-01-16</td></tr>",
                            "<tr><td>Mogyródi Krisztián</td><td>2017-01-16</td><td>1</td><td>2017-01-16</td></tr>",
                            "<tr><td>Barta Zsuzsanna</td><td>2017-01-16</td><td>2</td><td>2017-01-16</td></tr>",
                            "<tr><td>Czérna Krisztián</td><td>2017-01-16</td><td>3</td><td>2017-01-16</td></tr>",
                            "<tr><td>Koza Máté</td><td>2017-01-16</td><td>2</td><td>2017-01-16</td></tr>",
                            "<tr><td>Tóth Zoltán</td><td>2017-01-16</td><td>2</td><td>2017-01-16</td></tr>",
                            "<tr><td>Ferencz Roland</td><td>2017-01-16</td><td>2</td><td>2017-01-16</td></tr>",
                            "<tr><td>Nagymihály Lajos</td><td>2017-01-17</td><td>2</td><td>2017-01-16</td></tr>",
                            "<tr><td>Mohos Mónika</td><td>2017-01-17</td><td>1</td><td>2017-01-17</td></tr>",
                            "<tr><td>Vörös Dániel</td><td>2017-01-17</td><td>2</td><td>2017-01-17</td></tr>",
                            "<tr><td>Andor Ibolya</td><td>2017-01-17</td><td>3</td><td>2017-01-17</td></tr>",
                            "<tr><td>Jakab Áron</td><td>2017-01-17</td><td>3</td><td>2017-01-17</td></tr>",
                            "<tr><td>Ambrus Dávid</td><td>2017-01-18</td><td>2</td><td>2017-01-17</td></tr>",
                            "<tr><td>Kertész Katalin</td><td>2017-01-18</td><td>2</td><td>2017-01-18</td></tr>",
                            "<tr><td>Tankó Veronika</td><td>2017-01-19</td><td>3</td><td>2017-01-18</td></tr>",
                            "<tr><td>Bagóczki Alexandra</td><td>2017-01-19</td><td>2</td><td>2017-01-19</td></tr>",
                            "<tr><td>Kovács Katalin</td><td>2017-01-19</td><td>3</td><td>2017-01-19</td></tr>",
                            "<tr><td>Bakódy Balázs</td><td>2017-01-20</td><td>2</td><td>2017-01-19</td></tr>",
                            "<tr><td>Bori Krisztina</td><td>2017-01-21</td><td>2</td><td>2017-01-20</td></tr>",
                            "<tr><td>Gyuris József</td><td>2017-01-22</td><td>1</td><td>2017-01-21</td></tr>",
                            "<tr><td>Horváth Márk</td><td>2017-01-22</td><td>4</td><td>2017-01-22</td></tr>",
                            "<tr><td>Kornseé Gyöngyi</td><td>2017-01-22</td><td>3</td><td>2017-01-22</td></tr>",
                            "<tr><td>Neizer Andrea</td><td>2017-01-22</td><td>2</td><td>2017-01-22</td></tr>",
                            "<tr><td>Nagy Sándor</td><td>2017-01-22</td><td>2</td><td>2017-01-22</td></tr>",
                            "<tr><td>Vörös Dániel</td><td>2017-01-22</td><td>1</td><td>2017-01-22</td></tr>",
                            "<tr><td>Frank Fruzsina</td><td>2017-01-22</td><td>4</td><td>2017-01-22</td></tr>",
                            "<tr><td>Gulyás Attila</td><td>2017-01-23</td><td>4</td><td>2017-01-22</td></tr>",
                            "<tr><td>Székely Brigitta</td><td>2017-01-23</td><td>1</td><td>2017-01-23</td></tr>",
                            "<tr><td>Barna Debóra</td><td>2017-01-23</td><td>3</td><td>2017-01-23</td></tr>",
                            "<tr><td>Kardos Renáta</td><td>2017-01-23</td><td>3</td><td>2017-01-23</td></tr>",
                            "<tr><td>Kovács Bernadett</td><td>2017-01-24</td><td>3</td><td>2017-01-23</td></tr>",
                            "<tr><td>Kertész Katalin</td><td>2017-01-24</td><td>2</td><td>2017-01-24</td></tr>",
                            "<tr><td>Gyárfás Krisztina</td><td>2017-01-25</td><td>2</td><td>2017-01-24</td></tr>",
                            "<tr><td>Fülöp Eszter</td><td>2017-01-26</td><td>2</td><td>2017-01-25</td></tr>",
                            "<tr><td>Nádudvari Henrik</td><td>2017-01-27</td><td>3</td><td>2017-01-26</td></tr>",
                            "<tr><td>Orbán Bernadett</td><td>2017-01-28</td><td>2</td><td>2017-01-27</td></tr>",
                            "<tr><td>Molnár András</td><td>2017-01-28</td><td>2</td><td>2017-01-28</td></tr>",
                            "<tr><td>Tari Szilvia</td><td>2017-01-28</td><td>2</td><td>2017-01-28</td></tr>",
                            "<tr><td>Balogh Eszter</td><td>2016-12-29</td><td>1</td><td>2017-01-28</td></tr>",
                            "<tr><td>Palágyi Polla</td><td>2017-01-29</td><td>2</td><td>2016-12-29</td></tr>",
                            "<tr><td>Hegedűs Norbert</td><td>2017-01-29</td><td>3</td><td>2017-01-29</td></tr>",
                            "<tr><td>Szűcs Annamária</td><td>2017-01-30</td><td>4</td><td>2017-01-29</td></tr>",
                            "<tr><td>Kuruc Emese</td><td>2017-01-30</td><td>2</td><td>2017-01-30</td></tr>",
                            "<tr><td>Kelemen Áron</td><td>2017-01-30</td><td>2</td><td>2017-01-30</td></tr>",
                            "<tr><td>Giliga János</td><td>2017-01-31</td><td>2</td><td>2017-01-30</td></tr>",
                            "<tr><td>Papp Imre</td><td>2017-02-01</td><td>2</td><td>2017-01-31</td></tr>",
                            "<tr><td>Kő Nikoletta</td><td>2017-02-01</td><td>2</td><td>2017-02-01</td></tr>",
                            "<tr><td>Vígh András</td><td>2017-02-02</td><td>2</td><td>2017-02-01</td></tr>",
                            "<tr><td>Szekendi Beatrix</td><td>2017-02-03</td><td>2</td><td>2017-02-02</td></tr>",
                            "<tr><td>Tankó Veronika</td><td>2017-02-03</td><td>2</td><td>2017-02-03</td></tr>",
                            "<tr><td>Bárci Gusztáv</td><td>2017-02-03</td><td>2</td><td>2017-02-03</td></tr>",
                            "<tr><td>Nagy Júlia</td><td>2017-02-04</td><td>4</td><td>2017-02-03</td></tr>",
                            "<tr><td>Barna Debóra</td><td>2017-02-04</td><td>3</td><td>2017-02-04</td></tr>",
                            "<tr><td>Viktor Éva</td><td>2017-02-04</td><td>5</td><td>2017-02-04</td></tr>",
                            "<tr><td>Nagy Gabriella</td><td>2017-02-04</td><td>3</td><td>2017-02-04</td></tr>",
                            "<tr><td>Miklós Szabolcs</td><td>2017-02-04</td><td>3</td><td>2017-02-04</td></tr>",
                            "<tr><td>Horváth Krisztina</td><td>2017-02-04</td><td>3</td><td>2017-02-04</td></tr>",
                            "<tr><td>Papp Imre</td><td>2017-02-05</td><td>4</td><td>2017-02-04</td></tr>",
                            "<tr><td>Bíró Péter</td><td>2017-02-05</td><td>3</td><td>2017-02-05</td></tr>",
                            "<tr><td>Győrffy Bence</td><td>2017-02-05</td><td>3</td><td>2017-02-05</td></tr>",
                            "<tr><td>Szedlár Krisztina</td><td>2017-02-05</td><td>2</td><td>2017-02-05</td></tr>",
                            "<tr><td>Fő Nándor</td><td>2017-02-05</td><td>3</td><td>2017-02-05</td></tr>",
                            "<tr><td>Barkóci Ádám</td><td>2017-02-06</td><td>1</td><td>2017-02-05</td></tr>",
                            "<tr><td>Juhász Mihály</td><td>2017-02-06</td><td>4</td><td>2017-02-06</td></tr>",
                            "<tr><td>Mohos Mónika</td><td>2017-02-06</td><td>2</td><td>2017-02-06</td></tr>",
                            "<tr><td>Vizi István</td><td>2017-02-07</td><td>3</td><td>2017-02-06</td></tr>",
                            "<tr><td>Szalai Szilárd</td><td>2017-02-08</td><td>1</td><td>2017-02-07</td></tr>",
                            "<tr><td>Bittmann Edit</td><td>2017-02-08</td><td>3</td><td>2017-02-08</td></tr>",
                            "<tr><td>Antal László</td><td>2017-02-08</td><td>2</td><td>2017-02-08</td></tr>",
                            "<tr><td>Tóth András</td><td>2017-02-08</td><td>4</td><td>2017-02-08</td></tr>",
                            "<tr><td>Kerényi Beatrix</td><td>2017-02-08</td><td>3</td><td>2017-02-08</td></tr>",
                            "<tr><td>Pataki Brigitta</td><td>2017-02-09</td><td>2</td><td>2017-02-08</td></tr>",
                            "<tr><td>Kiss Andrea</td><td>2017-02-09</td><td>2</td><td>2017-02-09</td></tr>",
                            "<tr><td>Bozsik Balázs</td><td>2017-02-10</td><td>3</td><td>2017-02-09</td></tr>",
                            "<tr><td>Érsek Eszter</td><td>2017-02-10</td><td>2</td><td>2017-02-10</td></tr>",
                            "<tr><td>Palágyi Polla</td><td>2017-02-11</td><td>2</td><td>2017-02-10</td></tr>",
                            "<tr><td>Bozsik Balázs</td><td>2017-02-12</td><td>2</td><td>2017-02-11</td></tr>",
                            "<tr><td>Tóth Anikó</td><td>2017-02-12</td><td>3</td><td>2017-02-12</td></tr>",
                            "<tr><td>Rácz Dániel</td><td>2017-02-12</td><td>3</td><td>2017-02-12</td></tr>",
                            "<tr><td>Bajusz Bence</td><td>2017-02-12</td><td>3</td><td>2017-02-12</td></tr>",
                            "<tr><td>Móricz Árpád</td><td>2017-02-12</td><td>3</td><td>2017-02-12</td></tr>",
                            "<tr><td>Kiss Lajos</td><td>2017-02-12</td><td>1</td><td>2017-02-12</td></tr>",
                            "<tr><td>Nagy Gabriella</td><td>2017-02-12</td><td>2</td><td>2017-02-12</td></tr>",
                            "<tr><td>Fényes Tamás</td><td>2017-02-12</td><td>2</td><td>2017-02-12</td></tr>",
                            "<tr><td>Harangozó János</td><td>2017-02-12</td><td>3</td><td>2017-02-12</td></tr>",
                            "<tr><td>Oroszi György</td><td>2017-02-13</td><td>2</td><td>2017-02-12</td></tr>",
                            "<tr><td>Szűcs Norbert</td><td>2017-02-13</td><td>3</td><td>2017-02-13</td></tr>",
                            "<tr><td>Szirmai Renáta</td><td>2017-02-13</td><td>1</td><td>2017-02-13</td></tr>",
                            "<tr><td>Barabás Pál</td><td>2017-02-13</td><td>3</td><td>2017-02-13</td></tr>",
                            "<tr><td>Nagymihály Csongor</td><td>2017-02-13</td><td>3</td><td>2017-02-13</td></tr>",
                            "<tr><td>Szirmai Renáta</td><td>2017-02-14</td><td>2</td><td>2017-02-13</td></tr>",
                            "<tr><td>Simon Bernadett</td><td>2017-02-14</td><td>3</td><td>2017-02-14</td></tr>",
                            "<tr><td>Antal Tamás</td><td>2017-02-14</td><td>3</td><td>2017-02-14</td></tr>",
                            "<tr><td>Baróti Attila</td><td>2017-02-15</td><td>2</td><td>2017-02-14</td></tr>",
                            "<tr><td>Csiger Bertalan</td><td>2017-02-16</td><td>2</td><td>2017-02-15</td></tr>",
                            "<tr><td>Fényes Tamás</td><td>2017-02-16</td><td>4</td><td>2017-02-16</td></tr>",
                            "<tr><td>Horváth Árpád</td><td>2017-02-16</td><td>2</td><td>2017-02-16</td></tr>",
                            "<tr><td>Regős Annamária</td><td>2017-02-16</td><td>2</td><td>2017-02-16</td></tr>",
                            "<tr><td>Berta Dávid</td><td>2017-02-16</td><td>3</td><td>2017-02-16</td></tr>",
                            "<tr><td>Mile Norbert</td><td>2017-02-16</td><td>1</td><td>2017-02-16</td></tr>",
                            "<tr><td>Szedlár Krisztina</td><td>2017-02-16</td><td>4</td><td>2017-02-16</td></tr>",
                            "<tr><td>Kardos Renáta</td><td>2017-02-16</td><td>1</td><td>2017-02-16</td></tr>",
                            "<tr><td>Hartyánszky Ágnes</td><td>2017-02-16</td><td>3</td><td>2017-02-16</td></tr>",
                            "<tr><td>Iván Róbert</td><td>2017-02-17</td><td>2</td><td>2017-02-16</td></tr>",
                            "<tr><td>Sobják Dávid</td><td>2017-02-17</td><td>3</td><td>2017-02-17</td></tr>",
                            "<tr><td>Molnár Zsófi</td><td>2017-02-18</td><td>3</td><td>2017-02-17</td></tr>",
                            "<tr><td>Nagy László</td><td>2017-02-18</td><td>3</td><td>2017-02-18</td></tr>",
                            "<tr><td>Bucskó Róza</td><td>2017-02-18</td><td>3</td><td>2017-02-18</td></tr>",
                            "<tr><td>Ötvös Árpád</td><td>2017-02-18</td><td>4</td><td>2017-02-18</td></tr>",
                            "<tr><td>Hamvay-Kovács Anita</td><td>2017-02-19</td><td>2</td><td>2017-02-18</td></tr>",
                            "<tr><td>Barabás Pál</td><td>2017-02-20</td><td>3</td><td>2017-02-19</td></tr>",
                            "<tr><td>Hamvay-Kovács Anita</td><td>2017-02-20</td><td>2</td><td>2017-02-20</td></tr>",
                            "<tr><td>Rácz Dániel</td><td>2017-02-20</td><td>3</td><td>2017-02-20</td></tr>",
                            "<tr><td>Csiger Bertalan</td><td>2017-02-20</td><td>4</td><td>2017-02-20</td></tr>",
                            "<tr><td>Nagy Gabriella</td><td>2017-02-21</td><td>3</td><td>2017-02-20</td></tr>",
                            "<tr><td>Szalai Péter</td><td>2017-02-21</td><td>2</td><td>2017-02-21</td></tr>",
                            "<tr><td>Kelemen Áron</td><td>2017-02-21</td><td>2</td><td>2017-02-21</td></tr>",
                            "<tr><td>Opra Attila</td><td>2017-02-22</td><td>3</td><td>2017-02-21</td></tr>",
                            "<tr><td>Tóth Anikó</td><td>2017-02-23</td><td>2</td><td>2017-02-22</td></tr>",
                            "<tr><td>Bieniek Ádám</td><td>2017-02-23</td><td>3</td><td>2017-02-23</td></tr>",
                            "<tr><td>Mohos Mónika</td><td>2017-02-23</td><td>2</td><td>2017-02-23</td></tr>",
                            "<tr><td>Bárci Gusztáv</td><td>2017-02-23</td><td>4</td><td>2017-02-23</td></tr>",
                            "<tr><td>Czérna Krisztián</td><td>2017-02-23</td><td>2</td><td>2017-02-23</td></tr>",
                            "<tr><td>Kozma Péter</td><td>2017-02-23</td><td>3</td><td>2017-02-23</td></tr>",
                            "<tr><td>Oroszi György</td><td>2017-02-24</td><td>3</td><td>2017-02-23</td></tr>",
                            "<tr><td>Baráth Mária</td><td>2017-02-24</td><td>2</td><td>2017-02-24</td></tr>",
                            "<tr><td>Simon Bernadett</td><td>2017-02-24</td><td>1</td><td>2017-02-24</td></tr>",
                            "<tr><td>Gyuris József</td><td>2017-02-24</td><td>3</td><td>2017-02-24</td></tr>",
                            "<tr><td>Horváth Katalin</td><td>2017-02-24</td><td>3</td><td>2017-02-24</td></tr>",
                            "<tr><td>Vörös Dániel</td><td>2017-02-25</td><td>3</td><td>2017-02-24</td></tr>",
                            "<tr><td>Sobják Dávid</td><td>2017-02-25</td><td>4</td><td>2017-02-25</td></tr>",
                            "<tr><td>Jakab Áron</td><td>2017-02-26</td><td>3</td><td>2017-02-25</td></tr>",
                            "<tr><td>Fülöp Eszter</td><td>2017-02-26</td><td>3</td><td>2017-02-26</td></tr>",
                            "<tr><td>Szikszai Réka</td><td>2017-02-26</td><td>2</td><td>2017-02-26</td></tr>",
                            "<tr><td>Szűcs Norbert</td><td>2017-02-26</td><td>1</td><td>2017-02-26</td></tr>",
                            "<tr><td>Tóth Júlia</td><td>2017-02-27</td><td>3</td><td>2017-02-26</td></tr>",
                            "<tr><td>Szűcs Balázs</td><td>2017-02-27</td><td>1</td><td>2017-02-27</td></tr>",
                            "<tr><td>Kozma Péter</td><td>2017-02-28</td><td>3</td><td>2017-02-27</td></tr>",
                            "<tr><td>Keszler Dániel</td><td>2017-03-01</td><td>4</td><td>2017-02-28</td></tr>",
                            "<tr><td>Kardos Renáta</td><td>2017-03-01</td><td>1</td><td>2017-03-01</td></tr>",
                            "<tr><td>Kalacsi Márton</td><td>2017-03-02</td><td>2</td><td>2017-03-01</td></tr>",
                            "<tr><td>Mile Norbert</td><td>2017-03-03</td><td>2</td><td>2017-03-02</td></tr>",
                            "<tr><td>Horváth Krisztina</td><td>2017-03-03</td><td>3</td><td>2017-03-03</td></tr>",
                            "</table>"
                        ]
                    }
                }
            ],
            "execution_count": 20
        },
        {
            "cell_type": "markdown",
            "source": [
                "Kapcsoljuk be az Include Client Statistics funkciót, majd <span style=\"box-sizing: border-box; font-size: 0.9375rem;\">futtassuk le a mellékletben szereplő 1-es és 2-es lekérdezéseket&nbsp;</span> <span style=\"box-sizing: border-box; font-size: 0.9375rem;\">külön ablakban, mindegyiket 5 alkalommal.&nbsp;</span> \n",
                "\n",
                "<span style=\"box-sizing: border-box; font-size: 0.9375rem;\">a. Ezután hasonlítsuk&nbsp;</span> <span style=\"box-sizing: border-box; font-size: 0.9375rem;\">össze a Client Statistics értékei közül a Time Statistics&nbsp;</span> <span style=\"box-sizing: border-box; font-size: 0.9375rem;\">értékeit. Van-e különbség közöttük?</span>"
            ],
            "metadata": {
                "azdata_cell_guid": "ca4fc1cf-697a-4f94-9572-805e830e8d00"
            },
            "attachments": {}
        },
        {
            "cell_type": "code",
            "source": [
                "DECLARE @f decimal(7,2)\r\n",
                "SELECT @f = COUNT(*)/COUNT(DISTINCT UGYFEL_FK) \r\n",
                "FROM Foglalas\r\n",
                "WHERE METTOL BETWEEN '2016.01.01' AND '2017.01.01'\r\n",
                "\r\n",
                "SELECT f.UGYFEL_FK,v.NEV\r\n",
                "FROM Vendeg v JOIN Foglalas f ON v.USERNEV = f.UGYFEL_FK\r\n",
                "WHERE METTOL BETWEEN '2016.01.01' AND '2017.01.01'\r\n",
                "GROUP BY f.UGYFEL_FK, v.NEV\r\n",
                "HAVING COUNT(*) > @f"
            ],
            "metadata": {
                "azdata_cell_guid": "80c8d2b9-65f3-4a58-97db-efd7d80d2ca5"
            },
            "outputs": [
                {
                    "output_type": "display_data",
                    "data": {
                        "text/html": "(79 rows affected)"
                    },
                    "metadata": {}
                },
                {
                    "output_type": "display_data",
                    "data": {
                        "text/html": "Total execution time: 00:00:00.056"
                    },
                    "metadata": {}
                },
                {
                    "output_type": "execute_result",
                    "metadata": {},
                    "execution_count": 21,
                    "data": {
                        "application/vnd.dataresource+json": {
                            "schema": {
                                "fields": [
                                    {
                                        "name": "UGYFEL_FK"
                                    },
                                    {
                                        "name": "NEV"
                                    }
                                ]
                            },
                            "data": [
                                {
                                    "0": "agnes",
                                    "1": "Lengyel Ágnes"
                                },
                                {
                                    "0": "akos",
                                    "1": "Bíró Ákos"
                                },
                                {
                                    "0": "alexandra",
                                    "1": "Bagóczki Alexandra"
                                },
                                {
                                    "0": "andras21",
                                    "1": "Molnár András"
                                },
                                {
                                    "0": "andras3",
                                    "1": "Vígh András"
                                },
                                {
                                    "0": "andras41",
                                    "1": "Komjáti András"
                                },
                                {
                                    "0": "ANDRASE",
                                    "1": "Erdei András"
                                },
                                {
                                    "0": "andrea",
                                    "1": "Kiss Andrea"
                                },
                                {
                                    "0": "anett3",
                                    "1": "Pivarcsi Anett"
                                },
                                {
                                    "0": "ANIKOS",
                                    "1": "Simon Anikó"
                                },
                                {
                                    "0": "ARONK",
                                    "1": "Kelemen Áron"
                                },
                                {
                                    "0": "arpad2",
                                    "1": "Ötvös Árpád"
                                },
                                {
                                    "0": "ARPADH",
                                    "1": "Horváth Árpád"
                                },
                                {
                                    "0": "attila1",
                                    "1": "Gulyás Attila"
                                },
                                {
                                    "0": "balazs2",
                                    "1": "Szűcs Balázs"
                                },
                                {
                                    "0": "balazs3",
                                    "1": "Bakódy Balázs"
                                },
                                {
                                    "0": "balint1",
                                    "1": "Molnár Bálint"
                                },
                                {
                                    "0": "beata4",
                                    "1": "Bagi Beáta"
                                },
                                {
                                    "0": "BEATRIXK",
                                    "1": "Kerényi Beatrix"
                                },
                                {
                                    "0": "BEATRIXS",
                                    "1": "Szekendi Beatrix"
                                },
                                {
                                    "0": "BELAF",
                                    "1": "Farkas Béla"
                                },
                                {
                                    "0": "bence",
                                    "1": "Győrffy Bence"
                                },
                                {
                                    "0": "BENCEB",
                                    "1": "Bajusz Bence"
                                },
                                {
                                    "0": "bernadett1",
                                    "1": "Simon Bernadett"
                                },
                                {
                                    "0": "bernadett2",
                                    "1": "Kovács Bernadett"
                                },
                                {
                                    "0": "BERNADETTO",
                                    "1": "Orbán Bernadett"
                                },
                                {
                                    "0": "csongor3",
                                    "1": "Nagymihály Csongor"
                                },
                                {
                                    "0": "dani",
                                    "1": "Vörös Dániel"
                                },
                                {
                                    "0": "daniel",
                                    "1": "Rácz Dániel"
                                },
                                {
                                    "0": "daniel1",
                                    "1": "Keszler Dániel"
                                },
                                {
                                    "0": "david",
                                    "1": "Ambrus Dávid"
                                },
                                {
                                    "0": "denes",
                                    "1": "Tömböly Dénes"
                                },
                                {
                                    "0": "dora3",
                                    "1": "Sarodi Dóra"
                                },
                                {
                                    "0": "edit",
                                    "1": "Bittmann Edit"
                                },
                                {
                                    "0": "emese",
                                    "1": "Kuruc Emese"
                                },
                                {
                                    "0": "eszter2",
                                    "1": "Balogh Eszter"
                                },
                                {
                                    "0": "fruzsina4",
                                    "1": "Frank Fruzsina"
                                },
                                {
                                    "0": "gabor1",
                                    "1": "Köves Gábor"
                                },
                                {
                                    "0": "GYONGYIK",
                                    "1": "Kornseé Gyöngyi"
                                },
                                {
                                    "0": "GYORGYO",
                                    "1": "Oroszi György"
                                },
                                {
                                    "0": "imre1",
                                    "1": "Papp Imre"
                                },
                                {
                                    "0": "JANOSG",
                                    "1": "Giliga János"
                                },
                                {
                                    "0": "jozsef2",
                                    "1": "Vajda József"
                                },
                                {
                                    "0": "kata",
                                    "1": "Gondos Katalin"
                                },
                                {
                                    "0": "katalin",
                                    "1": "Horváth Katalin"
                                },
                                {
                                    "0": "kati",
                                    "1": "Zatykó Katalin"
                                },
                                {
                                    "0": "katka",
                                    "1": "Kovács Katalin"
                                },
                                {
                                    "0": "krisztian4",
                                    "1": "Czérna Krisztián"
                                },
                                {
                                    "0": "KRISZTIANM",
                                    "1": "Mogyródi Krisztián"
                                },
                                {
                                    "0": "krisztina",
                                    "1": "Szedlár Krisztina"
                                },
                                {
                                    "0": "krisztina1",
                                    "1": "Bori Krisztina"
                                },
                                {
                                    "0": "laszlo2",
                                    "1": "Móra László"
                                },
                                {
                                    "0": "LASZLON",
                                    "1": "Nagy László"
                                },
                                {
                                    "0": "maria1",
                                    "1": "Baráth Mária"
                                },
                                {
                                    "0": "mark",
                                    "1": "Kispál Márk"
                                },
                                {
                                    "0": "marton",
                                    "1": "Kalacsi Márton"
                                },
                                {
                                    "0": "MATYASS",
                                    "1": "Szilágyi Mátyás"
                                },
                                {
                                    "0": "nikoletta4",
                                    "1": "Kő Nikoletta"
                                },
                                {
                                    "0": "norbert2",
                                    "1": "Hegedűs Norbert"
                                },
                                {
                                    "0": "norbert4",
                                    "1": "Mile Norbert"
                                },
                                {
                                    "0": "peter4",
                                    "1": "Bíró Péter"
                                },
                                {
                                    "0": "PETERB",
                                    "1": "Berendi Péter"
                                },
                                {
                                    "0": "ROBERTI",
                                    "1": "Iván Róbert"
                                },
                                {
                                    "0": "sandor3",
                                    "1": "Farkas Sándor"
                                },
                                {
                                    "0": "sara",
                                    "1": "Farkas Sára"
                                },
                                {
                                    "0": "SEBASTIANF",
                                    "1": "Foltényi Sebastián"
                                },
                                {
                                    "0": "SZABOLCSM",
                                    "1": "Miklós Szabolcs"
                                },
                                {
                                    "0": "SZILARDS",
                                    "1": "Szalai Szilárd"
                                },
                                {
                                    "0": "szilvia1",
                                    "1": "Tari Szilvia"
                                },
                                {
                                    "0": "TAMASF",
                                    "1": "Fényes Tamás"
                                },
                                {
                                    "0": "tihamer",
                                    "1": "Kazy Tihamér"
                                },
                                {
                                    "0": "timea2",
                                    "1": "Dusha Tímea"
                                },
                                {
                                    "0": "tunde",
                                    "1": "Turcsik Tünde"
                                },
                                {
                                    "0": "valentin",
                                    "1": "Feró Valentin"
                                },
                                {
                                    "0": "vivien3",
                                    "1": "Boros Vivien"
                                },
                                {
                                    "0": "zoltan4",
                                    "1": "Barna Zoltán"
                                },
                                {
                                    "0": "ZOLTANP",
                                    "1": "Pintér Zoltán"
                                },
                                {
                                    "0": "ZSOLTJ",
                                    "1": "Józsa Zsolt"
                                },
                                {
                                    "0": "ZSUZSAV",
                                    "1": "Vajda Zsuzsa"
                                }
                            ]
                        },
                        "text/html": [
                            "<table>",
                            "<tr><th>UGYFEL_FK</th><th>NEV</th></tr>",
                            "<tr><td>agnes</td><td>Lengyel Ágnes</td></tr>",
                            "<tr><td>akos</td><td>Bíró Ákos</td></tr>",
                            "<tr><td>alexandra</td><td>Bagóczki Alexandra</td></tr>",
                            "<tr><td>andras21</td><td>Molnár András</td></tr>",
                            "<tr><td>andras3</td><td>Vígh András</td></tr>",
                            "<tr><td>andras41</td><td>Komjáti András</td></tr>",
                            "<tr><td>ANDRASE</td><td>Erdei András</td></tr>",
                            "<tr><td>andrea</td><td>Kiss Andrea</td></tr>",
                            "<tr><td>anett3</td><td>Pivarcsi Anett</td></tr>",
                            "<tr><td>ANIKOS</td><td>Simon Anikó</td></tr>",
                            "<tr><td>ARONK</td><td>Kelemen Áron</td></tr>",
                            "<tr><td>arpad2</td><td>Ötvös Árpád</td></tr>",
                            "<tr><td>ARPADH</td><td>Horváth Árpád</td></tr>",
                            "<tr><td>attila1</td><td>Gulyás Attila</td></tr>",
                            "<tr><td>balazs2</td><td>Szűcs Balázs</td></tr>",
                            "<tr><td>balazs3</td><td>Bakódy Balázs</td></tr>",
                            "<tr><td>balint1</td><td>Molnár Bálint</td></tr>",
                            "<tr><td>beata4</td><td>Bagi Beáta</td></tr>",
                            "<tr><td>BEATRIXK</td><td>Kerényi Beatrix</td></tr>",
                            "<tr><td>BEATRIXS</td><td>Szekendi Beatrix</td></tr>",
                            "<tr><td>BELAF</td><td>Farkas Béla</td></tr>",
                            "<tr><td>bence</td><td>Győrffy Bence</td></tr>",
                            "<tr><td>BENCEB</td><td>Bajusz Bence</td></tr>",
                            "<tr><td>bernadett1</td><td>Simon Bernadett</td></tr>",
                            "<tr><td>bernadett2</td><td>Kovács Bernadett</td></tr>",
                            "<tr><td>BERNADETTO</td><td>Orbán Bernadett</td></tr>",
                            "<tr><td>csongor3</td><td>Nagymihály Csongor</td></tr>",
                            "<tr><td>dani</td><td>Vörös Dániel</td></tr>",
                            "<tr><td>daniel</td><td>Rácz Dániel</td></tr>",
                            "<tr><td>daniel1</td><td>Keszler Dániel</td></tr>",
                            "<tr><td>david</td><td>Ambrus Dávid</td></tr>",
                            "<tr><td>denes</td><td>Tömböly Dénes</td></tr>",
                            "<tr><td>dora3</td><td>Sarodi Dóra</td></tr>",
                            "<tr><td>edit</td><td>Bittmann Edit</td></tr>",
                            "<tr><td>emese</td><td>Kuruc Emese</td></tr>",
                            "<tr><td>eszter2</td><td>Balogh Eszter</td></tr>",
                            "<tr><td>fruzsina4</td><td>Frank Fruzsina</td></tr>",
                            "<tr><td>gabor1</td><td>Köves Gábor</td></tr>",
                            "<tr><td>GYONGYIK</td><td>Kornseé Gyöngyi</td></tr>",
                            "<tr><td>GYORGYO</td><td>Oroszi György</td></tr>",
                            "<tr><td>imre1</td><td>Papp Imre</td></tr>",
                            "<tr><td>JANOSG</td><td>Giliga János</td></tr>",
                            "<tr><td>jozsef2</td><td>Vajda József</td></tr>",
                            "<tr><td>kata</td><td>Gondos Katalin</td></tr>",
                            "<tr><td>katalin</td><td>Horváth Katalin</td></tr>",
                            "<tr><td>kati</td><td>Zatykó Katalin</td></tr>",
                            "<tr><td>katka</td><td>Kovács Katalin</td></tr>",
                            "<tr><td>krisztian4</td><td>Czérna Krisztián</td></tr>",
                            "<tr><td>KRISZTIANM</td><td>Mogyródi Krisztián</td></tr>",
                            "<tr><td>krisztina</td><td>Szedlár Krisztina</td></tr>",
                            "<tr><td>krisztina1</td><td>Bori Krisztina</td></tr>",
                            "<tr><td>laszlo2</td><td>Móra László</td></tr>",
                            "<tr><td>LASZLON</td><td>Nagy László</td></tr>",
                            "<tr><td>maria1</td><td>Baráth Mária</td></tr>",
                            "<tr><td>mark</td><td>Kispál Márk</td></tr>",
                            "<tr><td>marton</td><td>Kalacsi Márton</td></tr>",
                            "<tr><td>MATYASS</td><td>Szilágyi Mátyás</td></tr>",
                            "<tr><td>nikoletta4</td><td>Kő Nikoletta</td></tr>",
                            "<tr><td>norbert2</td><td>Hegedűs Norbert</td></tr>",
                            "<tr><td>norbert4</td><td>Mile Norbert</td></tr>",
                            "<tr><td>peter4</td><td>Bíró Péter</td></tr>",
                            "<tr><td>PETERB</td><td>Berendi Péter</td></tr>",
                            "<tr><td>ROBERTI</td><td>Iván Róbert</td></tr>",
                            "<tr><td>sandor3</td><td>Farkas Sándor</td></tr>",
                            "<tr><td>sara</td><td>Farkas Sára</td></tr>",
                            "<tr><td>SEBASTIANF</td><td>Foltényi Sebastián</td></tr>",
                            "<tr><td>SZABOLCSM</td><td>Miklós Szabolcs</td></tr>",
                            "<tr><td>SZILARDS</td><td>Szalai Szilárd</td></tr>",
                            "<tr><td>szilvia1</td><td>Tari Szilvia</td></tr>",
                            "<tr><td>TAMASF</td><td>Fényes Tamás</td></tr>",
                            "<tr><td>tihamer</td><td>Kazy Tihamér</td></tr>",
                            "<tr><td>timea2</td><td>Dusha Tímea</td></tr>",
                            "<tr><td>tunde</td><td>Turcsik Tünde</td></tr>",
                            "<tr><td>valentin</td><td>Feró Valentin</td></tr>",
                            "<tr><td>vivien3</td><td>Boros Vivien</td></tr>",
                            "<tr><td>zoltan4</td><td>Barna Zoltán</td></tr>",
                            "<tr><td>ZOLTANP</td><td>Pintér Zoltán</td></tr>",
                            "<tr><td>ZSOLTJ</td><td>Józsa Zsolt</td></tr>",
                            "<tr><td>ZSUZSAV</td><td>Vajda Zsuzsa</td></tr>",
                            "</table>"
                        ]
                    }
                }
            ],
            "execution_count": 21
        },
        {
            "cell_type": "markdown",
            "source": [
                "A mellékletben lévő 3-as lekérdezésben a táblák összekapcsolását <span style=\"box-sizing: border-box; font-size: 0.9375rem;\">a WHERE feltételben megfogalmazott egyenlőségek helyett oldjuk&nbsp;</span> <span style=\"box-sizing: border-box; font-size: 0.9375rem;\">meg JOIN-ok segítségével egy új ablakban.&nbsp;</span> \n",
                "\n",
                "<span style=\"box-sizing: border-box; font-size: 0.9375rem;\">a. Hasonlítsuk össze&nbsp;</span> <span style=\"box-sizing: border-box; font-size: 0.9375rem;\">a lekérdezések becsült végrehajtási terveit (Estimated Execution&nbsp;</span> <span style=\"box-sizing: border-box; font-size: 0.9375rem;\">Plan), majd az átlagos futási idejüket 3-3 futtatás után. Mit&nbsp;</span> <span style=\"box-sizing: border-box; font-size: 0.9375rem;\">tapasztalunk?</span>"
            ],
            "metadata": {
                "azdata_cell_guid": "d5efdb59-19ff-4b33-ad93-f7b82afd2441"
            },
            "attachments": {}
        },
        {
            "cell_type": "code",
            "source": [
                "SELECT szh.SZALLAS_ID, szh.SZALLAS_NEV\r\n",
                "FROM Foglalas f join Szoba sz on f.SZOBA_FK = sz.SZOBA_ID join Szallashely szh on szh.SZALLAS_ID = sz.SZALLAS_FK\r\n",
                "GROUP BY szh.SZALLAS_ID, szh.SZALLAS_NEV\r\n",
                "ORDER BY COUNT(*) DESC"
            ],
            "metadata": {
                "azdata_cell_guid": "4ea4b4de-7950-45d4-ac02-07cf751ef725"
            },
            "outputs": [
                {
                    "output_type": "display_data",
                    "data": {
                        "text/html": "(12 rows affected)"
                    },
                    "metadata": {}
                },
                {
                    "output_type": "display_data",
                    "data": {
                        "text/html": "Total execution time: 00:00:00.056"
                    },
                    "metadata": {}
                },
                {
                    "output_type": "execute_result",
                    "metadata": {},
                    "execution_count": 22,
                    "data": {
                        "application/vnd.dataresource+json": {
                            "schema": {
                                "fields": [
                                    {
                                        "name": "SZALLAS_ID"
                                    },
                                    {
                                        "name": "SZALLAS_NEV"
                                    }
                                ]
                            },
                            "data": [
                                {
                                    "0": "8",
                                    "1": "Hotel Három Hattyú"
                                },
                                {
                                    "0": "12",
                                    "1": "Gold Hotel"
                                },
                                {
                                    "0": "6",
                                    "1": "Kentaur Hotel"
                                },
                                {
                                    "0": "10",
                                    "1": "Lagúna Hotel"
                                },
                                {
                                    "0": "4",
                                    "1": "Fortuna panzió"
                                },
                                {
                                    "0": "1",
                                    "1": "Sába-Ház"
                                },
                                {
                                    "0": "5",
                                    "1": "Fortuna Panzió"
                                },
                                {
                                    "0": "3",
                                    "1": "Fortuna Apartman"
                                },
                                {
                                    "0": "7",
                                    "1": "Szieszta Apartmanház"
                                },
                                {
                                    "0": "9",
                                    "1": "Jáde panzió"
                                },
                                {
                                    "0": "11",
                                    "1": "Partiszél Vendégház"
                                },
                                {
                                    "0": "2",
                                    "1": "Családi Ház"
                                }
                            ]
                        },
                        "text/html": [
                            "<table>",
                            "<tr><th>SZALLAS_ID</th><th>SZALLAS_NEV</th></tr>",
                            "<tr><td>8</td><td>Hotel Három Hattyú</td></tr>",
                            "<tr><td>12</td><td>Gold Hotel</td></tr>",
                            "<tr><td>6</td><td>Kentaur Hotel</td></tr>",
                            "<tr><td>10</td><td>Lagúna Hotel</td></tr>",
                            "<tr><td>4</td><td>Fortuna panzió</td></tr>",
                            "<tr><td>1</td><td>Sába-Ház</td></tr>",
                            "<tr><td>5</td><td>Fortuna Panzió</td></tr>",
                            "<tr><td>3</td><td>Fortuna Apartman</td></tr>",
                            "<tr><td>7</td><td>Szieszta Apartmanház</td></tr>",
                            "<tr><td>9</td><td>Jáde panzió</td></tr>",
                            "<tr><td>11</td><td>Partiszél Vendégház</td></tr>",
                            "<tr><td>2</td><td>Családi Ház</td></tr>",
                            "</table>"
                        ]
                    }
                }
            ],
            "execution_count": 22
        },
        {
            "cell_type": "markdown",
            "source": [
                "Készítsünk nézetet VSZOBA néven, amely megjeleníti a szobák adatai mellett a megfelelő szálláshely nevét, helyét és a csillagok számát is! \n",
                "\n",
                "a. Az oszlopoknak nem szükséges külön nevet adni! \n",
                "\n",
                "b. Teszteljük is a nézetet, pl: SELECT \\* FROM VSZOBA"
            ],
            "metadata": {
                "azdata_cell_guid": "81594c9a-1c5a-4cb5-adc2-d9dd709d4a59"
            },
            "attachments": {}
        },
        {
            "cell_type": "code",
            "source": [
                "create or alter VIEW VSZOBA \r\n",
                "as \r\n",
                "    select sz.* ,\r\n",
                "  \tSZALLAS_NEV\t,\r\n",
                "  Csillagok_szama\r\n",
                "    from Szoba sz join Szallashely sza on sz.SZALLAS_FK = sza.SZALLAS_ID\r\n",
                "\r\n",
                "\r\n",
                "select *\r\n",
                "from VSZOBA"
            ],
            "metadata": {
                "azdata_cell_guid": "78a935b9-af95-41ec-8176-e7210a189008"
            },
            "outputs": [
                {
                    "output_type": "error",
                    "evalue": "Msg 156, Level 15, State 1, Procedure VSZOBA, Line 9\r\nIncorrect syntax near the keyword 'select'.",
                    "ename": "",
                    "traceback": []
                },
                {
                    "output_type": "display_data",
                    "data": {
                        "text/html": "Total execution time: 00:00:00.040"
                    },
                    "metadata": {}
                }
            ],
            "execution_count": 23
        },
        {
            "cell_type": "markdown",
            "source": [
                "\\--Készítsen tárolt eljárást SPUgyfelFoglalasok, amely a paraméterként megkapott ügyfél azonosítóhoz tartozó foglalások adatait listázza! \n",
                "\n",
                "\\-- a. Teszteljük a tárolt eljárás működését, pl: EXEC SPUgyfelFoglalasok 'laszlo2'"
            ],
            "metadata": {
                "azdata_cell_guid": "e0b8e9c4-fbb6-471c-8e6a-307cf4dfb173"
            },
            "attachments": {}
        },
        {
            "cell_type": "code",
            "source": [
                "create or alter proc SPUgyfelfoglalasok\r\n",
                "(\r\n",
                "\t@ugyfel nvarchar(20)\r\n",
                ")\r\n",
                "AS\r\n",
                "BEGIN\r\n",
                "\tselect *\r\n",
                "    from Foglalas\r\n",
                "    where ugyfel_fk = @ugyfel\r\n",
                "end\r\n",
                "\r\n",
                "exec SPUgyfelfoglalasok 'laszlo2'"
            ],
            "metadata": {
                "azdata_cell_guid": "dc608e84-7a93-4864-a3ab-38a18b11673a"
            },
            "outputs": [],
            "execution_count": null
        }
    ]
}